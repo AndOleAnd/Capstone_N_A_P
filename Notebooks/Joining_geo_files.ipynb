{
 "cells": [
  {
   "cell_type": "code",
   "execution_count": 1,
   "metadata": {},
   "outputs": [],
   "source": [
    "import math\n",
    "import pandas as pd \n",
    "import geopandas as gpd\n",
    "\n",
    "import h3 # h3 bins from uber"
   ]
  },
  {
   "cell_type": "code",
   "execution_count": 2,
   "metadata": {},
   "outputs": [],
   "source": [
    "def create_crash_df(train_file = '../Inputs/Train.csv'):  \n",
    "    crash_df = pd.read_csv(train_file, parse_dates=['datetime'])\n",
    "    return crash_df\n",
    "\n",
    "def create_temporal_features(df):\n",
    "    dict_windows = {1: \"00-03\", 2: \"03-06\", 3: \"06-09\", 4: \"09-12\", 5: \"12-15\", 6: \"15-18\", 7: \"18-21\", 8: \"21-24\"}\n",
    "    dict_months = {1: \"Jan\", 2: \"Feb\", 3: \"Mar\", 4: \"Apr\", 5: \"May\", 6: \"Jun\",\n",
    "               7: \"Jul\", 8: \"Aug\", 9: \"Sep\", 10: \"Oct\", 11: \"Nov\", 12: \"Dec\"}\n",
    "    \n",
    "    df[\"time_window\"] = df[\"datetime\"].apply(lambda x: math.floor(x.hour / 3) + 1)\n",
    "    df[\"time_window_str\"] = df[\"time_window\"].apply(lambda x: dict_windows.get(x))\n",
    "    df[\"day\"] = df[\"datetime\"].apply(lambda x: x.day)\n",
    "    df[\"month\"] = df[\"datetime\"].apply(lambda x: dict_months.get(x.month))\n",
    "    df[\"year\"] = df[\"datetime\"].apply(lambda x: x.year)\n",
    "    df[\"weekday\"] = df[\"datetime\"].apply(lambda x: x.weekday())\n",
    "    return df\n",
    "\n",
    "def assign_hex_bin(df,lat_column=\"latitude\",lon_column=\"longitude\"):\n",
    "    df[\"h3_zone_5\"] = df.apply(lambda x: h3.geo_to_h3(x[lat_column], x[lon_column], 5),axis=1)\n",
    "    df[\"h3_zone_6\"] = df.apply(lambda x: h3.geo_to_h3(x[lat_column], x[lon_column], 6),axis=1)\n",
    "    df[\"h3_zone_7\"] = df.apply(lambda x: h3.geo_to_h3(x[lat_column], x[lon_column], 7),axis=1)\n",
    "    return df\n",
    "\n",
    "def export_df_to_csv(df,path_file='../Inputs/train_h3.csv'):\n",
    "    df.to_csv(path_file,index=False)\n",
    "    print(f'file created {path_file}')\n",
    "    "
   ]
  },
  {
   "cell_type": "code",
   "execution_count": 46,
   "metadata": {},
   "outputs": [
    {
     "name": "stdout",
     "output_type": "stream",
     "text": [
      "['mdt speeds-transform historical nairobi 2018-01-1 2018-01-31 --output=Inputs/nairobi_2018_01_osm.csv']\n",
      "['mdt speeds-transform historical nairobi 2018-02-1 2018-02-28 --output=Inputs/nairobi_2018_02_osm.csv']\n",
      "['mdt speeds-transform historical nairobi 2018-03-1 2018-03-31 --output=Inputs/nairobi_2018_03_osm.csv']\n",
      "['mdt speeds-transform historical nairobi 2018-04-1 2018-04-30 --output=Inputs/nairobi_2018_04_osm.csv']\n",
      "['mdt speeds-transform historical nairobi 2018-05-1 2018-05-31 --output=Inputs/nairobi_2018_05_osm.csv']\n",
      "['mdt speeds-transform historical nairobi 2018-06-1 2018-06-30 --output=Inputs/nairobi_2018_06_osm.csv']\n",
      "['mdt speeds-transform historical nairobi 2018-07-1 2018-07-31 --output=Inputs/nairobi_2018_07_osm.csv']\n",
      "['mdt speeds-transform historical nairobi 2018-08-1 2018-08-31 --output=Inputs/nairobi_2018_08_osm.csv']\n",
      "['mdt speeds-transform historical nairobi 2018-09-1 2018-09-30 --output=Inputs/nairobi_2018_09_osm.csv']\n",
      "['mdt speeds-transform historical nairobi 2018-10-1 2018-10-31 --output=Inputs/nairobi_2018_10_osm.csv']\n",
      "['mdt speeds-transform historical nairobi 2018-11-1 2018-11-30 --output=Inputs/nairobi_2018_11_osm.csv']\n",
      "['mdt speeds-transform historical nairobi 2018-12-1 2018-12-31 --output=Inputs/nairobi_2018_12_osm.csv']\n",
      "['mdt speeds-transform historical nairobi 2019-01-1 2019-01-31 --output=Inputs/nairobi_2019_01_osm.csv']\n",
      "['mdt speeds-transform historical nairobi 2019-02-1 2019-02-28 --output=Inputs/nairobi_2019_02_osm.csv']\n",
      "['mdt speeds-transform historical nairobi 2019-03-1 2019-03-31 --output=Inputs/nairobi_2019_03_osm.csv']\n",
      "['mdt speeds-transform historical nairobi 2019-04-1 2019-04-30 --output=Inputs/nairobi_2019_04_osm.csv']\n",
      "['mdt speeds-transform historical nairobi 2019-05-1 2019-05-31 --output=Inputs/nairobi_2019_05_osm.csv']\n",
      "['mdt speeds-transform historical nairobi 2019-06-1 2019-06-30 --output=Inputs/nairobi_2019_06_osm.csv']\n",
      "['mdt speeds-transform historical nairobi 2019-07-1 2019-07-31 --output=Inputs/nairobi_2019_07_osm.csv']\n",
      "['mdt speeds-transform historical nairobi 2019-08-1 2019-08-31 --output=Inputs/nairobi_2019_08_osm.csv']\n",
      "['mdt speeds-transform historical nairobi 2019-09-1 2019-09-30 --output=Inputs/nairobi_2019_09_osm.csv']\n",
      "['mdt speeds-transform historical nairobi 2019-10-1 2019-10-31 --output=Inputs/nairobi_2019_10_osm.csv']\n",
      "['mdt speeds-transform historical nairobi 2019-11-1 2019-11-30 --output=Inputs/nairobi_2019_11_osm.csv']\n",
      "['mdt speeds-transform historical nairobi 2019-12-1 2019-12-31 --output=Inputs/nairobi_2019_12_osm.csv']\n"
     ]
    }
   ],
   "source": [
    "# create command line commands for downlaoding uber movement data with OSM segment info\n",
    "month_list = [('01','31'),\n",
    "              ('02','28'),\n",
    "              ('03','31'),\n",
    "              ('04','30'),\n",
    "              ('05','31'),\n",
    "              ('06','30'),\n",
    "              ('07','31'),\n",
    "              ('08','31'),\n",
    "              ('09','30'),\n",
    "              ('10','31'),\n",
    "              ('11','30'),\n",
    "              ('12','31')]\n",
    "for year in ['2018','2019']:\n",
    "    for month, end_day in month_list:\n",
    "        break # remove when you want the commands\n",
    "        # print([f'mdt speeds-to-geojson nairobi {year}-{month}-01 {year}-{month}-{end_day} --output=Inputs/nairobi_{year}_{month}geojson.geojson'])\n",
    "        # print([f'mdt speeds-transform historical nairobi {year}-{month}-1 {year}-{month}-{end_day} --output=Inputs/nairobi_{year}_{month}_osm.csv'])"
   ]
  },
  {
   "cell_type": "code",
   "execution_count": 4,
   "metadata": {},
   "outputs": [],
   "source": [
    "def join_segment_files(path='../Inputs/', road_surveys='Segment_info.csv',segments_geometry='segments_geometry.geojson'):\n",
    "    ''' \n",
    "        Load the survey data, Load the segment geometry, Join the two segment dfs.\n",
    "        return a combined dataframe\n",
    "    '''\n",
    "    road_surveys = pd.read_csv(path+road_surveys)\n",
    "    road_segment_locs = gpd.read_file(path+segments_geometry)\n",
    "    segments_merged = pd.merge(road_segment_locs, road_surveys, on='segment_id', how='left')\n",
    "    segments_merged[\"longitude\"] = segments_merged.geometry.centroid.x\n",
    "    segments_merged[\"latitude\"] = segments_merged.geometry.centroid.y\n",
    "    segments_merged = assign_hex_bin(segments_merged)\n",
    "    return segments_merged"
   ]
  },
  {
   "cell_type": "code",
   "execution_count": 5,
   "metadata": {},
   "outputs": [],
   "source": [
    "crash_df = create_crash_df(train_file = '../Inputs/Train.csv')\n",
    "crash_df = create_temporal_features(crash_df)\n",
    "crash_df = assign_hex_bin(crash_df)\n",
    "#crash_df.head()"
   ]
  },
  {
   "cell_type": "code",
   "execution_count": 7,
   "metadata": {},
   "outputs": [
    {
     "name": "stderr",
     "output_type": "stream",
     "text": [
      "<ipython-input-4-350d3ae77198>:9: UserWarning: Geometry is in a geographic CRS. Results from 'centroid' are likely incorrect. Use 'GeoSeries.to_crs()' to re-project geometries to a projected CRS before this operation.\n",
      "\n",
      "  segments_merged[\"longitude\"] = segments_merged.geometry.centroid.x\n",
      "<ipython-input-4-350d3ae77198>:10: UserWarning: Geometry is in a geographic CRS. Results from 'centroid' are likely incorrect. Use 'GeoSeries.to_crs()' to re-project geometries to a projected CRS before this operation.\n",
      "\n",
      "  segments_merged[\"latitude\"] = segments_merged.geometry.centroid.y\n"
     ]
    }
   ],
   "source": [
    "segments_merged = join_segment_files()"
   ]
  },
  {
   "cell_type": "code",
   "execution_count": 28,
   "metadata": {},
   "outputs": [
    {
     "data": {
      "text/plain": [
       "66"
      ]
     },
     "execution_count": 28,
     "metadata": {},
     "output_type": "execute_result"
    }
   ],
   "source": [
    "segments_merged.h3_zone_7.nunique()"
   ]
  },
  {
   "cell_type": "code",
   "execution_count": 33,
   "metadata": {},
   "outputs": [],
   "source": [
    "path = '../Inputs/'\n",
    "road_surveys='Segment_info.csv'\n",
    "segments_geometry='segments_geometry.geojson'\n",
    "road_segment_locs = gpd.read_file(path+segments_geometry)\n",
    "road_surveys = pd.read_csv(path+road_surveys)"
   ]
  },
  {
   "cell_type": "code",
   "execution_count": 36,
   "metadata": {},
   "outputs": [
    {
     "data": {
      "text/plain": [
       "792"
      ]
     },
     "execution_count": 36,
     "metadata": {},
     "output_type": "execute_result"
    }
   ],
   "source": [
    "road_segment_locs.segment_id.nunique()"
   ]
  },
  {
   "cell_type": "code",
   "execution_count": 37,
   "metadata": {},
   "outputs": [
    {
     "data": {
      "text/plain": [
       "792"
      ]
     },
     "execution_count": 37,
     "metadata": {},
     "output_type": "execute_result"
    }
   ],
   "source": [
    "road_surveys.segment_id.nunique()"
   ]
  },
  {
   "cell_type": "code",
   "execution_count": 11,
   "metadata": {},
   "outputs": [],
   "source": [
    "def join_segment_crash_files(crash_data=crash_df, segments=segments_merged, h3_zone='h3_zone_5'):\n",
    "    ''' \n",
    "        Combine the segment data and the crash data by chosen hex.\n",
    "        return a combined dataframe\n",
    "    '''\n",
    "    # Add some groupby function here\n",
    "    segment_crash_df = pd.merge(crash_data, segments, on=h3_zone, how='left')\n",
    "    return segment_crash_df"
   ]
  },
  {
   "cell_type": "code",
   "execution_count": 12,
   "metadata": {},
   "outputs": [],
   "source": [
    "segment_crash_df = join_segment_crash_files()"
   ]
  },
  {
   "cell_type": "code",
   "execution_count": 13,
   "metadata": {},
   "outputs": [
    {
     "data": {
      "text/html": [
       "<div>\n",
       "<style scoped>\n",
       "    .dataframe tbody tr th:only-of-type {\n",
       "        vertical-align: middle;\n",
       "    }\n",
       "\n",
       "    .dataframe tbody tr th {\n",
       "        vertical-align: top;\n",
       "    }\n",
       "\n",
       "    .dataframe thead th {\n",
       "        text-align: right;\n",
       "    }\n",
       "</style>\n",
       "<table border=\"1\" class=\"dataframe\">\n",
       "  <thead>\n",
       "    <tr style=\"text-align: right;\">\n",
       "      <th></th>\n",
       "      <th>uid</th>\n",
       "      <th>datetime</th>\n",
       "      <th>latitude_x</th>\n",
       "      <th>longitude_x</th>\n",
       "      <th>time_window</th>\n",
       "      <th>time_window_str</th>\n",
       "      <th>day</th>\n",
       "      <th>month</th>\n",
       "      <th>year</th>\n",
       "      <th>weekday</th>\n",
       "      <th>...</th>\n",
       "      <th>80_97_61_39_0</th>\n",
       "      <th>80_97_61_39_10</th>\n",
       "      <th>80_97_61_39_11</th>\n",
       "      <th>80_97_61_39_12</th>\n",
       "      <th>80_97_61_39_15</th>\n",
       "      <th>80_97_61_39_16</th>\n",
       "      <th>longitude_y</th>\n",
       "      <th>latitude_y</th>\n",
       "      <th>h3_zone_6_y</th>\n",
       "      <th>h3_zone_7_y</th>\n",
       "    </tr>\n",
       "  </thead>\n",
       "  <tbody>\n",
       "    <tr>\n",
       "      <th>0</th>\n",
       "      <td>1</td>\n",
       "      <td>2018-01-01 00:25:46</td>\n",
       "      <td>-1.18885</td>\n",
       "      <td>36.931382</td>\n",
       "      <td>1</td>\n",
       "      <td>00-03</td>\n",
       "      <td>1</td>\n",
       "      <td>Jan</td>\n",
       "      <td>2018</td>\n",
       "      <td>0</td>\n",
       "      <td>...</td>\n",
       "      <td>0.0</td>\n",
       "      <td>1.0</td>\n",
       "      <td>0.0</td>\n",
       "      <td>0.0</td>\n",
       "      <td>0.0</td>\n",
       "      <td>0.0</td>\n",
       "      <td>36.826302</td>\n",
       "      <td>-1.284096</td>\n",
       "      <td>867a6e42fffffff</td>\n",
       "      <td>877a6e42cffffff</td>\n",
       "    </tr>\n",
       "    <tr>\n",
       "      <th>1</th>\n",
       "      <td>1</td>\n",
       "      <td>2018-01-01 00:25:46</td>\n",
       "      <td>-1.18885</td>\n",
       "      <td>36.931382</td>\n",
       "      <td>1</td>\n",
       "      <td>00-03</td>\n",
       "      <td>1</td>\n",
       "      <td>Jan</td>\n",
       "      <td>2018</td>\n",
       "      <td>0</td>\n",
       "      <td>...</td>\n",
       "      <td>0.0</td>\n",
       "      <td>1.0</td>\n",
       "      <td>0.0</td>\n",
       "      <td>0.0</td>\n",
       "      <td>0.0</td>\n",
       "      <td>0.0</td>\n",
       "      <td>36.826302</td>\n",
       "      <td>-1.284096</td>\n",
       "      <td>867a6e42fffffff</td>\n",
       "      <td>877a6e42cffffff</td>\n",
       "    </tr>\n",
       "    <tr>\n",
       "      <th>2</th>\n",
       "      <td>1</td>\n",
       "      <td>2018-01-01 00:25:46</td>\n",
       "      <td>-1.18885</td>\n",
       "      <td>36.931382</td>\n",
       "      <td>1</td>\n",
       "      <td>00-03</td>\n",
       "      <td>1</td>\n",
       "      <td>Jan</td>\n",
       "      <td>2018</td>\n",
       "      <td>0</td>\n",
       "      <td>...</td>\n",
       "      <td>1.0</td>\n",
       "      <td>1.0</td>\n",
       "      <td>0.0</td>\n",
       "      <td>0.0</td>\n",
       "      <td>0.0</td>\n",
       "      <td>0.0</td>\n",
       "      <td>36.826838</td>\n",
       "      <td>-1.283306</td>\n",
       "      <td>867a6e42fffffff</td>\n",
       "      <td>877a6e42cffffff</td>\n",
       "    </tr>\n",
       "    <tr>\n",
       "      <th>3</th>\n",
       "      <td>1</td>\n",
       "      <td>2018-01-01 00:25:46</td>\n",
       "      <td>-1.18885</td>\n",
       "      <td>36.931382</td>\n",
       "      <td>1</td>\n",
       "      <td>00-03</td>\n",
       "      <td>1</td>\n",
       "      <td>Jan</td>\n",
       "      <td>2018</td>\n",
       "      <td>0</td>\n",
       "      <td>...</td>\n",
       "      <td>1.0</td>\n",
       "      <td>1.0</td>\n",
       "      <td>0.0</td>\n",
       "      <td>0.0</td>\n",
       "      <td>1.0</td>\n",
       "      <td>0.0</td>\n",
       "      <td>36.826838</td>\n",
       "      <td>-1.283306</td>\n",
       "      <td>867a6e42fffffff</td>\n",
       "      <td>877a6e42cffffff</td>\n",
       "    </tr>\n",
       "    <tr>\n",
       "      <th>4</th>\n",
       "      <td>1</td>\n",
       "      <td>2018-01-01 00:25:46</td>\n",
       "      <td>-1.18885</td>\n",
       "      <td>36.931382</td>\n",
       "      <td>1</td>\n",
       "      <td>00-03</td>\n",
       "      <td>1</td>\n",
       "      <td>Jan</td>\n",
       "      <td>2018</td>\n",
       "      <td>0</td>\n",
       "      <td>...</td>\n",
       "      <td>1.0</td>\n",
       "      <td>1.0</td>\n",
       "      <td>0.0</td>\n",
       "      <td>0.0</td>\n",
       "      <td>1.0</td>\n",
       "      <td>0.0</td>\n",
       "      <td>36.827520</td>\n",
       "      <td>-1.282280</td>\n",
       "      <td>867a6e42fffffff</td>\n",
       "      <td>877a6e42cffffff</td>\n",
       "    </tr>\n",
       "  </tbody>\n",
       "</table>\n",
       "<p>5 rows × 247 columns</p>\n",
       "</div>"
      ],
      "text/plain": [
       "   uid            datetime  latitude_x  longitude_x  time_window  \\\n",
       "0    1 2018-01-01 00:25:46    -1.18885    36.931382            1   \n",
       "1    1 2018-01-01 00:25:46    -1.18885    36.931382            1   \n",
       "2    1 2018-01-01 00:25:46    -1.18885    36.931382            1   \n",
       "3    1 2018-01-01 00:25:46    -1.18885    36.931382            1   \n",
       "4    1 2018-01-01 00:25:46    -1.18885    36.931382            1   \n",
       "\n",
       "  time_window_str  day month  year  weekday  ... 80_97_61_39_0 80_97_61_39_10  \\\n",
       "0           00-03    1   Jan  2018        0  ...           0.0            1.0   \n",
       "1           00-03    1   Jan  2018        0  ...           0.0            1.0   \n",
       "2           00-03    1   Jan  2018        0  ...           1.0            1.0   \n",
       "3           00-03    1   Jan  2018        0  ...           1.0            1.0   \n",
       "4           00-03    1   Jan  2018        0  ...           1.0            1.0   \n",
       "\n",
       "  80_97_61_39_11 80_97_61_39_12 80_97_61_39_15 80_97_61_39_16  longitude_y  \\\n",
       "0            0.0            0.0            0.0            0.0    36.826302   \n",
       "1            0.0            0.0            0.0            0.0    36.826302   \n",
       "2            0.0            0.0            0.0            0.0    36.826838   \n",
       "3            0.0            0.0            1.0            0.0    36.826838   \n",
       "4            0.0            0.0            1.0            0.0    36.827520   \n",
       "\n",
       "   latitude_y      h3_zone_6_y      h3_zone_7_y  \n",
       "0   -1.284096  867a6e42fffffff  877a6e42cffffff  \n",
       "1   -1.284096  867a6e42fffffff  877a6e42cffffff  \n",
       "2   -1.283306  867a6e42fffffff  877a6e42cffffff  \n",
       "3   -1.283306  867a6e42fffffff  877a6e42cffffff  \n",
       "4   -1.282280  867a6e42fffffff  877a6e42cffffff  \n",
       "\n",
       "[5 rows x 247 columns]"
      ]
     },
     "execution_count": 13,
     "metadata": {},
     "output_type": "execute_result"
    }
   ],
   "source": [
    "segment_crash_df.head()"
   ]
  },
  {
   "cell_type": "code",
   "execution_count": 19,
   "metadata": {},
   "outputs": [
    {
     "data": {
      "text/plain": [
       "(3128440, 247)"
      ]
     },
     "execution_count": 19,
     "metadata": {},
     "output_type": "execute_result"
    }
   ],
   "source": [
    "segment_crash_df.shape"
   ]
  },
  {
   "cell_type": "code",
   "execution_count": 42,
   "metadata": {},
   "outputs": [],
   "source": [
    "uber_movement_osm = pd.read_csv('../Inputs/nairobi_2018_01_osm.csv')"
   ]
  },
  {
   "cell_type": "code",
   "execution_count": 43,
   "metadata": {},
   "outputs": [
    {
     "data": {
      "text/html": [
       "<div>\n",
       "<style scoped>\n",
       "    .dataframe tbody tr th:only-of-type {\n",
       "        vertical-align: middle;\n",
       "    }\n",
       "\n",
       "    .dataframe tbody tr th {\n",
       "        vertical-align: top;\n",
       "    }\n",
       "\n",
       "    .dataframe thead th {\n",
       "        text-align: right;\n",
       "    }\n",
       "</style>\n",
       "<table border=\"1\" class=\"dataframe\">\n",
       "  <thead>\n",
       "    <tr style=\"text-align: right;\">\n",
       "      <th></th>\n",
       "      <th>year</th>\n",
       "      <th>month</th>\n",
       "      <th>day</th>\n",
       "      <th>hour</th>\n",
       "      <th>utc_timestamp</th>\n",
       "      <th>segment_id</th>\n",
       "      <th>start_junction_id</th>\n",
       "      <th>end_junction_id</th>\n",
       "      <th>osm_way_id</th>\n",
       "      <th>osm_start_node_id</th>\n",
       "      <th>osm_end_node_id</th>\n",
       "      <th>speed_kph_mean</th>\n",
       "      <th>speed_kph_stddev</th>\n",
       "    </tr>\n",
       "  </thead>\n",
       "  <tbody>\n",
       "    <tr>\n",
       "      <th>0</th>\n",
       "      <td>2018</td>\n",
       "      <td>1</td>\n",
       "      <td>2</td>\n",
       "      <td>14</td>\n",
       "      <td>2018-01-02T11:00:00.000Z</td>\n",
       "      <td>41297ea07006246e330f9767862c5b85167eb37a</td>\n",
       "      <td>d97c55174d6c011dcd2bf3d1e05629b09dba739b</td>\n",
       "      <td>a996c01a24deb369c03c19b95b587a688ab2f9b8</td>\n",
       "      <td>8462710</td>\n",
       "      <td>3716534178</td>\n",
       "      <td>6287511790</td>\n",
       "      <td>20.844</td>\n",
       "      <td>6.105</td>\n",
       "    </tr>\n",
       "    <tr>\n",
       "      <th>1</th>\n",
       "      <td>2018</td>\n",
       "      <td>1</td>\n",
       "      <td>2</td>\n",
       "      <td>17</td>\n",
       "      <td>2018-01-02T14:00:00.000Z</td>\n",
       "      <td>41297ea07006246e330f9767862c5b85167eb37a</td>\n",
       "      <td>d97c55174d6c011dcd2bf3d1e05629b09dba739b</td>\n",
       "      <td>a996c01a24deb369c03c19b95b587a688ab2f9b8</td>\n",
       "      <td>8462710</td>\n",
       "      <td>3716534178</td>\n",
       "      <td>6287511790</td>\n",
       "      <td>21.637</td>\n",
       "      <td>5.526</td>\n",
       "    </tr>\n",
       "    <tr>\n",
       "      <th>2</th>\n",
       "      <td>2018</td>\n",
       "      <td>1</td>\n",
       "      <td>2</td>\n",
       "      <td>15</td>\n",
       "      <td>2018-01-02T12:00:00.000Z</td>\n",
       "      <td>41297ea07006246e330f9767862c5b85167eb37a</td>\n",
       "      <td>d97c55174d6c011dcd2bf3d1e05629b09dba739b</td>\n",
       "      <td>a996c01a24deb369c03c19b95b587a688ab2f9b8</td>\n",
       "      <td>8462710</td>\n",
       "      <td>3716534178</td>\n",
       "      <td>6287511790</td>\n",
       "      <td>21.122</td>\n",
       "      <td>11.239</td>\n",
       "    </tr>\n",
       "    <tr>\n",
       "      <th>3</th>\n",
       "      <td>2018</td>\n",
       "      <td>1</td>\n",
       "      <td>1</td>\n",
       "      <td>4</td>\n",
       "      <td>2018-01-01T01:00:00.000Z</td>\n",
       "      <td>41297ea07006246e330f9767862c5b85167eb37a</td>\n",
       "      <td>d97c55174d6c011dcd2bf3d1e05629b09dba739b</td>\n",
       "      <td>a996c01a24deb369c03c19b95b587a688ab2f9b8</td>\n",
       "      <td>8462710</td>\n",
       "      <td>3716534178</td>\n",
       "      <td>6287511790</td>\n",
       "      <td>26.360</td>\n",
       "      <td>29.398</td>\n",
       "    </tr>\n",
       "    <tr>\n",
       "      <th>4</th>\n",
       "      <td>2018</td>\n",
       "      <td>1</td>\n",
       "      <td>2</td>\n",
       "      <td>10</td>\n",
       "      <td>2018-01-02T07:00:00.000Z</td>\n",
       "      <td>41297ea07006246e330f9767862c5b85167eb37a</td>\n",
       "      <td>d97c55174d6c011dcd2bf3d1e05629b09dba739b</td>\n",
       "      <td>a996c01a24deb369c03c19b95b587a688ab2f9b8</td>\n",
       "      <td>8462710</td>\n",
       "      <td>3716534178</td>\n",
       "      <td>6287511790</td>\n",
       "      <td>19.390</td>\n",
       "      <td>4.314</td>\n",
       "    </tr>\n",
       "  </tbody>\n",
       "</table>\n",
       "</div>"
      ],
      "text/plain": [
       "   year  month  day  hour             utc_timestamp  \\\n",
       "0  2018      1    2    14  2018-01-02T11:00:00.000Z   \n",
       "1  2018      1    2    17  2018-01-02T14:00:00.000Z   \n",
       "2  2018      1    2    15  2018-01-02T12:00:00.000Z   \n",
       "3  2018      1    1     4  2018-01-01T01:00:00.000Z   \n",
       "4  2018      1    2    10  2018-01-02T07:00:00.000Z   \n",
       "\n",
       "                                 segment_id  \\\n",
       "0  41297ea07006246e330f9767862c5b85167eb37a   \n",
       "1  41297ea07006246e330f9767862c5b85167eb37a   \n",
       "2  41297ea07006246e330f9767862c5b85167eb37a   \n",
       "3  41297ea07006246e330f9767862c5b85167eb37a   \n",
       "4  41297ea07006246e330f9767862c5b85167eb37a   \n",
       "\n",
       "                          start_junction_id  \\\n",
       "0  d97c55174d6c011dcd2bf3d1e05629b09dba739b   \n",
       "1  d97c55174d6c011dcd2bf3d1e05629b09dba739b   \n",
       "2  d97c55174d6c011dcd2bf3d1e05629b09dba739b   \n",
       "3  d97c55174d6c011dcd2bf3d1e05629b09dba739b   \n",
       "4  d97c55174d6c011dcd2bf3d1e05629b09dba739b   \n",
       "\n",
       "                            end_junction_id  osm_way_id  osm_start_node_id  \\\n",
       "0  a996c01a24deb369c03c19b95b587a688ab2f9b8     8462710         3716534178   \n",
       "1  a996c01a24deb369c03c19b95b587a688ab2f9b8     8462710         3716534178   \n",
       "2  a996c01a24deb369c03c19b95b587a688ab2f9b8     8462710         3716534178   \n",
       "3  a996c01a24deb369c03c19b95b587a688ab2f9b8     8462710         3716534178   \n",
       "4  a996c01a24deb369c03c19b95b587a688ab2f9b8     8462710         3716534178   \n",
       "\n",
       "   osm_end_node_id  speed_kph_mean  speed_kph_stddev  \n",
       "0       6287511790          20.844             6.105  \n",
       "1       6287511790          21.637             5.526  \n",
       "2       6287511790          21.122            11.239  \n",
       "3       6287511790          26.360            29.398  \n",
       "4       6287511790          19.390             4.314  "
      ]
     },
     "execution_count": 43,
     "metadata": {},
     "output_type": "execute_result"
    }
   ],
   "source": [
    "uber_movement_osm.head()"
   ]
  },
  {
   "cell_type": "code",
   "execution_count": null,
   "metadata": {},
   "outputs": [],
   "source": []
  }
 ],
 "metadata": {
  "kernelspec": {
   "display_name": "Python [conda env:nairobi_ambulance] *",
   "language": "python",
   "name": "conda-env-nairobi_ambulance-py"
  },
  "language_info": {
   "codemirror_mode": {
    "name": "ipython",
    "version": 3
   },
   "file_extension": ".py",
   "mimetype": "text/x-python",
   "name": "python",
   "nbconvert_exporter": "python",
   "pygments_lexer": "ipython3",
   "version": "3.8.5"
  }
 },
 "nbformat": 4,
 "nbformat_minor": 4
}

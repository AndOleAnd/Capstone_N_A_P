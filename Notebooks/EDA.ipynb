{
 "cells": [
  {
   "cell_type": "markdown",
   "metadata": {},
   "source": [
    "# Exploring the Data Sets of the Nairobi Ambulance Challenge\n",
    "\n",
    "The following data sets will be looked into further:\n",
    "* Train.csv - Contains all accidents with time and location over 18 months (01/2018 - 07/2019)\n",
    "* Weather_Nairobi_daily_GFS.csv - Daily (one row) information for 6 weather features in Nairobi over 24 months (01/2018 - 01/2020)\n",
    "* Segment_info.csv - Column meanings unknown, value tbd\n",
    "\n",
    "Check out documentation at https://github.com/caiomiyashiro/geospatial_data_analysis/blob/master/AMLD-2020/Presentation_AMLD_2020.ipynb\n",
    "\n",
    "## Importing packages"
   ]
  },
  {
   "cell_type": "code",
   "execution_count": 1,
   "metadata": {},
   "outputs": [],
   "source": [
    "import pandas as pd\n",
    "import math\n",
    "import seaborn as sns"
   ]
  },
  {
   "cell_type": "markdown",
   "metadata": {},
   "source": [
    "## Accident location over time"
   ]
  },
  {
   "cell_type": "code",
   "execution_count": 2,
   "metadata": {},
   "outputs": [
    {
     "name": "stdout",
     "output_type": "stream",
     "text": [
      "(6318, 4)\n"
     ]
    },
    {
     "data": {
      "text/html": [
       "<div>\n",
       "<style scoped>\n",
       "    .dataframe tbody tr th:only-of-type {\n",
       "        vertical-align: middle;\n",
       "    }\n",
       "\n",
       "    .dataframe tbody tr th {\n",
       "        vertical-align: top;\n",
       "    }\n",
       "\n",
       "    .dataframe thead th {\n",
       "        text-align: right;\n",
       "    }\n",
       "</style>\n",
       "<table border=\"1\" class=\"dataframe\">\n",
       "  <thead>\n",
       "    <tr style=\"text-align: right;\">\n",
       "      <th></th>\n",
       "      <th>uid</th>\n",
       "      <th>datetime</th>\n",
       "      <th>latitude</th>\n",
       "      <th>longitude</th>\n",
       "    </tr>\n",
       "  </thead>\n",
       "  <tbody>\n",
       "    <tr>\n",
       "      <th>0</th>\n",
       "      <td>1</td>\n",
       "      <td>2018-01-01 00:25:46</td>\n",
       "      <td>-1.188850</td>\n",
       "      <td>36.931382</td>\n",
       "    </tr>\n",
       "    <tr>\n",
       "      <th>1</th>\n",
       "      <td>2</td>\n",
       "      <td>2018-01-01 02:02:39</td>\n",
       "      <td>-0.662939</td>\n",
       "      <td>37.208730</td>\n",
       "    </tr>\n",
       "    <tr>\n",
       "      <th>2</th>\n",
       "      <td>3</td>\n",
       "      <td>2018-01-01 02:31:49</td>\n",
       "      <td>-0.662939</td>\n",
       "      <td>37.208730</td>\n",
       "    </tr>\n",
       "    <tr>\n",
       "      <th>3</th>\n",
       "      <td>4</td>\n",
       "      <td>2018-01-01 03:04:01</td>\n",
       "      <td>-1.288087</td>\n",
       "      <td>36.826583</td>\n",
       "    </tr>\n",
       "    <tr>\n",
       "      <th>4</th>\n",
       "      <td>5</td>\n",
       "      <td>2018-01-01 03:58:49</td>\n",
       "      <td>-1.188850</td>\n",
       "      <td>36.931382</td>\n",
       "    </tr>\n",
       "  </tbody>\n",
       "</table>\n",
       "</div>"
      ],
      "text/plain": [
       "   uid            datetime  latitude  longitude\n",
       "0    1 2018-01-01 00:25:46 -1.188850  36.931382\n",
       "1    2 2018-01-01 02:02:39 -0.662939  37.208730\n",
       "2    3 2018-01-01 02:31:49 -0.662939  37.208730\n",
       "3    4 2018-01-01 03:04:01 -1.288087  36.826583\n",
       "4    5 2018-01-01 03:58:49 -1.188850  36.931382"
      ]
     },
     "execution_count": 2,
     "metadata": {},
     "output_type": "execute_result"
    }
   ],
   "source": [
    "df = pd.read_csv('Inputs/Train.csv', parse_dates=['datetime'])\n",
    "print(df.shape)\n",
    "df.head()"
   ]
  },
  {
   "cell_type": "markdown",
   "metadata": {},
   "source": [
    "Creating time windows as demand \"containers\" helps to interpret demand over time"
   ]
  },
  {
   "cell_type": "code",
   "execution_count": 3,
   "metadata": {},
   "outputs": [],
   "source": [
    "df[\"time_window\"] = df[\"datetime\"].apply(lambda x: math.floor(x.hour / 3) + 1)"
   ]
  },
  {
   "cell_type": "code",
   "execution_count": 4,
   "metadata": {},
   "outputs": [],
   "source": [
    "dict_windows = {1: \"00-03\", 2: \"03-06\", 3: \"06-09\", 4: \"09-12\", 5: \"12-15\", 6: \"15-18\", 7: \"18-21\", 8: \"21-24\"}"
   ]
  },
  {
   "cell_type": "code",
   "execution_count": 5,
   "metadata": {},
   "outputs": [],
   "source": [
    "df[\"time_window_str\"] = df[\"time_window\"].apply(lambda x: dict_windows.get(x))"
   ]
  },
  {
   "cell_type": "code",
   "execution_count": 6,
   "metadata": {},
   "outputs": [],
   "source": [
    "dict_months = {1: \"Jan\", 2: \"Feb\", 3: \"Mar\", 4: \"Apr\", 5: \"May\", 6: \"Jun\",\n",
    "               7: \"Jul\", 8: \"Aug\", 9: \"Sep\", 10: \"Oct\", 11: \"Nov\", 12: \"Dec\"}"
   ]
  },
  {
   "cell_type": "code",
   "execution_count": 7,
   "metadata": {},
   "outputs": [],
   "source": [
    "df[\"day\"] = df[\"datetime\"].apply(lambda x: x.day)"
   ]
  },
  {
   "cell_type": "code",
   "execution_count": 8,
   "metadata": {},
   "outputs": [],
   "source": [
    "df[\"month\"] = df[\"datetime\"].apply(lambda x: dict_months.get(x.month))"
   ]
  },
  {
   "cell_type": "code",
   "execution_count": 9,
   "metadata": {},
   "outputs": [],
   "source": [
    "df[\"year\"] = df[\"datetime\"].apply(lambda x: x.year)"
   ]
  },
  {
   "cell_type": "code",
   "execution_count": 10,
   "metadata": {},
   "outputs": [],
   "source": [
    "df[\"weekday\"] = df[\"datetime\"].apply(lambda x: x.weekday())"
   ]
  },
  {
   "cell_type": "code",
   "execution_count": 11,
   "metadata": {},
   "outputs": [
    {
     "data": {
      "text/html": [
       "<div>\n",
       "<style scoped>\n",
       "    .dataframe tbody tr th:only-of-type {\n",
       "        vertical-align: middle;\n",
       "    }\n",
       "\n",
       "    .dataframe tbody tr th {\n",
       "        vertical-align: top;\n",
       "    }\n",
       "\n",
       "    .dataframe thead th {\n",
       "        text-align: right;\n",
       "    }\n",
       "</style>\n",
       "<table border=\"1\" class=\"dataframe\">\n",
       "  <thead>\n",
       "    <tr style=\"text-align: right;\">\n",
       "      <th></th>\n",
       "      <th>uid</th>\n",
       "      <th>datetime</th>\n",
       "      <th>latitude</th>\n",
       "      <th>longitude</th>\n",
       "      <th>time_window</th>\n",
       "      <th>time_window_str</th>\n",
       "      <th>day</th>\n",
       "      <th>month</th>\n",
       "      <th>year</th>\n",
       "      <th>weekday</th>\n",
       "    </tr>\n",
       "  </thead>\n",
       "  <tbody>\n",
       "    <tr>\n",
       "      <th>6313</th>\n",
       "      <td>6314</td>\n",
       "      <td>2019-06-29 18:52:44</td>\n",
       "      <td>-1.262271</td>\n",
       "      <td>36.726540</td>\n",
       "      <td>7</td>\n",
       "      <td>18-21</td>\n",
       "      <td>29</td>\n",
       "      <td>Jun</td>\n",
       "      <td>2019</td>\n",
       "      <td>5</td>\n",
       "    </tr>\n",
       "    <tr>\n",
       "      <th>6314</th>\n",
       "      <td>6315</td>\n",
       "      <td>2019-06-30 09:57:44</td>\n",
       "      <td>-1.279468</td>\n",
       "      <td>36.790449</td>\n",
       "      <td>4</td>\n",
       "      <td>09-12</td>\n",
       "      <td>30</td>\n",
       "      <td>Jun</td>\n",
       "      <td>2019</td>\n",
       "      <td>6</td>\n",
       "    </tr>\n",
       "    <tr>\n",
       "      <th>6315</th>\n",
       "      <td>6316</td>\n",
       "      <td>2019-06-30 12:02:14</td>\n",
       "      <td>-1.322109</td>\n",
       "      <td>36.825248</td>\n",
       "      <td>5</td>\n",
       "      <td>12-15</td>\n",
       "      <td>30</td>\n",
       "      <td>Jun</td>\n",
       "      <td>2019</td>\n",
       "      <td>6</td>\n",
       "    </tr>\n",
       "    <tr>\n",
       "      <th>6316</th>\n",
       "      <td>6317</td>\n",
       "      <td>2019-06-30 16:59:14</td>\n",
       "      <td>-1.278589</td>\n",
       "      <td>36.816518</td>\n",
       "      <td>6</td>\n",
       "      <td>15-18</td>\n",
       "      <td>30</td>\n",
       "      <td>Jun</td>\n",
       "      <td>2019</td>\n",
       "      <td>6</td>\n",
       "    </tr>\n",
       "    <tr>\n",
       "      <th>6317</th>\n",
       "      <td>6318</td>\n",
       "      <td>2019-06-30 20:06:14</td>\n",
       "      <td>-1.211500</td>\n",
       "      <td>36.907635</td>\n",
       "      <td>7</td>\n",
       "      <td>18-21</td>\n",
       "      <td>30</td>\n",
       "      <td>Jun</td>\n",
       "      <td>2019</td>\n",
       "      <td>6</td>\n",
       "    </tr>\n",
       "  </tbody>\n",
       "</table>\n",
       "</div>"
      ],
      "text/plain": [
       "       uid            datetime  latitude  longitude  time_window  \\\n",
       "6313  6314 2019-06-29 18:52:44 -1.262271  36.726540            7   \n",
       "6314  6315 2019-06-30 09:57:44 -1.279468  36.790449            4   \n",
       "6315  6316 2019-06-30 12:02:14 -1.322109  36.825248            5   \n",
       "6316  6317 2019-06-30 16:59:14 -1.278589  36.816518            6   \n",
       "6317  6318 2019-06-30 20:06:14 -1.211500  36.907635            7   \n",
       "\n",
       "     time_window_str  day month  year  weekday  \n",
       "6313           18-21   29   Jun  2019        5  \n",
       "6314           09-12   30   Jun  2019        6  \n",
       "6315           12-15   30   Jun  2019        6  \n",
       "6316           15-18   30   Jun  2019        6  \n",
       "6317           18-21   30   Jun  2019        6  "
      ]
     },
     "execution_count": 11,
     "metadata": {},
     "output_type": "execute_result"
    }
   ],
   "source": [
    "df.tail()"
   ]
  },
  {
   "cell_type": "code",
   "execution_count": 12,
   "metadata": {},
   "outputs": [
    {
     "data": {
      "text/plain": [
       "time_window_str\n",
       "00-03     296\n",
       "03-06     340\n",
       "06-09    1724\n",
       "09-12     976\n",
       "12-15     834\n",
       "15-18     853\n",
       "18-21     888\n",
       "21-24     407\n",
       "Name: datetime, dtype: int64"
      ]
     },
     "execution_count": 12,
     "metadata": {},
     "output_type": "execute_result"
    }
   ],
   "source": [
    "df.groupby(\"time_window_str\").datetime.count()"
   ]
  },
  {
   "cell_type": "markdown",
   "metadata": {},
   "source": [
    "### Overall accidents per time window for 2018 and 2019"
   ]
  },
  {
   "cell_type": "code",
   "execution_count": 13,
   "metadata": {},
   "outputs": [
    {
     "data": {
      "image/png": "[encoded data removed]",
      "text/plain": [
       "<Figure size 432x288 with 1 Axes>"
      ]
     },
     "metadata": {
      "needs_background": "light"
     },
     "output_type": "display_data"
    }
   ],
   "source": [
    "fig01 = sns.countplot(data=df, x=\"time_window_str\", palette=\"Greens\")\n",
    "fig01.set_title(\"Overall accidents per time window\");"
   ]
  },
  {
   "cell_type": "markdown",
   "metadata": {},
   "source": [
    "### Mean and median accidents per time window for 2018 and 2019"
   ]
  },
  {
   "cell_type": "code",
   "execution_count": 14,
   "metadata": {},
   "outputs": [],
   "source": [
    "max_acc = pd.crosstab(df[\"time_window_str\"], df[\"day\"]).max(axis=1)\n",
    "min_acc = pd.crosstab(df[\"time_window_str\"], df[\"day\"]).min(axis=1)\n",
    "mean_acc = pd.crosstab(df[\"time_window_str\"], df[\"day\"]).mean(axis=1)\n",
    "median_acc = pd.crosstab(df[\"time_window_str\"], df[\"day\"]).median(axis=1)"
   ]
  },
  {
   "cell_type": "code",
   "execution_count": 15,
   "metadata": {},
   "outputs": [
    {
     "data": {
      "text/html": [
       "<div>\n",
       "<style scoped>\n",
       "    .dataframe tbody tr th:only-of-type {\n",
       "        vertical-align: middle;\n",
       "    }\n",
       "\n",
       "    .dataframe tbody tr th {\n",
       "        vertical-align: top;\n",
       "    }\n",
       "\n",
       "    .dataframe thead th {\n",
       "        text-align: right;\n",
       "    }\n",
       "</style>\n",
       "<table border=\"1\" class=\"dataframe\">\n",
       "  <thead>\n",
       "    <tr style=\"text-align: right;\">\n",
       "      <th></th>\n",
       "      <th>time_window_str</th>\n",
       "      <th>max</th>\n",
       "      <th>min</th>\n",
       "      <th>mean</th>\n",
       "      <th>median</th>\n",
       "    </tr>\n",
       "  </thead>\n",
       "  <tbody>\n",
       "    <tr>\n",
       "      <th>0</th>\n",
       "      <td>00-03</td>\n",
       "      <td>24.0</td>\n",
       "      <td>1.0</td>\n",
       "      <td>9.548387</td>\n",
       "      <td>8.0</td>\n",
       "    </tr>\n",
       "    <tr>\n",
       "      <th>1</th>\n",
       "      <td>03-06</td>\n",
       "      <td>36.0</td>\n",
       "      <td>1.0</td>\n",
       "      <td>10.967742</td>\n",
       "      <td>9.0</td>\n",
       "    </tr>\n",
       "    <tr>\n",
       "      <th>2</th>\n",
       "      <td>06-09</td>\n",
       "      <td>86.0</td>\n",
       "      <td>12.0</td>\n",
       "      <td>55.612903</td>\n",
       "      <td>58.0</td>\n",
       "    </tr>\n",
       "    <tr>\n",
       "      <th>3</th>\n",
       "      <td>09-12</td>\n",
       "      <td>57.0</td>\n",
       "      <td>12.0</td>\n",
       "      <td>31.483871</td>\n",
       "      <td>29.0</td>\n",
       "    </tr>\n",
       "    <tr>\n",
       "      <th>4</th>\n",
       "      <td>12-15</td>\n",
       "      <td>48.0</td>\n",
       "      <td>10.0</td>\n",
       "      <td>26.903226</td>\n",
       "      <td>27.0</td>\n",
       "    </tr>\n",
       "  </tbody>\n",
       "</table>\n",
       "</div>"
      ],
      "text/plain": [
       "  time_window_str   max   min       mean  median\n",
       "0           00-03  24.0   1.0   9.548387     8.0\n",
       "1           03-06  36.0   1.0  10.967742     9.0\n",
       "2           06-09  86.0  12.0  55.612903    58.0\n",
       "3           09-12  57.0  12.0  31.483871    29.0\n",
       "4           12-15  48.0  10.0  26.903226    27.0"
      ]
     },
     "execution_count": 15,
     "metadata": {},
     "output_type": "execute_result"
    }
   ],
   "source": [
    "df_stats = pd.DataFrame([max_acc, min_acc, mean_acc, median_acc]).T\n",
    "df_stats.columns = [\"max\", \"min\", \"mean\", \"median\"]\n",
    "df_stats.reset_index(inplace=True)\n",
    "df_stats.head()"
   ]
  },
  {
   "cell_type": "code",
   "execution_count": 16,
   "metadata": {},
   "outputs": [
    {
     "data": {
      "image/png": "[encoded data removed]",
      "text/plain": [
       "<Figure size 432x288 with 1 Axes>"
      ]
     },
     "metadata": {
      "needs_background": "light"
     },
     "output_type": "display_data"
    }
   ],
   "source": [
    "fig = sns.barplot(data=df_stats, x=\"time_window_str\", y=\"max\", palette=\"Reds\")\n",
    "fig.set_title(\"Maximum amount of accidents per time window\");"
   ]
  },
  {
   "cell_type": "markdown",
   "metadata": {},
   "source": [
    "Note: Minimum cannot be 0 because then we also do not have a column ... need to fix that somehow"
   ]
  },
  {
   "cell_type": "code",
   "execution_count": 17,
   "metadata": {},
   "outputs": [
    {
     "data": {
      "image/png": "[encoded data removed]",
      "text/plain": [
       "<Figure size 432x288 with 1 Axes>"
      ]
     },
     "metadata": {
      "needs_background": "light"
     },
     "output_type": "display_data"
    }
   ],
   "source": [
    "fig = sns.barplot(data=df_stats, x=\"time_window_str\", y=\"min\", palette=\"Reds\")\n",
    "fig.set_title(\"Minimum amount of accidents per time window\");"
   ]
  },
  {
   "cell_type": "code",
   "execution_count": 18,
   "metadata": {},
   "outputs": [
    {
     "data": {
      "image/png": "[encoded data removed]",
      "text/plain": [
       "<Figure size 432x288 with 1 Axes>"
      ]
     },
     "metadata": {
      "needs_background": "light"
     },
     "output_type": "display_data"
    }
   ],
   "source": [
    "fig = sns.barplot(data=df_stats, x=\"time_window_str\", y=\"mean\", palette=\"Reds\")\n",
    "fig.set_title(\"Mean of accidents per time window\");"
   ]
  },
  {
   "cell_type": "code",
   "execution_count": 19,
   "metadata": {},
   "outputs": [
    {
     "data": {
      "image/png": "[encoded data removed]",
      "text/plain": [
       "<Figure size 432x288 with 1 Axes>"
      ]
     },
     "metadata": {
      "needs_background": "light"
     },
     "output_type": "display_data"
    }
   ],
   "source": [
    "fig = sns.barplot(data=df_stats, x=\"time_window_str\", y=\"median\", palette=\"Reds\")\n",
    "fig.set_title(\"Median amount of accidents per time window\");"
   ]
  },
  {
   "cell_type": "markdown",
   "metadata": {},
   "source": [
    "### Overall accidents per month for 2018"
   ]
  },
  {
   "cell_type": "markdown",
   "metadata": {},
   "source": [
    "Note: Avoid counting both first halfs (2018 & 2019)"
   ]
  },
  {
   "cell_type": "code",
   "execution_count": 20,
   "metadata": {},
   "outputs": [
    {
     "data": {
      "image/png": "[encoded data removed]",
      "text/plain": [
       "<Figure size 432x288 with 1 Axes>"
      ]
     },
     "metadata": {
      "needs_background": "light"
     },
     "output_type": "display_data"
    }
   ],
   "source": [
    "fig02 = sns.countplot(data=df[df.year == 2018], x=\"month\", palette=\"Blues\")\n",
    "fig02.set_title(\"Overall accidents per month\");"
   ]
  },
  {
   "cell_type": "markdown",
   "metadata": {},
   "source": [
    "## Accidents per weekday"
   ]
  },
  {
   "cell_type": "code",
   "execution_count": 21,
   "metadata": {},
   "outputs": [
    {
     "data": {
      "image/png": "[encoded data removed]",
      "text/plain": [
       "<Figure size 432x288 with 1 Axes>"
      ]
     },
     "metadata": {
      "needs_background": "light"
     },
     "output_type": "display_data"
    }
   ],
   "source": [
    "fig03 = sns.countplot(data=df[df.year == 2018], x=\"weekday\", palette=\"Greens\")\n",
    "fig03.set_title(\"Overall accidents per weekday\");"
   ]
  },
  {
   "cell_type": "markdown",
   "metadata": {},
   "source": [
    "### Time window per day"
   ]
  },
  {
   "cell_type": "code",
   "execution_count": 22,
   "metadata": {},
   "outputs": [
    {
     "data": {
      "image/png": "[encoded data removed]",
      "text/plain": [
       "<Figure size 1080x1080 with 7 Axes>"
      ]
     },
     "metadata": {
      "needs_background": "light"
     },
     "output_type": "display_data"
    }
   ],
   "source": [
    "sns.catplot(x=\"time_window_str\", col=\"weekday\",data=df[df.year == 2018], kind=\"count\", col_wrap=3, palette=\"Greens\");"
   ]
  },
  {
   "cell_type": "markdown",
   "metadata": {},
   "source": [
    "### Overall accidents per month and time window for 2018"
   ]
  },
  {
   "cell_type": "code",
   "execution_count": 23,
   "metadata": {},
   "outputs": [
    {
     "data": {
      "image/png": "[encoded data removed]",
      "text/plain": [
       "<Figure size 1080x1440 with 12 Axes>"
      ]
     },
     "metadata": {
      "needs_background": "light"
     },
     "output_type": "display_data"
    }
   ],
   "source": [
    "sns.catplot(x=\"time_window_str\", col=\"month\",data=df[df.year == 2018], kind=\"count\", col_wrap=3, palette=\"Greens\");"
   ]
  },
  {
   "cell_type": "markdown",
   "metadata": {},
   "source": [
    "### Overall accidents per month and day for 2018"
   ]
  },
  {
   "cell_type": "code",
   "execution_count": 24,
   "metadata": {},
   "outputs": [
    {
     "data": {
      "image/png": "[encoded data removed]",
      "text/plain": [
       "<Figure size 1080x1440 with 12 Axes>"
      ]
     },
     "metadata": {
      "needs_background": "light"
     },
     "output_type": "display_data"
    }
   ],
   "source": [
    "sns.catplot(x=\"day\", col=\"month\",data=df[df.year == 2018], kind=\"count\", col_wrap=3, palette=\"Blues\");"
   ]
  },
  {
   "cell_type": "markdown",
   "metadata": {},
   "source": [
    "Note: **It seems that we have missing data for some days.**"
   ]
  },
  {
   "cell_type": "code",
   "execution_count": 25,
   "metadata": {},
   "outputs": [
    {
     "data": {
      "text/html": [
       "<div>\n",
       "<style scoped>\n",
       "    .dataframe tbody tr th:only-of-type {\n",
       "        vertical-align: middle;\n",
       "    }\n",
       "\n",
       "    .dataframe tbody tr th {\n",
       "        vertical-align: top;\n",
       "    }\n",
       "\n",
       "    .dataframe thead th {\n",
       "        text-align: right;\n",
       "    }\n",
       "</style>\n",
       "<table border=\"1\" class=\"dataframe\">\n",
       "  <thead>\n",
       "    <tr style=\"text-align: right;\">\n",
       "      <th></th>\n",
       "      <th>uid</th>\n",
       "      <th>datetime</th>\n",
       "      <th>latitude</th>\n",
       "      <th>longitude</th>\n",
       "      <th>time_window</th>\n",
       "      <th>time_window_str</th>\n",
       "      <th>day</th>\n",
       "      <th>month</th>\n",
       "      <th>year</th>\n",
       "      <th>weekday</th>\n",
       "    </tr>\n",
       "  </thead>\n",
       "  <tbody>\n",
       "    <tr>\n",
       "      <th>3406</th>\n",
       "      <td>3407</td>\n",
       "      <td>2018-09-21 06:02:39</td>\n",
       "      <td>-1.213003</td>\n",
       "      <td>36.903414</td>\n",
       "      <td>3</td>\n",
       "      <td>06-09</td>\n",
       "      <td>21</td>\n",
       "      <td>Sep</td>\n",
       "      <td>2018</td>\n",
       "      <td>4</td>\n",
       "    </tr>\n",
       "    <tr>\n",
       "      <th>3407</th>\n",
       "      <td>3408</td>\n",
       "      <td>2018-09-21 06:09:09</td>\n",
       "      <td>-1.218637</td>\n",
       "      <td>36.891361</td>\n",
       "      <td>3</td>\n",
       "      <td>06-09</td>\n",
       "      <td>21</td>\n",
       "      <td>Sep</td>\n",
       "      <td>2018</td>\n",
       "      <td>4</td>\n",
       "    </tr>\n",
       "    <tr>\n",
       "      <th>3408</th>\n",
       "      <td>3409</td>\n",
       "      <td>2018-09-21 06:47:09</td>\n",
       "      <td>-1.289358</td>\n",
       "      <td>36.810835</td>\n",
       "      <td>3</td>\n",
       "      <td>06-09</td>\n",
       "      <td>21</td>\n",
       "      <td>Sep</td>\n",
       "      <td>2018</td>\n",
       "      <td>4</td>\n",
       "    </tr>\n",
       "    <tr>\n",
       "      <th>3409</th>\n",
       "      <td>3410</td>\n",
       "      <td>2018-09-21 09:40:39</td>\n",
       "      <td>-1.329686</td>\n",
       "      <td>36.870994</td>\n",
       "      <td>4</td>\n",
       "      <td>09-12</td>\n",
       "      <td>21</td>\n",
       "      <td>Sep</td>\n",
       "      <td>2018</td>\n",
       "      <td>4</td>\n",
       "    </tr>\n",
       "    <tr>\n",
       "      <th>3410</th>\n",
       "      <td>3411</td>\n",
       "      <td>2018-09-21 18:14:39</td>\n",
       "      <td>-1.258831</td>\n",
       "      <td>36.915564</td>\n",
       "      <td>7</td>\n",
       "      <td>18-21</td>\n",
       "      <td>21</td>\n",
       "      <td>Sep</td>\n",
       "      <td>2018</td>\n",
       "      <td>4</td>\n",
       "    </tr>\n",
       "    <tr>\n",
       "      <th>3411</th>\n",
       "      <td>3412</td>\n",
       "      <td>2018-09-21 18:22:39</td>\n",
       "      <td>-1.299459</td>\n",
       "      <td>36.824866</td>\n",
       "      <td>7</td>\n",
       "      <td>18-21</td>\n",
       "      <td>21</td>\n",
       "      <td>Sep</td>\n",
       "      <td>2018</td>\n",
       "      <td>4</td>\n",
       "    </tr>\n",
       "    <tr>\n",
       "      <th>3412</th>\n",
       "      <td>3413</td>\n",
       "      <td>2018-09-21 19:04:39</td>\n",
       "      <td>-1.316585</td>\n",
       "      <td>36.833825</td>\n",
       "      <td>7</td>\n",
       "      <td>18-21</td>\n",
       "      <td>21</td>\n",
       "      <td>Sep</td>\n",
       "      <td>2018</td>\n",
       "      <td>4</td>\n",
       "    </tr>\n",
       "    <tr>\n",
       "      <th>3413</th>\n",
       "      <td>3414</td>\n",
       "      <td>2018-09-21 19:13:09</td>\n",
       "      <td>-1.316142</td>\n",
       "      <td>36.813828</td>\n",
       "      <td>7</td>\n",
       "      <td>18-21</td>\n",
       "      <td>21</td>\n",
       "      <td>Sep</td>\n",
       "      <td>2018</td>\n",
       "      <td>4</td>\n",
       "    </tr>\n",
       "    <tr>\n",
       "      <th>3414</th>\n",
       "      <td>3415</td>\n",
       "      <td>2018-09-21 21:26:09</td>\n",
       "      <td>-1.330251</td>\n",
       "      <td>36.866555</td>\n",
       "      <td>8</td>\n",
       "      <td>21-24</td>\n",
       "      <td>21</td>\n",
       "      <td>Sep</td>\n",
       "      <td>2018</td>\n",
       "      <td>4</td>\n",
       "    </tr>\n",
       "    <tr>\n",
       "      <th>3415</th>\n",
       "      <td>3416</td>\n",
       "      <td>2018-09-25 12:46:39</td>\n",
       "      <td>-1.205573</td>\n",
       "      <td>36.917440</td>\n",
       "      <td>5</td>\n",
       "      <td>12-15</td>\n",
       "      <td>25</td>\n",
       "      <td>Sep</td>\n",
       "      <td>2018</td>\n",
       "      <td>1</td>\n",
       "    </tr>\n",
       "    <tr>\n",
       "      <th>3416</th>\n",
       "      <td>3417</td>\n",
       "      <td>2018-09-25 13:17:39</td>\n",
       "      <td>-1.203744</td>\n",
       "      <td>36.917527</td>\n",
       "      <td>5</td>\n",
       "      <td>12-15</td>\n",
       "      <td>25</td>\n",
       "      <td>Sep</td>\n",
       "      <td>2018</td>\n",
       "      <td>1</td>\n",
       "    </tr>\n",
       "    <tr>\n",
       "      <th>3417</th>\n",
       "      <td>3418</td>\n",
       "      <td>2018-09-25 13:33:09</td>\n",
       "      <td>-1.203614</td>\n",
       "      <td>36.917329</td>\n",
       "      <td>5</td>\n",
       "      <td>12-15</td>\n",
       "      <td>25</td>\n",
       "      <td>Sep</td>\n",
       "      <td>2018</td>\n",
       "      <td>1</td>\n",
       "    </tr>\n",
       "    <tr>\n",
       "      <th>3418</th>\n",
       "      <td>3419</td>\n",
       "      <td>2018-09-25 13:33:39</td>\n",
       "      <td>-1.203744</td>\n",
       "      <td>36.917527</td>\n",
       "      <td>5</td>\n",
       "      <td>12-15</td>\n",
       "      <td>25</td>\n",
       "      <td>Sep</td>\n",
       "      <td>2018</td>\n",
       "      <td>1</td>\n",
       "    </tr>\n",
       "    <tr>\n",
       "      <th>3419</th>\n",
       "      <td>3420</td>\n",
       "      <td>2018-09-25 14:08:39</td>\n",
       "      <td>-1.205573</td>\n",
       "      <td>36.917440</td>\n",
       "      <td>5</td>\n",
       "      <td>12-15</td>\n",
       "      <td>25</td>\n",
       "      <td>Sep</td>\n",
       "      <td>2018</td>\n",
       "      <td>1</td>\n",
       "    </tr>\n",
       "    <tr>\n",
       "      <th>3420</th>\n",
       "      <td>3421</td>\n",
       "      <td>2018-09-25 14:11:39</td>\n",
       "      <td>-1.211500</td>\n",
       "      <td>36.907635</td>\n",
       "      <td>5</td>\n",
       "      <td>12-15</td>\n",
       "      <td>25</td>\n",
       "      <td>Sep</td>\n",
       "      <td>2018</td>\n",
       "      <td>1</td>\n",
       "    </tr>\n",
       "    <tr>\n",
       "      <th>3421</th>\n",
       "      <td>3422</td>\n",
       "      <td>2018-09-25 14:15:09</td>\n",
       "      <td>-1.266624</td>\n",
       "      <td>36.746475</td>\n",
       "      <td>5</td>\n",
       "      <td>12-15</td>\n",
       "      <td>25</td>\n",
       "      <td>Sep</td>\n",
       "      <td>2018</td>\n",
       "      <td>1</td>\n",
       "    </tr>\n",
       "    <tr>\n",
       "      <th>3422</th>\n",
       "      <td>3423</td>\n",
       "      <td>2018-09-25 15:33:09</td>\n",
       "      <td>-1.310759</td>\n",
       "      <td>36.799784</td>\n",
       "      <td>6</td>\n",
       "      <td>15-18</td>\n",
       "      <td>25</td>\n",
       "      <td>Sep</td>\n",
       "      <td>2018</td>\n",
       "      <td>1</td>\n",
       "    </tr>\n",
       "    <tr>\n",
       "      <th>3423</th>\n",
       "      <td>3424</td>\n",
       "      <td>2018-09-25 15:35:09</td>\n",
       "      <td>-1.285590</td>\n",
       "      <td>36.819957</td>\n",
       "      <td>6</td>\n",
       "      <td>15-18</td>\n",
       "      <td>25</td>\n",
       "      <td>Sep</td>\n",
       "      <td>2018</td>\n",
       "      <td>1</td>\n",
       "    </tr>\n",
       "    <tr>\n",
       "      <th>3424</th>\n",
       "      <td>3425</td>\n",
       "      <td>2018-09-25 16:10:39</td>\n",
       "      <td>-1.205573</td>\n",
       "      <td>36.917440</td>\n",
       "      <td>6</td>\n",
       "      <td>15-18</td>\n",
       "      <td>25</td>\n",
       "      <td>Sep</td>\n",
       "      <td>2018</td>\n",
       "      <td>1</td>\n",
       "    </tr>\n",
       "    <tr>\n",
       "      <th>3425</th>\n",
       "      <td>3426</td>\n",
       "      <td>2018-09-25 16:28:39</td>\n",
       "      <td>-1.205573</td>\n",
       "      <td>36.917440</td>\n",
       "      <td>6</td>\n",
       "      <td>15-18</td>\n",
       "      <td>25</td>\n",
       "      <td>Sep</td>\n",
       "      <td>2018</td>\n",
       "      <td>1</td>\n",
       "    </tr>\n",
       "    <tr>\n",
       "      <th>3426</th>\n",
       "      <td>3427</td>\n",
       "      <td>2018-09-25 16:39:39</td>\n",
       "      <td>-1.326650</td>\n",
       "      <td>36.845618</td>\n",
       "      <td>6</td>\n",
       "      <td>15-18</td>\n",
       "      <td>25</td>\n",
       "      <td>Sep</td>\n",
       "      <td>2018</td>\n",
       "      <td>1</td>\n",
       "    </tr>\n",
       "    <tr>\n",
       "      <th>3427</th>\n",
       "      <td>3428</td>\n",
       "      <td>2018-09-25 20:54:39</td>\n",
       "      <td>-1.066121</td>\n",
       "      <td>37.055090</td>\n",
       "      <td>7</td>\n",
       "      <td>18-21</td>\n",
       "      <td>25</td>\n",
       "      <td>Sep</td>\n",
       "      <td>2018</td>\n",
       "      <td>1</td>\n",
       "    </tr>\n",
       "  </tbody>\n",
       "</table>\n",
       "</div>"
      ],
      "text/plain": [
       "       uid            datetime  latitude  longitude  time_window  \\\n",
       "3406  3407 2018-09-21 06:02:39 -1.213003  36.903414            3   \n",
       "3407  3408 2018-09-21 06:09:09 -1.218637  36.891361            3   \n",
       "3408  3409 2018-09-21 06:47:09 -1.289358  36.810835            3   \n",
       "3409  3410 2018-09-21 09:40:39 -1.329686  36.870994            4   \n",
       "3410  3411 2018-09-21 18:14:39 -1.258831  36.915564            7   \n",
       "3411  3412 2018-09-21 18:22:39 -1.299459  36.824866            7   \n",
       "3412  3413 2018-09-21 19:04:39 -1.316585  36.833825            7   \n",
       "3413  3414 2018-09-21 19:13:09 -1.316142  36.813828            7   \n",
       "3414  3415 2018-09-21 21:26:09 -1.330251  36.866555            8   \n",
       "3415  3416 2018-09-25 12:46:39 -1.205573  36.917440            5   \n",
       "3416  3417 2018-09-25 13:17:39 -1.203744  36.917527            5   \n",
       "3417  3418 2018-09-25 13:33:09 -1.203614  36.917329            5   \n",
       "3418  3419 2018-09-25 13:33:39 -1.203744  36.917527            5   \n",
       "3419  3420 2018-09-25 14:08:39 -1.205573  36.917440            5   \n",
       "3420  3421 2018-09-25 14:11:39 -1.211500  36.907635            5   \n",
       "3421  3422 2018-09-25 14:15:09 -1.266624  36.746475            5   \n",
       "3422  3423 2018-09-25 15:33:09 -1.310759  36.799784            6   \n",
       "3423  3424 2018-09-25 15:35:09 -1.285590  36.819957            6   \n",
       "3424  3425 2018-09-25 16:10:39 -1.205573  36.917440            6   \n",
       "3425  3426 2018-09-25 16:28:39 -1.205573  36.917440            6   \n",
       "3426  3427 2018-09-25 16:39:39 -1.326650  36.845618            6   \n",
       "3427  3428 2018-09-25 20:54:39 -1.066121  37.055090            7   \n",
       "\n",
       "     time_window_str  day month  year  weekday  \n",
       "3406           06-09   21   Sep  2018        4  \n",
       "3407           06-09   21   Sep  2018        4  \n",
       "3408           06-09   21   Sep  2018        4  \n",
       "3409           09-12   21   Sep  2018        4  \n",
       "3410           18-21   21   Sep  2018        4  \n",
       "3411           18-21   21   Sep  2018        4  \n",
       "3412           18-21   21   Sep  2018        4  \n",
       "3413           18-21   21   Sep  2018        4  \n",
       "3414           21-24   21   Sep  2018        4  \n",
       "3415           12-15   25   Sep  2018        1  \n",
       "3416           12-15   25   Sep  2018        1  \n",
       "3417           12-15   25   Sep  2018        1  \n",
       "3418           12-15   25   Sep  2018        1  \n",
       "3419           12-15   25   Sep  2018        1  \n",
       "3420           12-15   25   Sep  2018        1  \n",
       "3421           12-15   25   Sep  2018        1  \n",
       "3422           15-18   25   Sep  2018        1  \n",
       "3423           15-18   25   Sep  2018        1  \n",
       "3424           15-18   25   Sep  2018        1  \n",
       "3425           15-18   25   Sep  2018        1  \n",
       "3426           15-18   25   Sep  2018        1  \n",
       "3427           18-21   25   Sep  2018        1  "
      ]
     },
     "execution_count": 25,
     "metadata": {},
     "output_type": "execute_result"
    }
   ],
   "source": [
    "df_check = df[(df.month == \"Sep\") & (df.day > 20) & (df.day < 26)]\n",
    "df_check"
   ]
  },
  {
   "cell_type": "code",
   "execution_count": 26,
   "metadata": {},
   "outputs": [
    {
     "data": {
      "text/plain": [
       "(22, 10)"
      ]
     },
     "execution_count": 26,
     "metadata": {},
     "output_type": "execute_result"
    }
   ],
   "source": [
    "df_check.shape"
   ]
  },
  {
   "cell_type": "markdown",
   "metadata": {},
   "source": [
    "We will have to create these non-existent rows and fill them with something ..."
   ]
  },
  {
   "cell_type": "markdown",
   "metadata": {},
   "source": [
    "### To Do\n",
    "* Create rows for non-existent time windows (merge with a template dataframe of time windows?)\n",
    "* Fill these rows with some data to get better statistics"
   ]
  },
  {
   "cell_type": "code",
   "execution_count": null,
   "metadata": {},
   "outputs": [],
   "source": []
  }
 ],
 "metadata": {
  "kernelspec": {
   "display_name": "Python 3",
   "language": "python",
   "name": "python3"
  },
  "language_info": {
   "codemirror_mode": {
    "name": "ipython",
    "version": 3
   },
   "file_extension": ".py",
   "mimetype": "text/x-python",
   "name": "python",
   "nbconvert_exporter": "python",
   "pygments_lexer": "ipython3",
   "version": "3.8.5"
  }
 },
 "nbformat": 4,
 "nbformat_minor": 4
}

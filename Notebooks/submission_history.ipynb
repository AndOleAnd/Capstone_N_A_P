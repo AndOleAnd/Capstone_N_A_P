{
 "cells": [
  {
   "cell_type": "code",
   "execution_count": 135,
   "metadata": {},
   "outputs": [],
   "source": [
    "import pandas as pd\n",
    "import numpy as np\n",
    "import re"
   ]
  },
  {
   "cell_type": "code",
   "execution_count": 139,
   "metadata": {},
   "outputs": [],
   "source": [
    "def get_submission_details(copypaste):\n",
    "    split_input = re.split(\"\\s\", copypaste)\n",
    "    id_str = split_input[0]\n",
    "    score_float = split_input[-1]\n",
    "    file_name = filename = re.findall('\\w*.csv\\w*', copypaste)[-1]\n",
    "    comment_str = ''\n",
    "    submitted_datetime = ''\n",
    "    submission_row = [id_str, file_name, score_float, submitted_datetime, comment_str]\n",
    "    return submission_row\n",
    "def submission_dataframe(rows,columns=['ID', 'FILE', 'SCORE', 'SUBMITTED', 'COMMENT']):\n",
    "    return pd.DataFrame(data=[rows], columns = columns)\n",
    "# the below needs work\n",
    "def add_to_submission_dataframe(df, rows, columns=['ID', 'FILE', 'SCORE', 'SUBMITTED', 'COMMENT']):\n",
    "    return df.append(zip([columns,rows]), ignore_index=True)"
   ]
  },
  {
   "cell_type": "code",
   "execution_count": 142,
   "metadata": {},
   "outputs": [],
   "source": [
    "submission_history = submission_dataframe(get_submission_details('TjkRBAPv ~4 hours ago AOASampleSubmission.csv Just the sample submission 33084.9563135007'))"
   ]
  },
  {
   "cell_type": "code",
   "execution_count": 143,
   "metadata": {},
   "outputs": [
    {
     "data": {
      "text/html": [
       "<div>\n",
       "<style scoped>\n",
       "    .dataframe tbody tr th:only-of-type {\n",
       "        vertical-align: middle;\n",
       "    }\n",
       "\n",
       "    .dataframe tbody tr th {\n",
       "        vertical-align: top;\n",
       "    }\n",
       "\n",
       "    .dataframe thead th {\n",
       "        text-align: right;\n",
       "    }\n",
       "</style>\n",
       "<table border=\"1\" class=\"dataframe\">\n",
       "  <thead>\n",
       "    <tr style=\"text-align: right;\">\n",
       "      <th></th>\n",
       "      <th>ID</th>\n",
       "      <th>FILE</th>\n",
       "      <th>SCORE</th>\n",
       "      <th>SUBMITTED</th>\n",
       "      <th>COMMENT</th>\n",
       "    </tr>\n",
       "  </thead>\n",
       "  <tbody>\n",
       "    <tr>\n",
       "      <th>0</th>\n",
       "      <td>TjkRBAPv</td>\n",
       "      <td>AOASampleSubmission.csv</td>\n",
       "      <td>33084.9563135007</td>\n",
       "      <td></td>\n",
       "      <td></td>\n",
       "    </tr>\n",
       "  </tbody>\n",
       "</table>\n",
       "</div>"
      ],
      "text/plain": [
       "         ID                     FILE             SCORE SUBMITTED COMMENT\n",
       "0  TjkRBAPv  AOASampleSubmission.csv  33084.9563135007                  "
      ]
     },
     "execution_count": 143,
     "metadata": {},
     "output_type": "execute_result"
    }
   ],
   "source": [
    "#submission_history = add_to_submission_dataframe(submission_history, get_submission_details('TjkRBAPv 4 minutes ago AOASampleSubmission.csv Just the sample submission 33084.9563135007'))\n",
    "submission_history"
   ]
  },
  {
   "cell_type": "code",
   "execution_count": 119,
   "metadata": {},
   "outputs": [
    {
     "data": {
      "text/html": [
       "<div>\n",
       "<style scoped>\n",
       "    .dataframe tbody tr th:only-of-type {\n",
       "        vertical-align: middle;\n",
       "    }\n",
       "\n",
       "    .dataframe tbody tr th {\n",
       "        vertical-align: top;\n",
       "    }\n",
       "\n",
       "    .dataframe thead th {\n",
       "        text-align: right;\n",
       "    }\n",
       "</style>\n",
       "<table border=\"1\" class=\"dataframe\">\n",
       "  <thead>\n",
       "    <tr style=\"text-align: right;\">\n",
       "      <th></th>\n",
       "      <th>ID</th>\n",
       "      <th>FILE</th>\n",
       "      <th>SCORE</th>\n",
       "      <th>SUBMITTED</th>\n",
       "      <th>COMMENT</th>\n",
       "    </tr>\n",
       "  </thead>\n",
       "  <tbody>\n",
       "    <tr>\n",
       "      <th>0</th>\n",
       "      <td>TjkRBAPv</td>\n",
       "      <td>AOASampleSubmission.csv</td>\n",
       "      <td>33084.9563135007</td>\n",
       "      <td></td>\n",
       "      <td></td>\n",
       "    </tr>\n",
       "  </tbody>\n",
       "</table>\n",
       "</div>"
      ],
      "text/plain": [
       "         ID                     FILE             SCORE SUBMITTED COMMENT\n",
       "0  TjkRBAPv  AOASampleSubmission.csv  33084.9563135007                  "
      ]
     },
     "execution_count": 119,
     "metadata": {},
     "output_type": "execute_result"
    }
   ],
   "source": [
    "submission_history = submission_dataframe(get_submission_details('TjkRBAPv 4 minutes ago AOASampleSubmission.csv Just the sample submission 33084.9563135007'))\n",
    "submission_history"
   ]
  },
  {
   "cell_type": "code",
   "execution_count": 124,
   "metadata": {},
   "outputs": [],
   "source": [
    "submission_row = get_submission_details('TjkRBAPv 4 minutes ago AOASampleSubmission.csv Just the sample submission 33084.9563135007')"
   ]
  },
  {
   "cell_type": "code",
   "execution_count": 129,
   "metadata": {},
   "outputs": [],
   "source": [
    "submission_history = submission_history.append([submission_row])"
   ]
  },
  {
   "cell_type": "code",
   "execution_count": 78,
   "metadata": {},
   "outputs": [],
   "source": [
    "submission_columns = ['ID', 'FILE', 'SCORE', 'SUBMITTED', 'COMMENT']"
   ]
  },
  {
   "cell_type": "code",
   "execution_count": 130,
   "metadata": {},
   "outputs": [
    {
     "data": {
      "text/html": [
       "<div>\n",
       "<style scoped>\n",
       "    .dataframe tbody tr th:only-of-type {\n",
       "        vertical-align: middle;\n",
       "    }\n",
       "\n",
       "    .dataframe tbody tr th {\n",
       "        vertical-align: top;\n",
       "    }\n",
       "\n",
       "    .dataframe thead th {\n",
       "        text-align: right;\n",
       "    }\n",
       "</style>\n",
       "<table border=\"1\" class=\"dataframe\">\n",
       "  <thead>\n",
       "    <tr style=\"text-align: right;\">\n",
       "      <th></th>\n",
       "      <th>0</th>\n",
       "      <th>1</th>\n",
       "      <th>2</th>\n",
       "      <th>3</th>\n",
       "      <th>4</th>\n",
       "      <th>COMMENT</th>\n",
       "      <th>FILE</th>\n",
       "      <th>ID</th>\n",
       "      <th>SCORE</th>\n",
       "      <th>SUBMITTED</th>\n",
       "    </tr>\n",
       "  </thead>\n",
       "  <tbody>\n",
       "    <tr>\n",
       "      <th>0</th>\n",
       "      <td>NaN</td>\n",
       "      <td>NaN</td>\n",
       "      <td>NaN</td>\n",
       "      <td>NaN</td>\n",
       "      <td>NaN</td>\n",
       "      <td></td>\n",
       "      <td>AOASampleSubmission.csv</td>\n",
       "      <td>TjkRBAPv</td>\n",
       "      <td>33084.9563135007</td>\n",
       "      <td></td>\n",
       "    </tr>\n",
       "    <tr>\n",
       "      <th>1</th>\n",
       "      <td>TjkRBAPv</td>\n",
       "      <td>AOASampleSubmission.csv</td>\n",
       "      <td>33084.9563135007</td>\n",
       "      <td></td>\n",
       "      <td></td>\n",
       "      <td>NaN</td>\n",
       "      <td>NaN</td>\n",
       "      <td>NaN</td>\n",
       "      <td>NaN</td>\n",
       "      <td>NaN</td>\n",
       "    </tr>\n",
       "    <tr>\n",
       "      <th>0</th>\n",
       "      <td>TjkRBAPv</td>\n",
       "      <td>AOASampleSubmission.csv</td>\n",
       "      <td>33084.9563135007</td>\n",
       "      <td></td>\n",
       "      <td></td>\n",
       "      <td>NaN</td>\n",
       "      <td>NaN</td>\n",
       "      <td>NaN</td>\n",
       "      <td>NaN</td>\n",
       "      <td>NaN</td>\n",
       "    </tr>\n",
       "  </tbody>\n",
       "</table>\n",
       "</div>"
      ],
      "text/plain": [
       "          0                        1                 2    3    4 COMMENT  \\\n",
       "0       NaN                      NaN               NaN  NaN  NaN           \n",
       "1  TjkRBAPv  AOASampleSubmission.csv  33084.9563135007               NaN   \n",
       "0  TjkRBAPv  AOASampleSubmission.csv  33084.9563135007               NaN   \n",
       "\n",
       "                      FILE        ID             SCORE SUBMITTED  \n",
       "0  AOASampleSubmission.csv  TjkRBAPv  33084.9563135007            \n",
       "1                      NaN       NaN               NaN       NaN  \n",
       "0                      NaN       NaN               NaN       NaN  "
      ]
     },
     "execution_count": 130,
     "metadata": {},
     "output_type": "execute_result"
    }
   ],
   "source": [
    "submission_history"
   ]
  },
  {
   "cell_type": "code",
   "execution_count": null,
   "metadata": {},
   "outputs": [],
   "source": []
  }
 ],
 "metadata": {
  "kernelspec": {
   "display_name": "Python [conda env:nf_simple] *",
   "language": "python",
   "name": "conda-env-nf_simple-py"
  },
  "language_info": {
   "codemirror_mode": {
    "name": "ipython",
    "version": 3
   },
   "file_extension": ".py",
   "mimetype": "text/x-python",
   "name": "python",
   "nbconvert_exporter": "python",
   "pygments_lexer": "ipython3",
   "version": "3.8.5"
  }
 },
 "nbformat": 4,
 "nbformat_minor": 4
}

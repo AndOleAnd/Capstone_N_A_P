{
 "cells": [
  {
   "cell_type": "markdown",
   "metadata": {},
   "source": [
    "# Creating a Holdout Data Set for the Nairobi Ambulance Challenge\n",
    "\n",
    "## Importing packages"
   ]
  },
  {
   "cell_type": "code",
   "execution_count": 1,
   "metadata": {},
   "outputs": [],
   "source": [
    "import pandas as pd\n",
    "import holidays"
   ]
  },
  {
   "cell_type": "markdown",
   "metadata": {},
   "source": [
    "## Reading data"
   ]
  },
  {
   "cell_type": "code",
   "execution_count": 2,
   "metadata": {},
   "outputs": [
    {
     "name": "stdout",
     "output_type": "stream",
     "text": [
      "(6318, 4)\n"
     ]
    },
    {
     "data": {
      "text/html": [
       "<div>\n",
       "<style scoped>\n",
       "    .dataframe tbody tr th:only-of-type {\n",
       "        vertical-align: middle;\n",
       "    }\n",
       "\n",
       "    .dataframe tbody tr th {\n",
       "        vertical-align: top;\n",
       "    }\n",
       "\n",
       "    .dataframe thead th {\n",
       "        text-align: right;\n",
       "    }\n",
       "</style>\n",
       "<table border=\"1\" class=\"dataframe\">\n",
       "  <thead>\n",
       "    <tr style=\"text-align: right;\">\n",
       "      <th></th>\n",
       "      <th>uid</th>\n",
       "      <th>datetime</th>\n",
       "      <th>latitude</th>\n",
       "      <th>longitude</th>\n",
       "    </tr>\n",
       "  </thead>\n",
       "  <tbody>\n",
       "    <tr>\n",
       "      <th>0</th>\n",
       "      <td>1</td>\n",
       "      <td>2018-01-01 00:25:46</td>\n",
       "      <td>-1.188850</td>\n",
       "      <td>36.931382</td>\n",
       "    </tr>\n",
       "    <tr>\n",
       "      <th>1</th>\n",
       "      <td>2</td>\n",
       "      <td>2018-01-01 02:02:39</td>\n",
       "      <td>-0.662939</td>\n",
       "      <td>37.208730</td>\n",
       "    </tr>\n",
       "    <tr>\n",
       "      <th>2</th>\n",
       "      <td>3</td>\n",
       "      <td>2018-01-01 02:31:49</td>\n",
       "      <td>-0.662939</td>\n",
       "      <td>37.208730</td>\n",
       "    </tr>\n",
       "    <tr>\n",
       "      <th>3</th>\n",
       "      <td>4</td>\n",
       "      <td>2018-01-01 03:04:01</td>\n",
       "      <td>-1.288087</td>\n",
       "      <td>36.826583</td>\n",
       "    </tr>\n",
       "    <tr>\n",
       "      <th>4</th>\n",
       "      <td>5</td>\n",
       "      <td>2018-01-01 03:58:49</td>\n",
       "      <td>-1.188850</td>\n",
       "      <td>36.931382</td>\n",
       "    </tr>\n",
       "  </tbody>\n",
       "</table>\n",
       "</div>"
      ],
      "text/plain": [
       "   uid            datetime  latitude  longitude\n",
       "0    1 2018-01-01 00:25:46 -1.188850  36.931382\n",
       "1    2 2018-01-01 02:02:39 -0.662939  37.208730\n",
       "2    3 2018-01-01 02:31:49 -0.662939  37.208730\n",
       "3    4 2018-01-01 03:04:01 -1.288087  36.826583\n",
       "4    5 2018-01-01 03:58:49 -1.188850  36.931382"
      ]
     },
     "execution_count": 2,
     "metadata": {},
     "output_type": "execute_result"
    }
   ],
   "source": [
    "df = pd.read_csv('../Inputs/Train.csv', parse_dates=['datetime'])\n",
    "print(df.shape)\n",
    "df.head()"
   ]
  },
  {
   "cell_type": "markdown",
   "metadata": {},
   "source": [
    "## Feature engineering"
   ]
  },
  {
   "cell_type": "code",
   "execution_count": 3,
   "metadata": {},
   "outputs": [],
   "source": [
    "def create_accident_features(data):\n",
    "    dict_months = {1: \"Jan\", 2: \"Feb\", 3: \"Mar\", 4: \"Apr\", 5: \"May\", 6: \"Jun\",\n",
    "               7: \"Jul\", 8: \"Aug\", 9: \"Sep\", 10: \"Oct\", 11: \"Nov\", 12: \"Dec\"}\n",
    "    \n",
    "    data[\"date\"] = data[\"datetime\"].apply(lambda x: x.date())\n",
    "    data[\"holiday\"] = data[\"date\"].apply(lambda x: 1 if (x in holidays.Kenya()) else 0)\n",
    "    data[\"time\"] = data[\"datetime\"].apply(lambda x: x.time())\n",
    "    data[\"day\"] = data[\"datetime\"].apply(lambda x: x.day)\n",
    "    data[\"weekday\"] = data[\"datetime\"].apply(lambda x: x.weekday())\n",
    "    data[\"weekend\"] = data[\"weekday\"].apply(lambda x: 1 if x>4 else 0)\n",
    "    data[\"month\"] = data[\"datetime\"].apply(lambda x: dict_months.get(x.month))\n",
    "    data[\"half_year\"] = data[\"datetime\"].apply(lambda x: 1 if x.month<7 else 2)\n",
    "    data[\"year\"] = data[\"datetime\"].apply(lambda x: x.year)\n",
    "    \n",
    "    return data"
   ]
  },
  {
   "cell_type": "code",
   "execution_count": 4,
   "metadata": {},
   "outputs": [
    {
     "data": {
      "text/html": [
       "<div>\n",
       "<style scoped>\n",
       "    .dataframe tbody tr th:only-of-type {\n",
       "        vertical-align: middle;\n",
       "    }\n",
       "\n",
       "    .dataframe tbody tr th {\n",
       "        vertical-align: top;\n",
       "    }\n",
       "\n",
       "    .dataframe thead th {\n",
       "        text-align: right;\n",
       "    }\n",
       "</style>\n",
       "<table border=\"1\" class=\"dataframe\">\n",
       "  <thead>\n",
       "    <tr style=\"text-align: right;\">\n",
       "      <th></th>\n",
       "      <th>uid</th>\n",
       "      <th>datetime</th>\n",
       "      <th>latitude</th>\n",
       "      <th>longitude</th>\n",
       "      <th>date</th>\n",
       "      <th>holiday</th>\n",
       "      <th>time</th>\n",
       "      <th>day</th>\n",
       "      <th>weekday</th>\n",
       "      <th>weekend</th>\n",
       "      <th>month</th>\n",
       "      <th>half_year</th>\n",
       "      <th>year</th>\n",
       "    </tr>\n",
       "  </thead>\n",
       "  <tbody>\n",
       "    <tr>\n",
       "      <th>0</th>\n",
       "      <td>1</td>\n",
       "      <td>2018-01-01 00:25:46</td>\n",
       "      <td>-1.188850</td>\n",
       "      <td>36.931382</td>\n",
       "      <td>2018-01-01</td>\n",
       "      <td>1</td>\n",
       "      <td>00:25:46</td>\n",
       "      <td>1</td>\n",
       "      <td>0</td>\n",
       "      <td>0</td>\n",
       "      <td>Jan</td>\n",
       "      <td>1</td>\n",
       "      <td>2018</td>\n",
       "    </tr>\n",
       "    <tr>\n",
       "      <th>1</th>\n",
       "      <td>2</td>\n",
       "      <td>2018-01-01 02:02:39</td>\n",
       "      <td>-0.662939</td>\n",
       "      <td>37.208730</td>\n",
       "      <td>2018-01-01</td>\n",
       "      <td>1</td>\n",
       "      <td>02:02:39</td>\n",
       "      <td>1</td>\n",
       "      <td>0</td>\n",
       "      <td>0</td>\n",
       "      <td>Jan</td>\n",
       "      <td>1</td>\n",
       "      <td>2018</td>\n",
       "    </tr>\n",
       "    <tr>\n",
       "      <th>2</th>\n",
       "      <td>3</td>\n",
       "      <td>2018-01-01 02:31:49</td>\n",
       "      <td>-0.662939</td>\n",
       "      <td>37.208730</td>\n",
       "      <td>2018-01-01</td>\n",
       "      <td>1</td>\n",
       "      <td>02:31:49</td>\n",
       "      <td>1</td>\n",
       "      <td>0</td>\n",
       "      <td>0</td>\n",
       "      <td>Jan</td>\n",
       "      <td>1</td>\n",
       "      <td>2018</td>\n",
       "    </tr>\n",
       "    <tr>\n",
       "      <th>3</th>\n",
       "      <td>4</td>\n",
       "      <td>2018-01-01 03:04:01</td>\n",
       "      <td>-1.288087</td>\n",
       "      <td>36.826583</td>\n",
       "      <td>2018-01-01</td>\n",
       "      <td>1</td>\n",
       "      <td>03:04:01</td>\n",
       "      <td>1</td>\n",
       "      <td>0</td>\n",
       "      <td>0</td>\n",
       "      <td>Jan</td>\n",
       "      <td>1</td>\n",
       "      <td>2018</td>\n",
       "    </tr>\n",
       "    <tr>\n",
       "      <th>4</th>\n",
       "      <td>5</td>\n",
       "      <td>2018-01-01 03:58:49</td>\n",
       "      <td>-1.188850</td>\n",
       "      <td>36.931382</td>\n",
       "      <td>2018-01-01</td>\n",
       "      <td>1</td>\n",
       "      <td>03:58:49</td>\n",
       "      <td>1</td>\n",
       "      <td>0</td>\n",
       "      <td>0</td>\n",
       "      <td>Jan</td>\n",
       "      <td>1</td>\n",
       "      <td>2018</td>\n",
       "    </tr>\n",
       "  </tbody>\n",
       "</table>\n",
       "</div>"
      ],
      "text/plain": [
       "   uid            datetime  latitude  longitude        date  holiday  \\\n",
       "0    1 2018-01-01 00:25:46 -1.188850  36.931382  2018-01-01        1   \n",
       "1    2 2018-01-01 02:02:39 -0.662939  37.208730  2018-01-01        1   \n",
       "2    3 2018-01-01 02:31:49 -0.662939  37.208730  2018-01-01        1   \n",
       "3    4 2018-01-01 03:04:01 -1.288087  36.826583  2018-01-01        1   \n",
       "4    5 2018-01-01 03:58:49 -1.188850  36.931382  2018-01-01        1   \n",
       "\n",
       "       time  day  weekday  weekend month  half_year  year  \n",
       "0  00:25:46    1        0        0   Jan          1  2018  \n",
       "1  02:02:39    1        0        0   Jan          1  2018  \n",
       "2  02:31:49    1        0        0   Jan          1  2018  \n",
       "3  03:04:01    1        0        0   Jan          1  2018  \n",
       "4  03:58:49    1        0        0   Jan          1  2018  "
      ]
     },
     "execution_count": 4,
     "metadata": {},
     "output_type": "execute_result"
    }
   ],
   "source": [
    "df = create_accident_features(df)\n",
    "df.head()"
   ]
  },
  {
   "cell_type": "markdown",
   "metadata": {},
   "source": [
    "## Splitting off a holdout set"
   ]
  },
  {
   "cell_type": "code",
   "execution_count": 5,
   "metadata": {},
   "outputs": [],
   "source": [
    "def split_accident_data(data, strategy, test_size=0.3, random_state=42):\n",
    "    '''\n",
    "    Splits the data set into a train and a test set.\n",
    "    strategy:\n",
    "        random = splits off random indices, using test_size and random_state parameters\n",
    "        year_2019 = splits the days of 2019 off into a test set\n",
    "        percentage_month = splits off the last days of every month to the test set according to the test_size\n",
    "        2nd_half_2018 = oversamples the months from July to December 2018 by about 33%\n",
    "    '''\n",
    "\n",
    "    if strategy == \"random\":\n",
    "        data = data.sample(frac=1, random_state=random_state).reset_index().drop(\"index\", axis=1)\n",
    "        split_at = round(data.shape[0] * test_size)\n",
    "        data_train = data.iloc[split_at:, :]\n",
    "        data_test = data.iloc[:split_at, :]\n",
    "    elif strategy == \"year_2019\":\n",
    "        data_train = data[data[\"datetime\"] < \"2019-01-01\"]\n",
    "        data_test = data[data[\"datetime\"] >= \"2019-01-01\"]\n",
    "    elif strategy == \"percentage_month\":\n",
    "        split_at = round(30 * (1-test_size))\n",
    "        data_train = data[data[\"day\"] <= split_at]\n",
    "        data_test = data[data[\"day\"] > split_at]\n",
    "    elif strategy == \"2nd_half_2018\":\n",
    "        train_samples = round(data.shape[0] * (1-test_size))\n",
    "        test_samples = round(data.shape[0] * test_size)\n",
    "        data_train = data.sample(n=train_samples, weights=\"half_year\", random_state=random_state)\n",
    "        data_test = data.sample(n=test_samples, weights=\"half_year\", random_state=random_state)\n",
    "        \n",
    "    return data_train, data_test"
   ]
  },
  {
   "cell_type": "code",
   "execution_count": 6,
   "metadata": {},
   "outputs": [
    {
     "name": "stdout",
     "output_type": "stream",
     "text": [
      "Train:\n",
      "2760   2018-07-28 04:19:24\n",
      "5908   2019-05-14 17:16:37\n",
      "4244   2018-12-14 10:28:09\n",
      "Name: datetime, dtype: datetime64[ns]\n",
      "1388   2018-04-20 20:22:28\n",
      "4659   2019-01-31 08:04:39\n",
      "5573   2019-04-14 08:35:37\n",
      "Name: datetime, dtype: datetime64[ns]\n",
      "(4423, 13)\n",
      "Test:\n",
      "2760   2018-07-28 04:19:24\n",
      "5908   2019-05-14 17:16:37\n",
      "4244   2018-12-14 10:28:09\n",
      "Name: datetime, dtype: datetime64[ns]\n",
      "4142   2018-12-07 17:36:09\n",
      "513    2018-02-07 10:38:09\n",
      "1318   2018-04-13 06:43:58\n",
      "Name: datetime, dtype: datetime64[ns]\n",
      "(1895, 13)\n"
     ]
    }
   ],
   "source": [
    "# Split accident data\n",
    "df_train, df_test = split_accident_data(data=df, strategy=\"2nd_half_2018\", test_size=0.3)\n",
    "\n",
    "print(\"Train:\")\n",
    "print(df_train.head(3)[\"datetime\"])\n",
    "print(df_train.tail(3)[\"datetime\"])\n",
    "print(df_train.shape)\n",
    "\n",
    "print(\"Test:\")\n",
    "print(df_test.head(3)[\"datetime\"])\n",
    "print(df_test.tail(3)[\"datetime\"])\n",
    "print(df_test.shape)"
   ]
  },
  {
   "cell_type": "code",
   "execution_count": 7,
   "metadata": {},
   "outputs": [
    {
     "name": "stdout",
     "output_type": "stream",
     "text": [
      "1    2719\n",
      "2    1704\n",
      "Name: half_year, dtype: int64\n",
      "1    1069\n",
      "2     826\n",
      "Name: half_year, dtype: int64\n"
     ]
    }
   ],
   "source": [
    "print(df_train[\"half_year\"].value_counts())\n",
    "print(df_test[\"half_year\"].value_counts())"
   ]
  },
  {
   "cell_type": "code",
   "execution_count": null,
   "metadata": {},
   "outputs": [],
   "source": []
  }
 ],
 "metadata": {
  "kernelspec": {
   "display_name": "Python 3",
   "language": "python",
   "name": "python3"
  },
  "language_info": {
   "codemirror_mode": {
    "name": "ipython",
    "version": 3
   },
   "file_extension": ".py",
   "mimetype": "text/x-python",
   "name": "python",
   "nbconvert_exporter": "python",
   "pygments_lexer": "ipython3",
   "version": "3.8.5"
  }
 },
 "nbformat": 4,
 "nbformat_minor": 4
}

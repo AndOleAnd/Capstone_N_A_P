{
 "cells": [
  {
   "cell_type": "code",
   "execution_count": 1,
   "metadata": {},
   "outputs": [],
   "source": [
    "import math\n",
    "import pandas as pd \n",
    "import geopandas as gpd\n",
    "import numpy as np\n",
    "\n",
    "import matplotlib.pyplot as plt\n",
    "\n",
    "import h3 # h3 bins from uber"
   ]
  },
  {
   "cell_type": "markdown",
   "metadata": {},
   "source": [
    "## Loading helper functions"
   ]
  },
  {
   "cell_type": "markdown",
   "metadata": {},
   "source": [
    "These functions have been copied over from notebooks that already exist for this project. Ideally, these would be imported from a module."
   ]
  },
  {
   "cell_type": "code",
   "execution_count": 2,
   "metadata": {},
   "outputs": [],
   "source": [
    "#Loading the data\n",
    "def create_crash_df(train_file = '../Inputs/Train.csv'):  \n",
    "    crash_df = pd.read_csv(train_file, parse_dates=['datetime'])\n",
    "    return crash_df\n",
    "\n",
    "#Creating temporal features like months, weekdays, etc.\n",
    "def create_temporal_features(df):\n",
    "    dict_windows = {1: \"00-03\", 2: \"03-06\", 3: \"06-09\", 4: \"09-12\", 5: \"12-15\", 6: \"15-18\", 7: \"18-21\", 8: \"21-24\"}\n",
    "    dict_months = {1: \"Jan\", 2: \"Feb\", 3: \"Mar\", 4: \"Apr\", 5: \"May\", 6: \"Jun\",\n",
    "               7: \"Jul\", 8: \"Aug\", 9: \"Sep\", 10: \"Oct\", 11: \"Nov\", 12: \"Dec\"}\n",
    "    df[\"time_window\"] = df[\"datetime\"].apply(lambda x: math.floor(x.hour / 3) + 1)\n",
    "    df[\"time_window_str\"] = df[\"time_window\"].apply(lambda x: dict_windows.get(x))\n",
    "    df[\"day\"] = df[\"datetime\"].apply(lambda x: x.day)\n",
    "    df[\"month\"] = df[\"datetime\"].apply(lambda x: dict_months.get(x.month))\n",
    "    df[\"year\"] = df[\"datetime\"].apply(lambda x: x.year)\n",
    "    df[\"weekday\"] = df[\"datetime\"].apply(lambda x: x.weekday())\n",
    "    return df\n",
    "\n",
    "#Exporting the dataframe back to csv\n",
    "def export_df_to_csv(df,path_file='../Inputs/train_h3.csv'):\n",
    "    df.to_csv(path_file,index=False)\n",
    "    print(f'file created {path_file}') \n",
    "\n",
    "#Joins provided data sets for road segments into one file, indicating latitude and longitude for each segment. This enables placement in h3 bins.    \n",
    "def join_segment_files(path='../Inputs/', road_surveys='Segment_info.csv',segments_geometry='segments_geometry.geojson'):\n",
    "    ''' \n",
    "        Load the survey data, Load the segment geometry, Join the two segment dfs.\n",
    "        return a combined dataframe\n",
    "    '''\n",
    "    road_surveys = pd.read_csv(path+road_surveys)\n",
    "    road_segment_locs = gpd.read_file(path+segments_geometry)\n",
    "    segments_merged = pd.merge(road_segment_locs, road_surveys, on='segment_id', how='left')\n",
    "    segments_merged[\"longitude\"] = segments_merged.geometry.centroid.x\n",
    "    segments_merged[\"latitude\"] = segments_merged.geometry.centroid.y\n",
    "    segments_merged = assign_hexbin(segments_merged)\n",
    "    return segments_merged\n",
    "\n",
    "#Defines time clusters, see docstring for more info\n",
    "def assign_TW_cluster(weekday, time_window, holiday=0, strategy='baseline'):\n",
    "    '''\n",
    "    Can be used in a lambda function to return the time window cluster for a given day and time window.\n",
    "    e.g. crash_df[\"cluster\"] = crash_df.apply(lambda x: return_TW_cluster(x.weekday, x.time_window_str) ,axis=1)\n",
    "    This is called by the function: create_cluster_feature.\n",
    "    '''\n",
    "    if strategy == 'baseline':\n",
    "        return 'baseline'\n",
    "    \n",
    "    if strategy == 'mean_shift_modified':\n",
    "        if weekday == 7:\n",
    "            return 'off_peak'        \n",
    "        elif weekday == 6:\n",
    "            return 'off_peak'\n",
    "        elif weekday in [0,1,2,3,4]:\n",
    "            if time_window in [\"06-09\"]:\n",
    "                return 'peak'\n",
    "            elif time_window in [\"09-12\", \"12-15\", \"15-18\", \"18-21\"]:\n",
    "                return 'middle'\n",
    "            elif time_window in [\"00-03\", \"03-06\", \"21-24\"]:\n",
    "                return 'off_peak'    \n",
    "        elif weekday == 5:\n",
    "            if time_window in [\"06-09\", \"12-15\", \"15-18\", \"18-21\"]:\n",
    "                return 'middle'\n",
    "            elif time_window in [\"00-03\", \"03-06\", \"21-24\"]:\n",
    "                return 'off_peak'\n",
    "            elif time_window in [\"09-12\"]:\n",
    "                return 'peak'\n",
    "    \n",
    "    elif strategy == 'saturday_2':\n",
    "        if weekday == 7:\n",
    "            return 'off_peak'        \n",
    "        elif weekday == 6:\n",
    "            return 'off_peak'\n",
    "        elif weekday in [0,1,2,3,4]:\n",
    "            if time_window in [\"06-09\"]:\n",
    "                return 'peak'\n",
    "            elif time_window in [\"09-12\", \"12-15\", \"15-18\", \"18-21\"]:\n",
    "                return 'middle'\n",
    "            elif time_window in [\"00-03\", \"03-06\", \"21-24\"]:\n",
    "                return 'off_peak'    \n",
    "        elif weekday == 5:\n",
    "            if time_window in [\"06-09\", \"12-15\", \"15-18\", \"18-21\"]:\n",
    "                return 'saturday_busy'\n",
    "            elif time_window in [\"00-03\", \"03-06\", \"21-24\"]:\n",
    "                return 'off_peak'\n",
    "            elif time_window in [\"09-12\"]:\n",
    "                return 'saturday_busy'    \n",
    "    \n",
    "    elif strategy == 'holiday_7':\n",
    "        if weekday == 7:\n",
    "            return 'holiday'        \n",
    "        elif weekday == 6:\n",
    "            return 'sunday'\n",
    "        elif weekday in [0,1,2,3,4]:\n",
    "            if time_window in [\"06-09\"]:\n",
    "                return 'peak'\n",
    "            elif time_window in [\"09-12\", \"12-15\", \"15-18\", \"18-21\"]:\n",
    "                return 'middle'\n",
    "            elif time_window in [\"00-03\", \"03-06\", \"21-24\"]:\n",
    "                return 'off_peak'    \n",
    "        elif weekday == 5:\n",
    "            if time_window in [\"06-09\", \"12-15\", \"15-18\", \"18-21\"]:\n",
    "                return 'saturday_busy'\n",
    "            elif time_window in [\"00-03\", \"03-06\", \"21-24\"]:\n",
    "                return 'off_peak'\n",
    "            elif time_window in [\"09-12\"]:\n",
    "                return 'saturday_busy'      \n",
    "\n",
    "    elif strategy == 'holiday_7':\n",
    "        if weekday == 7:\n",
    "            return 'holiday'        \n",
    "        elif weekday == 6:\n",
    "            return 'sunday'\n",
    "        elif weekday in [0,1,2,3,4]:\n",
    "            if time_window in [\"06-09\"]:\n",
    "                return 'peak'\n",
    "            elif time_window in [\"09-12\", \"12-15\", \"15-18\", \"18-21\"]:\n",
    "                return 'middle'\n",
    "            elif time_window in [\"00-03\", \"03-06\", \"21-24\"]:\n",
    "                return 'off_peak'    \n",
    "        elif weekday == 5:\n",
    "            if time_window in [\"06-09\", \"12-15\", \"15-18\", \"18-21\"]:\n",
    "                return 'saturday_busy'\n",
    "            elif time_window in [\"00-03\", \"03-06\", \"21-24\"]:\n",
    "                return 'off_peak'\n",
    "            elif time_window in [\"09-12\"]:\n",
    "                return 'saturday_busy'      \n",
    "    \n",
    "\n",
    "    elif strategy == 'no_cluster':\n",
    "        return (str(weekday)+str(time_window)+str(holiday))\n",
    "\n",
    "#Creates time cluster feature in existing data frame\n",
    "def create_cluster_feature(crash_df, strategy='baseline', verbose=0):\n",
    "    '''\n",
    "    Function takes crash df and creates new column with tw cluster labels.\n",
    "    If verbose is increased, the time window clusters will be visualised.\n",
    "    '''\n",
    "    crash_df[\"cluster\"] = crash_df.apply(lambda x: \n",
    "                                         assign_TW_cluster(weekday=x.weekday,\n",
    "                                                           time_window=x.time_window_str,\n",
    "                                                           strategy=strategy) \n",
    "                                         ,axis=1)\n",
    "    \n",
    "    print(f'{crash_df.cluster.nunique()} clusters created')\n",
    "    if verbose > 1:\n",
    "        tb_clusters = sns.FacetGrid(crash_df,hue='cluster', height=5)\n",
    "        tb_clusters.map(sns.stripplot,'weekday', 'time_window_str', s=20, \n",
    "                                       order = ['00-03', '03-06', '06-09', '09-12', \n",
    "                                                '12-15', '15-18', '18-21', '21-24'],\n",
    "                                    label = 'Time Window Clusters')\n",
    "    return crash_df"
   ]
  },
  {
   "cell_type": "markdown",
   "metadata": {},
   "source": [
    "## Changes to hexbin function"
   ]
  },
  {
   "cell_type": "markdown",
   "metadata": {},
   "source": [
    "To have a cleaner dataframe for each iteration of the pipeline, I adapted the functioning for creating hex bins so that it takes the desired resolution of the h3 bins is taken as an argument by the function - default is set to 6. The major difference is that the function does not add 3 columns at once now but only the resolution that is specified."
   ]
  },
  {
   "cell_type": "code",
   "execution_count": 3,
   "metadata": {},
   "outputs": [],
   "source": [
    "#Assigning hex bins based on h3 classification and latitude and longitude\n",
    "def assign_hexbin(df,lat_column=\"latitude\",lon_column=\"longitude\", hexbin_resolution=6):\n",
    "    df[\"h3_zone_{}\".format(hexbin_resolution)] = df.apply(lambda x: h3.geo_to_h3(x[lat_column], x[lon_column], hexbin_resolution),axis=1)\n",
    "    return df\n",
    "\n",
    "# ***Old function below for comparison***\n",
    "#def assign_hex_bin(df,lat_column=\"latitude\",lon_column=\"longitude\"):\n",
    "#    df[\"h3_zone_5\"] = df.apply(lambda x: h3.geo_to_h3(x[lat_column], x[lon_column], 5),axis=1)\n",
    "#    df[\"h3_zone_6\"] = df.apply(lambda x: h3.geo_to_h3(x[lat_column], x[lon_column], 6),axis=1)\n",
    "#    df[\"h3_zone_7\"] = df.apply(lambda x: h3.geo_to_h3(x[lat_column], x[lon_column], 7),axis=1)\n",
    "#    return df"
   ]
  },
  {
   "cell_type": "markdown",
   "metadata": {},
   "source": [
    "## Example: How to set up a dataframe for prediction"
   ]
  },
  {
   "cell_type": "markdown",
   "metadata": {},
   "source": [
    "### Step 1: Set up a data frame and group RTA's according to hex bins and time clusters"
   ]
  },
  {
   "cell_type": "markdown",
   "metadata": {},
   "source": [
    "In a first step, the data need to be loaded and temporal features are added and hexbin are assigned to locations based on latitude and longitude."
   ]
  },
  {
   "cell_type": "code",
   "execution_count": 4,
   "metadata": {},
   "outputs": [
    {
     "data": {
      "text/html": [
       "<div>\n",
       "<style scoped>\n",
       "    .dataframe tbody tr th:only-of-type {\n",
       "        vertical-align: middle;\n",
       "    }\n",
       "\n",
       "    .dataframe tbody tr th {\n",
       "        vertical-align: top;\n",
       "    }\n",
       "\n",
       "    .dataframe thead th {\n",
       "        text-align: right;\n",
       "    }\n",
       "</style>\n",
       "<table border=\"1\" class=\"dataframe\">\n",
       "  <thead>\n",
       "    <tr style=\"text-align: right;\">\n",
       "      <th></th>\n",
       "      <th>uid</th>\n",
       "      <th>datetime</th>\n",
       "      <th>latitude</th>\n",
       "      <th>longitude</th>\n",
       "      <th>time_window</th>\n",
       "      <th>time_window_str</th>\n",
       "      <th>day</th>\n",
       "      <th>month</th>\n",
       "      <th>year</th>\n",
       "      <th>weekday</th>\n",
       "      <th>h3_zone_6</th>\n",
       "    </tr>\n",
       "  </thead>\n",
       "  <tbody>\n",
       "    <tr>\n",
       "      <th>0</th>\n",
       "      <td>1</td>\n",
       "      <td>2018-01-01 00:25:46</td>\n",
       "      <td>-1.188850</td>\n",
       "      <td>36.931382</td>\n",
       "      <td>1</td>\n",
       "      <td>00-03</td>\n",
       "      <td>1</td>\n",
       "      <td>Jan</td>\n",
       "      <td>2018</td>\n",
       "      <td>0</td>\n",
       "      <td>867a6e417ffffff</td>\n",
       "    </tr>\n",
       "    <tr>\n",
       "      <th>1</th>\n",
       "      <td>2</td>\n",
       "      <td>2018-01-01 02:02:39</td>\n",
       "      <td>-0.662939</td>\n",
       "      <td>37.208730</td>\n",
       "      <td>1</td>\n",
       "      <td>00-03</td>\n",
       "      <td>1</td>\n",
       "      <td>Jan</td>\n",
       "      <td>2018</td>\n",
       "      <td>0</td>\n",
       "      <td>867a45107ffffff</td>\n",
       "    </tr>\n",
       "  </tbody>\n",
       "</table>\n",
       "</div>"
      ],
      "text/plain": [
       "   uid            datetime  latitude  longitude  time_window time_window_str  \\\n",
       "0    1 2018-01-01 00:25:46 -1.188850  36.931382            1           00-03   \n",
       "1    2 2018-01-01 02:02:39 -0.662939  37.208730            1           00-03   \n",
       "\n",
       "   day month  year  weekday        h3_zone_6  \n",
       "0    1   Jan  2018        0  867a6e417ffffff  \n",
       "1    1   Jan  2018        0  867a45107ffffff  "
      ]
     },
     "execution_count": 4,
     "metadata": {},
     "output_type": "execute_result"
    }
   ],
   "source": [
    "df_raw = create_crash_df()\n",
    "df = create_temporal_features(df_raw)\n",
    "df = assign_hexbin(df)\n",
    "df.head(2)"
   ]
  },
  {
   "cell_type": "markdown",
   "metadata": {},
   "source": [
    "**Assigning RTA's to time clusters and hex bins**\n",
    "\n",
    "First this will only be done for the 18 hex bins that we have the data for. The time clusters assumed are defined as follows:\n",
    "* **peak**: Weekdays from 06-09\n",
    "* **middle**: Weekdays from 09-21 and Saturday from 06-21\n",
    "* **off-peak**: All other time windows (every night from 21-06 and the whole Sunday)"
   ]
  },
  {
   "cell_type": "markdown",
   "metadata": {},
   "source": [
    "Using helper functions to create and assign time cluster features."
   ]
  },
  {
   "cell_type": "code",
   "execution_count": 5,
   "metadata": {},
   "outputs": [
    {
     "name": "stdout",
     "output_type": "stream",
     "text": [
      "3 clusters created\n"
     ]
    }
   ],
   "source": [
    "df_cluster = create_cluster_feature(df, strategy='mean_shift_modified', verbose=0)"
   ]
  },
  {
   "cell_type": "code",
   "execution_count": 6,
   "metadata": {},
   "outputs": [
    {
     "data": {
      "text/html": [
       "<div>\n",
       "<style scoped>\n",
       "    .dataframe tbody tr th:only-of-type {\n",
       "        vertical-align: middle;\n",
       "    }\n",
       "\n",
       "    .dataframe tbody tr th {\n",
       "        vertical-align: top;\n",
       "    }\n",
       "\n",
       "    .dataframe thead th {\n",
       "        text-align: right;\n",
       "    }\n",
       "</style>\n",
       "<table border=\"1\" class=\"dataframe\">\n",
       "  <thead>\n",
       "    <tr style=\"text-align: right;\">\n",
       "      <th></th>\n",
       "      <th>uid</th>\n",
       "      <th>datetime</th>\n",
       "      <th>latitude</th>\n",
       "      <th>longitude</th>\n",
       "      <th>time_window</th>\n",
       "      <th>time_window_str</th>\n",
       "      <th>day</th>\n",
       "      <th>month</th>\n",
       "      <th>year</th>\n",
       "      <th>weekday</th>\n",
       "      <th>h3_zone_6</th>\n",
       "      <th>cluster</th>\n",
       "    </tr>\n",
       "  </thead>\n",
       "  <tbody>\n",
       "    <tr>\n",
       "      <th>6</th>\n",
       "      <td>7</td>\n",
       "      <td>2018-01-01 05:31:17</td>\n",
       "      <td>-1.165228</td>\n",
       "      <td>36.960008</td>\n",
       "      <td>2</td>\n",
       "      <td>03-06</td>\n",
       "      <td>1</td>\n",
       "      <td>Jan</td>\n",
       "      <td>2018</td>\n",
       "      <td>0</td>\n",
       "      <td>867a6e4a7ffffff</td>\n",
       "      <td>off_peak</td>\n",
       "    </tr>\n",
       "    <tr>\n",
       "      <th>7</th>\n",
       "      <td>8</td>\n",
       "      <td>2018-01-01 07:57:56</td>\n",
       "      <td>-1.301303</td>\n",
       "      <td>36.820903</td>\n",
       "      <td>3</td>\n",
       "      <td>06-09</td>\n",
       "      <td>1</td>\n",
       "      <td>Jan</td>\n",
       "      <td>2018</td>\n",
       "      <td>0</td>\n",
       "      <td>867a6e557ffffff</td>\n",
       "      <td>peak</td>\n",
       "    </tr>\n",
       "    <tr>\n",
       "      <th>8</th>\n",
       "      <td>9</td>\n",
       "      <td>2018-01-01 09:57:27</td>\n",
       "      <td>-1.134640</td>\n",
       "      <td>36.848220</td>\n",
       "      <td>4</td>\n",
       "      <td>09-12</td>\n",
       "      <td>1</td>\n",
       "      <td>Jan</td>\n",
       "      <td>2018</td>\n",
       "      <td>0</td>\n",
       "      <td>867a6e4f7ffffff</td>\n",
       "      <td>middle</td>\n",
       "    </tr>\n",
       "    <tr>\n",
       "      <th>9</th>\n",
       "      <td>10</td>\n",
       "      <td>2018-01-01 10:48:59</td>\n",
       "      <td>-1.117207</td>\n",
       "      <td>37.008278</td>\n",
       "      <td>4</td>\n",
       "      <td>09-12</td>\n",
       "      <td>1</td>\n",
       "      <td>Jan</td>\n",
       "      <td>2018</td>\n",
       "      <td>0</td>\n",
       "      <td>867a6e4b7ffffff</td>\n",
       "      <td>middle</td>\n",
       "    </tr>\n",
       "  </tbody>\n",
       "</table>\n",
       "</div>"
      ],
      "text/plain": [
       "   uid            datetime  latitude  longitude  time_window time_window_str  \\\n",
       "6    7 2018-01-01 05:31:17 -1.165228  36.960008            2           03-06   \n",
       "7    8 2018-01-01 07:57:56 -1.301303  36.820903            3           06-09   \n",
       "8    9 2018-01-01 09:57:27 -1.134640  36.848220            4           09-12   \n",
       "9   10 2018-01-01 10:48:59 -1.117207  37.008278            4           09-12   \n",
       "\n",
       "   day month  year  weekday        h3_zone_6   cluster  \n",
       "6    1   Jan  2018        0  867a6e4a7ffffff  off_peak  \n",
       "7    1   Jan  2018        0  867a6e557ffffff      peak  \n",
       "8    1   Jan  2018        0  867a6e4f7ffffff    middle  \n",
       "9    1   Jan  2018        0  867a6e4b7ffffff    middle  "
      ]
     },
     "execution_count": 6,
     "metadata": {},
     "output_type": "execute_result"
    }
   ],
   "source": [
    "df_cluster[6:10]"
   ]
  },
  {
   "cell_type": "markdown",
   "metadata": {},
   "source": [
    "**Helper function for grouping RTA's by hex bin and time cluster**"
   ]
  },
  {
   "cell_type": "code",
   "execution_count": 7,
   "metadata": {},
   "outputs": [],
   "source": [
    "#Add up RTA's per hex bin and time custer\n",
    "def rta_per_cluster_and_bins(df_cluster):\n",
    "    df_rta = df_cluster.groupby([df_cluster.columns[-2], \"cluster\"]).agg({\"uid\": \"count\"}).reset_index()\n",
    "    col_names = [df_rta.columns[0]] + [df_rta.columns[1]] + [\"RTA\"]\n",
    "    df_rta.columns = col_names\n",
    "    return df_rta"
   ]
  },
  {
   "cell_type": "code",
   "execution_count": 8,
   "metadata": {},
   "outputs": [
    {
     "data": {
      "text/html": [
       "<div>\n",
       "<style scoped>\n",
       "    .dataframe tbody tr th:only-of-type {\n",
       "        vertical-align: middle;\n",
       "    }\n",
       "\n",
       "    .dataframe tbody tr th {\n",
       "        vertical-align: top;\n",
       "    }\n",
       "\n",
       "    .dataframe thead th {\n",
       "        text-align: right;\n",
       "    }\n",
       "</style>\n",
       "<table border=\"1\" class=\"dataframe\">\n",
       "  <thead>\n",
       "    <tr style=\"text-align: right;\">\n",
       "      <th></th>\n",
       "      <th>h3_zone_6</th>\n",
       "      <th>cluster</th>\n",
       "      <th>RTA</th>\n",
       "    </tr>\n",
       "  </thead>\n",
       "  <tbody>\n",
       "    <tr>\n",
       "      <th>0</th>\n",
       "      <td>867a44a6fffffff</td>\n",
       "      <td>middle</td>\n",
       "      <td>1</td>\n",
       "    </tr>\n",
       "    <tr>\n",
       "      <th>1</th>\n",
       "      <td>867a44a6fffffff</td>\n",
       "      <td>off_peak</td>\n",
       "      <td>1</td>\n",
       "    </tr>\n",
       "    <tr>\n",
       "      <th>2</th>\n",
       "      <td>867a44b5fffffff</td>\n",
       "      <td>middle</td>\n",
       "      <td>1</td>\n",
       "    </tr>\n",
       "    <tr>\n",
       "      <th>3</th>\n",
       "      <td>867a44b5fffffff</td>\n",
       "      <td>peak</td>\n",
       "      <td>1</td>\n",
       "    </tr>\n",
       "  </tbody>\n",
       "</table>\n",
       "</div>"
      ],
      "text/plain": [
       "         h3_zone_6   cluster  RTA\n",
       "0  867a44a6fffffff    middle    1\n",
       "1  867a44a6fffffff  off_peak    1\n",
       "2  867a44b5fffffff    middle    1\n",
       "3  867a44b5fffffff      peak    1"
      ]
     },
     "execution_count": 8,
     "metadata": {},
     "output_type": "execute_result"
    }
   ],
   "source": [
    "df_rta = rta_per_cluster_and_bins(df_cluster)\n",
    "df_rta.head(4)"
   ]
  },
  {
   "cell_type": "code",
   "execution_count": 9,
   "metadata": {},
   "outputs": [
    {
     "data": {
      "text/plain": [
       "117"
      ]
     },
     "execution_count": 9,
     "metadata": {},
     "output_type": "execute_result"
    }
   ],
   "source": [
    "df_rta[df_rta.columns[0]].nunique()"
   ]
  },
  {
   "cell_type": "markdown",
   "metadata": {},
   "source": [
    "**Note: We would expect there to be 3*117 rows in this example if there were RTA's for each hex bin during each time cluster over the whole data set. The number of 220 rows indicates that there are around 1/3 of hex bin * time cluster combinations for which there has been no RTA.**"
   ]
  },
  {
   "cell_type": "code",
   "execution_count": 10,
   "metadata": {},
   "outputs": [
    {
     "data": {
      "text/plain": [
       "(220, 3)"
      ]
     },
     "execution_count": 10,
     "metadata": {},
     "output_type": "execute_result"
    }
   ],
   "source": [
    "df_rta.shape"
   ]
  },
  {
   "cell_type": "markdown",
   "metadata": {},
   "source": [
    "Next, we need to create an empty table that contains all hex bins and all time clusters."
   ]
  },
  {
   "cell_type": "markdown",
   "metadata": {},
   "source": [
    "**Helper function to get a list of all unique hex bins per unique time cluster**"
   ]
  },
  {
   "cell_type": "code",
   "execution_count": 12,
   "metadata": {},
   "outputs": [],
   "source": [
    "#Create list of unique hex bins times unique time clusters\n",
    "def get_list_of_h3(df_hex, df_clusters):\n",
    "    return list(set(df_hex[df_hex.columns[0]])) * df_clusters[\"cluster\"].nunique()"
   ]
  },
  {
   "cell_type": "markdown",
   "metadata": {},
   "source": [
    "Create list of hex bins for empty overall data frame"
   ]
  },
  {
   "cell_type": "code",
   "execution_count": 13,
   "metadata": {},
   "outputs": [],
   "source": [
    "hex_cluster_comb = get_list_of_h3(df_rta, df_cluster)"
   ]
  },
  {
   "cell_type": "markdown",
   "metadata": {},
   "source": [
    "**Helper function to get a list that contains the unique time clusters with a length of the unqiue hex bins each**"
   ]
  },
  {
   "cell_type": "code",
   "execution_count": 14,
   "metadata": {},
   "outputs": [],
   "source": [
    "#Create list of time clusters\n",
    "def get_list_of_states(df_clusters, df_hex):\n",
    "    states = []\n",
    "    for state in df_clusters[\"cluster\"].unique():\n",
    "        states += ([state] * df_hex[df_hex.columns[0]].nunique())\n",
    "    return states"
   ]
  },
  {
   "cell_type": "markdown",
   "metadata": {},
   "source": [
    "Create list of time clusters for empty data frame"
   ]
  },
  {
   "cell_type": "code",
   "execution_count": 15,
   "metadata": {},
   "outputs": [],
   "source": [
    "states = get_list_of_states(df_cluster, df_rta)"
   ]
  },
  {
   "cell_type": "markdown",
   "metadata": {},
   "source": [
    "**Helper function to create empty data frame of format hex bins * time clusters**"
   ]
  },
  {
   "cell_type": "code",
   "execution_count": 16,
   "metadata": {},
   "outputs": [],
   "source": [
    "#Create an empty data frame of format hex bins * time clusters\n",
    "def create_empty_df(list_hex_bins, list_time_clusters):\n",
    "    df_empty = pd.DataFrame(data=[list_hex_bins, list_time_clusters]).T\n",
    "    df_empty.columns = [df_rta.columns[0], \"cluster\"]\n",
    "    return df_empty"
   ]
  },
  {
   "cell_type": "markdown",
   "metadata": {},
   "source": [
    "Create empty data frame"
   ]
  },
  {
   "cell_type": "code",
   "execution_count": 18,
   "metadata": {},
   "outputs": [],
   "source": [
    "df_empty = create_empty_df(hex_cluster_comb, states)"
   ]
  },
  {
   "cell_type": "markdown",
   "metadata": {},
   "source": [
    "**Next we are gonna \"outer\" merge the empty table (fill it) with our RTA's per hex bin and time cluster**"
   ]
  },
  {
   "cell_type": "code",
   "execution_count": 20,
   "metadata": {},
   "outputs": [],
   "source": [
    "#Join road traffic accidents onto empty data frame\n",
    "def fill_df_hex_rta(df_empty, df_rta):\n",
    "    df_merged = pd.merge(df_empty, df_rta, on=[df_empty.columns[0], df_empty.columns[1]], how=\"outer\")\n",
    "    df_filled = df_merged.fillna(0)\n",
    "    df_filled = df_filled.sort_values(by=[df_empty.columns[0], df_empty.columns[1]])\n",
    "    return df_filled"
   ]
  },
  {
   "cell_type": "markdown",
   "metadata": {},
   "source": [
    "Fill data frame"
   ]
  },
  {
   "cell_type": "code",
   "execution_count": 21,
   "metadata": {},
   "outputs": [],
   "source": [
    "df_filled = fill_df_hex_rta(df_empty, df_rta)"
   ]
  },
  {
   "cell_type": "code",
   "execution_count": 22,
   "metadata": {},
   "outputs": [
    {
     "name": "stdout",
     "output_type": "stream",
     "text": [
      "<class 'pandas.core.frame.DataFrame'>\n",
      "Int64Index: 351 entries, 305 to 190\n",
      "Data columns (total 3 columns):\n",
      " #   Column     Non-Null Count  Dtype  \n",
      "---  ------     --------------  -----  \n",
      " 0   h3_zone_6  351 non-null    object \n",
      " 1   cluster    351 non-null    object \n",
      " 2   RTA        351 non-null    float64\n",
      "dtypes: float64(1), object(2)\n",
      "memory usage: 11.0+ KB\n"
     ]
    }
   ],
   "source": [
    "df_filled.info()"
   ]
  },
  {
   "cell_type": "code",
   "execution_count": 29,
   "metadata": {},
   "outputs": [
    {
     "data": {
      "text/html": [
       "<div>\n",
       "<style scoped>\n",
       "    .dataframe tbody tr th:only-of-type {\n",
       "        vertical-align: middle;\n",
       "    }\n",
       "\n",
       "    .dataframe tbody tr th {\n",
       "        vertical-align: top;\n",
       "    }\n",
       "\n",
       "    .dataframe thead th {\n",
       "        text-align: right;\n",
       "    }\n",
       "</style>\n",
       "<table border=\"1\" class=\"dataframe\">\n",
       "  <thead>\n",
       "    <tr style=\"text-align: right;\">\n",
       "      <th></th>\n",
       "      <th>h3_zone_6</th>\n",
       "      <th>cluster</th>\n",
       "      <th>RTA</th>\n",
       "    </tr>\n",
       "  </thead>\n",
       "  <tbody>\n",
       "    <tr>\n",
       "      <th>13</th>\n",
       "      <td>867a45077ffffff</td>\n",
       "      <td>off_peak</td>\n",
       "      <td>0.0</td>\n",
       "    </tr>\n",
       "    <tr>\n",
       "      <th>130</th>\n",
       "      <td>867a45077ffffff</td>\n",
       "      <td>peak</td>\n",
       "      <td>0.0</td>\n",
       "    </tr>\n",
       "    <tr>\n",
       "      <th>333</th>\n",
       "      <td>867a45107ffffff</td>\n",
       "      <td>middle</td>\n",
       "      <td>4.0</td>\n",
       "    </tr>\n",
       "    <tr>\n",
       "      <th>99</th>\n",
       "      <td>867a45107ffffff</td>\n",
       "      <td>off_peak</td>\n",
       "      <td>3.0</td>\n",
       "    </tr>\n",
       "    <tr>\n",
       "      <th>216</th>\n",
       "      <td>867a45107ffffff</td>\n",
       "      <td>peak</td>\n",
       "      <td>0.0</td>\n",
       "    </tr>\n",
       "    <tr>\n",
       "      <th>340</th>\n",
       "      <td>867a4511fffffff</td>\n",
       "      <td>middle</td>\n",
       "      <td>1.0</td>\n",
       "    </tr>\n",
       "    <tr>\n",
       "      <th>106</th>\n",
       "      <td>867a4511fffffff</td>\n",
       "      <td>off_peak</td>\n",
       "      <td>0.0</td>\n",
       "    </tr>\n",
       "    <tr>\n",
       "      <th>223</th>\n",
       "      <td>867a4511fffffff</td>\n",
       "      <td>peak</td>\n",
       "      <td>0.0</td>\n",
       "    </tr>\n",
       "    <tr>\n",
       "      <th>265</th>\n",
       "      <td>867a4512fffffff</td>\n",
       "      <td>middle</td>\n",
       "      <td>1.0</td>\n",
       "    </tr>\n",
       "    <tr>\n",
       "      <th>31</th>\n",
       "      <td>867a4512fffffff</td>\n",
       "      <td>off_peak</td>\n",
       "      <td>0.0</td>\n",
       "    </tr>\n",
       "  </tbody>\n",
       "</table>\n",
       "</div>"
      ],
      "text/plain": [
       "           h3_zone_6   cluster  RTA\n",
       "13   867a45077ffffff  off_peak  0.0\n",
       "130  867a45077ffffff      peak  0.0\n",
       "333  867a45107ffffff    middle  4.0\n",
       "99   867a45107ffffff  off_peak  3.0\n",
       "216  867a45107ffffff      peak  0.0\n",
       "340  867a4511fffffff    middle  1.0\n",
       "106  867a4511fffffff  off_peak  0.0\n",
       "223  867a4511fffffff      peak  0.0\n",
       "265  867a4512fffffff    middle  1.0\n",
       "31   867a4512fffffff  off_peak  0.0"
      ]
     },
     "execution_count": 29,
     "metadata": {},
     "output_type": "execute_result"
    }
   ],
   "source": [
    "df_filled[10:20]"
   ]
  },
  {
   "cell_type": "markdown",
   "metadata": {},
   "source": [
    "### Step 2: Merge and process segment data"
   ]
  },
  {
   "cell_type": "markdown",
   "metadata": {},
   "source": [
    "All segment data is merged."
   ]
  },
  {
   "cell_type": "code",
   "execution_count": 30,
   "metadata": {},
   "outputs": [
    {
     "name": "stderr",
     "output_type": "stream",
     "text": [
      "<ipython-input-2-b671da0cbe3a>:33: UserWarning: Geometry is in a geographic CRS. Results from 'centroid' are likely incorrect. Use 'GeoSeries.to_crs()' to re-project geometries to a projected CRS before this operation.\n",
      "\n",
      "  segments_merged[\"longitude\"] = segments_merged.geometry.centroid.x\n",
      "<ipython-input-2-b671da0cbe3a>:34: UserWarning: Geometry is in a geographic CRS. Results from 'centroid' are likely incorrect. Use 'GeoSeries.to_crs()' to re-project geometries to a projected CRS before this operation.\n",
      "\n",
      "  segments_merged[\"latitude\"] = segments_merged.geometry.centroid.y\n"
     ]
    },
    {
     "data": {
      "text/html": [
       "<div>\n",
       "<style scoped>\n",
       "    .dataframe tbody tr th:only-of-type {\n",
       "        vertical-align: middle;\n",
       "    }\n",
       "\n",
       "    .dataframe tbody tr th {\n",
       "        vertical-align: top;\n",
       "    }\n",
       "\n",
       "    .dataframe thead th {\n",
       "        text-align: right;\n",
       "    }\n",
       "</style>\n",
       "<table border=\"1\" class=\"dataframe\">\n",
       "  <thead>\n",
       "    <tr style=\"text-align: right;\">\n",
       "      <th></th>\n",
       "      <th>segment_id</th>\n",
       "      <th>road_name</th>\n",
       "      <th>geometry</th>\n",
       "      <th>side</th>\n",
       "      <th>25_48</th>\n",
       "      <th>79_76</th>\n",
       "      <th>79_65</th>\n",
       "      <th>79_39</th>\n",
       "      <th>28_78_50</th>\n",
       "      <th>55_90</th>\n",
       "      <th>...</th>\n",
       "      <th>80_97_61_65_16</th>\n",
       "      <th>80_97_61_39_0</th>\n",
       "      <th>80_97_61_39_10</th>\n",
       "      <th>80_97_61_39_11</th>\n",
       "      <th>80_97_61_39_12</th>\n",
       "      <th>80_97_61_39_15</th>\n",
       "      <th>80_97_61_39_16</th>\n",
       "      <th>longitude</th>\n",
       "      <th>latitude</th>\n",
       "      <th>h3_zone_6</th>\n",
       "    </tr>\n",
       "  </thead>\n",
       "  <tbody>\n",
       "    <tr>\n",
       "      <th>0</th>\n",
       "      <td>28_1</td>\n",
       "      <td>accra road-tertiary</td>\n",
       "      <td>LINESTRING (36.82603 -1.28447, 36.82605 -1.284...</td>\n",
       "      <td>1</td>\n",
       "      <td>1</td>\n",
       "      <td>0</td>\n",
       "      <td>4</td>\n",
       "      <td>4</td>\n",
       "      <td>0.0</td>\n",
       "      <td>5</td>\n",
       "      <td>...</td>\n",
       "      <td>0.0</td>\n",
       "      <td>0.0</td>\n",
       "      <td>1.0</td>\n",
       "      <td>0.0</td>\n",
       "      <td>0.0</td>\n",
       "      <td>0.0</td>\n",
       "      <td>0.0</td>\n",
       "      <td>36.826302</td>\n",
       "      <td>-1.284096</td>\n",
       "      <td>867a6e42fffffff</td>\n",
       "    </tr>\n",
       "    <tr>\n",
       "      <th>1</th>\n",
       "      <td>28_1</td>\n",
       "      <td>accra road-tertiary</td>\n",
       "      <td>LINESTRING (36.82603 -1.28447, 36.82605 -1.284...</td>\n",
       "      <td>2</td>\n",
       "      <td>1</td>\n",
       "      <td>0</td>\n",
       "      <td>4</td>\n",
       "      <td>4</td>\n",
       "      <td>0.0</td>\n",
       "      <td>5</td>\n",
       "      <td>...</td>\n",
       "      <td>0.0</td>\n",
       "      <td>0.0</td>\n",
       "      <td>1.0</td>\n",
       "      <td>0.0</td>\n",
       "      <td>0.0</td>\n",
       "      <td>0.0</td>\n",
       "      <td>0.0</td>\n",
       "      <td>36.826302</td>\n",
       "      <td>-1.284096</td>\n",
       "      <td>867a6e42fffffff</td>\n",
       "    </tr>\n",
       "  </tbody>\n",
       "</table>\n",
       "<p>2 rows × 233 columns</p>\n",
       "</div>"
      ],
      "text/plain": [
       "  segment_id            road_name  \\\n",
       "0       28_1  accra road-tertiary   \n",
       "1       28_1  accra road-tertiary   \n",
       "\n",
       "                                            geometry  side  25_48  79_76  \\\n",
       "0  LINESTRING (36.82603 -1.28447, 36.82605 -1.284...     1      1      0   \n",
       "1  LINESTRING (36.82603 -1.28447, 36.82605 -1.284...     2      1      0   \n",
       "\n",
       "   79_65  79_39  28_78_50  55_90  ...  80_97_61_65_16  80_97_61_39_0  \\\n",
       "0      4      4       0.0      5  ...             0.0            0.0   \n",
       "1      4      4       0.0      5  ...             0.0            0.0   \n",
       "\n",
       "   80_97_61_39_10  80_97_61_39_11  80_97_61_39_12  80_97_61_39_15  \\\n",
       "0             1.0             0.0             0.0             0.0   \n",
       "1             1.0             0.0             0.0             0.0   \n",
       "\n",
       "   80_97_61_39_16  longitude  latitude        h3_zone_6  \n",
       "0             0.0  36.826302 -1.284096  867a6e42fffffff  \n",
       "1             0.0  36.826302 -1.284096  867a6e42fffffff  \n",
       "\n",
       "[2 rows x 233 columns]"
      ]
     },
     "execution_count": 30,
     "metadata": {},
     "output_type": "execute_result"
    }
   ],
   "source": [
    "segments_merged = join_segment_files()\n",
    "segments_merged.head(2)"
   ]
  },
  {
   "cell_type": "markdown",
   "metadata": {},
   "source": [
    "**New helper function for dropping irrelevant columns**"
   ]
  },
  {
   "cell_type": "code",
   "execution_count": 31,
   "metadata": {},
   "outputs": [],
   "source": [
    "#Only columns (features) that are potentially relevant for prediction are kept\n",
    "def drop_segment_columns(df):\n",
    "    df = df.drop([\"segment_id\", \"road_name\", \"geometry\", \"side\", \"longitude\", \"latitude\"], axis=1)\n",
    "    return df"
   ]
  },
  {
   "cell_type": "markdown",
   "metadata": {},
   "source": [
    "Dropping irrelevant columns from data frame."
   ]
  },
  {
   "cell_type": "code",
   "execution_count": 32,
   "metadata": {},
   "outputs": [
    {
     "data": {
      "text/html": [
       "<div>\n",
       "<style scoped>\n",
       "    .dataframe tbody tr th:only-of-type {\n",
       "        vertical-align: middle;\n",
       "    }\n",
       "\n",
       "    .dataframe tbody tr th {\n",
       "        vertical-align: top;\n",
       "    }\n",
       "\n",
       "    .dataframe thead th {\n",
       "        text-align: right;\n",
       "    }\n",
       "</style>\n",
       "<table border=\"1\" class=\"dataframe\">\n",
       "  <thead>\n",
       "    <tr style=\"text-align: right;\">\n",
       "      <th></th>\n",
       "      <th>25_48</th>\n",
       "      <th>79_76</th>\n",
       "      <th>79_65</th>\n",
       "      <th>79_39</th>\n",
       "      <th>28_78_50</th>\n",
       "      <th>55_90</th>\n",
       "      <th>26_76</th>\n",
       "      <th>92_30</th>\n",
       "      <th>62_51</th>\n",
       "      <th>62_51_27</th>\n",
       "      <th>...</th>\n",
       "      <th>80_97_61_65_12</th>\n",
       "      <th>80_97_61_65_15</th>\n",
       "      <th>80_97_61_65_16</th>\n",
       "      <th>80_97_61_39_0</th>\n",
       "      <th>80_97_61_39_10</th>\n",
       "      <th>80_97_61_39_11</th>\n",
       "      <th>80_97_61_39_12</th>\n",
       "      <th>80_97_61_39_15</th>\n",
       "      <th>80_97_61_39_16</th>\n",
       "      <th>h3_zone_6</th>\n",
       "    </tr>\n",
       "  </thead>\n",
       "  <tbody>\n",
       "    <tr>\n",
       "      <th>0</th>\n",
       "      <td>1</td>\n",
       "      <td>0</td>\n",
       "      <td>4</td>\n",
       "      <td>4</td>\n",
       "      <td>0.0</td>\n",
       "      <td>5</td>\n",
       "      <td>0</td>\n",
       "      <td>3</td>\n",
       "      <td>1</td>\n",
       "      <td>1</td>\n",
       "      <td>...</td>\n",
       "      <td>0.0</td>\n",
       "      <td>0.0</td>\n",
       "      <td>0.0</td>\n",
       "      <td>0.0</td>\n",
       "      <td>1.0</td>\n",
       "      <td>0.0</td>\n",
       "      <td>0.0</td>\n",
       "      <td>0.0</td>\n",
       "      <td>0.0</td>\n",
       "      <td>867a6e42fffffff</td>\n",
       "    </tr>\n",
       "    <tr>\n",
       "      <th>1</th>\n",
       "      <td>1</td>\n",
       "      <td>0</td>\n",
       "      <td>4</td>\n",
       "      <td>4</td>\n",
       "      <td>0.0</td>\n",
       "      <td>5</td>\n",
       "      <td>0</td>\n",
       "      <td>3</td>\n",
       "      <td>1</td>\n",
       "      <td>1</td>\n",
       "      <td>...</td>\n",
       "      <td>0.0</td>\n",
       "      <td>0.0</td>\n",
       "      <td>0.0</td>\n",
       "      <td>0.0</td>\n",
       "      <td>1.0</td>\n",
       "      <td>0.0</td>\n",
       "      <td>0.0</td>\n",
       "      <td>0.0</td>\n",
       "      <td>0.0</td>\n",
       "      <td>867a6e42fffffff</td>\n",
       "    </tr>\n",
       "  </tbody>\n",
       "</table>\n",
       "<p>2 rows × 227 columns</p>\n",
       "</div>"
      ],
      "text/plain": [
       "   25_48  79_76  79_65  79_39  28_78_50  55_90  26_76  92_30  62_51  62_51_27  \\\n",
       "0      1      0      4      4       0.0      5      0      3      1         1   \n",
       "1      1      0      4      4       0.0      5      0      3      1         1   \n",
       "\n",
       "   ...  80_97_61_65_12  80_97_61_65_15  80_97_61_65_16  80_97_61_39_0  \\\n",
       "0  ...             0.0             0.0             0.0            0.0   \n",
       "1  ...             0.0             0.0             0.0            0.0   \n",
       "\n",
       "   80_97_61_39_10  80_97_61_39_11  80_97_61_39_12  80_97_61_39_15  \\\n",
       "0             1.0             0.0             0.0             0.0   \n",
       "1             1.0             0.0             0.0             0.0   \n",
       "\n",
       "   80_97_61_39_16        h3_zone_6  \n",
       "0             0.0  867a6e42fffffff  \n",
       "1             0.0  867a6e42fffffff  \n",
       "\n",
       "[2 rows x 227 columns]"
      ]
     },
     "execution_count": 32,
     "metadata": {},
     "output_type": "execute_result"
    }
   ],
   "source": [
    "df_segments = drop_segment_columns(segments_merged)\n",
    "df_segments.head(2)"
   ]
  },
  {
   "cell_type": "markdown",
   "metadata": {},
   "source": [
    "**New helper function for assigning column names to segment data**"
   ]
  },
  {
   "cell_type": "code",
   "execution_count": 33,
   "metadata": {},
   "outputs": [],
   "source": [
    "def col_names_segments(df):\n",
    "    new_names = [i+1 for i in range(len(df.columns) - 1)]\n",
    "    # Keep the last column named as the respective hex bin resolution\n",
    "    df.columns = new_names + [df.columns[-1]]\n",
    "    return df"
   ]
  },
  {
   "cell_type": "markdown",
   "metadata": {},
   "source": [
    "Renaming columns in segment data frame."
   ]
  },
  {
   "cell_type": "code",
   "execution_count": 34,
   "metadata": {},
   "outputs": [
    {
     "data": {
      "text/html": [
       "<div>\n",
       "<style scoped>\n",
       "    .dataframe tbody tr th:only-of-type {\n",
       "        vertical-align: middle;\n",
       "    }\n",
       "\n",
       "    .dataframe tbody tr th {\n",
       "        vertical-align: top;\n",
       "    }\n",
       "\n",
       "    .dataframe thead th {\n",
       "        text-align: right;\n",
       "    }\n",
       "</style>\n",
       "<table border=\"1\" class=\"dataframe\">\n",
       "  <thead>\n",
       "    <tr style=\"text-align: right;\">\n",
       "      <th></th>\n",
       "      <th>1</th>\n",
       "      <th>2</th>\n",
       "      <th>3</th>\n",
       "      <th>4</th>\n",
       "      <th>5</th>\n",
       "      <th>6</th>\n",
       "      <th>7</th>\n",
       "      <th>8</th>\n",
       "      <th>9</th>\n",
       "      <th>10</th>\n",
       "      <th>...</th>\n",
       "      <th>218</th>\n",
       "      <th>219</th>\n",
       "      <th>220</th>\n",
       "      <th>221</th>\n",
       "      <th>222</th>\n",
       "      <th>223</th>\n",
       "      <th>224</th>\n",
       "      <th>225</th>\n",
       "      <th>226</th>\n",
       "      <th>h3_zone_6</th>\n",
       "    </tr>\n",
       "  </thead>\n",
       "  <tbody>\n",
       "    <tr>\n",
       "      <th>0</th>\n",
       "      <td>1</td>\n",
       "      <td>0</td>\n",
       "      <td>4</td>\n",
       "      <td>4</td>\n",
       "      <td>0.0</td>\n",
       "      <td>5</td>\n",
       "      <td>0</td>\n",
       "      <td>3</td>\n",
       "      <td>1</td>\n",
       "      <td>1</td>\n",
       "      <td>...</td>\n",
       "      <td>0.0</td>\n",
       "      <td>0.0</td>\n",
       "      <td>0.0</td>\n",
       "      <td>0.0</td>\n",
       "      <td>1.0</td>\n",
       "      <td>0.0</td>\n",
       "      <td>0.0</td>\n",
       "      <td>0.0</td>\n",
       "      <td>0.0</td>\n",
       "      <td>867a6e42fffffff</td>\n",
       "    </tr>\n",
       "    <tr>\n",
       "      <th>1</th>\n",
       "      <td>1</td>\n",
       "      <td>0</td>\n",
       "      <td>4</td>\n",
       "      <td>4</td>\n",
       "      <td>0.0</td>\n",
       "      <td>5</td>\n",
       "      <td>0</td>\n",
       "      <td>3</td>\n",
       "      <td>1</td>\n",
       "      <td>1</td>\n",
       "      <td>...</td>\n",
       "      <td>0.0</td>\n",
       "      <td>0.0</td>\n",
       "      <td>0.0</td>\n",
       "      <td>0.0</td>\n",
       "      <td>1.0</td>\n",
       "      <td>0.0</td>\n",
       "      <td>0.0</td>\n",
       "      <td>0.0</td>\n",
       "      <td>0.0</td>\n",
       "      <td>867a6e42fffffff</td>\n",
       "    </tr>\n",
       "  </tbody>\n",
       "</table>\n",
       "<p>2 rows × 227 columns</p>\n",
       "</div>"
      ],
      "text/plain": [
       "   1  2  3  4    5  6  7  8  9  10  ...  218  219  220  221  222  223  224  \\\n",
       "0  1  0  4  4  0.0  5  0  3  1   1  ...  0.0  0.0  0.0  0.0  1.0  0.0  0.0   \n",
       "1  1  0  4  4  0.0  5  0  3  1   1  ...  0.0  0.0  0.0  0.0  1.0  0.0  0.0   \n",
       "\n",
       "   225  226        h3_zone_6  \n",
       "0  0.0  0.0  867a6e42fffffff  \n",
       "1  0.0  0.0  867a6e42fffffff  \n",
       "\n",
       "[2 rows x 227 columns]"
      ]
     },
     "execution_count": 34,
     "metadata": {},
     "output_type": "execute_result"
    }
   ],
   "source": [
    "df_segments = col_names_segments(df_segments)\n",
    "df_segments.head(2)"
   ]
  },
  {
   "cell_type": "markdown",
   "metadata": {},
   "source": [
    "**Helper function for automatically identifying the type of a feature**"
   ]
  },
  {
   "cell_type": "markdown",
   "metadata": {},
   "source": [
    "1. we will attempt to identify all columns with categorical information. These should only contain the values 0 or 1. \n",
    "2. Second, we will identify those columns that hold percentage data. The assumption is that they only contain values between 0 and 1 but unlike categorical columns, also have other values than 0 and 1.\n",
    "3. Last, we classsify all remaining columns as holding count data."
   ]
  },
  {
   "cell_type": "code",
   "execution_count": 35,
   "metadata": {},
   "outputs": [],
   "source": [
    "#Assigns columns to either be of type boolean, percentage or count and returns a list with the column indices for each type\n",
    "def col_type_identifier(df):\n",
    "    list_boolean = []\n",
    "    list_percentages = []\n",
    "    list_counts = []\n",
    "    hexbins = [df.columns[-1]]\n",
    "    for col in df.columns:\n",
    "        if (df[col].max() == 1) and (df[col].min() == 0):\n",
    "            if df[col].sum() % 1 == 0:\n",
    "                list_boolean.append(col)\n",
    "            else:\n",
    "                list_percentages.append(col)\n",
    "        elif df[col].dtype == \"object\":\n",
    "            break\n",
    "        else:\n",
    "            list_counts.append(col)\n",
    "    #Need to add the last column to the lists to keep the hex bins in each sub data frame\n",
    "    return list_boolean + hexbins, list_counts + hexbins, list_percentages + hexbins"
   ]
  },
  {
   "cell_type": "markdown",
   "metadata": {},
   "source": [
    "Sorting columns into different types and receiving three lists with the corresponding columns indices"
   ]
  },
  {
   "cell_type": "code",
   "execution_count": 36,
   "metadata": {},
   "outputs": [],
   "source": [
    "booleans, counts, percentages = col_type_identifier(df_segments)"
   ]
  },
  {
   "cell_type": "markdown",
   "metadata": {},
   "source": [
    "**Helper function aggregating the column values over the defined h3 bins according to their type (boolean, count or percentage)**"
   ]
  },
  {
   "cell_type": "code",
   "execution_count": 37,
   "metadata": {},
   "outputs": [],
   "source": [
    "#Splits overall data frame into data frames of different types and uses specified aggregration function for each of them\n",
    "def df_split_types(df, booleans, counts, percentages, count_agg_type=np.sum, bool_agg_type=np.sum, perc_agg_type=np.mean):\n",
    "    df_bools = df.loc[:,booleans]\n",
    "    df_count = df.loc[:,counts]\n",
    "    df_perc = df.loc[:,percentages]\n",
    "    \n",
    "    hexbins = df.columns[-1]\n",
    "\n",
    "    df_count_grouped = df_count.groupby(hexbins).agg(count_agg_type).reset_index()\n",
    "    df_bool_grouped = df_bools.groupby(hexbins).agg(bool_agg_type).reset_index()\n",
    "    #Commented out because contains no values for our input data\n",
    "    #df_perc_grouped = df_perc.groupby(hexbins).agg(perc_agg_type).reset_index()\n",
    "    \n",
    "    return df_count_grouped, df_bool_grouped # df_perc_grouped "
   ]
  },
  {
   "cell_type": "code",
   "execution_count": 38,
   "metadata": {},
   "outputs": [],
   "source": [
    "df_counts, df_bools = df_split_types(df_segments, booleans, counts, percentages)"
   ]
  },
  {
   "cell_type": "code",
   "execution_count": 39,
   "metadata": {},
   "outputs": [
    {
     "data": {
      "text/html": [
       "<div>\n",
       "<style scoped>\n",
       "    .dataframe tbody tr th:only-of-type {\n",
       "        vertical-align: middle;\n",
       "    }\n",
       "\n",
       "    .dataframe tbody tr th {\n",
       "        vertical-align: top;\n",
       "    }\n",
       "\n",
       "    .dataframe thead th {\n",
       "        text-align: right;\n",
       "    }\n",
       "</style>\n",
       "<table border=\"1\" class=\"dataframe\">\n",
       "  <thead>\n",
       "    <tr style=\"text-align: right;\">\n",
       "      <th></th>\n",
       "      <th>h3_zone_6</th>\n",
       "      <th>1</th>\n",
       "      <th>3</th>\n",
       "      <th>4</th>\n",
       "      <th>6</th>\n",
       "      <th>8</th>\n",
       "      <th>9</th>\n",
       "      <th>10</th>\n",
       "      <th>11</th>\n",
       "      <th>12</th>\n",
       "      <th>...</th>\n",
       "      <th>41</th>\n",
       "      <th>42</th>\n",
       "      <th>43</th>\n",
       "      <th>44</th>\n",
       "      <th>45</th>\n",
       "      <th>46</th>\n",
       "      <th>50</th>\n",
       "      <th>51</th>\n",
       "      <th>52</th>\n",
       "      <th>53</th>\n",
       "    </tr>\n",
       "  </thead>\n",
       "  <tbody>\n",
       "    <tr>\n",
       "      <th>0</th>\n",
       "      <td>867a6e407ffffff</td>\n",
       "      <td>174</td>\n",
       "      <td>319</td>\n",
       "      <td>319</td>\n",
       "      <td>756</td>\n",
       "      <td>274</td>\n",
       "      <td>234</td>\n",
       "      <td>113</td>\n",
       "      <td>205</td>\n",
       "      <td>125</td>\n",
       "      <td>...</td>\n",
       "      <td>76.0</td>\n",
       "      <td>612</td>\n",
       "      <td>434</td>\n",
       "      <td>401</td>\n",
       "      <td>0.0</td>\n",
       "      <td>0.0</td>\n",
       "      <td>467</td>\n",
       "      <td>83.0</td>\n",
       "      <td>180.0</td>\n",
       "      <td>169.0</td>\n",
       "    </tr>\n",
       "    <tr>\n",
       "      <th>1</th>\n",
       "      <td>867a6e40fffffff</td>\n",
       "      <td>18</td>\n",
       "      <td>13</td>\n",
       "      <td>13</td>\n",
       "      <td>66</td>\n",
       "      <td>13</td>\n",
       "      <td>6</td>\n",
       "      <td>6</td>\n",
       "      <td>12</td>\n",
       "      <td>6</td>\n",
       "      <td>...</td>\n",
       "      <td>6.0</td>\n",
       "      <td>36</td>\n",
       "      <td>24</td>\n",
       "      <td>24</td>\n",
       "      <td>0.0</td>\n",
       "      <td>0.0</td>\n",
       "      <td>40</td>\n",
       "      <td>10.0</td>\n",
       "      <td>18.0</td>\n",
       "      <td>8.0</td>\n",
       "    </tr>\n",
       "  </tbody>\n",
       "</table>\n",
       "<p>2 rows × 38 columns</p>\n",
       "</div>"
      ],
      "text/plain": [
       "         h3_zone_6    1    3    4    6    8    9   10   11   12  ...    41  \\\n",
       "0  867a6e407ffffff  174  319  319  756  274  234  113  205  125  ...  76.0   \n",
       "1  867a6e40fffffff   18   13   13   66   13    6    6   12    6  ...   6.0   \n",
       "\n",
       "    42   43   44   45   46   50    51     52     53  \n",
       "0  612  434  401  0.0  0.0  467  83.0  180.0  169.0  \n",
       "1   36   24   24  0.0  0.0   40  10.0   18.0    8.0  \n",
       "\n",
       "[2 rows x 38 columns]"
      ]
     },
     "execution_count": 39,
     "metadata": {},
     "output_type": "execute_result"
    }
   ],
   "source": [
    "df_counts.head(2)"
   ]
  },
  {
   "cell_type": "code",
   "execution_count": 40,
   "metadata": {},
   "outputs": [
    {
     "data": {
      "text/plain": [
       "(18, 38)"
      ]
     },
     "execution_count": 40,
     "metadata": {},
     "output_type": "execute_result"
    }
   ],
   "source": [
    "df_counts.shape"
   ]
  },
  {
   "cell_type": "code",
   "execution_count": 41,
   "metadata": {},
   "outputs": [
    {
     "data": {
      "text/html": [
       "<div>\n",
       "<style scoped>\n",
       "    .dataframe tbody tr th:only-of-type {\n",
       "        vertical-align: middle;\n",
       "    }\n",
       "\n",
       "    .dataframe tbody tr th {\n",
       "        vertical-align: top;\n",
       "    }\n",
       "\n",
       "    .dataframe thead th {\n",
       "        text-align: right;\n",
       "    }\n",
       "</style>\n",
       "<table border=\"1\" class=\"dataframe\">\n",
       "  <thead>\n",
       "    <tr style=\"text-align: right;\">\n",
       "      <th></th>\n",
       "      <th>h3_zone_6</th>\n",
       "      <th>2</th>\n",
       "      <th>5</th>\n",
       "      <th>7</th>\n",
       "      <th>19</th>\n",
       "      <th>23</th>\n",
       "      <th>24</th>\n",
       "      <th>25</th>\n",
       "      <th>27</th>\n",
       "      <th>29</th>\n",
       "      <th>...</th>\n",
       "      <th>217</th>\n",
       "      <th>218</th>\n",
       "      <th>219</th>\n",
       "      <th>220</th>\n",
       "      <th>221</th>\n",
       "      <th>222</th>\n",
       "      <th>223</th>\n",
       "      <th>224</th>\n",
       "      <th>225</th>\n",
       "      <th>226</th>\n",
       "    </tr>\n",
       "  </thead>\n",
       "  <tbody>\n",
       "    <tr>\n",
       "      <th>0</th>\n",
       "      <td>867a6e407ffffff</td>\n",
       "      <td>0</td>\n",
       "      <td>30.0</td>\n",
       "      <td>0</td>\n",
       "      <td>89</td>\n",
       "      <td>2</td>\n",
       "      <td>0.0</td>\n",
       "      <td>41</td>\n",
       "      <td>5.0</td>\n",
       "      <td>0</td>\n",
       "      <td>...</td>\n",
       "      <td>5.0</td>\n",
       "      <td>61.0</td>\n",
       "      <td>2.0</td>\n",
       "      <td>3.0</td>\n",
       "      <td>1.0</td>\n",
       "      <td>0.0</td>\n",
       "      <td>3.0</td>\n",
       "      <td>60.0</td>\n",
       "      <td>2.0</td>\n",
       "      <td>3.0</td>\n",
       "    </tr>\n",
       "    <tr>\n",
       "      <th>1</th>\n",
       "      <td>867a6e40fffffff</td>\n",
       "      <td>0</td>\n",
       "      <td>0.0</td>\n",
       "      <td>0</td>\n",
       "      <td>3</td>\n",
       "      <td>0</td>\n",
       "      <td>0.0</td>\n",
       "      <td>0</td>\n",
       "      <td>0.0</td>\n",
       "      <td>0</td>\n",
       "      <td>...</td>\n",
       "      <td>4.0</td>\n",
       "      <td>1.0</td>\n",
       "      <td>0.0</td>\n",
       "      <td>1.0</td>\n",
       "      <td>0.0</td>\n",
       "      <td>0.0</td>\n",
       "      <td>4.0</td>\n",
       "      <td>1.0</td>\n",
       "      <td>0.0</td>\n",
       "      <td>1.0</td>\n",
       "    </tr>\n",
       "  </tbody>\n",
       "</table>\n",
       "<p>2 rows × 190 columns</p>\n",
       "</div>"
      ],
      "text/plain": [
       "         h3_zone_6  2     5  7  19  23   24  25   27  29  ...  217   218  219  \\\n",
       "0  867a6e407ffffff  0  30.0  0  89   2  0.0  41  5.0   0  ...  5.0  61.0  2.0   \n",
       "1  867a6e40fffffff  0   0.0  0   3   0  0.0   0  0.0   0  ...  4.0   1.0  0.0   \n",
       "\n",
       "   220  221  222  223   224  225  226  \n",
       "0  3.0  1.0  0.0  3.0  60.0  2.0  3.0  \n",
       "1  1.0  0.0  0.0  4.0   1.0  0.0  1.0  \n",
       "\n",
       "[2 rows x 190 columns]"
      ]
     },
     "execution_count": 41,
     "metadata": {},
     "output_type": "execute_result"
    }
   ],
   "source": [
    "df_bools.head(2)"
   ]
  },
  {
   "cell_type": "code",
   "execution_count": 43,
   "metadata": {},
   "outputs": [
    {
     "data": {
      "text/plain": [
       "(18, 190)"
      ]
     },
     "execution_count": 43,
     "metadata": {},
     "output_type": "execute_result"
    }
   ],
   "source": [
    "df_bools.shape"
   ]
  },
  {
   "cell_type": "markdown",
   "metadata": {},
   "source": [
    "Both the boolean and the count data frames have been grouped to 18 rows, corresponding to the number of hex bins in the segment data given the default resolution."
   ]
  },
  {
   "cell_type": "markdown",
   "metadata": {},
   "source": [
    "**Helper function to merge the data frames for the different data types together**"
   ]
  },
  {
   "cell_type": "code",
   "execution_count": 44,
   "metadata": {},
   "outputs": [],
   "source": [
    "#Merging the data frames of different types back together and sorting the features\n",
    "def df_merge_types(df1, df2):\n",
    "    df = pd.merge(df1, df2, on=df1.columns[0], how='left')\n",
    "    df = df.reindex([df.columns[0]] + sorted(df.columns[1:]), axis=1)\n",
    "    return df"
   ]
  },
  {
   "cell_type": "code",
   "execution_count": 45,
   "metadata": {},
   "outputs": [
    {
     "name": "stdout",
     "output_type": "stream",
     "text": [
      "(18, 227)\n"
     ]
    },
    {
     "data": {
      "text/html": [
       "<div>\n",
       "<style scoped>\n",
       "    .dataframe tbody tr th:only-of-type {\n",
       "        vertical-align: middle;\n",
       "    }\n",
       "\n",
       "    .dataframe tbody tr th {\n",
       "        vertical-align: top;\n",
       "    }\n",
       "\n",
       "    .dataframe thead th {\n",
       "        text-align: right;\n",
       "    }\n",
       "</style>\n",
       "<table border=\"1\" class=\"dataframe\">\n",
       "  <thead>\n",
       "    <tr style=\"text-align: right;\">\n",
       "      <th></th>\n",
       "      <th>h3_zone_6</th>\n",
       "      <th>1</th>\n",
       "      <th>2</th>\n",
       "      <th>3</th>\n",
       "      <th>4</th>\n",
       "      <th>5</th>\n",
       "      <th>6</th>\n",
       "      <th>7</th>\n",
       "      <th>8</th>\n",
       "      <th>9</th>\n",
       "      <th>...</th>\n",
       "      <th>217</th>\n",
       "      <th>218</th>\n",
       "      <th>219</th>\n",
       "      <th>220</th>\n",
       "      <th>221</th>\n",
       "      <th>222</th>\n",
       "      <th>223</th>\n",
       "      <th>224</th>\n",
       "      <th>225</th>\n",
       "      <th>226</th>\n",
       "    </tr>\n",
       "  </thead>\n",
       "  <tbody>\n",
       "    <tr>\n",
       "      <th>0</th>\n",
       "      <td>867a6e407ffffff</td>\n",
       "      <td>174</td>\n",
       "      <td>0</td>\n",
       "      <td>319</td>\n",
       "      <td>319</td>\n",
       "      <td>30.0</td>\n",
       "      <td>756</td>\n",
       "      <td>0</td>\n",
       "      <td>274</td>\n",
       "      <td>234</td>\n",
       "      <td>...</td>\n",
       "      <td>5.0</td>\n",
       "      <td>61.0</td>\n",
       "      <td>2.0</td>\n",
       "      <td>3.0</td>\n",
       "      <td>1.0</td>\n",
       "      <td>0.0</td>\n",
       "      <td>3.0</td>\n",
       "      <td>60.0</td>\n",
       "      <td>2.0</td>\n",
       "      <td>3.0</td>\n",
       "    </tr>\n",
       "    <tr>\n",
       "      <th>1</th>\n",
       "      <td>867a6e40fffffff</td>\n",
       "      <td>18</td>\n",
       "      <td>0</td>\n",
       "      <td>13</td>\n",
       "      <td>13</td>\n",
       "      <td>0.0</td>\n",
       "      <td>66</td>\n",
       "      <td>0</td>\n",
       "      <td>13</td>\n",
       "      <td>6</td>\n",
       "      <td>...</td>\n",
       "      <td>4.0</td>\n",
       "      <td>1.0</td>\n",
       "      <td>0.0</td>\n",
       "      <td>1.0</td>\n",
       "      <td>0.0</td>\n",
       "      <td>0.0</td>\n",
       "      <td>4.0</td>\n",
       "      <td>1.0</td>\n",
       "      <td>0.0</td>\n",
       "      <td>1.0</td>\n",
       "    </tr>\n",
       "  </tbody>\n",
       "</table>\n",
       "<p>2 rows × 227 columns</p>\n",
       "</div>"
      ],
      "text/plain": [
       "         h3_zone_6    1  2    3    4     5    6  7    8    9  ...  217   218  \\\n",
       "0  867a6e407ffffff  174  0  319  319  30.0  756  0  274  234  ...  5.0  61.0   \n",
       "1  867a6e40fffffff   18  0   13   13   0.0   66  0   13    6  ...  4.0   1.0   \n",
       "\n",
       "   219  220  221  222  223   224  225  226  \n",
       "0  2.0  3.0  1.0  0.0  3.0  60.0  2.0  3.0  \n",
       "1  0.0  1.0  0.0  0.0  4.0   1.0  0.0  1.0  \n",
       "\n",
       "[2 rows x 227 columns]"
      ]
     },
     "execution_count": 45,
     "metadata": {},
     "output_type": "execute_result"
    }
   ],
   "source": [
    "df_grouped = df_merge_types(df_counts, df_bools)\n",
    "print(df_grouped.shape)\n",
    "df_grouped.head(2)"
   ]
  },
  {
   "cell_type": "markdown",
   "metadata": {},
   "source": [
    "***"
   ]
  },
  {
   "cell_type": "markdown",
   "metadata": {},
   "source": [
    "### Step 3: Filter RTA table for hex bins that are in the segment data"
   ]
  },
  {
   "cell_type": "markdown",
   "metadata": {},
   "source": [
    "Next we will filter for only those hex bins that we have segment data for (file provided by Zindi) - in this case (given a hex bin resolution of 6) that means we will keep 18 out of 117 hex bins."
   ]
  },
  {
   "cell_type": "code",
   "execution_count": 162,
   "metadata": {},
   "outputs": [],
   "source": [
    "reduced_hex_bins = list(df_grouped[df_grouped.columns[0]])"
   ]
  },
  {
   "cell_type": "code",
   "execution_count": 163,
   "metadata": {},
   "outputs": [],
   "source": [
    "#Filter filled data frame for hex bins present in segment data\n",
    "def reduced_df(df_filled, reduced_hex_bins):\n",
    "    df_reduced = df_filled[df_filled[df_filled.columns[0]].isin(reduced_hex_bins)]\n",
    "    df_sorted = df_reduced.sort_values(by=[df_filled.columns[0], df_filled.columns[1]])\n",
    "    return df_sorted"
   ]
  },
  {
   "cell_type": "code",
   "execution_count": 164,
   "metadata": {},
   "outputs": [],
   "source": [
    "df_reduced = reduced_df(df_filled, reduced_hex_bins)"
   ]
  },
  {
   "cell_type": "code",
   "execution_count": 165,
   "metadata": {},
   "outputs": [
    {
     "data": {
      "text/html": [
       "<div>\n",
       "<style scoped>\n",
       "    .dataframe tbody tr th:only-of-type {\n",
       "        vertical-align: middle;\n",
       "    }\n",
       "\n",
       "    .dataframe tbody tr th {\n",
       "        vertical-align: top;\n",
       "    }\n",
       "\n",
       "    .dataframe thead th {\n",
       "        text-align: right;\n",
       "    }\n",
       "</style>\n",
       "<table border=\"1\" class=\"dataframe\">\n",
       "  <thead>\n",
       "    <tr style=\"text-align: right;\">\n",
       "      <th></th>\n",
       "      <th>h3_zone_6</th>\n",
       "      <th>cluster</th>\n",
       "      <th>RTA</th>\n",
       "    </tr>\n",
       "  </thead>\n",
       "  <tbody>\n",
       "    <tr>\n",
       "      <th>330</th>\n",
       "      <td>867a6e407ffffff</td>\n",
       "      <td>middle</td>\n",
       "      <td>329.0</td>\n",
       "    </tr>\n",
       "    <tr>\n",
       "      <th>96</th>\n",
       "      <td>867a6e407ffffff</td>\n",
       "      <td>off_peak</td>\n",
       "      <td>138.0</td>\n",
       "    </tr>\n",
       "    <tr>\n",
       "      <th>213</th>\n",
       "      <td>867a6e407ffffff</td>\n",
       "      <td>peak</td>\n",
       "      <td>227.0</td>\n",
       "    </tr>\n",
       "    <tr>\n",
       "      <th>326</th>\n",
       "      <td>867a6e40fffffff</td>\n",
       "      <td>middle</td>\n",
       "      <td>48.0</td>\n",
       "    </tr>\n",
       "    <tr>\n",
       "      <th>92</th>\n",
       "      <td>867a6e40fffffff</td>\n",
       "      <td>off_peak</td>\n",
       "      <td>27.0</td>\n",
       "    </tr>\n",
       "  </tbody>\n",
       "</table>\n",
       "</div>"
      ],
      "text/plain": [
       "           h3_zone_6   cluster    RTA\n",
       "330  867a6e407ffffff    middle  329.0\n",
       "96   867a6e407ffffff  off_peak  138.0\n",
       "213  867a6e407ffffff      peak  227.0\n",
       "326  867a6e40fffffff    middle   48.0\n",
       "92   867a6e40fffffff  off_peak   27.0"
      ]
     },
     "execution_count": 165,
     "metadata": {},
     "output_type": "execute_result"
    }
   ],
   "source": [
    "df_reduced.head()"
   ]
  },
  {
   "cell_type": "markdown",
   "metadata": {},
   "source": [
    "Need to still normalize the amount of RTA per hex bin and time cluster by the amount of 3-hour time window per time cluster"
   ]
  },
  {
   "cell_type": "markdown",
   "metadata": {},
   "source": [
    "**Note: Still need to make this into a function somehow**"
   ]
  },
  {
   "cell_type": "code",
   "execution_count": 166,
   "metadata": {},
   "outputs": [],
   "source": [
    "list_of_clusters = [\"middle\", \"off_peak\", \"peak\"]"
   ]
  },
  {
   "cell_type": "code",
   "execution_count": 167,
   "metadata": {},
   "outputs": [],
   "source": [
    "peak = 5 * 1\n",
    "off_peak = 6 * 3 + 8\n",
    "middle = 6 * 4 + 1"
   ]
  },
  {
   "cell_type": "code",
   "execution_count": 168,
   "metadata": {},
   "outputs": [],
   "source": [
    "cluster_dict = {\"middle\": middle, \"off_peak\": off_peak, \"peak\": peak}"
   ]
  },
  {
   "cell_type": "markdown",
   "metadata": {},
   "source": [
    "**Normalizing RTA's for number of time windows**"
   ]
  },
  {
   "cell_type": "code",
   "execution_count": 169,
   "metadata": {},
   "outputs": [],
   "source": [
    "def normalize_rta(df, list_of_clusters, cluster_dict):\n",
    "    for cluster in list_of_clusters:\n",
    "        df.loc[df[\"cluster\"] == cluster, \"RTA_h\"] = cluster_dict.get(cluster)\n",
    "        df[\"RTA_n\"] = df[\"RTA\"] / df[\"RTA_h\"]\n",
    "    return df"
   ]
  },
  {
   "cell_type": "code",
   "execution_count": 170,
   "metadata": {},
   "outputs": [],
   "source": [
    "df_normalized = normalize_rta(df_reduced, list_of_clusters, cluster_dict)"
   ]
  },
  {
   "cell_type": "code",
   "execution_count": 171,
   "metadata": {},
   "outputs": [],
   "source": [
    "df_normalized = df_normalized.drop([\"RTA\", \"RTA_h\"], axis=1)"
   ]
  },
  {
   "cell_type": "code",
   "execution_count": 172,
   "metadata": {},
   "outputs": [
    {
     "data": {
      "text/html": [
       "<div>\n",
       "<style scoped>\n",
       "    .dataframe tbody tr th:only-of-type {\n",
       "        vertical-align: middle;\n",
       "    }\n",
       "\n",
       "    .dataframe tbody tr th {\n",
       "        vertical-align: top;\n",
       "    }\n",
       "\n",
       "    .dataframe thead th {\n",
       "        text-align: right;\n",
       "    }\n",
       "</style>\n",
       "<table border=\"1\" class=\"dataframe\">\n",
       "  <thead>\n",
       "    <tr style=\"text-align: right;\">\n",
       "      <th></th>\n",
       "      <th>h3_zone_6</th>\n",
       "      <th>cluster</th>\n",
       "      <th>RTA_n</th>\n",
       "    </tr>\n",
       "  </thead>\n",
       "  <tbody>\n",
       "    <tr>\n",
       "      <th>330</th>\n",
       "      <td>867a6e407ffffff</td>\n",
       "      <td>middle</td>\n",
       "      <td>13.160000</td>\n",
       "    </tr>\n",
       "    <tr>\n",
       "      <th>96</th>\n",
       "      <td>867a6e407ffffff</td>\n",
       "      <td>off_peak</td>\n",
       "      <td>5.307692</td>\n",
       "    </tr>\n",
       "    <tr>\n",
       "      <th>213</th>\n",
       "      <td>867a6e407ffffff</td>\n",
       "      <td>peak</td>\n",
       "      <td>45.400000</td>\n",
       "    </tr>\n",
       "    <tr>\n",
       "      <th>326</th>\n",
       "      <td>867a6e40fffffff</td>\n",
       "      <td>middle</td>\n",
       "      <td>1.920000</td>\n",
       "    </tr>\n",
       "    <tr>\n",
       "      <th>92</th>\n",
       "      <td>867a6e40fffffff</td>\n",
       "      <td>off_peak</td>\n",
       "      <td>1.038462</td>\n",
       "    </tr>\n",
       "  </tbody>\n",
       "</table>\n",
       "</div>"
      ],
      "text/plain": [
       "           h3_zone_6   cluster      RTA_n\n",
       "330  867a6e407ffffff    middle  13.160000\n",
       "96   867a6e407ffffff  off_peak   5.307692\n",
       "213  867a6e407ffffff      peak  45.400000\n",
       "326  867a6e40fffffff    middle   1.920000\n",
       "92   867a6e40fffffff  off_peak   1.038462"
      ]
     },
     "execution_count": 172,
     "metadata": {},
     "output_type": "execute_result"
    }
   ],
   "source": [
    "df_normalized.head()"
   ]
  },
  {
   "cell_type": "markdown",
   "metadata": {},
   "source": [
    "### Step 4: Add features to the RTA table"
   ]
  },
  {
   "cell_type": "markdown",
   "metadata": {},
   "source": [
    "As a last step, we have to add the desired features to the table, in this case the segment data from the segment data frame"
   ]
  },
  {
   "cell_type": "code",
   "execution_count": 174,
   "metadata": {},
   "outputs": [],
   "source": [
    "def join_features_on_df(df_base, df_features):\n",
    "    df = pd.merge(df_base, df_features, on=df_base.columns[0], how=\"left\")\n",
    "    return df"
   ]
  },
  {
   "cell_type": "code",
   "execution_count": 184,
   "metadata": {},
   "outputs": [],
   "source": [
    "df_regr = join_features_on_df(df_normalized, df_grouped)"
   ]
  },
  {
   "cell_type": "code",
   "execution_count": 185,
   "metadata": {},
   "outputs": [
    {
     "data": {
      "text/html": [
       "<div>\n",
       "<style scoped>\n",
       "    .dataframe tbody tr th:only-of-type {\n",
       "        vertical-align: middle;\n",
       "    }\n",
       "\n",
       "    .dataframe tbody tr th {\n",
       "        vertical-align: top;\n",
       "    }\n",
       "\n",
       "    .dataframe thead th {\n",
       "        text-align: right;\n",
       "    }\n",
       "</style>\n",
       "<table border=\"1\" class=\"dataframe\">\n",
       "  <thead>\n",
       "    <tr style=\"text-align: right;\">\n",
       "      <th></th>\n",
       "      <th>h3_zone_6</th>\n",
       "      <th>cluster</th>\n",
       "      <th>RTA_n</th>\n",
       "      <th>1</th>\n",
       "      <th>2</th>\n",
       "      <th>3</th>\n",
       "      <th>4</th>\n",
       "      <th>5</th>\n",
       "      <th>6</th>\n",
       "      <th>7</th>\n",
       "      <th>...</th>\n",
       "      <th>217</th>\n",
       "      <th>218</th>\n",
       "      <th>219</th>\n",
       "      <th>220</th>\n",
       "      <th>221</th>\n",
       "      <th>222</th>\n",
       "      <th>223</th>\n",
       "      <th>224</th>\n",
       "      <th>225</th>\n",
       "      <th>226</th>\n",
       "    </tr>\n",
       "  </thead>\n",
       "  <tbody>\n",
       "    <tr>\n",
       "      <th>0</th>\n",
       "      <td>867a6e407ffffff</td>\n",
       "      <td>middle</td>\n",
       "      <td>13.160000</td>\n",
       "      <td>174</td>\n",
       "      <td>0</td>\n",
       "      <td>319</td>\n",
       "      <td>319</td>\n",
       "      <td>30.0</td>\n",
       "      <td>756</td>\n",
       "      <td>0</td>\n",
       "      <td>...</td>\n",
       "      <td>5.0</td>\n",
       "      <td>61.0</td>\n",
       "      <td>2.0</td>\n",
       "      <td>3.0</td>\n",
       "      <td>1.0</td>\n",
       "      <td>0.0</td>\n",
       "      <td>3.0</td>\n",
       "      <td>60.0</td>\n",
       "      <td>2.0</td>\n",
       "      <td>3.0</td>\n",
       "    </tr>\n",
       "    <tr>\n",
       "      <th>1</th>\n",
       "      <td>867a6e407ffffff</td>\n",
       "      <td>off_peak</td>\n",
       "      <td>5.307692</td>\n",
       "      <td>174</td>\n",
       "      <td>0</td>\n",
       "      <td>319</td>\n",
       "      <td>319</td>\n",
       "      <td>30.0</td>\n",
       "      <td>756</td>\n",
       "      <td>0</td>\n",
       "      <td>...</td>\n",
       "      <td>5.0</td>\n",
       "      <td>61.0</td>\n",
       "      <td>2.0</td>\n",
       "      <td>3.0</td>\n",
       "      <td>1.0</td>\n",
       "      <td>0.0</td>\n",
       "      <td>3.0</td>\n",
       "      <td>60.0</td>\n",
       "      <td>2.0</td>\n",
       "      <td>3.0</td>\n",
       "    </tr>\n",
       "    <tr>\n",
       "      <th>2</th>\n",
       "      <td>867a6e407ffffff</td>\n",
       "      <td>peak</td>\n",
       "      <td>45.400000</td>\n",
       "      <td>174</td>\n",
       "      <td>0</td>\n",
       "      <td>319</td>\n",
       "      <td>319</td>\n",
       "      <td>30.0</td>\n",
       "      <td>756</td>\n",
       "      <td>0</td>\n",
       "      <td>...</td>\n",
       "      <td>5.0</td>\n",
       "      <td>61.0</td>\n",
       "      <td>2.0</td>\n",
       "      <td>3.0</td>\n",
       "      <td>1.0</td>\n",
       "      <td>0.0</td>\n",
       "      <td>3.0</td>\n",
       "      <td>60.0</td>\n",
       "      <td>2.0</td>\n",
       "      <td>3.0</td>\n",
       "    </tr>\n",
       "    <tr>\n",
       "      <th>3</th>\n",
       "      <td>867a6e40fffffff</td>\n",
       "      <td>middle</td>\n",
       "      <td>1.920000</td>\n",
       "      <td>18</td>\n",
       "      <td>0</td>\n",
       "      <td>13</td>\n",
       "      <td>13</td>\n",
       "      <td>0.0</td>\n",
       "      <td>66</td>\n",
       "      <td>0</td>\n",
       "      <td>...</td>\n",
       "      <td>4.0</td>\n",
       "      <td>1.0</td>\n",
       "      <td>0.0</td>\n",
       "      <td>1.0</td>\n",
       "      <td>0.0</td>\n",
       "      <td>0.0</td>\n",
       "      <td>4.0</td>\n",
       "      <td>1.0</td>\n",
       "      <td>0.0</td>\n",
       "      <td>1.0</td>\n",
       "    </tr>\n",
       "    <tr>\n",
       "      <th>4</th>\n",
       "      <td>867a6e40fffffff</td>\n",
       "      <td>off_peak</td>\n",
       "      <td>1.038462</td>\n",
       "      <td>18</td>\n",
       "      <td>0</td>\n",
       "      <td>13</td>\n",
       "      <td>13</td>\n",
       "      <td>0.0</td>\n",
       "      <td>66</td>\n",
       "      <td>0</td>\n",
       "      <td>...</td>\n",
       "      <td>4.0</td>\n",
       "      <td>1.0</td>\n",
       "      <td>0.0</td>\n",
       "      <td>1.0</td>\n",
       "      <td>0.0</td>\n",
       "      <td>0.0</td>\n",
       "      <td>4.0</td>\n",
       "      <td>1.0</td>\n",
       "      <td>0.0</td>\n",
       "      <td>1.0</td>\n",
       "    </tr>\n",
       "  </tbody>\n",
       "</table>\n",
       "<p>5 rows × 229 columns</p>\n",
       "</div>"
      ],
      "text/plain": [
       "         h3_zone_6   cluster      RTA_n    1  2    3    4     5    6  7  ...  \\\n",
       "0  867a6e407ffffff    middle  13.160000  174  0  319  319  30.0  756  0  ...   \n",
       "1  867a6e407ffffff  off_peak   5.307692  174  0  319  319  30.0  756  0  ...   \n",
       "2  867a6e407ffffff      peak  45.400000  174  0  319  319  30.0  756  0  ...   \n",
       "3  867a6e40fffffff    middle   1.920000   18  0   13   13   0.0   66  0  ...   \n",
       "4  867a6e40fffffff  off_peak   1.038462   18  0   13   13   0.0   66  0  ...   \n",
       "\n",
       "   217   218  219  220  221  222  223   224  225  226  \n",
       "0  5.0  61.0  2.0  3.0  1.0  0.0  3.0  60.0  2.0  3.0  \n",
       "1  5.0  61.0  2.0  3.0  1.0  0.0  3.0  60.0  2.0  3.0  \n",
       "2  5.0  61.0  2.0  3.0  1.0  0.0  3.0  60.0  2.0  3.0  \n",
       "3  4.0   1.0  0.0  1.0  0.0  0.0  4.0   1.0  0.0  1.0  \n",
       "4  4.0   1.0  0.0  1.0  0.0  0.0  4.0   1.0  0.0  1.0  \n",
       "\n",
       "[5 rows x 229 columns]"
      ]
     },
     "execution_count": 185,
     "metadata": {},
     "output_type": "execute_result"
    }
   ],
   "source": [
    "df_regr.head()"
   ]
  },
  {
   "cell_type": "code",
   "execution_count": 186,
   "metadata": {},
   "outputs": [
    {
     "name": "stdout",
     "output_type": "stream",
     "text": [
      "<class 'pandas.core.frame.DataFrame'>\n",
      "Int64Index: 54 entries, 0 to 53\n",
      "Columns: 229 entries, h3_zone_6 to 226\n",
      "dtypes: float64(28), int64(199), object(2)\n",
      "memory usage: 97.0+ KB\n"
     ]
    }
   ],
   "source": [
    "df_regr.info()"
   ]
  },
  {
   "cell_type": "markdown",
   "metadata": {},
   "source": [
    "## Prediction"
   ]
  },
  {
   "cell_type": "markdown",
   "metadata": {},
   "source": [
    "This analysis was done following the \"Dimensionality_Reduction\" module and more precisely, the notebook \"1-Principal_Component_Analysis\"."
   ]
  },
  {
   "cell_type": "markdown",
   "metadata": {},
   "source": [
    "### Step 1: Data Scaling"
   ]
  },
  {
   "cell_type": "code",
   "execution_count": 187,
   "metadata": {},
   "outputs": [],
   "source": [
    "from sklearn.preprocessing import StandardScaler"
   ]
  },
  {
   "cell_type": "code",
   "execution_count": 188,
   "metadata": {},
   "outputs": [],
   "source": [
    "scaler = StandardScaler()"
   ]
  },
  {
   "cell_type": "code",
   "execution_count": 189,
   "metadata": {},
   "outputs": [],
   "source": [
    "list_non_numeric = [df_regr.columns[0]] + [df_regr.columns[1]] + [df_regr.columns[2]]"
   ]
  },
  {
   "cell_type": "code",
   "execution_count": 191,
   "metadata": {},
   "outputs": [],
   "source": [
    "X_num = df_regr.drop(list_non_numeric, axis=1)\n",
    "X_cat = df_regr[df_regr.columns[1]]\n",
    "y = df_regr[df_regr.columns[2]]"
   ]
  },
  {
   "cell_type": "code",
   "execution_count": 192,
   "metadata": {},
   "outputs": [],
   "source": [
    "X_num_t = scaler.fit_transform(X_num)"
   ]
  },
  {
   "cell_type": "code",
   "execution_count": 193,
   "metadata": {},
   "outputs": [],
   "source": [
    "df_regr_scaled = pd.DataFrame(data=X_num_t,columns=X_num.columns)"
   ]
  },
  {
   "cell_type": "code",
   "execution_count": 194,
   "metadata": {},
   "outputs": [
    {
     "data": {
      "text/html": [
       "<div>\n",
       "<style scoped>\n",
       "    .dataframe tbody tr th:only-of-type {\n",
       "        vertical-align: middle;\n",
       "    }\n",
       "\n",
       "    .dataframe tbody tr th {\n",
       "        vertical-align: top;\n",
       "    }\n",
       "\n",
       "    .dataframe thead th {\n",
       "        text-align: right;\n",
       "    }\n",
       "</style>\n",
       "<table border=\"1\" class=\"dataframe\">\n",
       "  <thead>\n",
       "    <tr style=\"text-align: right;\">\n",
       "      <th></th>\n",
       "      <th>1</th>\n",
       "      <th>2</th>\n",
       "      <th>3</th>\n",
       "      <th>4</th>\n",
       "      <th>5</th>\n",
       "      <th>6</th>\n",
       "      <th>7</th>\n",
       "      <th>8</th>\n",
       "      <th>9</th>\n",
       "      <th>10</th>\n",
       "      <th>...</th>\n",
       "      <th>217</th>\n",
       "      <th>218</th>\n",
       "      <th>219</th>\n",
       "      <th>220</th>\n",
       "      <th>221</th>\n",
       "      <th>222</th>\n",
       "      <th>223</th>\n",
       "      <th>224</th>\n",
       "      <th>225</th>\n",
       "      <th>226</th>\n",
       "    </tr>\n",
       "  </thead>\n",
       "  <tbody>\n",
       "    <tr>\n",
       "      <th>0</th>\n",
       "      <td>0.066956</td>\n",
       "      <td>-0.628539</td>\n",
       "      <td>0.074491</td>\n",
       "      <td>0.069021</td>\n",
       "      <td>2.550458</td>\n",
       "      <td>0.02085</td>\n",
       "      <td>-0.380143</td>\n",
       "      <td>0.18766</td>\n",
       "      <td>0.257468</td>\n",
       "      <td>0.119111</td>\n",
       "      <td>...</td>\n",
       "      <td>-0.517076</td>\n",
       "      <td>0.338516</td>\n",
       "      <td>-0.364625</td>\n",
       "      <td>-0.023939</td>\n",
       "      <td>-0.412027</td>\n",
       "      <td>-0.321029</td>\n",
       "      <td>-0.608984</td>\n",
       "      <td>0.331693</td>\n",
       "      <td>-0.364929</td>\n",
       "      <td>0.0</td>\n",
       "    </tr>\n",
       "  </tbody>\n",
       "</table>\n",
       "<p>1 rows × 226 columns</p>\n",
       "</div>"
      ],
      "text/plain": [
       "        1         2         3         4         5        6         7    \\\n",
       "0  0.066956 -0.628539  0.074491  0.069021  2.550458  0.02085 -0.380143   \n",
       "\n",
       "       8         9         10   ...       217       218       219       220  \\\n",
       "0  0.18766  0.257468  0.119111  ... -0.517076  0.338516 -0.364625 -0.023939   \n",
       "\n",
       "        221       222       223       224       225  226  \n",
       "0 -0.412027 -0.321029 -0.608984  0.331693 -0.364929  0.0  \n",
       "\n",
       "[1 rows x 226 columns]"
      ]
     },
     "execution_count": 194,
     "metadata": {},
     "output_type": "execute_result"
    }
   ],
   "source": [
    "df_regr_scaled.head(1)"
   ]
  },
  {
   "cell_type": "code",
   "execution_count": 195,
   "metadata": {},
   "outputs": [
    {
     "data": {
      "text/html": [
       "<div>\n",
       "<style scoped>\n",
       "    .dataframe tbody tr th:only-of-type {\n",
       "        vertical-align: middle;\n",
       "    }\n",
       "\n",
       "    .dataframe tbody tr th {\n",
       "        vertical-align: top;\n",
       "    }\n",
       "\n",
       "    .dataframe thead th {\n",
       "        text-align: right;\n",
       "    }\n",
       "</style>\n",
       "<table border=\"1\" class=\"dataframe\">\n",
       "  <thead>\n",
       "    <tr style=\"text-align: right;\">\n",
       "      <th></th>\n",
       "      <th>1</th>\n",
       "      <th>2</th>\n",
       "      <th>3</th>\n",
       "      <th>4</th>\n",
       "      <th>5</th>\n",
       "      <th>6</th>\n",
       "      <th>7</th>\n",
       "      <th>8</th>\n",
       "      <th>9</th>\n",
       "      <th>10</th>\n",
       "      <th>...</th>\n",
       "      <th>217</th>\n",
       "      <th>218</th>\n",
       "      <th>219</th>\n",
       "      <th>220</th>\n",
       "      <th>221</th>\n",
       "      <th>222</th>\n",
       "      <th>223</th>\n",
       "      <th>224</th>\n",
       "      <th>225</th>\n",
       "      <th>226</th>\n",
       "    </tr>\n",
       "  </thead>\n",
       "  <tbody>\n",
       "    <tr>\n",
       "      <th>count</th>\n",
       "      <td>54.0</td>\n",
       "      <td>54.0</td>\n",
       "      <td>54.0</td>\n",
       "      <td>54.0</td>\n",
       "      <td>54.0</td>\n",
       "      <td>54.0</td>\n",
       "      <td>54.0</td>\n",
       "      <td>54.0</td>\n",
       "      <td>54.0</td>\n",
       "      <td>54.0</td>\n",
       "      <td>...</td>\n",
       "      <td>54.0</td>\n",
       "      <td>54.0</td>\n",
       "      <td>54.0</td>\n",
       "      <td>54.0</td>\n",
       "      <td>54.0</td>\n",
       "      <td>54.0</td>\n",
       "      <td>54.0</td>\n",
       "      <td>54.0</td>\n",
       "      <td>54.0</td>\n",
       "      <td>54.0</td>\n",
       "    </tr>\n",
       "    <tr>\n",
       "      <th>mean</th>\n",
       "      <td>-0.0</td>\n",
       "      <td>0.0</td>\n",
       "      <td>-0.0</td>\n",
       "      <td>0.0</td>\n",
       "      <td>-0.0</td>\n",
       "      <td>-0.0</td>\n",
       "      <td>-0.0</td>\n",
       "      <td>0.0</td>\n",
       "      <td>0.0</td>\n",
       "      <td>0.0</td>\n",
       "      <td>...</td>\n",
       "      <td>0.0</td>\n",
       "      <td>-0.0</td>\n",
       "      <td>0.0</td>\n",
       "      <td>-0.0</td>\n",
       "      <td>0.0</td>\n",
       "      <td>-0.0</td>\n",
       "      <td>-0.0</td>\n",
       "      <td>-0.0</td>\n",
       "      <td>-0.0</td>\n",
       "      <td>0.0</td>\n",
       "    </tr>\n",
       "    <tr>\n",
       "      <th>std</th>\n",
       "      <td>1.0</td>\n",
       "      <td>1.0</td>\n",
       "      <td>1.0</td>\n",
       "      <td>1.0</td>\n",
       "      <td>1.0</td>\n",
       "      <td>1.0</td>\n",
       "      <td>1.0</td>\n",
       "      <td>1.0</td>\n",
       "      <td>1.0</td>\n",
       "      <td>1.0</td>\n",
       "      <td>...</td>\n",
       "      <td>1.0</td>\n",
       "      <td>1.0</td>\n",
       "      <td>1.0</td>\n",
       "      <td>1.0</td>\n",
       "      <td>1.0</td>\n",
       "      <td>1.0</td>\n",
       "      <td>1.0</td>\n",
       "      <td>1.0</td>\n",
       "      <td>1.0</td>\n",
       "      <td>1.0</td>\n",
       "    </tr>\n",
       "    <tr>\n",
       "      <th>min</th>\n",
       "      <td>-1.0</td>\n",
       "      <td>-1.0</td>\n",
       "      <td>-1.0</td>\n",
       "      <td>-1.0</td>\n",
       "      <td>-1.0</td>\n",
       "      <td>-1.0</td>\n",
       "      <td>-0.0</td>\n",
       "      <td>-1.0</td>\n",
       "      <td>-1.0</td>\n",
       "      <td>-1.0</td>\n",
       "      <td>...</td>\n",
       "      <td>-1.0</td>\n",
       "      <td>-1.0</td>\n",
       "      <td>-1.0</td>\n",
       "      <td>-1.0</td>\n",
       "      <td>-0.0</td>\n",
       "      <td>-0.0</td>\n",
       "      <td>-1.0</td>\n",
       "      <td>-1.0</td>\n",
       "      <td>-1.0</td>\n",
       "      <td>-1.0</td>\n",
       "    </tr>\n",
       "    <tr>\n",
       "      <th>25%</th>\n",
       "      <td>-1.0</td>\n",
       "      <td>-1.0</td>\n",
       "      <td>-1.0</td>\n",
       "      <td>-1.0</td>\n",
       "      <td>-1.0</td>\n",
       "      <td>-1.0</td>\n",
       "      <td>-0.0</td>\n",
       "      <td>-1.0</td>\n",
       "      <td>-1.0</td>\n",
       "      <td>-1.0</td>\n",
       "      <td>...</td>\n",
       "      <td>-1.0</td>\n",
       "      <td>-1.0</td>\n",
       "      <td>-1.0</td>\n",
       "      <td>-1.0</td>\n",
       "      <td>-0.0</td>\n",
       "      <td>-0.0</td>\n",
       "      <td>-1.0</td>\n",
       "      <td>-1.0</td>\n",
       "      <td>-1.0</td>\n",
       "      <td>-1.0</td>\n",
       "    </tr>\n",
       "    <tr>\n",
       "      <th>50%</th>\n",
       "      <td>-0.0</td>\n",
       "      <td>-1.0</td>\n",
       "      <td>-0.0</td>\n",
       "      <td>-0.0</td>\n",
       "      <td>-1.0</td>\n",
       "      <td>-0.0</td>\n",
       "      <td>-0.0</td>\n",
       "      <td>-0.0</td>\n",
       "      <td>-0.0</td>\n",
       "      <td>-0.0</td>\n",
       "      <td>...</td>\n",
       "      <td>-0.0</td>\n",
       "      <td>-0.0</td>\n",
       "      <td>-0.0</td>\n",
       "      <td>-0.0</td>\n",
       "      <td>-0.0</td>\n",
       "      <td>-0.0</td>\n",
       "      <td>-1.0</td>\n",
       "      <td>-0.0</td>\n",
       "      <td>-0.0</td>\n",
       "      <td>-0.0</td>\n",
       "    </tr>\n",
       "    <tr>\n",
       "      <th>75%</th>\n",
       "      <td>0.0</td>\n",
       "      <td>1.0</td>\n",
       "      <td>0.0</td>\n",
       "      <td>0.0</td>\n",
       "      <td>-0.0</td>\n",
       "      <td>0.0</td>\n",
       "      <td>-0.0</td>\n",
       "      <td>0.0</td>\n",
       "      <td>0.0</td>\n",
       "      <td>0.0</td>\n",
       "      <td>...</td>\n",
       "      <td>0.0</td>\n",
       "      <td>0.0</td>\n",
       "      <td>-0.0</td>\n",
       "      <td>-0.0</td>\n",
       "      <td>-0.0</td>\n",
       "      <td>-0.0</td>\n",
       "      <td>0.0</td>\n",
       "      <td>0.0</td>\n",
       "      <td>-0.0</td>\n",
       "      <td>0.0</td>\n",
       "    </tr>\n",
       "    <tr>\n",
       "      <th>max</th>\n",
       "      <td>4.0</td>\n",
       "      <td>3.0</td>\n",
       "      <td>4.0</td>\n",
       "      <td>4.0</td>\n",
       "      <td>3.0</td>\n",
       "      <td>3.0</td>\n",
       "      <td>4.0</td>\n",
       "      <td>4.0</td>\n",
       "      <td>4.0</td>\n",
       "      <td>4.0</td>\n",
       "      <td>...</td>\n",
       "      <td>3.0</td>\n",
       "      <td>4.0</td>\n",
       "      <td>3.0</td>\n",
       "      <td>3.0</td>\n",
       "      <td>4.0</td>\n",
       "      <td>4.0</td>\n",
       "      <td>3.0</td>\n",
       "      <td>4.0</td>\n",
       "      <td>3.0</td>\n",
       "      <td>3.0</td>\n",
       "    </tr>\n",
       "  </tbody>\n",
       "</table>\n",
       "<p>8 rows × 226 columns</p>\n",
       "</div>"
      ],
      "text/plain": [
       "        1     2     3     4     5     6     7     8     9     10   ...   217  \\\n",
       "count  54.0  54.0  54.0  54.0  54.0  54.0  54.0  54.0  54.0  54.0  ...  54.0   \n",
       "mean   -0.0   0.0  -0.0   0.0  -0.0  -0.0  -0.0   0.0   0.0   0.0  ...   0.0   \n",
       "std     1.0   1.0   1.0   1.0   1.0   1.0   1.0   1.0   1.0   1.0  ...   1.0   \n",
       "min    -1.0  -1.0  -1.0  -1.0  -1.0  -1.0  -0.0  -1.0  -1.0  -1.0  ...  -1.0   \n",
       "25%    -1.0  -1.0  -1.0  -1.0  -1.0  -1.0  -0.0  -1.0  -1.0  -1.0  ...  -1.0   \n",
       "50%    -0.0  -1.0  -0.0  -0.0  -1.0  -0.0  -0.0  -0.0  -0.0  -0.0  ...  -0.0   \n",
       "75%     0.0   1.0   0.0   0.0  -0.0   0.0  -0.0   0.0   0.0   0.0  ...   0.0   \n",
       "max     4.0   3.0   4.0   4.0   3.0   3.0   4.0   4.0   4.0   4.0  ...   3.0   \n",
       "\n",
       "        218   219   220   221   222   223   224   225   226  \n",
       "count  54.0  54.0  54.0  54.0  54.0  54.0  54.0  54.0  54.0  \n",
       "mean   -0.0   0.0  -0.0   0.0  -0.0  -0.0  -0.0  -0.0   0.0  \n",
       "std     1.0   1.0   1.0   1.0   1.0   1.0   1.0   1.0   1.0  \n",
       "min    -1.0  -1.0  -1.0  -0.0  -0.0  -1.0  -1.0  -1.0  -1.0  \n",
       "25%    -1.0  -1.0  -1.0  -0.0  -0.0  -1.0  -1.0  -1.0  -1.0  \n",
       "50%    -0.0  -0.0  -0.0  -0.0  -0.0  -1.0  -0.0  -0.0  -0.0  \n",
       "75%     0.0  -0.0  -0.0  -0.0  -0.0   0.0   0.0  -0.0   0.0  \n",
       "max     4.0   3.0   3.0   4.0   4.0   3.0   4.0   3.0   3.0  \n",
       "\n",
       "[8 rows x 226 columns]"
      ]
     },
     "execution_count": 195,
     "metadata": {},
     "output_type": "execute_result"
    }
   ],
   "source": [
    "df_regr_scaled.describe().round()"
   ]
  },
  {
   "cell_type": "markdown",
   "metadata": {},
   "source": [
    "### Step 2: PCA"
   ]
  },
  {
   "cell_type": "code",
   "execution_count": 196,
   "metadata": {},
   "outputs": [],
   "source": [
    "from sklearn.decomposition import PCA"
   ]
  },
  {
   "cell_type": "code",
   "execution_count": 197,
   "metadata": {},
   "outputs": [],
   "source": [
    "pca = PCA(n_components=0.9)"
   ]
  },
  {
   "cell_type": "code",
   "execution_count": 198,
   "metadata": {},
   "outputs": [],
   "source": [
    "df_scaled_pca = pca.fit(df_regr_scaled)"
   ]
  },
  {
   "cell_type": "markdown",
   "metadata": {},
   "source": [
    "**Plotting**"
   ]
  },
  {
   "cell_type": "code",
   "execution_count": 199,
   "metadata": {},
   "outputs": [
    {
     "data": {
      "image/png": "[encoded data removed]",
      "text/plain": [
       "<Figure size 720x432 with 1 Axes>"
      ]
     },
     "metadata": {
      "needs_background": "light"
     },
     "output_type": "display_data"
    }
   ],
   "source": [
    "plt.figure(figsize=(10,6))\n",
    "plt.scatter(x=[i+1 for i in range(len(df_scaled_pca.explained_variance_ratio_))],\n",
    "            y=df_scaled_pca.explained_variance_ratio_,\n",
    "            s=200, alpha=0.75,c='orange',edgecolor='k')\n",
    "plt.grid(True)\n",
    "plt.title(\"Explained variance ratio of the \\nfitted principal component vector\\n\",fontsize=25)\n",
    "plt.xlabel(\"Principal components\",fontsize=15)\n",
    "plt.xticks([i+1 for i in range(len(df_scaled_pca.explained_variance_ratio_))],fontsize=15)\n",
    "plt.yticks(fontsize=15)\n",
    "plt.ylabel(\"Explained variance ratio\",fontsize=15)\n",
    "plt.savefig(\"PCA.png\")\n",
    "plt.show()"
   ]
  },
  {
   "cell_type": "markdown",
   "metadata": {},
   "source": [
    "End."
   ]
  },
  {
   "cell_type": "code",
   "execution_count": 200,
   "metadata": {},
   "outputs": [
    {
     "name": "stdout",
     "output_type": "stream",
     "text": [
      "Component 1 explains 64.91 %\n",
      "Component 2 explains 9.21 %\n",
      "Component 3 explains 6.44 %\n",
      "Component 4 explains 4.14 %\n",
      "Component 5 explains 3.77 %\n",
      "Component 6 explains 2.92 %\n"
     ]
    }
   ],
   "source": [
    "i = 1\n",
    "for pca_component in df_scaled_pca.explained_variance_ratio_:\n",
    "    if pca_component > 0.01:\n",
    "        print(\"Component\", i, \"explains\", round(pca_component * 100, 2), \"%\")\n",
    "        i += 1"
   ]
  },
  {
   "cell_type": "code",
   "execution_count": 201,
   "metadata": {},
   "outputs": [],
   "source": [
    "df_regr_pca = pca.transform(df_regr_scaled)"
   ]
  },
  {
   "cell_type": "code",
   "execution_count": 202,
   "metadata": {},
   "outputs": [
    {
     "data": {
      "text/plain": [
       "array([[ 1.99457019,  4.30522952, 14.37359213, -2.17309472,  0.63737403,\n",
       "        -1.37359127],\n",
       "       [ 1.99457019,  4.30522952, 14.37359213, -2.17309472,  0.63737403,\n",
       "        -1.37359127]])"
      ]
     },
     "execution_count": 202,
     "metadata": {},
     "output_type": "execute_result"
    }
   ],
   "source": [
    "df_regr_pca[0:2]"
   ]
  },
  {
   "cell_type": "code",
   "execution_count": 203,
   "metadata": {},
   "outputs": [
    {
     "data": {
      "text/plain": [
       "(54, 6)"
      ]
     },
     "execution_count": 203,
     "metadata": {},
     "output_type": "execute_result"
    }
   ],
   "source": [
    "df_regr_pca.shape"
   ]
  },
  {
   "cell_type": "markdown",
   "metadata": {},
   "source": [
    "***"
   ]
  },
  {
   "cell_type": "markdown",
   "metadata": {},
   "source": [
    "### Step 3: Regression"
   ]
  },
  {
   "cell_type": "markdown",
   "metadata": {},
   "source": [
    "### To Do:\n",
    "**Paste together with categorical data to build data set for prediction**"
   ]
  },
  {
   "cell_type": "code",
   "execution_count": 204,
   "metadata": {},
   "outputs": [],
   "source": [
    "df_regression = pd.DataFrame(df_regr_pca, columns=[\"PCA_1\", \"PCA_2\", \"PCA_3\", \"PCA_4\", \"PCA_5\", \"PCA_6\"])"
   ]
  },
  {
   "cell_type": "code",
   "execution_count": 207,
   "metadata": {},
   "outputs": [],
   "source": [
    "time_cluster_dummies = pd.get_dummies(df_regr['cluster'], prefix='cluster', drop_first=True)"
   ]
  },
  {
   "cell_type": "markdown",
   "metadata": {},
   "source": [
    "I am not sure whether we should or should not drop one column for the dummies?"
   ]
  },
  {
   "cell_type": "code",
   "execution_count": 208,
   "metadata": {},
   "outputs": [],
   "source": [
    "df_regression = pd.concat([df_regression, time_cluster_dummies], axis = 1)"
   ]
  },
  {
   "cell_type": "code",
   "execution_count": 209,
   "metadata": {},
   "outputs": [
    {
     "data": {
      "text/html": [
       "<div>\n",
       "<style scoped>\n",
       "    .dataframe tbody tr th:only-of-type {\n",
       "        vertical-align: middle;\n",
       "    }\n",
       "\n",
       "    .dataframe tbody tr th {\n",
       "        vertical-align: top;\n",
       "    }\n",
       "\n",
       "    .dataframe thead th {\n",
       "        text-align: right;\n",
       "    }\n",
       "</style>\n",
       "<table border=\"1\" class=\"dataframe\">\n",
       "  <thead>\n",
       "    <tr style=\"text-align: right;\">\n",
       "      <th></th>\n",
       "      <th>PCA_1</th>\n",
       "      <th>PCA_2</th>\n",
       "      <th>PCA_3</th>\n",
       "      <th>PCA_4</th>\n",
       "      <th>PCA_5</th>\n",
       "      <th>PCA_6</th>\n",
       "      <th>cluster_off_peak</th>\n",
       "      <th>cluster_peak</th>\n",
       "    </tr>\n",
       "  </thead>\n",
       "  <tbody>\n",
       "    <tr>\n",
       "      <th>0</th>\n",
       "      <td>1.99457</td>\n",
       "      <td>4.30523</td>\n",
       "      <td>14.373592</td>\n",
       "      <td>-2.173095</td>\n",
       "      <td>0.637374</td>\n",
       "      <td>-1.373591</td>\n",
       "      <td>0</td>\n",
       "      <td>0</td>\n",
       "    </tr>\n",
       "  </tbody>\n",
       "</table>\n",
       "</div>"
      ],
      "text/plain": [
       "     PCA_1    PCA_2      PCA_3     PCA_4     PCA_5     PCA_6  \\\n",
       "0  1.99457  4.30523  14.373592 -2.173095  0.637374 -1.373591   \n",
       "\n",
       "   cluster_off_peak  cluster_peak  \n",
       "0                 0             0  "
      ]
     },
     "execution_count": 209,
     "metadata": {},
     "output_type": "execute_result"
    }
   ],
   "source": [
    "df_regression.head(1)"
   ]
  },
  {
   "cell_type": "markdown",
   "metadata": {},
   "source": [
    "### Linear Regression"
   ]
  },
  {
   "cell_type": "code",
   "execution_count": 210,
   "metadata": {},
   "outputs": [],
   "source": [
    "from sklearn.linear_model import LinearRegression"
   ]
  },
  {
   "cell_type": "code",
   "execution_count": 211,
   "metadata": {},
   "outputs": [],
   "source": [
    "X = df_regression"
   ]
  },
  {
   "cell_type": "code",
   "execution_count": 212,
   "metadata": {},
   "outputs": [],
   "source": [
    "reg = LinearRegression().fit(X, y)"
   ]
  },
  {
   "cell_type": "code",
   "execution_count": 213,
   "metadata": {},
   "outputs": [
    {
     "data": {
      "text/plain": [
       "0.6596955866610159"
      ]
     },
     "execution_count": 213,
     "metadata": {},
     "output_type": "execute_result"
    }
   ],
   "source": [
    "reg.score(X, y)"
   ]
  },
  {
   "cell_type": "code",
   "execution_count": 214,
   "metadata": {},
   "outputs": [
    {
     "data": {
      "text/plain": [
       "array([ 0.49269668, -0.24820024,  0.9383647 ,  0.30828919,  0.52471648,\n",
       "       -0.29208551, -2.81401709, 10.80222222])"
      ]
     },
     "execution_count": 214,
     "metadata": {},
     "output_type": "execute_result"
    }
   ],
   "source": [
    "reg.coef_"
   ]
  },
  {
   "cell_type": "code",
   "execution_count": 215,
   "metadata": {},
   "outputs": [
    {
     "data": {
      "text/plain": [
       "5.553333333333332"
      ]
     },
     "execution_count": 215,
     "metadata": {},
     "output_type": "execute_result"
    }
   ],
   "source": [
    "reg.intercept_"
   ]
  },
  {
   "cell_type": "markdown",
   "metadata": {},
   "source": [
    "### Ridge Regression"
   ]
  },
  {
   "cell_type": "code",
   "execution_count": 216,
   "metadata": {},
   "outputs": [],
   "source": [
    "from sklearn.linear_model import Ridge"
   ]
  },
  {
   "cell_type": "code",
   "execution_count": 217,
   "metadata": {},
   "outputs": [],
   "source": [
    "ridge_reg = Ridge(alpha=0.5)"
   ]
  },
  {
   "cell_type": "code",
   "execution_count": 218,
   "metadata": {},
   "outputs": [
    {
     "data": {
      "text/plain": [
       "Ridge(alpha=0.5)"
      ]
     },
     "execution_count": 218,
     "metadata": {},
     "output_type": "execute_result"
    }
   ],
   "source": [
    "ridge_reg.fit(X, y)"
   ]
  },
  {
   "cell_type": "code",
   "execution_count": 219,
   "metadata": {},
   "outputs": [
    {
     "data": {
      "text/plain": [
       "0.6593671159314402"
      ]
     },
     "execution_count": 219,
     "metadata": {},
     "output_type": "execute_result"
    }
   ],
   "source": [
    "ridge_reg.score(X, y)"
   ]
  },
  {
   "cell_type": "markdown",
   "metadata": {},
   "source": [
    "### SVR"
   ]
  },
  {
   "cell_type": "code",
   "execution_count": 220,
   "metadata": {},
   "outputs": [],
   "source": [
    "from sklearn.svm import SVR"
   ]
  },
  {
   "cell_type": "code",
   "execution_count": 221,
   "metadata": {},
   "outputs": [],
   "source": [
    "svr_rbf = SVR(kernel='rbf', C=100, gamma=0.1, epsilon=.1)\n",
    "svr_sigmoid = SVR(kernel='sigmoid', C=100, gamma=\"auto\", epsilon=.1, coef0=1)\n",
    "svr_lin = SVR(kernel='linear', C=100, gamma='auto')\n",
    "svr_poly = SVR(kernel='poly', C=100, gamma='auto', degree=3, epsilon=.1,\n",
    "               coef0=1)"
   ]
  },
  {
   "cell_type": "code",
   "execution_count": 222,
   "metadata": {},
   "outputs": [
    {
     "name": "stdout",
     "output_type": "stream",
     "text": [
      "SVR(C=100, gamma=0.1)\n",
      "SVR(C=100, gamma='auto', kernel='linear')\n",
      "SVR(C=100, coef0=1, gamma='auto', kernel='poly')\n",
      "SVR(C=100, coef0=1, gamma='auto', kernel='sigmoid')\n"
     ]
    }
   ],
   "source": [
    "print(svr_rbf.fit(X, y))\n",
    "print(svr_lin.fit(X, y))\n",
    "print(svr_poly.fit(X, y))\n",
    "print(svr_sigmoid.fit(X, y))"
   ]
  },
  {
   "cell_type": "code",
   "execution_count": 223,
   "metadata": {},
   "outputs": [
    {
     "name": "stdout",
     "output_type": "stream",
     "text": [
      "RBF: 0.9351216493214036\n",
      "Lin: 0.6120579810480937\n",
      "Poly 0.997251594446552\n",
      "Sigmoid -4941.285496492263\n"
     ]
    }
   ],
   "source": [
    "print(\"RBF:\", svr_rbf.score(X, y))\n",
    "print(\"Lin:\", svr_lin.score(X, y))\n",
    "print(\"Poly\", svr_poly.score(X, y))\n",
    "print(\"Sigmoid\", svr_sigmoid.score(X, y))"
   ]
  },
  {
   "cell_type": "markdown",
   "metadata": {},
   "source": [
    "***"
   ]
  },
  {
   "cell_type": "markdown",
   "metadata": {},
   "source": [
    "## Setting up overall input with 3 hour time windows for regression"
   ]
  },
  {
   "cell_type": "code",
   "execution_count": null,
   "metadata": {},
   "outputs": [],
   "source": [
    "# Create empty data frame of size [Days (~500)] * [Time windows (8)] * [Number of hex bins (18)] = 78840"
   ]
  },
  {
   "cell_type": "code",
   "execution_count": null,
   "metadata": {},
   "outputs": [],
   "source": [
    "(78625 - 1) / (18 * 8)"
   ]
  },
  {
   "cell_type": "code",
   "execution_count": null,
   "metadata": {},
   "outputs": [],
   "source": [
    "date_start = '2018-01-01'\n",
    "date_end = '2019-07-01'\n",
    "dates = pd.date_range(date_start, date_end, freq='3h')"
   ]
  },
  {
   "cell_type": "code",
   "execution_count": null,
   "metadata": {},
   "outputs": [],
   "source": [
    "all_days_df = pd.DataFrame(dates, columns=[\"dates\"])"
   ]
  },
  {
   "cell_type": "code",
   "execution_count": null,
   "metadata": {},
   "outputs": [],
   "source": [
    "all_days_df.info()"
   ]
  },
  {
   "cell_type": "code",
   "execution_count": null,
   "metadata": {},
   "outputs": [],
   "source": [
    "all_days_df.head()"
   ]
  },
  {
   "cell_type": "code",
   "execution_count": null,
   "metadata": {},
   "outputs": [],
   "source": [
    "print(\"Number of all 3 hour time windows:\", all_days_df.shape[0])\n",
    "\n",
    "len_windows = all_days_df.shape[0]\n",
    "\n",
    "list_bins_windows = []\n",
    "\n",
    "for i in range(0, df_seg.shape[0]):\n",
    "    list_bins_windows.append(len_windows * [df_seg[\"h3_zone_6\"][i]])"
   ]
  },
  {
   "cell_type": "code",
   "execution_count": null,
   "metadata": {},
   "outputs": [],
   "source": [
    "list_bins_windows_flat = np.array([list_bins_windows]).flatten()\n",
    "len(list_bins_windows_flat)"
   ]
  },
  {
   "cell_type": "code",
   "execution_count": null,
   "metadata": {},
   "outputs": [],
   "source": [
    "overall_df = all_days_df.copy()\n",
    "\n",
    "for i in range(17):\n",
    "    overall_df = overall_df.append(all_days_df, ignore_index=True)"
   ]
  },
  {
   "cell_type": "code",
   "execution_count": null,
   "metadata": {},
   "outputs": [],
   "source": [
    "overall_df.shape"
   ]
  },
  {
   "cell_type": "code",
   "execution_count": null,
   "metadata": {},
   "outputs": [],
   "source": [
    "overall_df[\"hex_bins\"] = list_bins_windows_flat"
   ]
  },
  {
   "cell_type": "code",
   "execution_count": null,
   "metadata": {},
   "outputs": [],
   "source": [
    "overall_df.head()"
   ]
  },
  {
   "cell_type": "code",
   "execution_count": null,
   "metadata": {},
   "outputs": [],
   "source": [
    "print(overall_df.groupby(\"hex_bins\").dates.count())\n",
    "print(\"____________________________\")\n",
    "print(\"Number of bins:\", len(overall_df.groupby(\"hex_bins\").dates.count()))"
   ]
  },
  {
   "cell_type": "code",
   "execution_count": null,
   "metadata": {},
   "outputs": [],
   "source": []
  }
 ],
 "metadata": {
  "kernelspec": {
   "display_name": "Python [conda env:nairobi_ambulance] *",
   "language": "python",
   "name": "conda-env-nairobi_ambulance-py"
  },
  "language_info": {
   "codemirror_mode": {
    "name": "ipython",
    "version": 3
   },
   "file_extension": ".py",
   "mimetype": "text/x-python",
   "name": "python",
   "nbconvert_exporter": "python",
   "pygments_lexer": "ipython3",
   "version": "3.8.5"
  }
 },
 "nbformat": 4,
 "nbformat_minor": 4
}

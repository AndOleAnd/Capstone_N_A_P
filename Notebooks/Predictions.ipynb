{
 "cells": [
  {
   "cell_type": "code",
   "execution_count": 1,
   "metadata": {},
   "outputs": [],
   "source": [
    "import math\n",
    "import pandas as pd \n",
    "import geopandas as gpd\n",
    "import numpy as np\n",
    "\n",
    "import matplotlib.pyplot as plt\n",
    "\n",
    "import h3 # h3 bins from uber"
   ]
  },
  {
   "cell_type": "markdown",
   "metadata": {},
   "source": [
    "## Loading helper functions"
   ]
  },
  {
   "cell_type": "markdown",
   "metadata": {},
   "source": [
    "These functions have been copied over from notebooks that already exist for this project. Ideally, these would be imported from a module."
   ]
  },
  {
   "cell_type": "code",
   "execution_count": 2,
   "metadata": {},
   "outputs": [],
   "source": [
    "#Loading the data\n",
    "def create_crash_df(train_file = '../Inputs/Train.csv'):  \n",
    "    crash_df = pd.read_csv(train_file, parse_dates=['datetime'])\n",
    "    return crash_df\n",
    "\n",
    "#Creating temporal features like months, weekdays, etc.\n",
    "def create_temporal_features(df):\n",
    "    dict_windows = {1: \"00-03\", 2: \"03-06\", 3: \"06-09\", 4: \"09-12\", 5: \"12-15\", 6: \"15-18\", 7: \"18-21\", 8: \"21-24\"}\n",
    "    dict_months = {1: \"Jan\", 2: \"Feb\", 3: \"Mar\", 4: \"Apr\", 5: \"May\", 6: \"Jun\",\n",
    "               7: \"Jul\", 8: \"Aug\", 9: \"Sep\", 10: \"Oct\", 11: \"Nov\", 12: \"Dec\"}\n",
    "    df[\"time_window\"] = df[\"datetime\"].apply(lambda x: math.floor(x.hour / 3) + 1)\n",
    "    df[\"time_window_str\"] = df[\"time_window\"].apply(lambda x: dict_windows.get(x))\n",
    "    df[\"day\"] = df[\"datetime\"].apply(lambda x: x.day)\n",
    "    df[\"month\"] = df[\"datetime\"].apply(lambda x: dict_months.get(x.month))\n",
    "    df[\"year\"] = df[\"datetime\"].apply(lambda x: x.year)\n",
    "    df[\"weekday\"] = df[\"datetime\"].apply(lambda x: x.weekday())\n",
    "    return df\n",
    "\n",
    "#Exporting the dataframe back to csv\n",
    "def export_df_to_csv(df,path_file='../Inputs/train_h3.csv'):\n",
    "    df.to_csv(path_file,index=False)\n",
    "    print(f'file created {path_file}') \n",
    "\n",
    "#Joins provided data sets for road segments into one file, indicating latitude and longitude for each segment. This enables placement in h3 bins.    \n",
    "def join_segment_files(path='../Inputs/', road_surveys='Segment_info.csv',segments_geometry='segments_geometry.geojson'):\n",
    "    ''' \n",
    "        Load the survey data, Load the segment geometry, Join the two segment dfs.\n",
    "        return a combined dataframe\n",
    "    '''\n",
    "    road_surveys = pd.read_csv(path+road_surveys)\n",
    "    road_segment_locs = gpd.read_file(path+segments_geometry)\n",
    "    segments_merged = pd.merge(road_segment_locs, road_surveys, on='segment_id', how='left')\n",
    "    segments_merged[\"longitude\"] = segments_merged.geometry.centroid.x\n",
    "    segments_merged[\"latitude\"] = segments_merged.geometry.centroid.y\n",
    "    segments_merged = assign_hexbin(segments_merged)\n",
    "    return segments_merged\n",
    "\n",
    "#Defines time clusters, see docstring for more info\n",
    "def assign_TW_cluster(weekday, time_window, holiday=0, strategy='baseline'):\n",
    "    '''\n",
    "    Can be used in a lambda function to return the time window cluster for a given day and time window.\n",
    "    e.g. crash_df[\"cluster\"] = crash_df.apply(lambda x: return_TW_cluster(x.weekday, x.time_window_str) ,axis=1)\n",
    "    This is called by the function: create_cluster_feature.\n",
    "    '''\n",
    "    if strategy == 'baseline':\n",
    "        return 'baseline'\n",
    "    \n",
    "    if strategy == 'mean_shift_modified':\n",
    "        if weekday == 7:\n",
    "            return 'off_peak'        \n",
    "        elif weekday == 6:\n",
    "            return 'off_peak'\n",
    "        elif weekday in [0,1,2,3,4]:\n",
    "            if time_window in [\"06-09\"]:\n",
    "                return 'peak'\n",
    "            elif time_window in [\"09-12\", \"12-15\", \"15-18\", \"18-21\"]:\n",
    "                return 'middle'\n",
    "            elif time_window in [\"00-03\", \"03-06\", \"21-24\"]:\n",
    "                return 'off_peak'    \n",
    "        elif weekday == 5:\n",
    "            if time_window in [\"06-09\", \"12-15\", \"15-18\", \"18-21\"]:\n",
    "                return 'middle'\n",
    "            elif time_window in [\"00-03\", \"03-06\", \"21-24\"]:\n",
    "                return 'off_peak'\n",
    "            elif time_window in [\"09-12\"]:\n",
    "                return 'peak'\n",
    "    \n",
    "    elif strategy == 'saturday_2':\n",
    "        if weekday == 7:\n",
    "            return 'off_peak'        \n",
    "        elif weekday == 6:\n",
    "            return 'off_peak'\n",
    "        elif weekday in [0,1,2,3,4]:\n",
    "            if time_window in [\"06-09\"]:\n",
    "                return 'peak'\n",
    "            elif time_window in [\"09-12\", \"12-15\", \"15-18\", \"18-21\"]:\n",
    "                return 'middle'\n",
    "            elif time_window in [\"00-03\", \"03-06\", \"21-24\"]:\n",
    "                return 'off_peak'    \n",
    "        elif weekday == 5:\n",
    "            if time_window in [\"06-09\", \"12-15\", \"15-18\", \"18-21\"]:\n",
    "                return 'saturday_busy'\n",
    "            elif time_window in [\"00-03\", \"03-06\", \"21-24\"]:\n",
    "                return 'off_peak'\n",
    "            elif time_window in [\"09-12\"]:\n",
    "                return 'saturday_busy'    \n",
    "    \n",
    "    elif strategy == 'holiday_7':\n",
    "        if weekday == 7:\n",
    "            return 'holiday'        \n",
    "        elif weekday == 6:\n",
    "            return 'sunday'\n",
    "        elif weekday in [0,1,2,3,4]:\n",
    "            if time_window in [\"06-09\"]:\n",
    "                return 'peak'\n",
    "            elif time_window in [\"09-12\", \"12-15\", \"15-18\", \"18-21\"]:\n",
    "                return 'middle'\n",
    "            elif time_window in [\"00-03\", \"03-06\", \"21-24\"]:\n",
    "                return 'off_peak'    \n",
    "        elif weekday == 5:\n",
    "            if time_window in [\"06-09\", \"12-15\", \"15-18\", \"18-21\"]:\n",
    "                return 'saturday_busy'\n",
    "            elif time_window in [\"00-03\", \"03-06\", \"21-24\"]:\n",
    "                return 'off_peak'\n",
    "            elif time_window in [\"09-12\"]:\n",
    "                return 'saturday_busy'      \n",
    "\n",
    "    elif strategy == 'holiday_7':\n",
    "        if weekday == 7:\n",
    "            return 'holiday'        \n",
    "        elif weekday == 6:\n",
    "            return 'sunday'\n",
    "        elif weekday in [0,1,2,3,4]:\n",
    "            if time_window in [\"06-09\"]:\n",
    "                return 'peak'\n",
    "            elif time_window in [\"09-12\", \"12-15\", \"15-18\", \"18-21\"]:\n",
    "                return 'middle'\n",
    "            elif time_window in [\"00-03\", \"03-06\", \"21-24\"]:\n",
    "                return 'off_peak'    \n",
    "        elif weekday == 5:\n",
    "            if time_window in [\"06-09\", \"12-15\", \"15-18\", \"18-21\"]:\n",
    "                return 'saturday_busy'\n",
    "            elif time_window in [\"00-03\", \"03-06\", \"21-24\"]:\n",
    "                return 'off_peak'\n",
    "            elif time_window in [\"09-12\"]:\n",
    "                return 'saturday_busy'      \n",
    "    \n",
    "\n",
    "    elif strategy == 'no_cluster':\n",
    "        return (str(weekday)+str(time_window)+str(holiday))\n",
    "\n",
    "#Creates time cluster feature in existing data frame\n",
    "def create_cluster_feature(crash_df, strategy='baseline', verbose=0):\n",
    "    '''\n",
    "    Function takes crash df and creates new column with tw cluster labels.\n",
    "    If verbose is increased, the time window clusters will be visualised.\n",
    "    '''\n",
    "    crash_df[\"cluster\"] = crash_df.apply(lambda x: \n",
    "                                         assign_TW_cluster(weekday=x.weekday,\n",
    "                                                           time_window=x.time_window_str,\n",
    "                                                           strategy=strategy) \n",
    "                                         ,axis=1)\n",
    "    \n",
    "    print(f'{crash_df.cluster.nunique()} clusters created')\n",
    "    if verbose > 1:\n",
    "        tb_clusters = sns.FacetGrid(crash_df,hue='cluster', height=5)\n",
    "        tb_clusters.map(sns.stripplot,'weekday', 'time_window_str', s=20, \n",
    "                                       order = ['00-03', '03-06', '06-09', '09-12', \n",
    "                                                '12-15', '15-18', '18-21', '21-24'],\n",
    "                                    label = 'Time Window Clusters')\n",
    "    return crash_df"
   ]
  },
  {
   "cell_type": "markdown",
   "metadata": {},
   "source": [
    "## Changes to hexbin function"
   ]
  },
  {
   "cell_type": "markdown",
   "metadata": {},
   "source": [
    "To have a cleaner dataframe for each iteration of the pipeline, I adapted the functioning for creating hex bins so that it takes the desired resolution of the h3 bins is taken as an argument by the function - default is set to 6. The major difference is that the function does not add 3 columns at once now but only the resolution that is specified."
   ]
  },
  {
   "cell_type": "code",
   "execution_count": 3,
   "metadata": {},
   "outputs": [],
   "source": [
    "def assign_hexbin(df,lat_column=\"latitude\",lon_column=\"longitude\", hexbin_resolution=6):\n",
    "    '''Assigning hex bins based on h3 classification and latitude and longitude'''\n",
    "    df[\"h3_zone_{}\".format(hexbin_resolution)] = df.apply(lambda x: h3.geo_to_h3(x[lat_column], x[lon_column], hexbin_resolution),axis=1)\n",
    "    return df"
   ]
  },
  {
   "cell_type": "markdown",
   "metadata": {},
   "source": [
    "## Example: How to set up a dataframe for prediction"
   ]
  },
  {
   "cell_type": "markdown",
   "metadata": {},
   "source": [
    "### Step 1: Set up a data frame and group RTA's according to hex bins and time clusters"
   ]
  },
  {
   "cell_type": "markdown",
   "metadata": {},
   "source": [
    "In a first step, the data need to be loaded and temporal features are added and hexbin are assigned to locations based on latitude and longitude."
   ]
  },
  {
   "cell_type": "code",
   "execution_count": 4,
   "metadata": {},
   "outputs": [
    {
     "data": {
      "text/html": [
       "<div>\n",
       "<style scoped>\n",
       "    .dataframe tbody tr th:only-of-type {\n",
       "        vertical-align: middle;\n",
       "    }\n",
       "\n",
       "    .dataframe tbody tr th {\n",
       "        vertical-align: top;\n",
       "    }\n",
       "\n",
       "    .dataframe thead th {\n",
       "        text-align: right;\n",
       "    }\n",
       "</style>\n",
       "<table border=\"1\" class=\"dataframe\">\n",
       "  <thead>\n",
       "    <tr style=\"text-align: right;\">\n",
       "      <th></th>\n",
       "      <th>uid</th>\n",
       "      <th>datetime</th>\n",
       "      <th>latitude</th>\n",
       "      <th>longitude</th>\n",
       "      <th>time_window</th>\n",
       "      <th>time_window_str</th>\n",
       "      <th>day</th>\n",
       "      <th>month</th>\n",
       "      <th>year</th>\n",
       "      <th>weekday</th>\n",
       "      <th>h3_zone_6</th>\n",
       "    </tr>\n",
       "  </thead>\n",
       "  <tbody>\n",
       "    <tr>\n",
       "      <th>0</th>\n",
       "      <td>1</td>\n",
       "      <td>2018-01-01 00:25:46</td>\n",
       "      <td>-1.188850</td>\n",
       "      <td>36.931382</td>\n",
       "      <td>1</td>\n",
       "      <td>00-03</td>\n",
       "      <td>1</td>\n",
       "      <td>Jan</td>\n",
       "      <td>2018</td>\n",
       "      <td>0</td>\n",
       "      <td>867a6e417ffffff</td>\n",
       "    </tr>\n",
       "    <tr>\n",
       "      <th>1</th>\n",
       "      <td>2</td>\n",
       "      <td>2018-01-01 02:02:39</td>\n",
       "      <td>-0.662939</td>\n",
       "      <td>37.208730</td>\n",
       "      <td>1</td>\n",
       "      <td>00-03</td>\n",
       "      <td>1</td>\n",
       "      <td>Jan</td>\n",
       "      <td>2018</td>\n",
       "      <td>0</td>\n",
       "      <td>867a45107ffffff</td>\n",
       "    </tr>\n",
       "  </tbody>\n",
       "</table>\n",
       "</div>"
      ],
      "text/plain": [
       "   uid            datetime  latitude  longitude  time_window time_window_str  \\\n",
       "0    1 2018-01-01 00:25:46 -1.188850  36.931382            1           00-03   \n",
       "1    2 2018-01-01 02:02:39 -0.662939  37.208730            1           00-03   \n",
       "\n",
       "   day month  year  weekday        h3_zone_6  \n",
       "0    1   Jan  2018        0  867a6e417ffffff  \n",
       "1    1   Jan  2018        0  867a45107ffffff  "
      ]
     },
     "execution_count": 4,
     "metadata": {},
     "output_type": "execute_result"
    }
   ],
   "source": [
    "df_raw = create_crash_df()\n",
    "df = create_temporal_features(df_raw)\n",
    "df = assign_hexbin(df)\n",
    "df.head(2)"
   ]
  },
  {
   "cell_type": "markdown",
   "metadata": {},
   "source": [
    "**Assigning RTA's to time clusters and hex bins**\n",
    "\n",
    "First this will only be done for the 18 hex bins that we have the data for. The time clusters assumed are defined as follows:\n",
    "* **peak**: Weekdays from 06-09\n",
    "* **middle**: Weekdays from 09-21 and Saturday from 06-21\n",
    "* **off-peak**: All other time windows (every night from 21-06 and the whole Sunday)"
   ]
  },
  {
   "cell_type": "markdown",
   "metadata": {},
   "source": [
    "Using helper functions to create and assign time cluster features."
   ]
  },
  {
   "cell_type": "code",
   "execution_count": 5,
   "metadata": {},
   "outputs": [
    {
     "name": "stdout",
     "output_type": "stream",
     "text": [
      "3 clusters created\n"
     ]
    }
   ],
   "source": [
    "df_cluster = create_cluster_feature(df, strategy='mean_shift_modified', verbose=0)"
   ]
  },
  {
   "cell_type": "code",
   "execution_count": 6,
   "metadata": {},
   "outputs": [
    {
     "data": {
      "text/html": [
       "<div>\n",
       "<style scoped>\n",
       "    .dataframe tbody tr th:only-of-type {\n",
       "        vertical-align: middle;\n",
       "    }\n",
       "\n",
       "    .dataframe tbody tr th {\n",
       "        vertical-align: top;\n",
       "    }\n",
       "\n",
       "    .dataframe thead th {\n",
       "        text-align: right;\n",
       "    }\n",
       "</style>\n",
       "<table border=\"1\" class=\"dataframe\">\n",
       "  <thead>\n",
       "    <tr style=\"text-align: right;\">\n",
       "      <th></th>\n",
       "      <th>uid</th>\n",
       "      <th>datetime</th>\n",
       "      <th>latitude</th>\n",
       "      <th>longitude</th>\n",
       "      <th>time_window</th>\n",
       "      <th>time_window_str</th>\n",
       "      <th>day</th>\n",
       "      <th>month</th>\n",
       "      <th>year</th>\n",
       "      <th>weekday</th>\n",
       "      <th>h3_zone_6</th>\n",
       "      <th>cluster</th>\n",
       "    </tr>\n",
       "  </thead>\n",
       "  <tbody>\n",
       "    <tr>\n",
       "      <th>6</th>\n",
       "      <td>7</td>\n",
       "      <td>2018-01-01 05:31:17</td>\n",
       "      <td>-1.165228</td>\n",
       "      <td>36.960008</td>\n",
       "      <td>2</td>\n",
       "      <td>03-06</td>\n",
       "      <td>1</td>\n",
       "      <td>Jan</td>\n",
       "      <td>2018</td>\n",
       "      <td>0</td>\n",
       "      <td>867a6e4a7ffffff</td>\n",
       "      <td>off_peak</td>\n",
       "    </tr>\n",
       "    <tr>\n",
       "      <th>7</th>\n",
       "      <td>8</td>\n",
       "      <td>2018-01-01 07:57:56</td>\n",
       "      <td>-1.301303</td>\n",
       "      <td>36.820903</td>\n",
       "      <td>3</td>\n",
       "      <td>06-09</td>\n",
       "      <td>1</td>\n",
       "      <td>Jan</td>\n",
       "      <td>2018</td>\n",
       "      <td>0</td>\n",
       "      <td>867a6e557ffffff</td>\n",
       "      <td>peak</td>\n",
       "    </tr>\n",
       "    <tr>\n",
       "      <th>8</th>\n",
       "      <td>9</td>\n",
       "      <td>2018-01-01 09:57:27</td>\n",
       "      <td>-1.134640</td>\n",
       "      <td>36.848220</td>\n",
       "      <td>4</td>\n",
       "      <td>09-12</td>\n",
       "      <td>1</td>\n",
       "      <td>Jan</td>\n",
       "      <td>2018</td>\n",
       "      <td>0</td>\n",
       "      <td>867a6e4f7ffffff</td>\n",
       "      <td>middle</td>\n",
       "    </tr>\n",
       "    <tr>\n",
       "      <th>9</th>\n",
       "      <td>10</td>\n",
       "      <td>2018-01-01 10:48:59</td>\n",
       "      <td>-1.117207</td>\n",
       "      <td>37.008278</td>\n",
       "      <td>4</td>\n",
       "      <td>09-12</td>\n",
       "      <td>1</td>\n",
       "      <td>Jan</td>\n",
       "      <td>2018</td>\n",
       "      <td>0</td>\n",
       "      <td>867a6e4b7ffffff</td>\n",
       "      <td>middle</td>\n",
       "    </tr>\n",
       "  </tbody>\n",
       "</table>\n",
       "</div>"
      ],
      "text/plain": [
       "   uid            datetime  latitude  longitude  time_window time_window_str  \\\n",
       "6    7 2018-01-01 05:31:17 -1.165228  36.960008            2           03-06   \n",
       "7    8 2018-01-01 07:57:56 -1.301303  36.820903            3           06-09   \n",
       "8    9 2018-01-01 09:57:27 -1.134640  36.848220            4           09-12   \n",
       "9   10 2018-01-01 10:48:59 -1.117207  37.008278            4           09-12   \n",
       "\n",
       "   day month  year  weekday        h3_zone_6   cluster  \n",
       "6    1   Jan  2018        0  867a6e4a7ffffff  off_peak  \n",
       "7    1   Jan  2018        0  867a6e557ffffff      peak  \n",
       "8    1   Jan  2018        0  867a6e4f7ffffff    middle  \n",
       "9    1   Jan  2018        0  867a6e4b7ffffff    middle  "
      ]
     },
     "execution_count": 6,
     "metadata": {},
     "output_type": "execute_result"
    }
   ],
   "source": [
    "df_cluster[6:10]"
   ]
  },
  {
   "cell_type": "markdown",
   "metadata": {},
   "source": [
    "**Helper function for grouping RTA's by hex bin and time cluster**"
   ]
  },
  {
   "cell_type": "code",
   "execution_count": 7,
   "metadata": {},
   "outputs": [],
   "source": [
    "def rta_per_cluster_and_bins(df_cluster):\n",
    "    '''Add up RTA's per hex bin and time custer'''\n",
    "    df_rta = df_cluster.groupby([df_cluster.columns[-2], \"cluster\"]).agg({\"uid\": \"count\"}).reset_index()\n",
    "    col_names = [df_rta.columns[0]] + [df_rta.columns[1]] + [\"RTA\"]\n",
    "    df_rta.columns = col_names\n",
    "    return df_rta"
   ]
  },
  {
   "cell_type": "code",
   "execution_count": 8,
   "metadata": {},
   "outputs": [
    {
     "data": {
      "text/html": [
       "<div>\n",
       "<style scoped>\n",
       "    .dataframe tbody tr th:only-of-type {\n",
       "        vertical-align: middle;\n",
       "    }\n",
       "\n",
       "    .dataframe tbody tr th {\n",
       "        vertical-align: top;\n",
       "    }\n",
       "\n",
       "    .dataframe thead th {\n",
       "        text-align: right;\n",
       "    }\n",
       "</style>\n",
       "<table border=\"1\" class=\"dataframe\">\n",
       "  <thead>\n",
       "    <tr style=\"text-align: right;\">\n",
       "      <th></th>\n",
       "      <th>h3_zone_6</th>\n",
       "      <th>cluster</th>\n",
       "      <th>RTA</th>\n",
       "    </tr>\n",
       "  </thead>\n",
       "  <tbody>\n",
       "    <tr>\n",
       "      <th>0</th>\n",
       "      <td>867a44a6fffffff</td>\n",
       "      <td>middle</td>\n",
       "      <td>1</td>\n",
       "    </tr>\n",
       "    <tr>\n",
       "      <th>1</th>\n",
       "      <td>867a44a6fffffff</td>\n",
       "      <td>off_peak</td>\n",
       "      <td>1</td>\n",
       "    </tr>\n",
       "    <tr>\n",
       "      <th>2</th>\n",
       "      <td>867a44b5fffffff</td>\n",
       "      <td>middle</td>\n",
       "      <td>1</td>\n",
       "    </tr>\n",
       "    <tr>\n",
       "      <th>3</th>\n",
       "      <td>867a44b5fffffff</td>\n",
       "      <td>peak</td>\n",
       "      <td>1</td>\n",
       "    </tr>\n",
       "  </tbody>\n",
       "</table>\n",
       "</div>"
      ],
      "text/plain": [
       "         h3_zone_6   cluster  RTA\n",
       "0  867a44a6fffffff    middle    1\n",
       "1  867a44a6fffffff  off_peak    1\n",
       "2  867a44b5fffffff    middle    1\n",
       "3  867a44b5fffffff      peak    1"
      ]
     },
     "execution_count": 8,
     "metadata": {},
     "output_type": "execute_result"
    }
   ],
   "source": [
    "df_rta = rta_per_cluster_and_bins(df_cluster)\n",
    "df_rta.head(4)"
   ]
  },
  {
   "cell_type": "code",
   "execution_count": 9,
   "metadata": {},
   "outputs": [
    {
     "data": {
      "text/plain": [
       "117"
      ]
     },
     "execution_count": 9,
     "metadata": {},
     "output_type": "execute_result"
    }
   ],
   "source": [
    "df_rta[df_rta.columns[0]].nunique()"
   ]
  },
  {
   "cell_type": "markdown",
   "metadata": {},
   "source": [
    "**Note: We would expect there to be 3*117 rows in this example if there were RTA's for each hex bin during each time cluster over the whole data set. The number of 220 rows indicates that there are around 1/3 of hex bin * time cluster combinations for which there has been no RTA.**"
   ]
  },
  {
   "cell_type": "code",
   "execution_count": 10,
   "metadata": {},
   "outputs": [
    {
     "data": {
      "text/plain": [
       "(220, 3)"
      ]
     },
     "execution_count": 10,
     "metadata": {},
     "output_type": "execute_result"
    }
   ],
   "source": [
    "df_rta.shape"
   ]
  },
  {
   "cell_type": "markdown",
   "metadata": {},
   "source": [
    "Next, we need to create an empty table that contains all hex bins and all time clusters."
   ]
  },
  {
   "cell_type": "markdown",
   "metadata": {},
   "source": [
    "**Helper function to get a list of all unique hex bins per unique time cluster**"
   ]
  },
  {
   "cell_type": "code",
   "execution_count": 11,
   "metadata": {},
   "outputs": [],
   "source": [
    "def get_list_of_h3(df_hex, df_clusters):\n",
    "    '''Create list of unique hex bins times unique time clusters'''\n",
    "    return list(set(df_hex[df_hex.columns[0]])) * df_clusters[\"cluster\"].nunique()"
   ]
  },
  {
   "cell_type": "markdown",
   "metadata": {},
   "source": [
    "Create list of hex bins for empty overall data frame"
   ]
  },
  {
   "cell_type": "code",
   "execution_count": 12,
   "metadata": {},
   "outputs": [],
   "source": [
    "hex_cluster_comb = get_list_of_h3(df_rta, df_cluster)"
   ]
  },
  {
   "cell_type": "markdown",
   "metadata": {},
   "source": [
    "**Helper function to get a list that contains the unique time clusters with a length of the unqiue hex bins each**"
   ]
  },
  {
   "cell_type": "code",
   "execution_count": 13,
   "metadata": {},
   "outputs": [],
   "source": [
    "def get_list_of_states(df_clusters, df_hex):\n",
    "    '''Create list of time clusters'''\n",
    "    states = []\n",
    "    for state in df_clusters[\"cluster\"].unique():\n",
    "        states += ([state] * df_hex[df_hex.columns[0]].nunique())\n",
    "    return states"
   ]
  },
  {
   "cell_type": "markdown",
   "metadata": {},
   "source": [
    "Create list of time clusters for empty data frame"
   ]
  },
  {
   "cell_type": "code",
   "execution_count": 14,
   "metadata": {},
   "outputs": [],
   "source": [
    "states = get_list_of_states(df_cluster, df_rta)"
   ]
  },
  {
   "cell_type": "markdown",
   "metadata": {},
   "source": [
    "**Helper function to create empty data frame of format hex bins * time clusters**"
   ]
  },
  {
   "cell_type": "code",
   "execution_count": 15,
   "metadata": {},
   "outputs": [],
   "source": [
    "def create_empty_df(list_hex_bins, list_time_clusters):\n",
    "    '''Create an empty data frame of format hex bins * time clusters'''\n",
    "    df_empty = pd.DataFrame(data=[list_hex_bins, list_time_clusters]).T\n",
    "    df_empty.columns = [df_rta.columns[0], \"cluster\"]\n",
    "    return df_empty"
   ]
  },
  {
   "cell_type": "markdown",
   "metadata": {},
   "source": [
    "Create empty data frame"
   ]
  },
  {
   "cell_type": "code",
   "execution_count": 16,
   "metadata": {},
   "outputs": [],
   "source": [
    "df_empty = create_empty_df(hex_cluster_comb, states)"
   ]
  },
  {
   "cell_type": "markdown",
   "metadata": {},
   "source": [
    "**Next we are gonna \"outer\" merge the empty table (fill it) with our RTA's per hex bin and time cluster**"
   ]
  },
  {
   "cell_type": "code",
   "execution_count": 17,
   "metadata": {},
   "outputs": [],
   "source": [
    "def fill_df_hex_rta(df_empty, df_rta):\n",
    "    '''Join road traffic accidents onto empty data frame'''\n",
    "    df_merged = pd.merge(df_empty, df_rta, on=[df_empty.columns[0], df_empty.columns[1]], how=\"outer\")\n",
    "    df_filled = df_merged.fillna(0)\n",
    "    df_filled = df_filled.sort_values(by=[df_empty.columns[0], df_empty.columns[1]])\n",
    "    return df_filled"
   ]
  },
  {
   "cell_type": "markdown",
   "metadata": {},
   "source": [
    "Fill data frame"
   ]
  },
  {
   "cell_type": "code",
   "execution_count": 18,
   "metadata": {},
   "outputs": [],
   "source": [
    "df_filled = fill_df_hex_rta(df_empty, df_rta)"
   ]
  },
  {
   "cell_type": "code",
   "execution_count": 19,
   "metadata": {},
   "outputs": [
    {
     "name": "stdout",
     "output_type": "stream",
     "text": [
      "<class 'pandas.core.frame.DataFrame'>\n",
      "Int64Index: 351 entries, 310 to 160\n",
      "Data columns (total 3 columns):\n",
      " #   Column     Non-Null Count  Dtype  \n",
      "---  ------     --------------  -----  \n",
      " 0   h3_zone_6  351 non-null    object \n",
      " 1   cluster    351 non-null    object \n",
      " 2   RTA        351 non-null    float64\n",
      "dtypes: float64(1), object(2)\n",
      "memory usage: 11.0+ KB\n"
     ]
    }
   ],
   "source": [
    "df_filled.info()"
   ]
  },
  {
   "cell_type": "code",
   "execution_count": 20,
   "metadata": {},
   "outputs": [
    {
     "data": {
      "text/html": [
       "<div>\n",
       "<style scoped>\n",
       "    .dataframe tbody tr th:only-of-type {\n",
       "        vertical-align: middle;\n",
       "    }\n",
       "\n",
       "    .dataframe tbody tr th {\n",
       "        vertical-align: top;\n",
       "    }\n",
       "\n",
       "    .dataframe thead th {\n",
       "        text-align: right;\n",
       "    }\n",
       "</style>\n",
       "<table border=\"1\" class=\"dataframe\">\n",
       "  <thead>\n",
       "    <tr style=\"text-align: right;\">\n",
       "      <th></th>\n",
       "      <th>h3_zone_6</th>\n",
       "      <th>cluster</th>\n",
       "      <th>RTA</th>\n",
       "    </tr>\n",
       "  </thead>\n",
       "  <tbody>\n",
       "    <tr>\n",
       "      <th>60</th>\n",
       "      <td>867a45077ffffff</td>\n",
       "      <td>off_peak</td>\n",
       "      <td>0.0</td>\n",
       "    </tr>\n",
       "    <tr>\n",
       "      <th>177</th>\n",
       "      <td>867a45077ffffff</td>\n",
       "      <td>peak</td>\n",
       "      <td>0.0</td>\n",
       "    </tr>\n",
       "    <tr>\n",
       "      <th>315</th>\n",
       "      <td>867a45107ffffff</td>\n",
       "      <td>middle</td>\n",
       "      <td>4.0</td>\n",
       "    </tr>\n",
       "    <tr>\n",
       "      <th>81</th>\n",
       "      <td>867a45107ffffff</td>\n",
       "      <td>off_peak</td>\n",
       "      <td>3.0</td>\n",
       "    </tr>\n",
       "    <tr>\n",
       "      <th>198</th>\n",
       "      <td>867a45107ffffff</td>\n",
       "      <td>peak</td>\n",
       "      <td>0.0</td>\n",
       "    </tr>\n",
       "    <tr>\n",
       "      <th>283</th>\n",
       "      <td>867a4511fffffff</td>\n",
       "      <td>middle</td>\n",
       "      <td>1.0</td>\n",
       "    </tr>\n",
       "    <tr>\n",
       "      <th>49</th>\n",
       "      <td>867a4511fffffff</td>\n",
       "      <td>off_peak</td>\n",
       "      <td>0.0</td>\n",
       "    </tr>\n",
       "    <tr>\n",
       "      <th>166</th>\n",
       "      <td>867a4511fffffff</td>\n",
       "      <td>peak</td>\n",
       "      <td>0.0</td>\n",
       "    </tr>\n",
       "    <tr>\n",
       "      <th>280</th>\n",
       "      <td>867a4512fffffff</td>\n",
       "      <td>middle</td>\n",
       "      <td>1.0</td>\n",
       "    </tr>\n",
       "    <tr>\n",
       "      <th>46</th>\n",
       "      <td>867a4512fffffff</td>\n",
       "      <td>off_peak</td>\n",
       "      <td>0.0</td>\n",
       "    </tr>\n",
       "  </tbody>\n",
       "</table>\n",
       "</div>"
      ],
      "text/plain": [
       "           h3_zone_6   cluster  RTA\n",
       "60   867a45077ffffff  off_peak  0.0\n",
       "177  867a45077ffffff      peak  0.0\n",
       "315  867a45107ffffff    middle  4.0\n",
       "81   867a45107ffffff  off_peak  3.0\n",
       "198  867a45107ffffff      peak  0.0\n",
       "283  867a4511fffffff    middle  1.0\n",
       "49   867a4511fffffff  off_peak  0.0\n",
       "166  867a4511fffffff      peak  0.0\n",
       "280  867a4512fffffff    middle  1.0\n",
       "46   867a4512fffffff  off_peak  0.0"
      ]
     },
     "execution_count": 20,
     "metadata": {},
     "output_type": "execute_result"
    }
   ],
   "source": [
    "df_filled[10:20]"
   ]
  },
  {
   "cell_type": "markdown",
   "metadata": {},
   "source": [
    "### Step 2: Merge and process segment data"
   ]
  },
  {
   "cell_type": "markdown",
   "metadata": {},
   "source": [
    "All segment data is merged."
   ]
  },
  {
   "cell_type": "code",
   "execution_count": 21,
   "metadata": {},
   "outputs": [
    {
     "name": "stderr",
     "output_type": "stream",
     "text": [
      "<ipython-input-2-b671da0cbe3a>:33: UserWarning: Geometry is in a geographic CRS. Results from 'centroid' are likely incorrect. Use 'GeoSeries.to_crs()' to re-project geometries to a projected CRS before this operation.\n",
      "\n",
      "  segments_merged[\"longitude\"] = segments_merged.geometry.centroid.x\n",
      "<ipython-input-2-b671da0cbe3a>:34: UserWarning: Geometry is in a geographic CRS. Results from 'centroid' are likely incorrect. Use 'GeoSeries.to_crs()' to re-project geometries to a projected CRS before this operation.\n",
      "\n",
      "  segments_merged[\"latitude\"] = segments_merged.geometry.centroid.y\n"
     ]
    },
    {
     "data": {
      "text/html": [
       "<div>\n",
       "<style scoped>\n",
       "    .dataframe tbody tr th:only-of-type {\n",
       "        vertical-align: middle;\n",
       "    }\n",
       "\n",
       "    .dataframe tbody tr th {\n",
       "        vertical-align: top;\n",
       "    }\n",
       "\n",
       "    .dataframe thead th {\n",
       "        text-align: right;\n",
       "    }\n",
       "</style>\n",
       "<table border=\"1\" class=\"dataframe\">\n",
       "  <thead>\n",
       "    <tr style=\"text-align: right;\">\n",
       "      <th></th>\n",
       "      <th>segment_id</th>\n",
       "      <th>road_name</th>\n",
       "      <th>geometry</th>\n",
       "      <th>side</th>\n",
       "      <th>25_48</th>\n",
       "      <th>79_76</th>\n",
       "      <th>79_65</th>\n",
       "      <th>79_39</th>\n",
       "      <th>28_78_50</th>\n",
       "      <th>55_90</th>\n",
       "      <th>...</th>\n",
       "      <th>80_97_61_65_16</th>\n",
       "      <th>80_97_61_39_0</th>\n",
       "      <th>80_97_61_39_10</th>\n",
       "      <th>80_97_61_39_11</th>\n",
       "      <th>80_97_61_39_12</th>\n",
       "      <th>80_97_61_39_15</th>\n",
       "      <th>80_97_61_39_16</th>\n",
       "      <th>longitude</th>\n",
       "      <th>latitude</th>\n",
       "      <th>h3_zone_6</th>\n",
       "    </tr>\n",
       "  </thead>\n",
       "  <tbody>\n",
       "    <tr>\n",
       "      <th>0</th>\n",
       "      <td>28_1</td>\n",
       "      <td>accra road-tertiary</td>\n",
       "      <td>LINESTRING (36.82603 -1.28447, 36.82605 -1.284...</td>\n",
       "      <td>1</td>\n",
       "      <td>1</td>\n",
       "      <td>0</td>\n",
       "      <td>4</td>\n",
       "      <td>4</td>\n",
       "      <td>0.0</td>\n",
       "      <td>5</td>\n",
       "      <td>...</td>\n",
       "      <td>0.0</td>\n",
       "      <td>0.0</td>\n",
       "      <td>1.0</td>\n",
       "      <td>0.0</td>\n",
       "      <td>0.0</td>\n",
       "      <td>0.0</td>\n",
       "      <td>0.0</td>\n",
       "      <td>36.826302</td>\n",
       "      <td>-1.284096</td>\n",
       "      <td>867a6e42fffffff</td>\n",
       "    </tr>\n",
       "    <tr>\n",
       "      <th>1</th>\n",
       "      <td>28_1</td>\n",
       "      <td>accra road-tertiary</td>\n",
       "      <td>LINESTRING (36.82603 -1.28447, 36.82605 -1.284...</td>\n",
       "      <td>2</td>\n",
       "      <td>1</td>\n",
       "      <td>0</td>\n",
       "      <td>4</td>\n",
       "      <td>4</td>\n",
       "      <td>0.0</td>\n",
       "      <td>5</td>\n",
       "      <td>...</td>\n",
       "      <td>0.0</td>\n",
       "      <td>0.0</td>\n",
       "      <td>1.0</td>\n",
       "      <td>0.0</td>\n",
       "      <td>0.0</td>\n",
       "      <td>0.0</td>\n",
       "      <td>0.0</td>\n",
       "      <td>36.826302</td>\n",
       "      <td>-1.284096</td>\n",
       "      <td>867a6e42fffffff</td>\n",
       "    </tr>\n",
       "  </tbody>\n",
       "</table>\n",
       "<p>2 rows × 233 columns</p>\n",
       "</div>"
      ],
      "text/plain": [
       "  segment_id            road_name  \\\n",
       "0       28_1  accra road-tertiary   \n",
       "1       28_1  accra road-tertiary   \n",
       "\n",
       "                                            geometry  side  25_48  79_76  \\\n",
       "0  LINESTRING (36.82603 -1.28447, 36.82605 -1.284...     1      1      0   \n",
       "1  LINESTRING (36.82603 -1.28447, 36.82605 -1.284...     2      1      0   \n",
       "\n",
       "   79_65  79_39  28_78_50  55_90  ...  80_97_61_65_16  80_97_61_39_0  \\\n",
       "0      4      4       0.0      5  ...             0.0            0.0   \n",
       "1      4      4       0.0      5  ...             0.0            0.0   \n",
       "\n",
       "   80_97_61_39_10  80_97_61_39_11  80_97_61_39_12  80_97_61_39_15  \\\n",
       "0             1.0             0.0             0.0             0.0   \n",
       "1             1.0             0.0             0.0             0.0   \n",
       "\n",
       "   80_97_61_39_16  longitude  latitude        h3_zone_6  \n",
       "0             0.0  36.826302 -1.284096  867a6e42fffffff  \n",
       "1             0.0  36.826302 -1.284096  867a6e42fffffff  \n",
       "\n",
       "[2 rows x 233 columns]"
      ]
     },
     "execution_count": 21,
     "metadata": {},
     "output_type": "execute_result"
    }
   ],
   "source": [
    "segments_merged = join_segment_files()\n",
    "segments_merged.head(2)"
   ]
  },
  {
   "cell_type": "markdown",
   "metadata": {},
   "source": [
    "**New helper function for dropping irrelevant columns**"
   ]
  },
  {
   "cell_type": "code",
   "execution_count": 22,
   "metadata": {},
   "outputs": [],
   "source": [
    "def drop_segment_columns(df):\n",
    "    '''Only columns (features) that are potentially relevant for prediction are kept'''\n",
    "    df = df.drop([\"segment_id\", \"road_name\", \"geometry\", \"side\", \"longitude\", \"latitude\"], axis=1)\n",
    "    return df"
   ]
  },
  {
   "cell_type": "markdown",
   "metadata": {},
   "source": [
    "Dropping irrelevant columns from data frame."
   ]
  },
  {
   "cell_type": "code",
   "execution_count": 23,
   "metadata": {},
   "outputs": [
    {
     "data": {
      "text/html": [
       "<div>\n",
       "<style scoped>\n",
       "    .dataframe tbody tr th:only-of-type {\n",
       "        vertical-align: middle;\n",
       "    }\n",
       "\n",
       "    .dataframe tbody tr th {\n",
       "        vertical-align: top;\n",
       "    }\n",
       "\n",
       "    .dataframe thead th {\n",
       "        text-align: right;\n",
       "    }\n",
       "</style>\n",
       "<table border=\"1\" class=\"dataframe\">\n",
       "  <thead>\n",
       "    <tr style=\"text-align: right;\">\n",
       "      <th></th>\n",
       "      <th>25_48</th>\n",
       "      <th>79_76</th>\n",
       "      <th>79_65</th>\n",
       "      <th>79_39</th>\n",
       "      <th>28_78_50</th>\n",
       "      <th>55_90</th>\n",
       "      <th>26_76</th>\n",
       "      <th>92_30</th>\n",
       "      <th>62_51</th>\n",
       "      <th>62_51_27</th>\n",
       "      <th>...</th>\n",
       "      <th>80_97_61_65_12</th>\n",
       "      <th>80_97_61_65_15</th>\n",
       "      <th>80_97_61_65_16</th>\n",
       "      <th>80_97_61_39_0</th>\n",
       "      <th>80_97_61_39_10</th>\n",
       "      <th>80_97_61_39_11</th>\n",
       "      <th>80_97_61_39_12</th>\n",
       "      <th>80_97_61_39_15</th>\n",
       "      <th>80_97_61_39_16</th>\n",
       "      <th>h3_zone_6</th>\n",
       "    </tr>\n",
       "  </thead>\n",
       "  <tbody>\n",
       "    <tr>\n",
       "      <th>0</th>\n",
       "      <td>1</td>\n",
       "      <td>0</td>\n",
       "      <td>4</td>\n",
       "      <td>4</td>\n",
       "      <td>0.0</td>\n",
       "      <td>5</td>\n",
       "      <td>0</td>\n",
       "      <td>3</td>\n",
       "      <td>1</td>\n",
       "      <td>1</td>\n",
       "      <td>...</td>\n",
       "      <td>0.0</td>\n",
       "      <td>0.0</td>\n",
       "      <td>0.0</td>\n",
       "      <td>0.0</td>\n",
       "      <td>1.0</td>\n",
       "      <td>0.0</td>\n",
       "      <td>0.0</td>\n",
       "      <td>0.0</td>\n",
       "      <td>0.0</td>\n",
       "      <td>867a6e42fffffff</td>\n",
       "    </tr>\n",
       "    <tr>\n",
       "      <th>1</th>\n",
       "      <td>1</td>\n",
       "      <td>0</td>\n",
       "      <td>4</td>\n",
       "      <td>4</td>\n",
       "      <td>0.0</td>\n",
       "      <td>5</td>\n",
       "      <td>0</td>\n",
       "      <td>3</td>\n",
       "      <td>1</td>\n",
       "      <td>1</td>\n",
       "      <td>...</td>\n",
       "      <td>0.0</td>\n",
       "      <td>0.0</td>\n",
       "      <td>0.0</td>\n",
       "      <td>0.0</td>\n",
       "      <td>1.0</td>\n",
       "      <td>0.0</td>\n",
       "      <td>0.0</td>\n",
       "      <td>0.0</td>\n",
       "      <td>0.0</td>\n",
       "      <td>867a6e42fffffff</td>\n",
       "    </tr>\n",
       "  </tbody>\n",
       "</table>\n",
       "<p>2 rows × 227 columns</p>\n",
       "</div>"
      ],
      "text/plain": [
       "   25_48  79_76  79_65  79_39  28_78_50  55_90  26_76  92_30  62_51  62_51_27  \\\n",
       "0      1      0      4      4       0.0      5      0      3      1         1   \n",
       "1      1      0      4      4       0.0      5      0      3      1         1   \n",
       "\n",
       "   ...  80_97_61_65_12  80_97_61_65_15  80_97_61_65_16  80_97_61_39_0  \\\n",
       "0  ...             0.0             0.0             0.0            0.0   \n",
       "1  ...             0.0             0.0             0.0            0.0   \n",
       "\n",
       "   80_97_61_39_10  80_97_61_39_11  80_97_61_39_12  80_97_61_39_15  \\\n",
       "0             1.0             0.0             0.0             0.0   \n",
       "1             1.0             0.0             0.0             0.0   \n",
       "\n",
       "   80_97_61_39_16        h3_zone_6  \n",
       "0             0.0  867a6e42fffffff  \n",
       "1             0.0  867a6e42fffffff  \n",
       "\n",
       "[2 rows x 227 columns]"
      ]
     },
     "execution_count": 23,
     "metadata": {},
     "output_type": "execute_result"
    }
   ],
   "source": [
    "df_segments = drop_segment_columns(segments_merged)\n",
    "df_segments.head(2)"
   ]
  },
  {
   "cell_type": "markdown",
   "metadata": {},
   "source": [
    "**New helper function for assigning column names to segment data**"
   ]
  },
  {
   "cell_type": "code",
   "execution_count": 24,
   "metadata": {},
   "outputs": [],
   "source": [
    "def col_names_segments(df):\n",
    "    '''Rename all columns but keep name of hex bin column'''\n",
    "    new_names = [i+1 for i in range(len(df.columns) - 1)]\n",
    "    # Keep the last column named as the respective hex bin resolution\n",
    "    df.columns = new_names + [df.columns[-1]]\n",
    "    return df"
   ]
  },
  {
   "cell_type": "markdown",
   "metadata": {},
   "source": [
    "Renaming columns in segment data frame."
   ]
  },
  {
   "cell_type": "code",
   "execution_count": 25,
   "metadata": {},
   "outputs": [
    {
     "data": {
      "text/html": [
       "<div>\n",
       "<style scoped>\n",
       "    .dataframe tbody tr th:only-of-type {\n",
       "        vertical-align: middle;\n",
       "    }\n",
       "\n",
       "    .dataframe tbody tr th {\n",
       "        vertical-align: top;\n",
       "    }\n",
       "\n",
       "    .dataframe thead th {\n",
       "        text-align: right;\n",
       "    }\n",
       "</style>\n",
       "<table border=\"1\" class=\"dataframe\">\n",
       "  <thead>\n",
       "    <tr style=\"text-align: right;\">\n",
       "      <th></th>\n",
       "      <th>1</th>\n",
       "      <th>2</th>\n",
       "      <th>3</th>\n",
       "      <th>4</th>\n",
       "      <th>5</th>\n",
       "      <th>6</th>\n",
       "      <th>7</th>\n",
       "      <th>8</th>\n",
       "      <th>9</th>\n",
       "      <th>10</th>\n",
       "      <th>...</th>\n",
       "      <th>218</th>\n",
       "      <th>219</th>\n",
       "      <th>220</th>\n",
       "      <th>221</th>\n",
       "      <th>222</th>\n",
       "      <th>223</th>\n",
       "      <th>224</th>\n",
       "      <th>225</th>\n",
       "      <th>226</th>\n",
       "      <th>h3_zone_6</th>\n",
       "    </tr>\n",
       "  </thead>\n",
       "  <tbody>\n",
       "    <tr>\n",
       "      <th>0</th>\n",
       "      <td>1</td>\n",
       "      <td>0</td>\n",
       "      <td>4</td>\n",
       "      <td>4</td>\n",
       "      <td>0.0</td>\n",
       "      <td>5</td>\n",
       "      <td>0</td>\n",
       "      <td>3</td>\n",
       "      <td>1</td>\n",
       "      <td>1</td>\n",
       "      <td>...</td>\n",
       "      <td>0.0</td>\n",
       "      <td>0.0</td>\n",
       "      <td>0.0</td>\n",
       "      <td>0.0</td>\n",
       "      <td>1.0</td>\n",
       "      <td>0.0</td>\n",
       "      <td>0.0</td>\n",
       "      <td>0.0</td>\n",
       "      <td>0.0</td>\n",
       "      <td>867a6e42fffffff</td>\n",
       "    </tr>\n",
       "    <tr>\n",
       "      <th>1</th>\n",
       "      <td>1</td>\n",
       "      <td>0</td>\n",
       "      <td>4</td>\n",
       "      <td>4</td>\n",
       "      <td>0.0</td>\n",
       "      <td>5</td>\n",
       "      <td>0</td>\n",
       "      <td>3</td>\n",
       "      <td>1</td>\n",
       "      <td>1</td>\n",
       "      <td>...</td>\n",
       "      <td>0.0</td>\n",
       "      <td>0.0</td>\n",
       "      <td>0.0</td>\n",
       "      <td>0.0</td>\n",
       "      <td>1.0</td>\n",
       "      <td>0.0</td>\n",
       "      <td>0.0</td>\n",
       "      <td>0.0</td>\n",
       "      <td>0.0</td>\n",
       "      <td>867a6e42fffffff</td>\n",
       "    </tr>\n",
       "  </tbody>\n",
       "</table>\n",
       "<p>2 rows × 227 columns</p>\n",
       "</div>"
      ],
      "text/plain": [
       "   1  2  3  4    5  6  7  8  9  10  ...  218  219  220  221  222  223  224  \\\n",
       "0  1  0  4  4  0.0  5  0  3  1   1  ...  0.0  0.0  0.0  0.0  1.0  0.0  0.0   \n",
       "1  1  0  4  4  0.0  5  0  3  1   1  ...  0.0  0.0  0.0  0.0  1.0  0.0  0.0   \n",
       "\n",
       "   225  226        h3_zone_6  \n",
       "0  0.0  0.0  867a6e42fffffff  \n",
       "1  0.0  0.0  867a6e42fffffff  \n",
       "\n",
       "[2 rows x 227 columns]"
      ]
     },
     "execution_count": 25,
     "metadata": {},
     "output_type": "execute_result"
    }
   ],
   "source": [
    "df_segments = col_names_segments(df_segments)\n",
    "df_segments.head(2)"
   ]
  },
  {
   "cell_type": "markdown",
   "metadata": {},
   "source": [
    "**Helper function for automatically identifying the type of a feature**"
   ]
  },
  {
   "cell_type": "markdown",
   "metadata": {},
   "source": [
    "1. we will attempt to identify all columns with categorical information. These should only contain the values 0 or 1. \n",
    "2. Second, we will identify those columns that hold percentage data. The assumption is that they only contain values between 0 and 1 but unlike categorical columns, also have other values than 0 and 1.\n",
    "3. Last, we classsify all remaining columns as holding count data."
   ]
  },
  {
   "cell_type": "code",
   "execution_count": 26,
   "metadata": {},
   "outputs": [],
   "source": [
    "def col_type_identifier(df):\n",
    "    '''Assigns columns to either be of type boolean, percentage or count and returns a list with the column indices for each type'''\n",
    "    list_boolean = []\n",
    "    list_percentages = []\n",
    "    list_counts = []\n",
    "    hexbins = [df.columns[-1]]\n",
    "    for col in df.columns:\n",
    "        if (df[col].max() == 1) and (df[col].min() == 0):\n",
    "            if df[col].sum() % 1 == 0:\n",
    "                list_boolean.append(col)\n",
    "            else:\n",
    "                list_percentages.append(col)\n",
    "        elif df[col].dtype == \"object\":\n",
    "            break\n",
    "        else:\n",
    "            list_counts.append(col)\n",
    "    #Need to add the last column to the lists to keep the hex bins in each sub data frame\n",
    "    return list_boolean + hexbins, list_counts + hexbins, list_percentages + hexbins"
   ]
  },
  {
   "cell_type": "markdown",
   "metadata": {},
   "source": [
    "Sorting columns into different types and receiving three lists with the corresponding columns indices"
   ]
  },
  {
   "cell_type": "code",
   "execution_count": 27,
   "metadata": {},
   "outputs": [],
   "source": [
    "booleans, counts, percentages = col_type_identifier(df_segments)"
   ]
  },
  {
   "cell_type": "markdown",
   "metadata": {},
   "source": [
    "**Helper function aggregating the column values over the defined h3 bins according to their type (boolean, count or percentage)**"
   ]
  },
  {
   "cell_type": "code",
   "execution_count": 28,
   "metadata": {},
   "outputs": [],
   "source": [
    "def df_split_types(df, booleans, counts, percentages, count_agg_type=np.sum, bool_agg_type=np.sum, perc_agg_type=np.mean):\n",
    "    '''Splits overall data frame into data frames of different types and uses specified aggregration function for each of them'''\n",
    "    df_bools = df.loc[:,booleans]\n",
    "    df_count = df.loc[:,counts]\n",
    "    df_perc = df.loc[:,percentages]\n",
    "    \n",
    "    hexbins = df.columns[-1]\n",
    "\n",
    "    df_count_grouped = df_count.groupby(hexbins).agg(count_agg_type).reset_index()\n",
    "    df_bool_grouped = df_bools.groupby(hexbins).agg(bool_agg_type).reset_index()\n",
    "    #Currently commented out because contains no values for our input data\n",
    "    #df_perc_grouped = df_perc.groupby(hexbins).agg(perc_agg_type).reset_index()\n",
    "    \n",
    "    return df_count_grouped, df_bool_grouped # df_perc_grouped "
   ]
  },
  {
   "cell_type": "code",
   "execution_count": 29,
   "metadata": {},
   "outputs": [],
   "source": [
    "df_counts, df_bools = df_split_types(df_segments, booleans, counts, percentages)"
   ]
  },
  {
   "cell_type": "code",
   "execution_count": 30,
   "metadata": {},
   "outputs": [
    {
     "data": {
      "text/html": [
       "<div>\n",
       "<style scoped>\n",
       "    .dataframe tbody tr th:only-of-type {\n",
       "        vertical-align: middle;\n",
       "    }\n",
       "\n",
       "    .dataframe tbody tr th {\n",
       "        vertical-align: top;\n",
       "    }\n",
       "\n",
       "    .dataframe thead th {\n",
       "        text-align: right;\n",
       "    }\n",
       "</style>\n",
       "<table border=\"1\" class=\"dataframe\">\n",
       "  <thead>\n",
       "    <tr style=\"text-align: right;\">\n",
       "      <th></th>\n",
       "      <th>h3_zone_6</th>\n",
       "      <th>1</th>\n",
       "      <th>3</th>\n",
       "      <th>4</th>\n",
       "      <th>6</th>\n",
       "      <th>8</th>\n",
       "      <th>9</th>\n",
       "      <th>10</th>\n",
       "      <th>11</th>\n",
       "      <th>12</th>\n",
       "      <th>...</th>\n",
       "      <th>41</th>\n",
       "      <th>42</th>\n",
       "      <th>43</th>\n",
       "      <th>44</th>\n",
       "      <th>45</th>\n",
       "      <th>46</th>\n",
       "      <th>50</th>\n",
       "      <th>51</th>\n",
       "      <th>52</th>\n",
       "      <th>53</th>\n",
       "    </tr>\n",
       "  </thead>\n",
       "  <tbody>\n",
       "    <tr>\n",
       "      <th>0</th>\n",
       "      <td>867a6e407ffffff</td>\n",
       "      <td>174</td>\n",
       "      <td>319</td>\n",
       "      <td>319</td>\n",
       "      <td>756</td>\n",
       "      <td>274</td>\n",
       "      <td>234</td>\n",
       "      <td>113</td>\n",
       "      <td>205</td>\n",
       "      <td>125</td>\n",
       "      <td>...</td>\n",
       "      <td>76.0</td>\n",
       "      <td>612</td>\n",
       "      <td>434</td>\n",
       "      <td>401</td>\n",
       "      <td>0.0</td>\n",
       "      <td>0.0</td>\n",
       "      <td>467</td>\n",
       "      <td>83.0</td>\n",
       "      <td>180.0</td>\n",
       "      <td>169.0</td>\n",
       "    </tr>\n",
       "    <tr>\n",
       "      <th>1</th>\n",
       "      <td>867a6e40fffffff</td>\n",
       "      <td>18</td>\n",
       "      <td>13</td>\n",
       "      <td>13</td>\n",
       "      <td>66</td>\n",
       "      <td>13</td>\n",
       "      <td>6</td>\n",
       "      <td>6</td>\n",
       "      <td>12</td>\n",
       "      <td>6</td>\n",
       "      <td>...</td>\n",
       "      <td>6.0</td>\n",
       "      <td>36</td>\n",
       "      <td>24</td>\n",
       "      <td>24</td>\n",
       "      <td>0.0</td>\n",
       "      <td>0.0</td>\n",
       "      <td>40</td>\n",
       "      <td>10.0</td>\n",
       "      <td>18.0</td>\n",
       "      <td>8.0</td>\n",
       "    </tr>\n",
       "  </tbody>\n",
       "</table>\n",
       "<p>2 rows × 38 columns</p>\n",
       "</div>"
      ],
      "text/plain": [
       "         h3_zone_6    1    3    4    6    8    9   10   11   12  ...    41  \\\n",
       "0  867a6e407ffffff  174  319  319  756  274  234  113  205  125  ...  76.0   \n",
       "1  867a6e40fffffff   18   13   13   66   13    6    6   12    6  ...   6.0   \n",
       "\n",
       "    42   43   44   45   46   50    51     52     53  \n",
       "0  612  434  401  0.0  0.0  467  83.0  180.0  169.0  \n",
       "1   36   24   24  0.0  0.0   40  10.0   18.0    8.0  \n",
       "\n",
       "[2 rows x 38 columns]"
      ]
     },
     "execution_count": 30,
     "metadata": {},
     "output_type": "execute_result"
    }
   ],
   "source": [
    "df_counts.head(2)"
   ]
  },
  {
   "cell_type": "code",
   "execution_count": 31,
   "metadata": {},
   "outputs": [
    {
     "data": {
      "text/plain": [
       "(18, 38)"
      ]
     },
     "execution_count": 31,
     "metadata": {},
     "output_type": "execute_result"
    }
   ],
   "source": [
    "df_counts.shape"
   ]
  },
  {
   "cell_type": "code",
   "execution_count": 32,
   "metadata": {},
   "outputs": [
    {
     "data": {
      "text/html": [
       "<div>\n",
       "<style scoped>\n",
       "    .dataframe tbody tr th:only-of-type {\n",
       "        vertical-align: middle;\n",
       "    }\n",
       "\n",
       "    .dataframe tbody tr th {\n",
       "        vertical-align: top;\n",
       "    }\n",
       "\n",
       "    .dataframe thead th {\n",
       "        text-align: right;\n",
       "    }\n",
       "</style>\n",
       "<table border=\"1\" class=\"dataframe\">\n",
       "  <thead>\n",
       "    <tr style=\"text-align: right;\">\n",
       "      <th></th>\n",
       "      <th>h3_zone_6</th>\n",
       "      <th>2</th>\n",
       "      <th>5</th>\n",
       "      <th>7</th>\n",
       "      <th>19</th>\n",
       "      <th>23</th>\n",
       "      <th>24</th>\n",
       "      <th>25</th>\n",
       "      <th>27</th>\n",
       "      <th>29</th>\n",
       "      <th>...</th>\n",
       "      <th>217</th>\n",
       "      <th>218</th>\n",
       "      <th>219</th>\n",
       "      <th>220</th>\n",
       "      <th>221</th>\n",
       "      <th>222</th>\n",
       "      <th>223</th>\n",
       "      <th>224</th>\n",
       "      <th>225</th>\n",
       "      <th>226</th>\n",
       "    </tr>\n",
       "  </thead>\n",
       "  <tbody>\n",
       "    <tr>\n",
       "      <th>0</th>\n",
       "      <td>867a6e407ffffff</td>\n",
       "      <td>0</td>\n",
       "      <td>30.0</td>\n",
       "      <td>0</td>\n",
       "      <td>89</td>\n",
       "      <td>2</td>\n",
       "      <td>0.0</td>\n",
       "      <td>41</td>\n",
       "      <td>5.0</td>\n",
       "      <td>0</td>\n",
       "      <td>...</td>\n",
       "      <td>5.0</td>\n",
       "      <td>61.0</td>\n",
       "      <td>2.0</td>\n",
       "      <td>3.0</td>\n",
       "      <td>1.0</td>\n",
       "      <td>0.0</td>\n",
       "      <td>3.0</td>\n",
       "      <td>60.0</td>\n",
       "      <td>2.0</td>\n",
       "      <td>3.0</td>\n",
       "    </tr>\n",
       "    <tr>\n",
       "      <th>1</th>\n",
       "      <td>867a6e40fffffff</td>\n",
       "      <td>0</td>\n",
       "      <td>0.0</td>\n",
       "      <td>0</td>\n",
       "      <td>3</td>\n",
       "      <td>0</td>\n",
       "      <td>0.0</td>\n",
       "      <td>0</td>\n",
       "      <td>0.0</td>\n",
       "      <td>0</td>\n",
       "      <td>...</td>\n",
       "      <td>4.0</td>\n",
       "      <td>1.0</td>\n",
       "      <td>0.0</td>\n",
       "      <td>1.0</td>\n",
       "      <td>0.0</td>\n",
       "      <td>0.0</td>\n",
       "      <td>4.0</td>\n",
       "      <td>1.0</td>\n",
       "      <td>0.0</td>\n",
       "      <td>1.0</td>\n",
       "    </tr>\n",
       "  </tbody>\n",
       "</table>\n",
       "<p>2 rows × 190 columns</p>\n",
       "</div>"
      ],
      "text/plain": [
       "         h3_zone_6  2     5  7  19  23   24  25   27  29  ...  217   218  219  \\\n",
       "0  867a6e407ffffff  0  30.0  0  89   2  0.0  41  5.0   0  ...  5.0  61.0  2.0   \n",
       "1  867a6e40fffffff  0   0.0  0   3   0  0.0   0  0.0   0  ...  4.0   1.0  0.0   \n",
       "\n",
       "   220  221  222  223   224  225  226  \n",
       "0  3.0  1.0  0.0  3.0  60.0  2.0  3.0  \n",
       "1  1.0  0.0  0.0  4.0   1.0  0.0  1.0  \n",
       "\n",
       "[2 rows x 190 columns]"
      ]
     },
     "execution_count": 32,
     "metadata": {},
     "output_type": "execute_result"
    }
   ],
   "source": [
    "df_bools.head(2)"
   ]
  },
  {
   "cell_type": "code",
   "execution_count": 33,
   "metadata": {},
   "outputs": [
    {
     "data": {
      "text/plain": [
       "(18, 190)"
      ]
     },
     "execution_count": 33,
     "metadata": {},
     "output_type": "execute_result"
    }
   ],
   "source": [
    "df_bools.shape"
   ]
  },
  {
   "cell_type": "markdown",
   "metadata": {},
   "source": [
    "Both the boolean and the count data frames have been grouped to 18 rows, corresponding to the number of hex bins in the segment data given the default resolution."
   ]
  },
  {
   "cell_type": "markdown",
   "metadata": {},
   "source": [
    "**Helper function to merge the data frames for the different data types together**"
   ]
  },
  {
   "cell_type": "code",
   "execution_count": 34,
   "metadata": {},
   "outputs": [],
   "source": [
    "def df_merge_types(df1, df2):\n",
    "    '''Merging the data frames of different types back together and sorting the features'''\n",
    "    df = pd.merge(df1, df2, on=df1.columns[0], how='left')\n",
    "    df = df.reindex([df.columns[0]] + sorted(df.columns[1:]), axis=1)\n",
    "    return df"
   ]
  },
  {
   "cell_type": "code",
   "execution_count": 35,
   "metadata": {},
   "outputs": [
    {
     "name": "stdout",
     "output_type": "stream",
     "text": [
      "(18, 227)\n"
     ]
    },
    {
     "data": {
      "text/html": [
       "<div>\n",
       "<style scoped>\n",
       "    .dataframe tbody tr th:only-of-type {\n",
       "        vertical-align: middle;\n",
       "    }\n",
       "\n",
       "    .dataframe tbody tr th {\n",
       "        vertical-align: top;\n",
       "    }\n",
       "\n",
       "    .dataframe thead th {\n",
       "        text-align: right;\n",
       "    }\n",
       "</style>\n",
       "<table border=\"1\" class=\"dataframe\">\n",
       "  <thead>\n",
       "    <tr style=\"text-align: right;\">\n",
       "      <th></th>\n",
       "      <th>h3_zone_6</th>\n",
       "      <th>1</th>\n",
       "      <th>2</th>\n",
       "      <th>3</th>\n",
       "      <th>4</th>\n",
       "      <th>5</th>\n",
       "      <th>6</th>\n",
       "      <th>7</th>\n",
       "      <th>8</th>\n",
       "      <th>9</th>\n",
       "      <th>...</th>\n",
       "      <th>217</th>\n",
       "      <th>218</th>\n",
       "      <th>219</th>\n",
       "      <th>220</th>\n",
       "      <th>221</th>\n",
       "      <th>222</th>\n",
       "      <th>223</th>\n",
       "      <th>224</th>\n",
       "      <th>225</th>\n",
       "      <th>226</th>\n",
       "    </tr>\n",
       "  </thead>\n",
       "  <tbody>\n",
       "    <tr>\n",
       "      <th>0</th>\n",
       "      <td>867a6e407ffffff</td>\n",
       "      <td>174</td>\n",
       "      <td>0</td>\n",
       "      <td>319</td>\n",
       "      <td>319</td>\n",
       "      <td>30.0</td>\n",
       "      <td>756</td>\n",
       "      <td>0</td>\n",
       "      <td>274</td>\n",
       "      <td>234</td>\n",
       "      <td>...</td>\n",
       "      <td>5.0</td>\n",
       "      <td>61.0</td>\n",
       "      <td>2.0</td>\n",
       "      <td>3.0</td>\n",
       "      <td>1.0</td>\n",
       "      <td>0.0</td>\n",
       "      <td>3.0</td>\n",
       "      <td>60.0</td>\n",
       "      <td>2.0</td>\n",
       "      <td>3.0</td>\n",
       "    </tr>\n",
       "    <tr>\n",
       "      <th>1</th>\n",
       "      <td>867a6e40fffffff</td>\n",
       "      <td>18</td>\n",
       "      <td>0</td>\n",
       "      <td>13</td>\n",
       "      <td>13</td>\n",
       "      <td>0.0</td>\n",
       "      <td>66</td>\n",
       "      <td>0</td>\n",
       "      <td>13</td>\n",
       "      <td>6</td>\n",
       "      <td>...</td>\n",
       "      <td>4.0</td>\n",
       "      <td>1.0</td>\n",
       "      <td>0.0</td>\n",
       "      <td>1.0</td>\n",
       "      <td>0.0</td>\n",
       "      <td>0.0</td>\n",
       "      <td>4.0</td>\n",
       "      <td>1.0</td>\n",
       "      <td>0.0</td>\n",
       "      <td>1.0</td>\n",
       "    </tr>\n",
       "  </tbody>\n",
       "</table>\n",
       "<p>2 rows × 227 columns</p>\n",
       "</div>"
      ],
      "text/plain": [
       "         h3_zone_6    1  2    3    4     5    6  7    8    9  ...  217   218  \\\n",
       "0  867a6e407ffffff  174  0  319  319  30.0  756  0  274  234  ...  5.0  61.0   \n",
       "1  867a6e40fffffff   18  0   13   13   0.0   66  0   13    6  ...  4.0   1.0   \n",
       "\n",
       "   219  220  221  222  223   224  225  226  \n",
       "0  2.0  3.0  1.0  0.0  3.0  60.0  2.0  3.0  \n",
       "1  0.0  1.0  0.0  0.0  4.0   1.0  0.0  1.0  \n",
       "\n",
       "[2 rows x 227 columns]"
      ]
     },
     "execution_count": 35,
     "metadata": {},
     "output_type": "execute_result"
    }
   ],
   "source": [
    "df_grouped = df_merge_types(df_counts, df_bools)\n",
    "print(df_grouped.shape)\n",
    "df_grouped.head(2)"
   ]
  },
  {
   "cell_type": "markdown",
   "metadata": {},
   "source": [
    "***"
   ]
  },
  {
   "cell_type": "markdown",
   "metadata": {},
   "source": [
    "### Step 3: Filter RTA table for hex bins that are in the segment data"
   ]
  },
  {
   "cell_type": "markdown",
   "metadata": {},
   "source": [
    "Next we will filter for only those hex bins that we have segment data for (file provided by Zindi) - in this case (given a hex bin resolution of 6) that means we will keep 18 out of 117 hex bins."
   ]
  },
  {
   "cell_type": "code",
   "execution_count": 36,
   "metadata": {},
   "outputs": [],
   "source": [
    "reduced_hex_bins = list(df_grouped[df_grouped.columns[0]])"
   ]
  },
  {
   "cell_type": "code",
   "execution_count": 37,
   "metadata": {},
   "outputs": [],
   "source": [
    "def reduced_df(df_filled, reduced_hex_bins):\n",
    "    '''Filter filled data frame for hex bins present in segment data'''\n",
    "    df_reduced = df_filled[df_filled[df_filled.columns[0]].isin(reduced_hex_bins)]\n",
    "    df_sorted = df_reduced.sort_values(by=[df_filled.columns[0], df_filled.columns[1]])\n",
    "    return df_sorted"
   ]
  },
  {
   "cell_type": "code",
   "execution_count": 38,
   "metadata": {},
   "outputs": [],
   "source": [
    "df_reduced = reduced_df(df_filled, reduced_hex_bins)"
   ]
  },
  {
   "cell_type": "code",
   "execution_count": 39,
   "metadata": {},
   "outputs": [
    {
     "data": {
      "text/html": [
       "<div>\n",
       "<style scoped>\n",
       "    .dataframe tbody tr th:only-of-type {\n",
       "        vertical-align: middle;\n",
       "    }\n",
       "\n",
       "    .dataframe tbody tr th {\n",
       "        vertical-align: top;\n",
       "    }\n",
       "\n",
       "    .dataframe thead th {\n",
       "        text-align: right;\n",
       "    }\n",
       "</style>\n",
       "<table border=\"1\" class=\"dataframe\">\n",
       "  <thead>\n",
       "    <tr style=\"text-align: right;\">\n",
       "      <th></th>\n",
       "      <th>h3_zone_6</th>\n",
       "      <th>cluster</th>\n",
       "      <th>RTA</th>\n",
       "    </tr>\n",
       "  </thead>\n",
       "  <tbody>\n",
       "    <tr>\n",
       "      <th>249</th>\n",
       "      <td>867a6e407ffffff</td>\n",
       "      <td>middle</td>\n",
       "      <td>329.0</td>\n",
       "    </tr>\n",
       "    <tr>\n",
       "      <th>15</th>\n",
       "      <td>867a6e407ffffff</td>\n",
       "      <td>off_peak</td>\n",
       "      <td>138.0</td>\n",
       "    </tr>\n",
       "    <tr>\n",
       "      <th>132</th>\n",
       "      <td>867a6e407ffffff</td>\n",
       "      <td>peak</td>\n",
       "      <td>227.0</td>\n",
       "    </tr>\n",
       "    <tr>\n",
       "      <th>268</th>\n",
       "      <td>867a6e40fffffff</td>\n",
       "      <td>middle</td>\n",
       "      <td>48.0</td>\n",
       "    </tr>\n",
       "    <tr>\n",
       "      <th>34</th>\n",
       "      <td>867a6e40fffffff</td>\n",
       "      <td>off_peak</td>\n",
       "      <td>27.0</td>\n",
       "    </tr>\n",
       "  </tbody>\n",
       "</table>\n",
       "</div>"
      ],
      "text/plain": [
       "           h3_zone_6   cluster    RTA\n",
       "249  867a6e407ffffff    middle  329.0\n",
       "15   867a6e407ffffff  off_peak  138.0\n",
       "132  867a6e407ffffff      peak  227.0\n",
       "268  867a6e40fffffff    middle   48.0\n",
       "34   867a6e40fffffff  off_peak   27.0"
      ]
     },
     "execution_count": 39,
     "metadata": {},
     "output_type": "execute_result"
    }
   ],
   "source": [
    "df_reduced.head()"
   ]
  },
  {
   "cell_type": "markdown",
   "metadata": {},
   "source": [
    "Need to still normalize the amount of RTA per hex bin and time cluster by the amount of 3-hour time window per time cluster"
   ]
  },
  {
   "cell_type": "markdown",
   "metadata": {},
   "source": [
    "**Note: Still need to make this into a function somehow**"
   ]
  },
  {
   "cell_type": "code",
   "execution_count": 40,
   "metadata": {},
   "outputs": [],
   "source": [
    "list_of_clusters = [\"middle\", \"off_peak\", \"peak\"]"
   ]
  },
  {
   "cell_type": "code",
   "execution_count": 41,
   "metadata": {},
   "outputs": [],
   "source": [
    "peak = 5 * 1\n",
    "off_peak = 6 * 3 + 8\n",
    "middle = 6 * 4 + 1"
   ]
  },
  {
   "cell_type": "code",
   "execution_count": 42,
   "metadata": {},
   "outputs": [],
   "source": [
    "cluster_dict = {\"middle\": middle, \"off_peak\": off_peak, \"peak\": peak}"
   ]
  },
  {
   "cell_type": "markdown",
   "metadata": {},
   "source": [
    "**Normalizing RTA's for number of time windows**"
   ]
  },
  {
   "cell_type": "code",
   "execution_count": 43,
   "metadata": {},
   "outputs": [],
   "source": [
    "def normalize_rta(df, list_of_clusters, cluster_dict):\n",
    "    '''Divide RTAs per hex bin by amount of time windows (3 hour) of the related time cluster''' \n",
    "    for cluster in list_of_clusters:\n",
    "        df.loc[df[\"cluster\"] == cluster, \"RTA_h\"] = cluster_dict.get(cluster)\n",
    "        df[\"RTA_n\"] = df[\"RTA\"] / df[\"RTA_h\"]\n",
    "    return df"
   ]
  },
  {
   "cell_type": "code",
   "execution_count": 44,
   "metadata": {},
   "outputs": [],
   "source": [
    "df_normalized = normalize_rta(df_reduced, list_of_clusters, cluster_dict)"
   ]
  },
  {
   "cell_type": "code",
   "execution_count": 45,
   "metadata": {},
   "outputs": [],
   "source": [
    "df_normalized = df_normalized.drop([\"RTA\", \"RTA_h\"], axis=1)"
   ]
  },
  {
   "cell_type": "code",
   "execution_count": 46,
   "metadata": {},
   "outputs": [
    {
     "data": {
      "text/html": [
       "<div>\n",
       "<style scoped>\n",
       "    .dataframe tbody tr th:only-of-type {\n",
       "        vertical-align: middle;\n",
       "    }\n",
       "\n",
       "    .dataframe tbody tr th {\n",
       "        vertical-align: top;\n",
       "    }\n",
       "\n",
       "    .dataframe thead th {\n",
       "        text-align: right;\n",
       "    }\n",
       "</style>\n",
       "<table border=\"1\" class=\"dataframe\">\n",
       "  <thead>\n",
       "    <tr style=\"text-align: right;\">\n",
       "      <th></th>\n",
       "      <th>h3_zone_6</th>\n",
       "      <th>cluster</th>\n",
       "      <th>RTA_n</th>\n",
       "    </tr>\n",
       "  </thead>\n",
       "  <tbody>\n",
       "    <tr>\n",
       "      <th>249</th>\n",
       "      <td>867a6e407ffffff</td>\n",
       "      <td>middle</td>\n",
       "      <td>13.160000</td>\n",
       "    </tr>\n",
       "    <tr>\n",
       "      <th>15</th>\n",
       "      <td>867a6e407ffffff</td>\n",
       "      <td>off_peak</td>\n",
       "      <td>5.307692</td>\n",
       "    </tr>\n",
       "    <tr>\n",
       "      <th>132</th>\n",
       "      <td>867a6e407ffffff</td>\n",
       "      <td>peak</td>\n",
       "      <td>45.400000</td>\n",
       "    </tr>\n",
       "    <tr>\n",
       "      <th>268</th>\n",
       "      <td>867a6e40fffffff</td>\n",
       "      <td>middle</td>\n",
       "      <td>1.920000</td>\n",
       "    </tr>\n",
       "    <tr>\n",
       "      <th>34</th>\n",
       "      <td>867a6e40fffffff</td>\n",
       "      <td>off_peak</td>\n",
       "      <td>1.038462</td>\n",
       "    </tr>\n",
       "  </tbody>\n",
       "</table>\n",
       "</div>"
      ],
      "text/plain": [
       "           h3_zone_6   cluster      RTA_n\n",
       "249  867a6e407ffffff    middle  13.160000\n",
       "15   867a6e407ffffff  off_peak   5.307692\n",
       "132  867a6e407ffffff      peak  45.400000\n",
       "268  867a6e40fffffff    middle   1.920000\n",
       "34   867a6e40fffffff  off_peak   1.038462"
      ]
     },
     "execution_count": 46,
     "metadata": {},
     "output_type": "execute_result"
    }
   ],
   "source": [
    "df_normalized.head()"
   ]
  },
  {
   "cell_type": "markdown",
   "metadata": {},
   "source": [
    "### Step 4: Add features to the RTA table"
   ]
  },
  {
   "cell_type": "markdown",
   "metadata": {},
   "source": [
    "As a last step, we have to add the desired features to the table, in this case the segment data from the segment data frame"
   ]
  },
  {
   "cell_type": "code",
   "execution_count": 47,
   "metadata": {},
   "outputs": [],
   "source": [
    "def join_features_on_df(df_base, df_features):\n",
    "    '''Join features onto the empty table'''\n",
    "    df = pd.merge(df_base, df_features, on=df_base.columns[0], how=\"left\")\n",
    "    return df"
   ]
  },
  {
   "cell_type": "code",
   "execution_count": 48,
   "metadata": {},
   "outputs": [],
   "source": [
    "df_regr = join_features_on_df(df_normalized, df_grouped)"
   ]
  },
  {
   "cell_type": "code",
   "execution_count": 49,
   "metadata": {},
   "outputs": [
    {
     "data": {
      "text/html": [
       "<div>\n",
       "<style scoped>\n",
       "    .dataframe tbody tr th:only-of-type {\n",
       "        vertical-align: middle;\n",
       "    }\n",
       "\n",
       "    .dataframe tbody tr th {\n",
       "        vertical-align: top;\n",
       "    }\n",
       "\n",
       "    .dataframe thead th {\n",
       "        text-align: right;\n",
       "    }\n",
       "</style>\n",
       "<table border=\"1\" class=\"dataframe\">\n",
       "  <thead>\n",
       "    <tr style=\"text-align: right;\">\n",
       "      <th></th>\n",
       "      <th>h3_zone_6</th>\n",
       "      <th>cluster</th>\n",
       "      <th>RTA_n</th>\n",
       "      <th>1</th>\n",
       "      <th>2</th>\n",
       "      <th>3</th>\n",
       "      <th>4</th>\n",
       "      <th>5</th>\n",
       "      <th>6</th>\n",
       "      <th>7</th>\n",
       "      <th>...</th>\n",
       "      <th>217</th>\n",
       "      <th>218</th>\n",
       "      <th>219</th>\n",
       "      <th>220</th>\n",
       "      <th>221</th>\n",
       "      <th>222</th>\n",
       "      <th>223</th>\n",
       "      <th>224</th>\n",
       "      <th>225</th>\n",
       "      <th>226</th>\n",
       "    </tr>\n",
       "  </thead>\n",
       "  <tbody>\n",
       "    <tr>\n",
       "      <th>0</th>\n",
       "      <td>867a6e407ffffff</td>\n",
       "      <td>middle</td>\n",
       "      <td>13.160000</td>\n",
       "      <td>174</td>\n",
       "      <td>0</td>\n",
       "      <td>319</td>\n",
       "      <td>319</td>\n",
       "      <td>30.0</td>\n",
       "      <td>756</td>\n",
       "      <td>0</td>\n",
       "      <td>...</td>\n",
       "      <td>5.0</td>\n",
       "      <td>61.0</td>\n",
       "      <td>2.0</td>\n",
       "      <td>3.0</td>\n",
       "      <td>1.0</td>\n",
       "      <td>0.0</td>\n",
       "      <td>3.0</td>\n",
       "      <td>60.0</td>\n",
       "      <td>2.0</td>\n",
       "      <td>3.0</td>\n",
       "    </tr>\n",
       "    <tr>\n",
       "      <th>1</th>\n",
       "      <td>867a6e407ffffff</td>\n",
       "      <td>off_peak</td>\n",
       "      <td>5.307692</td>\n",
       "      <td>174</td>\n",
       "      <td>0</td>\n",
       "      <td>319</td>\n",
       "      <td>319</td>\n",
       "      <td>30.0</td>\n",
       "      <td>756</td>\n",
       "      <td>0</td>\n",
       "      <td>...</td>\n",
       "      <td>5.0</td>\n",
       "      <td>61.0</td>\n",
       "      <td>2.0</td>\n",
       "      <td>3.0</td>\n",
       "      <td>1.0</td>\n",
       "      <td>0.0</td>\n",
       "      <td>3.0</td>\n",
       "      <td>60.0</td>\n",
       "      <td>2.0</td>\n",
       "      <td>3.0</td>\n",
       "    </tr>\n",
       "    <tr>\n",
       "      <th>2</th>\n",
       "      <td>867a6e407ffffff</td>\n",
       "      <td>peak</td>\n",
       "      <td>45.400000</td>\n",
       "      <td>174</td>\n",
       "      <td>0</td>\n",
       "      <td>319</td>\n",
       "      <td>319</td>\n",
       "      <td>30.0</td>\n",
       "      <td>756</td>\n",
       "      <td>0</td>\n",
       "      <td>...</td>\n",
       "      <td>5.0</td>\n",
       "      <td>61.0</td>\n",
       "      <td>2.0</td>\n",
       "      <td>3.0</td>\n",
       "      <td>1.0</td>\n",
       "      <td>0.0</td>\n",
       "      <td>3.0</td>\n",
       "      <td>60.0</td>\n",
       "      <td>2.0</td>\n",
       "      <td>3.0</td>\n",
       "    </tr>\n",
       "    <tr>\n",
       "      <th>3</th>\n",
       "      <td>867a6e40fffffff</td>\n",
       "      <td>middle</td>\n",
       "      <td>1.920000</td>\n",
       "      <td>18</td>\n",
       "      <td>0</td>\n",
       "      <td>13</td>\n",
       "      <td>13</td>\n",
       "      <td>0.0</td>\n",
       "      <td>66</td>\n",
       "      <td>0</td>\n",
       "      <td>...</td>\n",
       "      <td>4.0</td>\n",
       "      <td>1.0</td>\n",
       "      <td>0.0</td>\n",
       "      <td>1.0</td>\n",
       "      <td>0.0</td>\n",
       "      <td>0.0</td>\n",
       "      <td>4.0</td>\n",
       "      <td>1.0</td>\n",
       "      <td>0.0</td>\n",
       "      <td>1.0</td>\n",
       "    </tr>\n",
       "    <tr>\n",
       "      <th>4</th>\n",
       "      <td>867a6e40fffffff</td>\n",
       "      <td>off_peak</td>\n",
       "      <td>1.038462</td>\n",
       "      <td>18</td>\n",
       "      <td>0</td>\n",
       "      <td>13</td>\n",
       "      <td>13</td>\n",
       "      <td>0.0</td>\n",
       "      <td>66</td>\n",
       "      <td>0</td>\n",
       "      <td>...</td>\n",
       "      <td>4.0</td>\n",
       "      <td>1.0</td>\n",
       "      <td>0.0</td>\n",
       "      <td>1.0</td>\n",
       "      <td>0.0</td>\n",
       "      <td>0.0</td>\n",
       "      <td>4.0</td>\n",
       "      <td>1.0</td>\n",
       "      <td>0.0</td>\n",
       "      <td>1.0</td>\n",
       "    </tr>\n",
       "  </tbody>\n",
       "</table>\n",
       "<p>5 rows × 229 columns</p>\n",
       "</div>"
      ],
      "text/plain": [
       "         h3_zone_6   cluster      RTA_n    1  2    3    4     5    6  7  ...  \\\n",
       "0  867a6e407ffffff    middle  13.160000  174  0  319  319  30.0  756  0  ...   \n",
       "1  867a6e407ffffff  off_peak   5.307692  174  0  319  319  30.0  756  0  ...   \n",
       "2  867a6e407ffffff      peak  45.400000  174  0  319  319  30.0  756  0  ...   \n",
       "3  867a6e40fffffff    middle   1.920000   18  0   13   13   0.0   66  0  ...   \n",
       "4  867a6e40fffffff  off_peak   1.038462   18  0   13   13   0.0   66  0  ...   \n",
       "\n",
       "   217   218  219  220  221  222  223   224  225  226  \n",
       "0  5.0  61.0  2.0  3.0  1.0  0.0  3.0  60.0  2.0  3.0  \n",
       "1  5.0  61.0  2.0  3.0  1.0  0.0  3.0  60.0  2.0  3.0  \n",
       "2  5.0  61.0  2.0  3.0  1.0  0.0  3.0  60.0  2.0  3.0  \n",
       "3  4.0   1.0  0.0  1.0  0.0  0.0  4.0   1.0  0.0  1.0  \n",
       "4  4.0   1.0  0.0  1.0  0.0  0.0  4.0   1.0  0.0  1.0  \n",
       "\n",
       "[5 rows x 229 columns]"
      ]
     },
     "execution_count": 49,
     "metadata": {},
     "output_type": "execute_result"
    }
   ],
   "source": [
    "df_regr.head()"
   ]
  },
  {
   "cell_type": "code",
   "execution_count": 50,
   "metadata": {},
   "outputs": [
    {
     "name": "stdout",
     "output_type": "stream",
     "text": [
      "<class 'pandas.core.frame.DataFrame'>\n",
      "Int64Index: 54 entries, 0 to 53\n",
      "Columns: 229 entries, h3_zone_6 to 226\n",
      "dtypes: float64(28), int64(199), object(2)\n",
      "memory usage: 97.0+ KB\n"
     ]
    }
   ],
   "source": [
    "df_regr.info()"
   ]
  },
  {
   "cell_type": "markdown",
   "metadata": {},
   "source": [
    "## Prediction"
   ]
  },
  {
   "cell_type": "markdown",
   "metadata": {},
   "source": [
    "This analysis was done following the \"Dimensionality_Reduction\" module and more precisely, the notebook \"1-Principal_Component_Analysis\"."
   ]
  },
  {
   "cell_type": "markdown",
   "metadata": {},
   "source": [
    "### Step 1: Data Scaling"
   ]
  },
  {
   "cell_type": "code",
   "execution_count": 51,
   "metadata": {},
   "outputs": [],
   "source": [
    "from sklearn.preprocessing import StandardScaler"
   ]
  },
  {
   "cell_type": "code",
   "execution_count": 52,
   "metadata": {},
   "outputs": [],
   "source": [
    "scaler = StandardScaler()"
   ]
  },
  {
   "cell_type": "code",
   "execution_count": 53,
   "metadata": {},
   "outputs": [],
   "source": [
    "list_non_numeric = [df_regr.columns[0]] + [df_regr.columns[1]] + [df_regr.columns[2]]"
   ]
  },
  {
   "cell_type": "code",
   "execution_count": 54,
   "metadata": {},
   "outputs": [],
   "source": [
    "X_num = df_regr.drop(list_non_numeric, axis=1)\n",
    "X_cat = df_regr[df_regr.columns[1]]\n",
    "y = df_regr[df_regr.columns[2]]"
   ]
  },
  {
   "cell_type": "code",
   "execution_count": 55,
   "metadata": {},
   "outputs": [],
   "source": [
    "X_num_t = scaler.fit_transform(X_num)"
   ]
  },
  {
   "cell_type": "code",
   "execution_count": 56,
   "metadata": {},
   "outputs": [],
   "source": [
    "df_regr_scaled = pd.DataFrame(data=X_num_t,columns=X_num.columns)"
   ]
  },
  {
   "cell_type": "code",
   "execution_count": 57,
   "metadata": {},
   "outputs": [
    {
     "data": {
      "text/html": [
       "<div>\n",
       "<style scoped>\n",
       "    .dataframe tbody tr th:only-of-type {\n",
       "        vertical-align: middle;\n",
       "    }\n",
       "\n",
       "    .dataframe tbody tr th {\n",
       "        vertical-align: top;\n",
       "    }\n",
       "\n",
       "    .dataframe thead th {\n",
       "        text-align: right;\n",
       "    }\n",
       "</style>\n",
       "<table border=\"1\" class=\"dataframe\">\n",
       "  <thead>\n",
       "    <tr style=\"text-align: right;\">\n",
       "      <th></th>\n",
       "      <th>1</th>\n",
       "      <th>2</th>\n",
       "      <th>3</th>\n",
       "      <th>4</th>\n",
       "      <th>5</th>\n",
       "      <th>6</th>\n",
       "      <th>7</th>\n",
       "      <th>8</th>\n",
       "      <th>9</th>\n",
       "      <th>10</th>\n",
       "      <th>...</th>\n",
       "      <th>217</th>\n",
       "      <th>218</th>\n",
       "      <th>219</th>\n",
       "      <th>220</th>\n",
       "      <th>221</th>\n",
       "      <th>222</th>\n",
       "      <th>223</th>\n",
       "      <th>224</th>\n",
       "      <th>225</th>\n",
       "      <th>226</th>\n",
       "    </tr>\n",
       "  </thead>\n",
       "  <tbody>\n",
       "    <tr>\n",
       "      <th>0</th>\n",
       "      <td>0.066956</td>\n",
       "      <td>-0.628539</td>\n",
       "      <td>0.074491</td>\n",
       "      <td>0.069021</td>\n",
       "      <td>2.550458</td>\n",
       "      <td>0.02085</td>\n",
       "      <td>-0.380143</td>\n",
       "      <td>0.18766</td>\n",
       "      <td>0.257468</td>\n",
       "      <td>0.119111</td>\n",
       "      <td>...</td>\n",
       "      <td>-0.517076</td>\n",
       "      <td>0.338516</td>\n",
       "      <td>-0.364625</td>\n",
       "      <td>-0.023939</td>\n",
       "      <td>-0.412027</td>\n",
       "      <td>-0.321029</td>\n",
       "      <td>-0.608984</td>\n",
       "      <td>0.331693</td>\n",
       "      <td>-0.364929</td>\n",
       "      <td>0.0</td>\n",
       "    </tr>\n",
       "  </tbody>\n",
       "</table>\n",
       "<p>1 rows × 226 columns</p>\n",
       "</div>"
      ],
      "text/plain": [
       "        1         2         3         4         5        6         7    \\\n",
       "0  0.066956 -0.628539  0.074491  0.069021  2.550458  0.02085 -0.380143   \n",
       "\n",
       "       8         9         10   ...       217       218       219       220  \\\n",
       "0  0.18766  0.257468  0.119111  ... -0.517076  0.338516 -0.364625 -0.023939   \n",
       "\n",
       "        221       222       223       224       225  226  \n",
       "0 -0.412027 -0.321029 -0.608984  0.331693 -0.364929  0.0  \n",
       "\n",
       "[1 rows x 226 columns]"
      ]
     },
     "execution_count": 57,
     "metadata": {},
     "output_type": "execute_result"
    }
   ],
   "source": [
    "df_regr_scaled.head(1)"
   ]
  },
  {
   "cell_type": "code",
   "execution_count": 58,
   "metadata": {},
   "outputs": [
    {
     "data": {
      "text/html": [
       "<div>\n",
       "<style scoped>\n",
       "    .dataframe tbody tr th:only-of-type {\n",
       "        vertical-align: middle;\n",
       "    }\n",
       "\n",
       "    .dataframe tbody tr th {\n",
       "        vertical-align: top;\n",
       "    }\n",
       "\n",
       "    .dataframe thead th {\n",
       "        text-align: right;\n",
       "    }\n",
       "</style>\n",
       "<table border=\"1\" class=\"dataframe\">\n",
       "  <thead>\n",
       "    <tr style=\"text-align: right;\">\n",
       "      <th></th>\n",
       "      <th>1</th>\n",
       "      <th>2</th>\n",
       "      <th>3</th>\n",
       "      <th>4</th>\n",
       "      <th>5</th>\n",
       "      <th>6</th>\n",
       "      <th>7</th>\n",
       "      <th>8</th>\n",
       "      <th>9</th>\n",
       "      <th>10</th>\n",
       "      <th>...</th>\n",
       "      <th>217</th>\n",
       "      <th>218</th>\n",
       "      <th>219</th>\n",
       "      <th>220</th>\n",
       "      <th>221</th>\n",
       "      <th>222</th>\n",
       "      <th>223</th>\n",
       "      <th>224</th>\n",
       "      <th>225</th>\n",
       "      <th>226</th>\n",
       "    </tr>\n",
       "  </thead>\n",
       "  <tbody>\n",
       "    <tr>\n",
       "      <th>count</th>\n",
       "      <td>54.0</td>\n",
       "      <td>54.0</td>\n",
       "      <td>54.0</td>\n",
       "      <td>54.0</td>\n",
       "      <td>54.0</td>\n",
       "      <td>54.0</td>\n",
       "      <td>54.0</td>\n",
       "      <td>54.0</td>\n",
       "      <td>54.0</td>\n",
       "      <td>54.0</td>\n",
       "      <td>...</td>\n",
       "      <td>54.0</td>\n",
       "      <td>54.0</td>\n",
       "      <td>54.0</td>\n",
       "      <td>54.0</td>\n",
       "      <td>54.0</td>\n",
       "      <td>54.0</td>\n",
       "      <td>54.0</td>\n",
       "      <td>54.0</td>\n",
       "      <td>54.0</td>\n",
       "      <td>54.0</td>\n",
       "    </tr>\n",
       "    <tr>\n",
       "      <th>mean</th>\n",
       "      <td>-0.0</td>\n",
       "      <td>0.0</td>\n",
       "      <td>-0.0</td>\n",
       "      <td>0.0</td>\n",
       "      <td>-0.0</td>\n",
       "      <td>-0.0</td>\n",
       "      <td>-0.0</td>\n",
       "      <td>0.0</td>\n",
       "      <td>0.0</td>\n",
       "      <td>0.0</td>\n",
       "      <td>...</td>\n",
       "      <td>0.0</td>\n",
       "      <td>-0.0</td>\n",
       "      <td>0.0</td>\n",
       "      <td>-0.0</td>\n",
       "      <td>0.0</td>\n",
       "      <td>-0.0</td>\n",
       "      <td>-0.0</td>\n",
       "      <td>-0.0</td>\n",
       "      <td>-0.0</td>\n",
       "      <td>0.0</td>\n",
       "    </tr>\n",
       "    <tr>\n",
       "      <th>std</th>\n",
       "      <td>1.0</td>\n",
       "      <td>1.0</td>\n",
       "      <td>1.0</td>\n",
       "      <td>1.0</td>\n",
       "      <td>1.0</td>\n",
       "      <td>1.0</td>\n",
       "      <td>1.0</td>\n",
       "      <td>1.0</td>\n",
       "      <td>1.0</td>\n",
       "      <td>1.0</td>\n",
       "      <td>...</td>\n",
       "      <td>1.0</td>\n",
       "      <td>1.0</td>\n",
       "      <td>1.0</td>\n",
       "      <td>1.0</td>\n",
       "      <td>1.0</td>\n",
       "      <td>1.0</td>\n",
       "      <td>1.0</td>\n",
       "      <td>1.0</td>\n",
       "      <td>1.0</td>\n",
       "      <td>1.0</td>\n",
       "    </tr>\n",
       "    <tr>\n",
       "      <th>min</th>\n",
       "      <td>-1.0</td>\n",
       "      <td>-1.0</td>\n",
       "      <td>-1.0</td>\n",
       "      <td>-1.0</td>\n",
       "      <td>-1.0</td>\n",
       "      <td>-1.0</td>\n",
       "      <td>-0.0</td>\n",
       "      <td>-1.0</td>\n",
       "      <td>-1.0</td>\n",
       "      <td>-1.0</td>\n",
       "      <td>...</td>\n",
       "      <td>-1.0</td>\n",
       "      <td>-1.0</td>\n",
       "      <td>-1.0</td>\n",
       "      <td>-1.0</td>\n",
       "      <td>-0.0</td>\n",
       "      <td>-0.0</td>\n",
       "      <td>-1.0</td>\n",
       "      <td>-1.0</td>\n",
       "      <td>-1.0</td>\n",
       "      <td>-1.0</td>\n",
       "    </tr>\n",
       "    <tr>\n",
       "      <th>25%</th>\n",
       "      <td>-1.0</td>\n",
       "      <td>-1.0</td>\n",
       "      <td>-1.0</td>\n",
       "      <td>-1.0</td>\n",
       "      <td>-1.0</td>\n",
       "      <td>-1.0</td>\n",
       "      <td>-0.0</td>\n",
       "      <td>-1.0</td>\n",
       "      <td>-1.0</td>\n",
       "      <td>-1.0</td>\n",
       "      <td>...</td>\n",
       "      <td>-1.0</td>\n",
       "      <td>-1.0</td>\n",
       "      <td>-1.0</td>\n",
       "      <td>-1.0</td>\n",
       "      <td>-0.0</td>\n",
       "      <td>-0.0</td>\n",
       "      <td>-1.0</td>\n",
       "      <td>-1.0</td>\n",
       "      <td>-1.0</td>\n",
       "      <td>-1.0</td>\n",
       "    </tr>\n",
       "    <tr>\n",
       "      <th>50%</th>\n",
       "      <td>-0.0</td>\n",
       "      <td>-1.0</td>\n",
       "      <td>-0.0</td>\n",
       "      <td>-0.0</td>\n",
       "      <td>-1.0</td>\n",
       "      <td>-0.0</td>\n",
       "      <td>-0.0</td>\n",
       "      <td>-0.0</td>\n",
       "      <td>-0.0</td>\n",
       "      <td>-0.0</td>\n",
       "      <td>...</td>\n",
       "      <td>-0.0</td>\n",
       "      <td>-0.0</td>\n",
       "      <td>-0.0</td>\n",
       "      <td>-0.0</td>\n",
       "      <td>-0.0</td>\n",
       "      <td>-0.0</td>\n",
       "      <td>-1.0</td>\n",
       "      <td>-0.0</td>\n",
       "      <td>-0.0</td>\n",
       "      <td>-0.0</td>\n",
       "    </tr>\n",
       "    <tr>\n",
       "      <th>75%</th>\n",
       "      <td>0.0</td>\n",
       "      <td>1.0</td>\n",
       "      <td>0.0</td>\n",
       "      <td>0.0</td>\n",
       "      <td>-0.0</td>\n",
       "      <td>0.0</td>\n",
       "      <td>-0.0</td>\n",
       "      <td>0.0</td>\n",
       "      <td>0.0</td>\n",
       "      <td>0.0</td>\n",
       "      <td>...</td>\n",
       "      <td>0.0</td>\n",
       "      <td>0.0</td>\n",
       "      <td>-0.0</td>\n",
       "      <td>-0.0</td>\n",
       "      <td>-0.0</td>\n",
       "      <td>-0.0</td>\n",
       "      <td>0.0</td>\n",
       "      <td>0.0</td>\n",
       "      <td>-0.0</td>\n",
       "      <td>0.0</td>\n",
       "    </tr>\n",
       "    <tr>\n",
       "      <th>max</th>\n",
       "      <td>4.0</td>\n",
       "      <td>3.0</td>\n",
       "      <td>4.0</td>\n",
       "      <td>4.0</td>\n",
       "      <td>3.0</td>\n",
       "      <td>3.0</td>\n",
       "      <td>4.0</td>\n",
       "      <td>4.0</td>\n",
       "      <td>4.0</td>\n",
       "      <td>4.0</td>\n",
       "      <td>...</td>\n",
       "      <td>3.0</td>\n",
       "      <td>4.0</td>\n",
       "      <td>3.0</td>\n",
       "      <td>3.0</td>\n",
       "      <td>4.0</td>\n",
       "      <td>4.0</td>\n",
       "      <td>3.0</td>\n",
       "      <td>4.0</td>\n",
       "      <td>3.0</td>\n",
       "      <td>3.0</td>\n",
       "    </tr>\n",
       "  </tbody>\n",
       "</table>\n",
       "<p>8 rows × 226 columns</p>\n",
       "</div>"
      ],
      "text/plain": [
       "        1     2     3     4     5     6     7     8     9     10   ...   217  \\\n",
       "count  54.0  54.0  54.0  54.0  54.0  54.0  54.0  54.0  54.0  54.0  ...  54.0   \n",
       "mean   -0.0   0.0  -0.0   0.0  -0.0  -0.0  -0.0   0.0   0.0   0.0  ...   0.0   \n",
       "std     1.0   1.0   1.0   1.0   1.0   1.0   1.0   1.0   1.0   1.0  ...   1.0   \n",
       "min    -1.0  -1.0  -1.0  -1.0  -1.0  -1.0  -0.0  -1.0  -1.0  -1.0  ...  -1.0   \n",
       "25%    -1.0  -1.0  -1.0  -1.0  -1.0  -1.0  -0.0  -1.0  -1.0  -1.0  ...  -1.0   \n",
       "50%    -0.0  -1.0  -0.0  -0.0  -1.0  -0.0  -0.0  -0.0  -0.0  -0.0  ...  -0.0   \n",
       "75%     0.0   1.0   0.0   0.0  -0.0   0.0  -0.0   0.0   0.0   0.0  ...   0.0   \n",
       "max     4.0   3.0   4.0   4.0   3.0   3.0   4.0   4.0   4.0   4.0  ...   3.0   \n",
       "\n",
       "        218   219   220   221   222   223   224   225   226  \n",
       "count  54.0  54.0  54.0  54.0  54.0  54.0  54.0  54.0  54.0  \n",
       "mean   -0.0   0.0  -0.0   0.0  -0.0  -0.0  -0.0  -0.0   0.0  \n",
       "std     1.0   1.0   1.0   1.0   1.0   1.0   1.0   1.0   1.0  \n",
       "min    -1.0  -1.0  -1.0  -0.0  -0.0  -1.0  -1.0  -1.0  -1.0  \n",
       "25%    -1.0  -1.0  -1.0  -0.0  -0.0  -1.0  -1.0  -1.0  -1.0  \n",
       "50%    -0.0  -0.0  -0.0  -0.0  -0.0  -1.0  -0.0  -0.0  -0.0  \n",
       "75%     0.0  -0.0  -0.0  -0.0  -0.0   0.0   0.0  -0.0   0.0  \n",
       "max     4.0   3.0   3.0   4.0   4.0   3.0   4.0   3.0   3.0  \n",
       "\n",
       "[8 rows x 226 columns]"
      ]
     },
     "execution_count": 58,
     "metadata": {},
     "output_type": "execute_result"
    }
   ],
   "source": [
    "df_regr_scaled.describe().round()"
   ]
  },
  {
   "cell_type": "markdown",
   "metadata": {},
   "source": [
    "### Step 2: PCA"
   ]
  },
  {
   "cell_type": "code",
   "execution_count": 59,
   "metadata": {},
   "outputs": [],
   "source": [
    "from sklearn.decomposition import PCA"
   ]
  },
  {
   "cell_type": "code",
   "execution_count": 60,
   "metadata": {},
   "outputs": [],
   "source": [
    "pca = PCA(n_components=0.9)"
   ]
  },
  {
   "cell_type": "code",
   "execution_count": 61,
   "metadata": {},
   "outputs": [],
   "source": [
    "df_scaled_pca = pca.fit(df_regr_scaled)"
   ]
  },
  {
   "cell_type": "markdown",
   "metadata": {},
   "source": [
    "**Plotting**"
   ]
  },
  {
   "cell_type": "code",
   "execution_count": 62,
   "metadata": {},
   "outputs": [
    {
     "data": {
      "image/png": "[encoded data removed]",
      "text/plain": [
       "<Figure size 720x432 with 1 Axes>"
      ]
     },
     "metadata": {
      "needs_background": "light"
     },
     "output_type": "display_data"
    }
   ],
   "source": [
    "plt.figure(figsize=(10,6))\n",
    "plt.scatter(x=[i+1 for i in range(len(df_scaled_pca.explained_variance_ratio_))],\n",
    "            y=df_scaled_pca.explained_variance_ratio_,\n",
    "            s=200, alpha=0.75,c='orange',edgecolor='k')\n",
    "plt.grid(True)\n",
    "plt.title(\"Explained variance ratio of the \\nfitted principal component vector\\n\",fontsize=25)\n",
    "plt.xlabel(\"Principal components\",fontsize=15)\n",
    "plt.xticks([i+1 for i in range(len(df_scaled_pca.explained_variance_ratio_))],fontsize=15)\n",
    "plt.yticks(fontsize=15)\n",
    "plt.ylabel(\"Explained variance ratio\",fontsize=15)\n",
    "plt.savefig(\"PCA.png\")\n",
    "plt.show()"
   ]
  },
  {
   "cell_type": "markdown",
   "metadata": {},
   "source": [
    "End."
   ]
  },
  {
   "cell_type": "code",
   "execution_count": 63,
   "metadata": {},
   "outputs": [
    {
     "name": "stdout",
     "output_type": "stream",
     "text": [
      "Component 1 explains 64.91 %\n",
      "Component 2 explains 9.21 %\n",
      "Component 3 explains 6.44 %\n",
      "Component 4 explains 4.14 %\n",
      "Component 5 explains 3.77 %\n",
      "Component 6 explains 2.92 %\n"
     ]
    }
   ],
   "source": [
    "i = 1\n",
    "for pca_component in df_scaled_pca.explained_variance_ratio_:\n",
    "    if pca_component > 0.01:\n",
    "        print(\"Component\", i, \"explains\", round(pca_component * 100, 2), \"%\")\n",
    "        i += 1"
   ]
  },
  {
   "cell_type": "code",
   "execution_count": 64,
   "metadata": {},
   "outputs": [],
   "source": [
    "df_regr_pca = pca.transform(df_regr_scaled)"
   ]
  },
  {
   "cell_type": "code",
   "execution_count": 65,
   "metadata": {},
   "outputs": [
    {
     "data": {
      "text/plain": [
       "array([[ 1.99457019,  4.30522952, 14.37359213, -2.17309472,  0.63737403,\n",
       "        -1.37359127],\n",
       "       [ 1.99457019,  4.30522952, 14.37359213, -2.17309472,  0.63737403,\n",
       "        -1.37359127]])"
      ]
     },
     "execution_count": 65,
     "metadata": {},
     "output_type": "execute_result"
    }
   ],
   "source": [
    "df_regr_pca[0:2]"
   ]
  },
  {
   "cell_type": "code",
   "execution_count": 66,
   "metadata": {},
   "outputs": [
    {
     "data": {
      "text/plain": [
       "(54, 6)"
      ]
     },
     "execution_count": 66,
     "metadata": {},
     "output_type": "execute_result"
    }
   ],
   "source": [
    "df_regr_pca.shape"
   ]
  },
  {
   "cell_type": "markdown",
   "metadata": {},
   "source": [
    "***"
   ]
  },
  {
   "cell_type": "markdown",
   "metadata": {},
   "source": [
    "### Step 3: Regression"
   ]
  },
  {
   "cell_type": "markdown",
   "metadata": {},
   "source": [
    "### To Do:\n",
    "**Paste together with categorical data to build data set for prediction**"
   ]
  },
  {
   "cell_type": "code",
   "execution_count": 67,
   "metadata": {},
   "outputs": [],
   "source": [
    "df_regression = pd.DataFrame(df_regr_pca, columns=[\"PCA_1\", \"PCA_2\", \"PCA_3\", \"PCA_4\", \"PCA_5\", \"PCA_6\"])"
   ]
  },
  {
   "cell_type": "code",
   "execution_count": 68,
   "metadata": {},
   "outputs": [],
   "source": [
    "time_cluster_dummies = pd.get_dummies(df_regr['cluster'], prefix='cluster', drop_first=True)"
   ]
  },
  {
   "cell_type": "markdown",
   "metadata": {},
   "source": [
    "I am not sure whether we should or should not drop one column for the dummies?"
   ]
  },
  {
   "cell_type": "code",
   "execution_count": 69,
   "metadata": {},
   "outputs": [],
   "source": [
    "df_regression = pd.concat([df_regression, time_cluster_dummies], axis = 1)"
   ]
  },
  {
   "cell_type": "code",
   "execution_count": 70,
   "metadata": {},
   "outputs": [
    {
     "data": {
      "text/html": [
       "<div>\n",
       "<style scoped>\n",
       "    .dataframe tbody tr th:only-of-type {\n",
       "        vertical-align: middle;\n",
       "    }\n",
       "\n",
       "    .dataframe tbody tr th {\n",
       "        vertical-align: top;\n",
       "    }\n",
       "\n",
       "    .dataframe thead th {\n",
       "        text-align: right;\n",
       "    }\n",
       "</style>\n",
       "<table border=\"1\" class=\"dataframe\">\n",
       "  <thead>\n",
       "    <tr style=\"text-align: right;\">\n",
       "      <th></th>\n",
       "      <th>PCA_1</th>\n",
       "      <th>PCA_2</th>\n",
       "      <th>PCA_3</th>\n",
       "      <th>PCA_4</th>\n",
       "      <th>PCA_5</th>\n",
       "      <th>PCA_6</th>\n",
       "      <th>cluster_off_peak</th>\n",
       "      <th>cluster_peak</th>\n",
       "    </tr>\n",
       "  </thead>\n",
       "  <tbody>\n",
       "    <tr>\n",
       "      <th>0</th>\n",
       "      <td>1.99457</td>\n",
       "      <td>4.30523</td>\n",
       "      <td>14.373592</td>\n",
       "      <td>-2.173095</td>\n",
       "      <td>0.637374</td>\n",
       "      <td>-1.373591</td>\n",
       "      <td>0</td>\n",
       "      <td>0</td>\n",
       "    </tr>\n",
       "  </tbody>\n",
       "</table>\n",
       "</div>"
      ],
      "text/plain": [
       "     PCA_1    PCA_2      PCA_3     PCA_4     PCA_5     PCA_6  \\\n",
       "0  1.99457  4.30523  14.373592 -2.173095  0.637374 -1.373591   \n",
       "\n",
       "   cluster_off_peak  cluster_peak  \n",
       "0                 0             0  "
      ]
     },
     "execution_count": 70,
     "metadata": {},
     "output_type": "execute_result"
    }
   ],
   "source": [
    "df_regression.head(1)"
   ]
  },
  {
   "cell_type": "markdown",
   "metadata": {},
   "source": [
    "### Linear Regression"
   ]
  },
  {
   "cell_type": "code",
   "execution_count": 71,
   "metadata": {},
   "outputs": [],
   "source": [
    "from sklearn.linear_model import LinearRegression"
   ]
  },
  {
   "cell_type": "code",
   "execution_count": 72,
   "metadata": {},
   "outputs": [],
   "source": [
    "X = df_regression"
   ]
  },
  {
   "cell_type": "code",
   "execution_count": 73,
   "metadata": {},
   "outputs": [],
   "source": [
    "reg = LinearRegression().fit(X, y)"
   ]
  },
  {
   "cell_type": "code",
   "execution_count": 74,
   "metadata": {},
   "outputs": [
    {
     "data": {
      "text/plain": [
       "0.6596955866610159"
      ]
     },
     "execution_count": 74,
     "metadata": {},
     "output_type": "execute_result"
    }
   ],
   "source": [
    "reg.score(X, y)"
   ]
  },
  {
   "cell_type": "code",
   "execution_count": 75,
   "metadata": {},
   "outputs": [
    {
     "data": {
      "text/plain": [
       "array([ 0.49269668, -0.24820024,  0.9383647 ,  0.30828919,  0.52471648,\n",
       "       -0.29208551, -2.81401709, 10.80222222])"
      ]
     },
     "execution_count": 75,
     "metadata": {},
     "output_type": "execute_result"
    }
   ],
   "source": [
    "reg.coef_"
   ]
  },
  {
   "cell_type": "code",
   "execution_count": 76,
   "metadata": {},
   "outputs": [
    {
     "data": {
      "text/plain": [
       "5.553333333333332"
      ]
     },
     "execution_count": 76,
     "metadata": {},
     "output_type": "execute_result"
    }
   ],
   "source": [
    "reg.intercept_"
   ]
  },
  {
   "cell_type": "markdown",
   "metadata": {},
   "source": [
    "### Ridge Regression"
   ]
  },
  {
   "cell_type": "code",
   "execution_count": 77,
   "metadata": {},
   "outputs": [],
   "source": [
    "from sklearn.linear_model import Ridge"
   ]
  },
  {
   "cell_type": "code",
   "execution_count": 78,
   "metadata": {},
   "outputs": [],
   "source": [
    "ridge_reg = Ridge(alpha=0.5)"
   ]
  },
  {
   "cell_type": "code",
   "execution_count": 79,
   "metadata": {},
   "outputs": [
    {
     "data": {
      "text/plain": [
       "Ridge(alpha=0.5)"
      ]
     },
     "execution_count": 79,
     "metadata": {},
     "output_type": "execute_result"
    }
   ],
   "source": [
    "ridge_reg.fit(X, y)"
   ]
  },
  {
   "cell_type": "code",
   "execution_count": 80,
   "metadata": {},
   "outputs": [
    {
     "data": {
      "text/plain": [
       "0.6593671159314402"
      ]
     },
     "execution_count": 80,
     "metadata": {},
     "output_type": "execute_result"
    }
   ],
   "source": [
    "ridge_reg.score(X, y)"
   ]
  },
  {
   "cell_type": "markdown",
   "metadata": {},
   "source": [
    "### SVR"
   ]
  },
  {
   "cell_type": "code",
   "execution_count": 81,
   "metadata": {},
   "outputs": [],
   "source": [
    "from sklearn.svm import SVR"
   ]
  },
  {
   "cell_type": "code",
   "execution_count": 82,
   "metadata": {},
   "outputs": [],
   "source": [
    "svr_rbf = SVR(kernel='rbf', C=100, gamma=0.1, epsilon=.1)\n",
    "svr_sigmoid = SVR(kernel='sigmoid', C=100, gamma=\"auto\", epsilon=.1, coef0=1)\n",
    "svr_lin = SVR(kernel='linear', C=100, gamma='auto')\n",
    "svr_poly = SVR(kernel='poly', C=100, gamma='auto', degree=3, epsilon=.1,\n",
    "               coef0=1)"
   ]
  },
  {
   "cell_type": "code",
   "execution_count": 83,
   "metadata": {},
   "outputs": [
    {
     "name": "stdout",
     "output_type": "stream",
     "text": [
      "SVR(C=100, gamma=0.1)\n",
      "SVR(C=100, gamma='auto', kernel='linear')\n",
      "SVR(C=100, coef0=1, gamma='auto', kernel='poly')\n",
      "SVR(C=100, coef0=1, gamma='auto', kernel='sigmoid')\n"
     ]
    }
   ],
   "source": [
    "print(svr_rbf.fit(X, y))\n",
    "print(svr_lin.fit(X, y))\n",
    "print(svr_poly.fit(X, y))\n",
    "print(svr_sigmoid.fit(X, y))"
   ]
  },
  {
   "cell_type": "code",
   "execution_count": 84,
   "metadata": {},
   "outputs": [
    {
     "name": "stdout",
     "output_type": "stream",
     "text": [
      "RBF: 0.9351216493214036\n",
      "Lin: 0.6120579810480937\n",
      "Poly 0.997251594446552\n",
      "Sigmoid -4941.285496492263\n"
     ]
    }
   ],
   "source": [
    "print(\"RBF:\", svr_rbf.score(X, y))\n",
    "print(\"Lin:\", svr_lin.score(X, y))\n",
    "print(\"Poly\", svr_poly.score(X, y))\n",
    "print(\"Sigmoid\", svr_sigmoid.score(X, y))"
   ]
  },
  {
   "cell_type": "markdown",
   "metadata": {},
   "source": [
    "***"
   ]
  },
  {
   "cell_type": "code",
   "execution_count": 85,
   "metadata": {},
   "outputs": [
    {
     "data": {
      "text/html": [
       "<div>\n",
       "<style scoped>\n",
       "    .dataframe tbody tr th:only-of-type {\n",
       "        vertical-align: middle;\n",
       "    }\n",
       "\n",
       "    .dataframe tbody tr th {\n",
       "        vertical-align: top;\n",
       "    }\n",
       "\n",
       "    .dataframe thead th {\n",
       "        text-align: right;\n",
       "    }\n",
       "</style>\n",
       "<table border=\"1\" class=\"dataframe\">\n",
       "  <thead>\n",
       "    <tr style=\"text-align: right;\">\n",
       "      <th></th>\n",
       "      <th>PCA_1</th>\n",
       "      <th>PCA_2</th>\n",
       "      <th>PCA_3</th>\n",
       "      <th>PCA_4</th>\n",
       "      <th>PCA_5</th>\n",
       "      <th>PCA_6</th>\n",
       "      <th>cluster_off_peak</th>\n",
       "      <th>cluster_peak</th>\n",
       "    </tr>\n",
       "  </thead>\n",
       "  <tbody>\n",
       "    <tr>\n",
       "      <th>0</th>\n",
       "      <td>1.994570</td>\n",
       "      <td>4.30523</td>\n",
       "      <td>14.373592</td>\n",
       "      <td>-2.173095</td>\n",
       "      <td>0.637374</td>\n",
       "      <td>-1.373591</td>\n",
       "      <td>0</td>\n",
       "      <td>0</td>\n",
       "    </tr>\n",
       "    <tr>\n",
       "      <th>1</th>\n",
       "      <td>1.994570</td>\n",
       "      <td>4.30523</td>\n",
       "      <td>14.373592</td>\n",
       "      <td>-2.173095</td>\n",
       "      <td>0.637374</td>\n",
       "      <td>-1.373591</td>\n",
       "      <td>1</td>\n",
       "      <td>0</td>\n",
       "    </tr>\n",
       "    <tr>\n",
       "      <th>2</th>\n",
       "      <td>1.994570</td>\n",
       "      <td>4.30523</td>\n",
       "      <td>14.373592</td>\n",
       "      <td>-2.173095</td>\n",
       "      <td>0.637374</td>\n",
       "      <td>-1.373591</td>\n",
       "      <td>0</td>\n",
       "      <td>1</td>\n",
       "    </tr>\n",
       "    <tr>\n",
       "      <th>3</th>\n",
       "      <td>-7.233945</td>\n",
       "      <td>-0.76182</td>\n",
       "      <td>0.551347</td>\n",
       "      <td>0.014599</td>\n",
       "      <td>-1.663399</td>\n",
       "      <td>0.473769</td>\n",
       "      <td>0</td>\n",
       "      <td>0</td>\n",
       "    </tr>\n",
       "    <tr>\n",
       "      <th>4</th>\n",
       "      <td>-7.233945</td>\n",
       "      <td>-0.76182</td>\n",
       "      <td>0.551347</td>\n",
       "      <td>0.014599</td>\n",
       "      <td>-1.663399</td>\n",
       "      <td>0.473769</td>\n",
       "      <td>1</td>\n",
       "      <td>0</td>\n",
       "    </tr>\n",
       "  </tbody>\n",
       "</table>\n",
       "</div>"
      ],
      "text/plain": [
       "      PCA_1    PCA_2      PCA_3     PCA_4     PCA_5     PCA_6  \\\n",
       "0  1.994570  4.30523  14.373592 -2.173095  0.637374 -1.373591   \n",
       "1  1.994570  4.30523  14.373592 -2.173095  0.637374 -1.373591   \n",
       "2  1.994570  4.30523  14.373592 -2.173095  0.637374 -1.373591   \n",
       "3 -7.233945 -0.76182   0.551347  0.014599 -1.663399  0.473769   \n",
       "4 -7.233945 -0.76182   0.551347  0.014599 -1.663399  0.473769   \n",
       "\n",
       "   cluster_off_peak  cluster_peak  \n",
       "0                 0             0  \n",
       "1                 1             0  \n",
       "2                 0             1  \n",
       "3                 0             0  \n",
       "4                 1             0  "
      ]
     },
     "execution_count": 85,
     "metadata": {},
     "output_type": "execute_result"
    }
   ],
   "source": [
    "X.head()"
   ]
  },
  {
   "cell_type": "code",
   "execution_count": 86,
   "metadata": {},
   "outputs": [],
   "source": [
    "pred_y = svr_poly.predict(X)"
   ]
  },
  {
   "cell_type": "code",
   "execution_count": 87,
   "metadata": {},
   "outputs": [],
   "source": [
    "input_preds = {\"Predictions\": pred_y, \"Real_values\": y}"
   ]
  },
  {
   "cell_type": "code",
   "execution_count": 88,
   "metadata": {},
   "outputs": [],
   "source": [
    "df_y_vs_pred = pd.DataFrame(data=input_preds)"
   ]
  },
  {
   "cell_type": "code",
   "execution_count": 89,
   "metadata": {},
   "outputs": [],
   "source": [
    "df_y_vs_pred[\"Error\"] = df_y_vs_pred[\"Predictions\"] - df_y_vs_pred[\"Real_values\"]"
   ]
  },
  {
   "cell_type": "code",
   "execution_count": 90,
   "metadata": {},
   "outputs": [
    {
     "data": {
      "text/html": [
       "<div>\n",
       "<style scoped>\n",
       "    .dataframe tbody tr th:only-of-type {\n",
       "        vertical-align: middle;\n",
       "    }\n",
       "\n",
       "    .dataframe tbody tr th {\n",
       "        vertical-align: top;\n",
       "    }\n",
       "\n",
       "    .dataframe thead th {\n",
       "        text-align: right;\n",
       "    }\n",
       "</style>\n",
       "<table border=\"1\" class=\"dataframe\">\n",
       "  <thead>\n",
       "    <tr style=\"text-align: right;\">\n",
       "      <th></th>\n",
       "      <th>Predictions</th>\n",
       "      <th>Real_values</th>\n",
       "      <th>Error</th>\n",
       "    </tr>\n",
       "  </thead>\n",
       "  <tbody>\n",
       "    <tr>\n",
       "      <th>0</th>\n",
       "      <td>13.260166</td>\n",
       "      <td>13.160000</td>\n",
       "      <td>0.100166</td>\n",
       "    </tr>\n",
       "    <tr>\n",
       "      <th>1</th>\n",
       "      <td>5.408049</td>\n",
       "      <td>5.307692</td>\n",
       "      <td>0.100357</td>\n",
       "    </tr>\n",
       "    <tr>\n",
       "      <th>2</th>\n",
       "      <td>45.299958</td>\n",
       "      <td>45.400000</td>\n",
       "      <td>-0.100042</td>\n",
       "    </tr>\n",
       "    <tr>\n",
       "      <th>3</th>\n",
       "      <td>1.820692</td>\n",
       "      <td>1.920000</td>\n",
       "      <td>-0.099308</td>\n",
       "    </tr>\n",
       "    <tr>\n",
       "      <th>4</th>\n",
       "      <td>1.135168</td>\n",
       "      <td>1.038462</td>\n",
       "      <td>0.096706</td>\n",
       "    </tr>\n",
       "  </tbody>\n",
       "</table>\n",
       "</div>"
      ],
      "text/plain": [
       "   Predictions  Real_values     Error\n",
       "0    13.260166    13.160000  0.100166\n",
       "1     5.408049     5.307692  0.100357\n",
       "2    45.299958    45.400000 -0.100042\n",
       "3     1.820692     1.920000 -0.099308\n",
       "4     1.135168     1.038462  0.096706"
      ]
     },
     "execution_count": 90,
     "metadata": {},
     "output_type": "execute_result"
    }
   ],
   "source": [
    "df_y_vs_pred.head()"
   ]
  },
  {
   "cell_type": "code",
   "execution_count": 91,
   "metadata": {},
   "outputs": [
    {
     "data": {
      "image/png": "[encoded data removed]",
      "text/plain": [
       "<Figure size 432x288 with 1 Axes>"
      ]
     },
     "metadata": {
      "needs_background": "light"
     },
     "output_type": "display_data"
    }
   ],
   "source": [
    "df_y_vs_pred[\"Error\"].plot(kind=\"bar\");"
   ]
  },
  {
   "cell_type": "code",
   "execution_count": 92,
   "metadata": {},
   "outputs": [
    {
     "data": {
      "text/html": [
       "<div>\n",
       "<style scoped>\n",
       "    .dataframe tbody tr th:only-of-type {\n",
       "        vertical-align: middle;\n",
       "    }\n",
       "\n",
       "    .dataframe tbody tr th {\n",
       "        vertical-align: top;\n",
       "    }\n",
       "\n",
       "    .dataframe thead th {\n",
       "        text-align: right;\n",
       "    }\n",
       "</style>\n",
       "<table border=\"1\" class=\"dataframe\">\n",
       "  <thead>\n",
       "    <tr style=\"text-align: right;\">\n",
       "      <th></th>\n",
       "      <th>PCA_1</th>\n",
       "      <th>PCA_2</th>\n",
       "      <th>PCA_3</th>\n",
       "      <th>PCA_4</th>\n",
       "      <th>PCA_5</th>\n",
       "      <th>PCA_6</th>\n",
       "      <th>cluster_off_peak</th>\n",
       "      <th>cluster_peak</th>\n",
       "    </tr>\n",
       "  </thead>\n",
       "  <tbody>\n",
       "    <tr>\n",
       "      <th>count</th>\n",
       "      <td>5.400000e+01</td>\n",
       "      <td>5.400000e+01</td>\n",
       "      <td>5.400000e+01</td>\n",
       "      <td>5.400000e+01</td>\n",
       "      <td>5.400000e+01</td>\n",
       "      <td>5.400000e+01</td>\n",
       "      <td>54.000000</td>\n",
       "      <td>54.000000</td>\n",
       "    </tr>\n",
       "    <tr>\n",
       "      <th>mean</th>\n",
       "      <td>9.539694e-16</td>\n",
       "      <td>-4.111937e-17</td>\n",
       "      <td>1.644775e-16</td>\n",
       "      <td>-5.345518e-17</td>\n",
       "      <td>3.289550e-17</td>\n",
       "      <td>2.981154e-17</td>\n",
       "      <td>0.333333</td>\n",
       "      <td>0.333333</td>\n",
       "    </tr>\n",
       "    <tr>\n",
       "      <th>std</th>\n",
       "      <td>1.217155e+01</td>\n",
       "      <td>4.585337e+00</td>\n",
       "      <td>3.834450e+00</td>\n",
       "      <td>3.073884e+00</td>\n",
       "      <td>2.931605e+00</td>\n",
       "      <td>2.583278e+00</td>\n",
       "      <td>0.475831</td>\n",
       "      <td>0.475831</td>\n",
       "    </tr>\n",
       "    <tr>\n",
       "      <th>min</th>\n",
       "      <td>-8.094284e+00</td>\n",
       "      <td>-8.935825e+00</td>\n",
       "      <td>-4.406919e+00</td>\n",
       "      <td>-5.010693e+00</td>\n",
       "      <td>-2.699515e+00</td>\n",
       "      <td>-4.005105e+00</td>\n",
       "      <td>0.000000</td>\n",
       "      <td>0.000000</td>\n",
       "    </tr>\n",
       "    <tr>\n",
       "      <th>25%</th>\n",
       "      <td>-7.189131e+00</td>\n",
       "      <td>-1.378707e+00</td>\n",
       "      <td>-1.627780e+00</td>\n",
       "      <td>-8.930322e-01</td>\n",
       "      <td>-1.981440e+00</td>\n",
       "      <td>-1.059751e+00</td>\n",
       "      <td>0.000000</td>\n",
       "      <td>0.000000</td>\n",
       "    </tr>\n",
       "    <tr>\n",
       "      <th>50%</th>\n",
       "      <td>-3.207493e+00</td>\n",
       "      <td>-7.627021e-01</td>\n",
       "      <td>-9.084637e-01</td>\n",
       "      <td>-4.081424e-01</td>\n",
       "      <td>-9.011106e-01</td>\n",
       "      <td>-1.870204e-01</td>\n",
       "      <td>0.000000</td>\n",
       "      <td>0.000000</td>\n",
       "    </tr>\n",
       "    <tr>\n",
       "      <th>75%</th>\n",
       "      <td>8.511226e-01</td>\n",
       "      <td>1.093745e-01</td>\n",
       "      <td>3.074724e-01</td>\n",
       "      <td>9.947620e-02</td>\n",
       "      <td>6.373740e-01</td>\n",
       "      <td>4.737692e-01</td>\n",
       "      <td>1.000000</td>\n",
       "      <td>1.000000</td>\n",
       "    </tr>\n",
       "    <tr>\n",
       "      <th>max</th>\n",
       "      <td>4.250169e+01</td>\n",
       "      <td>1.583140e+01</td>\n",
       "      <td>1.437359e+01</td>\n",
       "      <td>1.139091e+01</td>\n",
       "      <td>9.528100e+00</td>\n",
       "      <td>9.311353e+00</td>\n",
       "      <td>1.000000</td>\n",
       "      <td>1.000000</td>\n",
       "    </tr>\n",
       "  </tbody>\n",
       "</table>\n",
       "</div>"
      ],
      "text/plain": [
       "              PCA_1         PCA_2         PCA_3         PCA_4         PCA_5  \\\n",
       "count  5.400000e+01  5.400000e+01  5.400000e+01  5.400000e+01  5.400000e+01   \n",
       "mean   9.539694e-16 -4.111937e-17  1.644775e-16 -5.345518e-17  3.289550e-17   \n",
       "std    1.217155e+01  4.585337e+00  3.834450e+00  3.073884e+00  2.931605e+00   \n",
       "min   -8.094284e+00 -8.935825e+00 -4.406919e+00 -5.010693e+00 -2.699515e+00   \n",
       "25%   -7.189131e+00 -1.378707e+00 -1.627780e+00 -8.930322e-01 -1.981440e+00   \n",
       "50%   -3.207493e+00 -7.627021e-01 -9.084637e-01 -4.081424e-01 -9.011106e-01   \n",
       "75%    8.511226e-01  1.093745e-01  3.074724e-01  9.947620e-02  6.373740e-01   \n",
       "max    4.250169e+01  1.583140e+01  1.437359e+01  1.139091e+01  9.528100e+00   \n",
       "\n",
       "              PCA_6  cluster_off_peak  cluster_peak  \n",
       "count  5.400000e+01         54.000000     54.000000  \n",
       "mean   2.981154e-17          0.333333      0.333333  \n",
       "std    2.583278e+00          0.475831      0.475831  \n",
       "min   -4.005105e+00          0.000000      0.000000  \n",
       "25%   -1.059751e+00          0.000000      0.000000  \n",
       "50%   -1.870204e-01          0.000000      0.000000  \n",
       "75%    4.737692e-01          1.000000      1.000000  \n",
       "max    9.311353e+00          1.000000      1.000000  "
      ]
     },
     "execution_count": 92,
     "metadata": {},
     "output_type": "execute_result"
    }
   ],
   "source": [
    "X.describe()"
   ]
  },
  {
   "cell_type": "markdown",
   "metadata": {},
   "source": [
    "### Mean Approach"
   ]
  },
  {
   "cell_type": "code",
   "execution_count": 93,
   "metadata": {},
   "outputs": [],
   "source": [
    "proxy_other_segments = [[0,0,0,0,0,0,0,1], [0,0,0,0,0,0,1,0], [0,0,0,0,0,0,0,0]]"
   ]
  },
  {
   "cell_type": "code",
   "execution_count": 94,
   "metadata": {},
   "outputs": [],
   "source": [
    "pred_proxy = svr_poly.predict(proxy_other_segments)"
   ]
  },
  {
   "cell_type": "code",
   "execution_count": 95,
   "metadata": {},
   "outputs": [
    {
     "data": {
      "text/plain": [
       "array([20.25647582,  8.00232564,  9.64088148])"
      ]
     },
     "execution_count": 95,
     "metadata": {},
     "output_type": "execute_result"
    }
   ],
   "source": [
    "pred_proxy"
   ]
  },
  {
   "cell_type": "code",
   "execution_count": 96,
   "metadata": {},
   "outputs": [],
   "source": [
    "names_proxy = [\"peak\", \"off_peak\", \"middle\"]"
   ]
  },
  {
   "cell_type": "code",
   "execution_count": 97,
   "metadata": {},
   "outputs": [],
   "source": [
    "df_proxies = pd.DataFrame(proxy_other_segments, columns=X.columns)"
   ]
  },
  {
   "cell_type": "code",
   "execution_count": 98,
   "metadata": {},
   "outputs": [],
   "source": [
    "df_proxies[\"cluster\"] = names_proxy\n",
    "df_proxies[\"Pred_value\"] = pred_proxy"
   ]
  },
  {
   "cell_type": "code",
   "execution_count": 99,
   "metadata": {},
   "outputs": [
    {
     "data": {
      "text/html": [
       "<div>\n",
       "<style scoped>\n",
       "    .dataframe tbody tr th:only-of-type {\n",
       "        vertical-align: middle;\n",
       "    }\n",
       "\n",
       "    .dataframe tbody tr th {\n",
       "        vertical-align: top;\n",
       "    }\n",
       "\n",
       "    .dataframe thead th {\n",
       "        text-align: right;\n",
       "    }\n",
       "</style>\n",
       "<table border=\"1\" class=\"dataframe\">\n",
       "  <thead>\n",
       "    <tr style=\"text-align: right;\">\n",
       "      <th></th>\n",
       "      <th>PCA_1</th>\n",
       "      <th>PCA_2</th>\n",
       "      <th>PCA_3</th>\n",
       "      <th>PCA_4</th>\n",
       "      <th>PCA_5</th>\n",
       "      <th>PCA_6</th>\n",
       "      <th>cluster_off_peak</th>\n",
       "      <th>cluster_peak</th>\n",
       "      <th>cluster</th>\n",
       "      <th>Pred_value</th>\n",
       "    </tr>\n",
       "  </thead>\n",
       "  <tbody>\n",
       "    <tr>\n",
       "      <th>0</th>\n",
       "      <td>0</td>\n",
       "      <td>0</td>\n",
       "      <td>0</td>\n",
       "      <td>0</td>\n",
       "      <td>0</td>\n",
       "      <td>0</td>\n",
       "      <td>0</td>\n",
       "      <td>1</td>\n",
       "      <td>peak</td>\n",
       "      <td>20.256476</td>\n",
       "    </tr>\n",
       "    <tr>\n",
       "      <th>1</th>\n",
       "      <td>0</td>\n",
       "      <td>0</td>\n",
       "      <td>0</td>\n",
       "      <td>0</td>\n",
       "      <td>0</td>\n",
       "      <td>0</td>\n",
       "      <td>1</td>\n",
       "      <td>0</td>\n",
       "      <td>off_peak</td>\n",
       "      <td>8.002326</td>\n",
       "    </tr>\n",
       "    <tr>\n",
       "      <th>2</th>\n",
       "      <td>0</td>\n",
       "      <td>0</td>\n",
       "      <td>0</td>\n",
       "      <td>0</td>\n",
       "      <td>0</td>\n",
       "      <td>0</td>\n",
       "      <td>0</td>\n",
       "      <td>0</td>\n",
       "      <td>middle</td>\n",
       "      <td>9.640881</td>\n",
       "    </tr>\n",
       "  </tbody>\n",
       "</table>\n",
       "</div>"
      ],
      "text/plain": [
       "   PCA_1  PCA_2  PCA_3  PCA_4  PCA_5  PCA_6  cluster_off_peak  cluster_peak  \\\n",
       "0      0      0      0      0      0      0                 0             1   \n",
       "1      0      0      0      0      0      0                 1             0   \n",
       "2      0      0      0      0      0      0                 0             0   \n",
       "\n",
       "    cluster  Pred_value  \n",
       "0      peak   20.256476  \n",
       "1  off_peak    8.002326  \n",
       "2    middle    9.640881  "
      ]
     },
     "execution_count": 99,
     "metadata": {},
     "output_type": "execute_result"
    }
   ],
   "source": [
    "df_proxies.head()"
   ]
  },
  {
   "cell_type": "code",
   "execution_count": 100,
   "metadata": {},
   "outputs": [
    {
     "data": {
      "image/png": "[encoded data removed]",
      "text/plain": [
       "<Figure size 432x288 with 1 Axes>"
      ]
     },
     "metadata": {
      "needs_background": "light"
     },
     "output_type": "display_data"
    }
   ],
   "source": [
    "y.hist();"
   ]
  },
  {
   "cell_type": "markdown",
   "metadata": {},
   "source": [
    "### Median Approach"
   ]
  },
  {
   "cell_type": "code",
   "execution_count": 101,
   "metadata": {},
   "outputs": [],
   "source": [
    "medians = [X.PCA_1.median(), X.PCA_2.median(), X.PCA_3.median(), X.PCA_4.median(), X.PCA_5.median(), X.PCA_6.median()]"
   ]
  },
  {
   "cell_type": "code",
   "execution_count": 102,
   "metadata": {},
   "outputs": [],
   "source": [
    "peak_pred_med = medians + [0, 1]\n",
    "off_peak_pred_med = medians + [1, 0]\n",
    "middle_pred_med = medians + [0, 0]"
   ]
  },
  {
   "cell_type": "code",
   "execution_count": 103,
   "metadata": {},
   "outputs": [],
   "source": [
    "df_proxies_med = pd.DataFrame([peak_pred_med, off_peak_pred_med, middle_pred_med], columns=X.columns)"
   ]
  },
  {
   "cell_type": "code",
   "execution_count": 104,
   "metadata": {},
   "outputs": [],
   "source": [
    "pred_proxy_med = svr_poly.predict([peak_pred_med, off_peak_pred_med, middle_pred_med])"
   ]
  },
  {
   "cell_type": "code",
   "execution_count": 105,
   "metadata": {},
   "outputs": [],
   "source": [
    "df_proxies_med[\"cluster\"] = names_proxy\n",
    "df_proxies_med[\"Pred_value\"] = pred_proxy_med"
   ]
  },
  {
   "cell_type": "code",
   "execution_count": 106,
   "metadata": {},
   "outputs": [
    {
     "data": {
      "text/html": [
       "<div>\n",
       "<style scoped>\n",
       "    .dataframe tbody tr th:only-of-type {\n",
       "        vertical-align: middle;\n",
       "    }\n",
       "\n",
       "    .dataframe tbody tr th {\n",
       "        vertical-align: top;\n",
       "    }\n",
       "\n",
       "    .dataframe thead th {\n",
       "        text-align: right;\n",
       "    }\n",
       "</style>\n",
       "<table border=\"1\" class=\"dataframe\">\n",
       "  <thead>\n",
       "    <tr style=\"text-align: right;\">\n",
       "      <th></th>\n",
       "      <th>PCA_1</th>\n",
       "      <th>PCA_2</th>\n",
       "      <th>PCA_3</th>\n",
       "      <th>PCA_4</th>\n",
       "      <th>PCA_5</th>\n",
       "      <th>PCA_6</th>\n",
       "      <th>cluster_off_peak</th>\n",
       "      <th>cluster_peak</th>\n",
       "      <th>cluster</th>\n",
       "      <th>Pred_value</th>\n",
       "    </tr>\n",
       "  </thead>\n",
       "  <tbody>\n",
       "    <tr>\n",
       "      <th>0</th>\n",
       "      <td>-3.207493</td>\n",
       "      <td>-0.762702</td>\n",
       "      <td>-0.908464</td>\n",
       "      <td>-0.408142</td>\n",
       "      <td>-0.901111</td>\n",
       "      <td>-0.18702</td>\n",
       "      <td>0</td>\n",
       "      <td>1</td>\n",
       "      <td>peak</td>\n",
       "      <td>11.039060</td>\n",
       "    </tr>\n",
       "    <tr>\n",
       "      <th>1</th>\n",
       "      <td>-3.207493</td>\n",
       "      <td>-0.762702</td>\n",
       "      <td>-0.908464</td>\n",
       "      <td>-0.408142</td>\n",
       "      <td>-0.901111</td>\n",
       "      <td>-0.18702</td>\n",
       "      <td>1</td>\n",
       "      <td>0</td>\n",
       "      <td>off_peak</td>\n",
       "      <td>-0.135862</td>\n",
       "    </tr>\n",
       "    <tr>\n",
       "      <th>2</th>\n",
       "      <td>-3.207493</td>\n",
       "      <td>-0.762702</td>\n",
       "      <td>-0.908464</td>\n",
       "      <td>-0.408142</td>\n",
       "      <td>-0.901111</td>\n",
       "      <td>-0.18702</td>\n",
       "      <td>0</td>\n",
       "      <td>0</td>\n",
       "      <td>middle</td>\n",
       "      <td>1.291591</td>\n",
       "    </tr>\n",
       "  </tbody>\n",
       "</table>\n",
       "</div>"
      ],
      "text/plain": [
       "      PCA_1     PCA_2     PCA_3     PCA_4     PCA_5    PCA_6  \\\n",
       "0 -3.207493 -0.762702 -0.908464 -0.408142 -0.901111 -0.18702   \n",
       "1 -3.207493 -0.762702 -0.908464 -0.408142 -0.901111 -0.18702   \n",
       "2 -3.207493 -0.762702 -0.908464 -0.408142 -0.901111 -0.18702   \n",
       "\n",
       "   cluster_off_peak  cluster_peak   cluster  Pred_value  \n",
       "0                 0             1      peak   11.039060  \n",
       "1                 1             0  off_peak   -0.135862  \n",
       "2                 0             0    middle    1.291591  "
      ]
     },
     "execution_count": 106,
     "metadata": {},
     "output_type": "execute_result"
    }
   ],
   "source": [
    "df_proxies_med.head()"
   ]
  },
  {
   "cell_type": "markdown",
   "metadata": {},
   "source": [
    "**How is the weight of our 18 hex bins comapred to overall accidents?**"
   ]
  },
  {
   "cell_type": "code",
   "execution_count": 107,
   "metadata": {},
   "outputs": [
    {
     "name": "stdout",
     "output_type": "stream",
     "text": [
      "18 hex bins 5253.0\n",
      "117 hex bins 6318.0\n"
     ]
    }
   ],
   "source": [
    "print(\"18 hex bins\", df_reduced.RTA.sum())\n",
    "print(\"117 hex bins\", df_filled.RTA.sum())"
   ]
  },
  {
   "cell_type": "code",
   "execution_count": 108,
   "metadata": {},
   "outputs": [
    {
     "name": "stdout",
     "output_type": "stream",
     "text": [
      "Accidents still to explain 1065.0\n"
     ]
    }
   ],
   "source": [
    "print(\"Accidents still to explain\", df_filled.RTA.sum() - df_reduced.RTA.sum())"
   ]
  },
  {
   "cell_type": "markdown",
   "metadata": {},
   "source": [
    "**Allocate RTA's to \"outer\" hex bins and over time? Different strategies!**"
   ]
  },
  {
   "cell_type": "code",
   "execution_count": 109,
   "metadata": {},
   "outputs": [
    {
     "data": {
      "text/plain": [
       "10.757575757575758"
      ]
     },
     "execution_count": 109,
     "metadata": {},
     "output_type": "execute_result"
    }
   ],
   "source": [
    "(df_filled.RTA.sum() - df_reduced.RTA.sum()) / 99"
   ]
  },
  {
   "cell_type": "markdown",
   "metadata": {},
   "source": [
    "***"
   ]
  },
  {
   "cell_type": "markdown",
   "metadata": {},
   "source": [
    "## Setting up overall input with 3 hour time windows for regression"
   ]
  },
  {
   "cell_type": "markdown",
   "metadata": {},
   "source": [
    "In order to have an input template for the regression, we need to format data into 3-hours time windows. This is required because the goal is to predict RTA's per time windowd (and hex bin)."
   ]
  },
  {
   "cell_type": "code",
   "execution_count": 110,
   "metadata": {},
   "outputs": [],
   "source": [
    "def create_raw_pred_input_df(df_hex_bins):\n",
    "    '''Based on hex bin resolution creates an empty data frame for each 3 hour time window for each hex bin.\n",
    "     This results in a n * 2 dataframe (columns: time_windows, hex_bins) where number of rows equals hex_bins * 4369.\n",
    "     4369 is the result of days between start and end date (in days) * 8 time windows per day (24 / 3 hours)'''\n",
    "    #Create dataframe to get the accurate amount of 3-hour time windows for the desired time frame\n",
    "    date_start = '2018-01-01'\n",
    "    date_end = '2019-07-01'\n",
    "    dates = pd.date_range(date_start, date_end, freq='3h')\n",
    "    all_days_df = pd.DataFrame(dates, columns=[\"dates\"])\n",
    "\n",
    "    time_windows = list(all_days_df[\"dates\"])\n",
    "    len_windows = all_days_df.shape[0]\n",
    "    list_unique_hexbins = df_hex_bins[df_hex_bins.columns[0]].unique()\n",
    "    \n",
    "    list_bins_per_window = []\n",
    "    list_time_windows = []\n",
    "    \n",
    "    for i in range(0, len(list_unique_hexbins)):\n",
    "        list_bins_per_window += len_windows * [list_unique_hexbins[i]]\n",
    "        list_time_windows += time_windows\n",
    "        \n",
    "    input_df = {\"time_windows\": list_time_windows, \"hex_bins\": list_bins_per_window}\n",
    "    df_pred_template = pd.DataFrame(data=input_df)\n",
    "    \n",
    "    return df_pred_template"
   ]
  },
  {
   "cell_type": "code",
   "execution_count": 111,
   "metadata": {},
   "outputs": [],
   "source": [
    "df_raw_pred = create_raw_pred_input_df(df_filled)"
   ]
  },
  {
   "cell_type": "code",
   "execution_count": 112,
   "metadata": {},
   "outputs": [
    {
     "data": {
      "text/plain": [
       "(511173, 2)"
      ]
     },
     "execution_count": 112,
     "metadata": {},
     "output_type": "execute_result"
    }
   ],
   "source": [
    "df_raw_pred.shape"
   ]
  },
  {
   "cell_type": "markdown",
   "metadata": {},
   "source": [
    "This is the resulting data frame for 117 hex bins - for different hx bin resolutions, use the corresponding hex bin data frame as input."
   ]
  },
  {
   "cell_type": "markdown",
   "metadata": {},
   "source": [
    "**Add RTA's**"
   ]
  },
  {
   "cell_type": "code",
   "execution_count": 113,
   "metadata": {},
   "outputs": [
    {
     "data": {
      "text/html": [
       "<div>\n",
       "<style scoped>\n",
       "    .dataframe tbody tr th:only-of-type {\n",
       "        vertical-align: middle;\n",
       "    }\n",
       "\n",
       "    .dataframe tbody tr th {\n",
       "        vertical-align: top;\n",
       "    }\n",
       "\n",
       "    .dataframe thead th {\n",
       "        text-align: right;\n",
       "    }\n",
       "</style>\n",
       "<table border=\"1\" class=\"dataframe\">\n",
       "  <thead>\n",
       "    <tr style=\"text-align: right;\">\n",
       "      <th></th>\n",
       "      <th>time_windows</th>\n",
       "      <th>hex_bins</th>\n",
       "    </tr>\n",
       "  </thead>\n",
       "  <tbody>\n",
       "    <tr>\n",
       "      <th>0</th>\n",
       "      <td>2018-01-01 00:00:00</td>\n",
       "      <td>867a44a6fffffff</td>\n",
       "    </tr>\n",
       "    <tr>\n",
       "      <th>1</th>\n",
       "      <td>2018-01-01 03:00:00</td>\n",
       "      <td>867a44a6fffffff</td>\n",
       "    </tr>\n",
       "    <tr>\n",
       "      <th>2</th>\n",
       "      <td>2018-01-01 06:00:00</td>\n",
       "      <td>867a44a6fffffff</td>\n",
       "    </tr>\n",
       "    <tr>\n",
       "      <th>3</th>\n",
       "      <td>2018-01-01 09:00:00</td>\n",
       "      <td>867a44a6fffffff</td>\n",
       "    </tr>\n",
       "    <tr>\n",
       "      <th>4</th>\n",
       "      <td>2018-01-01 12:00:00</td>\n",
       "      <td>867a44a6fffffff</td>\n",
       "    </tr>\n",
       "  </tbody>\n",
       "</table>\n",
       "</div>"
      ],
      "text/plain": [
       "         time_windows         hex_bins\n",
       "0 2018-01-01 00:00:00  867a44a6fffffff\n",
       "1 2018-01-01 03:00:00  867a44a6fffffff\n",
       "2 2018-01-01 06:00:00  867a44a6fffffff\n",
       "3 2018-01-01 09:00:00  867a44a6fffffff\n",
       "4 2018-01-01 12:00:00  867a44a6fffffff"
      ]
     },
     "execution_count": 113,
     "metadata": {},
     "output_type": "execute_result"
    }
   ],
   "source": [
    "df_raw_pred.head()"
   ]
  },
  {
   "cell_type": "markdown",
   "metadata": {},
   "source": [
    "Need to first create a key (field) over which we can aggregate the time windows"
   ]
  },
  {
   "cell_type": "code",
   "execution_count": 114,
   "metadata": {},
   "outputs": [],
   "source": [
    "df_raw_pred[\"time_window_key\"] = df_raw_pred[\"time_windows\"].apply(lambda x: str(x.year) + \"-\" + str(x.month) + \"-\" + str(x.day) + \"-\" + str(math.floor(x.hour / 3)))"
   ]
  },
  {
   "cell_type": "code",
   "execution_count": 115,
   "metadata": {},
   "outputs": [
    {
     "data": {
      "text/html": [
       "<div>\n",
       "<style scoped>\n",
       "    .dataframe tbody tr th:only-of-type {\n",
       "        vertical-align: middle;\n",
       "    }\n",
       "\n",
       "    .dataframe tbody tr th {\n",
       "        vertical-align: top;\n",
       "    }\n",
       "\n",
       "    .dataframe thead th {\n",
       "        text-align: right;\n",
       "    }\n",
       "</style>\n",
       "<table border=\"1\" class=\"dataframe\">\n",
       "  <thead>\n",
       "    <tr style=\"text-align: right;\">\n",
       "      <th></th>\n",
       "      <th>time_windows</th>\n",
       "      <th>hex_bins</th>\n",
       "      <th>time_window_key</th>\n",
       "    </tr>\n",
       "  </thead>\n",
       "  <tbody>\n",
       "    <tr>\n",
       "      <th>0</th>\n",
       "      <td>2018-01-01 00:00:00</td>\n",
       "      <td>867a44a6fffffff</td>\n",
       "      <td>2018-1-1-0</td>\n",
       "    </tr>\n",
       "    <tr>\n",
       "      <th>1</th>\n",
       "      <td>2018-01-01 03:00:00</td>\n",
       "      <td>867a44a6fffffff</td>\n",
       "      <td>2018-1-1-1</td>\n",
       "    </tr>\n",
       "    <tr>\n",
       "      <th>2</th>\n",
       "      <td>2018-01-01 06:00:00</td>\n",
       "      <td>867a44a6fffffff</td>\n",
       "      <td>2018-1-1-2</td>\n",
       "    </tr>\n",
       "    <tr>\n",
       "      <th>3</th>\n",
       "      <td>2018-01-01 09:00:00</td>\n",
       "      <td>867a44a6fffffff</td>\n",
       "      <td>2018-1-1-3</td>\n",
       "    </tr>\n",
       "    <tr>\n",
       "      <th>4</th>\n",
       "      <td>2018-01-01 12:00:00</td>\n",
       "      <td>867a44a6fffffff</td>\n",
       "      <td>2018-1-1-4</td>\n",
       "    </tr>\n",
       "  </tbody>\n",
       "</table>\n",
       "</div>"
      ],
      "text/plain": [
       "         time_windows         hex_bins time_window_key\n",
       "0 2018-01-01 00:00:00  867a44a6fffffff      2018-1-1-0\n",
       "1 2018-01-01 03:00:00  867a44a6fffffff      2018-1-1-1\n",
       "2 2018-01-01 06:00:00  867a44a6fffffff      2018-1-1-2\n",
       "3 2018-01-01 09:00:00  867a44a6fffffff      2018-1-1-3\n",
       "4 2018-01-01 12:00:00  867a44a6fffffff      2018-1-1-4"
      ]
     },
     "execution_count": 115,
     "metadata": {},
     "output_type": "execute_result"
    }
   ],
   "source": [
    "df_raw_pred.head()"
   ]
  },
  {
   "cell_type": "markdown",
   "metadata": {},
   "source": [
    "**New helper function for aggregating RTA's over 3-hour time windows (not yet to hex bins)**"
   ]
  },
  {
   "cell_type": "code",
   "execution_count": 116,
   "metadata": {},
   "outputs": [],
   "source": [
    "df_cluster[\"time_window_key\"] = df_cluster[\"datetime\"].apply(lambda x: str(x.year) + \"-\" + str(x.month) + \"-\" + str(x.day) + \"-\" + str(math.floor(x.hour / 3)))"
   ]
  },
  {
   "cell_type": "code",
   "execution_count": 117,
   "metadata": {},
   "outputs": [
    {
     "data": {
      "text/html": [
       "<div>\n",
       "<style scoped>\n",
       "    .dataframe tbody tr th:only-of-type {\n",
       "        vertical-align: middle;\n",
       "    }\n",
       "\n",
       "    .dataframe tbody tr th {\n",
       "        vertical-align: top;\n",
       "    }\n",
       "\n",
       "    .dataframe thead th {\n",
       "        text-align: right;\n",
       "    }\n",
       "</style>\n",
       "<table border=\"1\" class=\"dataframe\">\n",
       "  <thead>\n",
       "    <tr style=\"text-align: right;\">\n",
       "      <th></th>\n",
       "      <th>uid</th>\n",
       "      <th>datetime</th>\n",
       "      <th>latitude</th>\n",
       "      <th>longitude</th>\n",
       "      <th>time_window</th>\n",
       "      <th>time_window_str</th>\n",
       "      <th>day</th>\n",
       "      <th>month</th>\n",
       "      <th>year</th>\n",
       "      <th>weekday</th>\n",
       "      <th>h3_zone_6</th>\n",
       "      <th>cluster</th>\n",
       "      <th>time_window_key</th>\n",
       "    </tr>\n",
       "  </thead>\n",
       "  <tbody>\n",
       "    <tr>\n",
       "      <th>0</th>\n",
       "      <td>1</td>\n",
       "      <td>2018-01-01 00:25:46</td>\n",
       "      <td>-1.188850</td>\n",
       "      <td>36.931382</td>\n",
       "      <td>1</td>\n",
       "      <td>00-03</td>\n",
       "      <td>1</td>\n",
       "      <td>Jan</td>\n",
       "      <td>2018</td>\n",
       "      <td>0</td>\n",
       "      <td>867a6e417ffffff</td>\n",
       "      <td>off_peak</td>\n",
       "      <td>2018-1-1-0</td>\n",
       "    </tr>\n",
       "    <tr>\n",
       "      <th>1</th>\n",
       "      <td>2</td>\n",
       "      <td>2018-01-01 02:02:39</td>\n",
       "      <td>-0.662939</td>\n",
       "      <td>37.208730</td>\n",
       "      <td>1</td>\n",
       "      <td>00-03</td>\n",
       "      <td>1</td>\n",
       "      <td>Jan</td>\n",
       "      <td>2018</td>\n",
       "      <td>0</td>\n",
       "      <td>867a45107ffffff</td>\n",
       "      <td>off_peak</td>\n",
       "      <td>2018-1-1-0</td>\n",
       "    </tr>\n",
       "    <tr>\n",
       "      <th>2</th>\n",
       "      <td>3</td>\n",
       "      <td>2018-01-01 02:31:49</td>\n",
       "      <td>-0.662939</td>\n",
       "      <td>37.208730</td>\n",
       "      <td>1</td>\n",
       "      <td>00-03</td>\n",
       "      <td>1</td>\n",
       "      <td>Jan</td>\n",
       "      <td>2018</td>\n",
       "      <td>0</td>\n",
       "      <td>867a45107ffffff</td>\n",
       "      <td>off_peak</td>\n",
       "      <td>2018-1-1-0</td>\n",
       "    </tr>\n",
       "    <tr>\n",
       "      <th>3</th>\n",
       "      <td>4</td>\n",
       "      <td>2018-01-01 03:04:01</td>\n",
       "      <td>-1.288087</td>\n",
       "      <td>36.826583</td>\n",
       "      <td>2</td>\n",
       "      <td>03-06</td>\n",
       "      <td>1</td>\n",
       "      <td>Jan</td>\n",
       "      <td>2018</td>\n",
       "      <td>0</td>\n",
       "      <td>867a6e42fffffff</td>\n",
       "      <td>off_peak</td>\n",
       "      <td>2018-1-1-1</td>\n",
       "    </tr>\n",
       "    <tr>\n",
       "      <th>4</th>\n",
       "      <td>5</td>\n",
       "      <td>2018-01-01 03:58:49</td>\n",
       "      <td>-1.188850</td>\n",
       "      <td>36.931382</td>\n",
       "      <td>2</td>\n",
       "      <td>03-06</td>\n",
       "      <td>1</td>\n",
       "      <td>Jan</td>\n",
       "      <td>2018</td>\n",
       "      <td>0</td>\n",
       "      <td>867a6e417ffffff</td>\n",
       "      <td>off_peak</td>\n",
       "      <td>2018-1-1-1</td>\n",
       "    </tr>\n",
       "  </tbody>\n",
       "</table>\n",
       "</div>"
      ],
      "text/plain": [
       "   uid            datetime  latitude  longitude  time_window time_window_str  \\\n",
       "0    1 2018-01-01 00:25:46 -1.188850  36.931382            1           00-03   \n",
       "1    2 2018-01-01 02:02:39 -0.662939  37.208730            1           00-03   \n",
       "2    3 2018-01-01 02:31:49 -0.662939  37.208730            1           00-03   \n",
       "3    4 2018-01-01 03:04:01 -1.288087  36.826583            2           03-06   \n",
       "4    5 2018-01-01 03:58:49 -1.188850  36.931382            2           03-06   \n",
       "\n",
       "   day month  year  weekday        h3_zone_6   cluster time_window_key  \n",
       "0    1   Jan  2018        0  867a6e417ffffff  off_peak      2018-1-1-0  \n",
       "1    1   Jan  2018        0  867a45107ffffff  off_peak      2018-1-1-0  \n",
       "2    1   Jan  2018        0  867a45107ffffff  off_peak      2018-1-1-0  \n",
       "3    1   Jan  2018        0  867a6e42fffffff  off_peak      2018-1-1-1  \n",
       "4    1   Jan  2018        0  867a6e417ffffff  off_peak      2018-1-1-1  "
      ]
     },
     "execution_count": 117,
     "metadata": {},
     "output_type": "execute_result"
    }
   ],
   "source": [
    "df_cluster.head()"
   ]
  },
  {
   "cell_type": "markdown",
   "metadata": {},
   "source": [
    "This was too early - need to get the hex bins in there as well. We want the hex bins AND time windows (unique) and then join onto that the RTA's per hex bin and time windows (unqiue). df_raw_pred is the empty template and df_cluster is what we will joint onto it."
   ]
  },
  {
   "cell_type": "code",
   "execution_count": 118,
   "metadata": {},
   "outputs": [],
   "source": [
    "def rta_per_time_window(df_cluster):\n",
    "    '''Add up RTA's per time window'''\n",
    "    df_tw = df_cluster.groupby([\"time_window_key\", \"h3_zone_6\"]).agg({\"uid\": \"count\"}).reset_index()\n",
    "    col_names = [\"time_window_key\"] + [\"hex_bins\"] + [\"RTA\"]\n",
    "    df_tw.columns = col_names\n",
    "    return df_tw"
   ]
  },
  {
   "cell_type": "code",
   "execution_count": 119,
   "metadata": {},
   "outputs": [],
   "source": [
    "df_tw = rta_per_time_window(df_cluster)"
   ]
  },
  {
   "cell_type": "code",
   "execution_count": 120,
   "metadata": {},
   "outputs": [
    {
     "data": {
      "text/html": [
       "<div>\n",
       "<style scoped>\n",
       "    .dataframe tbody tr th:only-of-type {\n",
       "        vertical-align: middle;\n",
       "    }\n",
       "\n",
       "    .dataframe tbody tr th {\n",
       "        vertical-align: top;\n",
       "    }\n",
       "\n",
       "    .dataframe thead th {\n",
       "        text-align: right;\n",
       "    }\n",
       "</style>\n",
       "<table border=\"1\" class=\"dataframe\">\n",
       "  <thead>\n",
       "    <tr style=\"text-align: right;\">\n",
       "      <th></th>\n",
       "      <th>time_window_key</th>\n",
       "      <th>hex_bins</th>\n",
       "      <th>RTA</th>\n",
       "    </tr>\n",
       "  </thead>\n",
       "  <tbody>\n",
       "    <tr>\n",
       "      <th>0</th>\n",
       "      <td>2018-1-1-0</td>\n",
       "      <td>867a45107ffffff</td>\n",
       "      <td>2</td>\n",
       "    </tr>\n",
       "    <tr>\n",
       "      <th>1</th>\n",
       "      <td>2018-1-1-0</td>\n",
       "      <td>867a6e417ffffff</td>\n",
       "      <td>1</td>\n",
       "    </tr>\n",
       "    <tr>\n",
       "      <th>2</th>\n",
       "      <td>2018-1-1-1</td>\n",
       "      <td>867a45107ffffff</td>\n",
       "      <td>1</td>\n",
       "    </tr>\n",
       "    <tr>\n",
       "      <th>3</th>\n",
       "      <td>2018-1-1-1</td>\n",
       "      <td>867a6e417ffffff</td>\n",
       "      <td>1</td>\n",
       "    </tr>\n",
       "    <tr>\n",
       "      <th>4</th>\n",
       "      <td>2018-1-1-1</td>\n",
       "      <td>867a6e42fffffff</td>\n",
       "      <td>1</td>\n",
       "    </tr>\n",
       "  </tbody>\n",
       "</table>\n",
       "</div>"
      ],
      "text/plain": [
       "  time_window_key         hex_bins  RTA\n",
       "0      2018-1-1-0  867a45107ffffff    2\n",
       "1      2018-1-1-0  867a6e417ffffff    1\n",
       "2      2018-1-1-1  867a45107ffffff    1\n",
       "3      2018-1-1-1  867a6e417ffffff    1\n",
       "4      2018-1-1-1  867a6e42fffffff    1"
      ]
     },
     "execution_count": 120,
     "metadata": {},
     "output_type": "execute_result"
    }
   ],
   "source": [
    "df_tw.head()"
   ]
  },
  {
   "cell_type": "code",
   "execution_count": 121,
   "metadata": {},
   "outputs": [
    {
     "data": {
      "text/plain": [
       "39"
      ]
     },
     "execution_count": 121,
     "metadata": {},
     "output_type": "execute_result"
    }
   ],
   "source": [
    "df_tw.RTA.max()"
   ]
  },
  {
   "cell_type": "code",
   "execution_count": 122,
   "metadata": {},
   "outputs": [
    {
     "data": {
      "text/plain": [
       "(1014, 3)"
      ]
     },
     "execution_count": 122,
     "metadata": {},
     "output_type": "execute_result"
    }
   ],
   "source": [
    "df_tw[df_tw.RTA > 1].shape"
   ]
  },
  {
   "cell_type": "markdown",
   "metadata": {},
   "source": [
    "There are 47 out of the overall 117 hex bins that have at least one time more than one accident in a single time window. this could be one (meta) class. Might have to differentiate even further."
   ]
  },
  {
   "cell_type": "code",
   "execution_count": 123,
   "metadata": {},
   "outputs": [
    {
     "data": {
      "text/plain": [
       "47"
      ]
     },
     "execution_count": 123,
     "metadata": {},
     "output_type": "execute_result"
    }
   ],
   "source": [
    "df_tw[df_tw.RTA > 1].hex_bins.nunique()"
   ]
  },
  {
   "cell_type": "code",
   "execution_count": 124,
   "metadata": {},
   "outputs": [
    {
     "data": {
      "text/plain": [
       "(4272, 3)"
      ]
     },
     "execution_count": 124,
     "metadata": {},
     "output_type": "execute_result"
    }
   ],
   "source": [
    "df_tw.shape"
   ]
  },
  {
   "cell_type": "code",
   "execution_count": 125,
   "metadata": {},
   "outputs": [
    {
     "data": {
      "text/plain": [
       "[<matplotlib.lines.Line2D at 0x7f900511b940>]"
      ]
     },
     "execution_count": 125,
     "metadata": {},
     "output_type": "execute_result"
    },
    {
     "data": {
      "image/png": "[encoded data removed]",
      "text/plain": [
       "<Figure size 432x288 with 1 Axes>"
      ]
     },
     "metadata": {
      "needs_background": "light"
     },
     "output_type": "display_data"
    }
   ],
   "source": [
    "plt.plot(df_tw.groupby(\"hex_bins\").time_window_key.count().sort_values(ascending=False))"
   ]
  },
  {
   "cell_type": "code",
   "execution_count": 126,
   "metadata": {},
   "outputs": [],
   "source": [
    "df_tw_high = df_tw.loc[df_tw[\"RTA\"] > 5]"
   ]
  },
  {
   "cell_type": "code",
   "execution_count": 127,
   "metadata": {},
   "outputs": [
    {
     "data": {
      "text/html": [
       "<div>\n",
       "<style scoped>\n",
       "    .dataframe tbody tr th:only-of-type {\n",
       "        vertical-align: middle;\n",
       "    }\n",
       "\n",
       "    .dataframe tbody tr th {\n",
       "        vertical-align: top;\n",
       "    }\n",
       "\n",
       "    .dataframe thead th {\n",
       "        text-align: right;\n",
       "    }\n",
       "</style>\n",
       "<table border=\"1\" class=\"dataframe\">\n",
       "  <thead>\n",
       "    <tr style=\"text-align: right;\">\n",
       "      <th></th>\n",
       "      <th>time_window_key</th>\n",
       "      <th>hex_bins</th>\n",
       "      <th>RTA</th>\n",
       "    </tr>\n",
       "  </thead>\n",
       "  <tbody>\n",
       "    <tr>\n",
       "      <th>88</th>\n",
       "      <td>2018-1-2-2</td>\n",
       "      <td>867a6e477ffffff</td>\n",
       "      <td>8</td>\n",
       "    </tr>\n",
       "    <tr>\n",
       "      <th>116</th>\n",
       "      <td>2018-1-22-0</td>\n",
       "      <td>867a6e42fffffff</td>\n",
       "      <td>6</td>\n",
       "    </tr>\n",
       "    <tr>\n",
       "      <th>145</th>\n",
       "      <td>2018-1-25-0</td>\n",
       "      <td>867a6e417ffffff</td>\n",
       "      <td>15</td>\n",
       "    </tr>\n",
       "    <tr>\n",
       "      <th>172</th>\n",
       "      <td>2018-1-28-2</td>\n",
       "      <td>867a6e4a7ffffff</td>\n",
       "      <td>6</td>\n",
       "    </tr>\n",
       "    <tr>\n",
       "      <th>176</th>\n",
       "      <td>2018-1-29-0</td>\n",
       "      <td>867a6e557ffffff</td>\n",
       "      <td>14</td>\n",
       "    </tr>\n",
       "    <tr>\n",
       "      <th>184</th>\n",
       "      <td>2018-1-3-0</td>\n",
       "      <td>867a6e42fffffff</td>\n",
       "      <td>6</td>\n",
       "    </tr>\n",
       "    <tr>\n",
       "      <th>186</th>\n",
       "      <td>2018-1-3-1</td>\n",
       "      <td>867a6e42fffffff</td>\n",
       "      <td>7</td>\n",
       "    </tr>\n",
       "    <tr>\n",
       "      <th>188</th>\n",
       "      <td>2018-1-3-1</td>\n",
       "      <td>867a6e50fffffff</td>\n",
       "      <td>6</td>\n",
       "    </tr>\n",
       "    <tr>\n",
       "      <th>229</th>\n",
       "      <td>2018-1-5-2</td>\n",
       "      <td>867a6e407ffffff</td>\n",
       "      <td>6</td>\n",
       "    </tr>\n",
       "    <tr>\n",
       "      <th>246</th>\n",
       "      <td>2018-1-7-3</td>\n",
       "      <td>867a6e477ffffff</td>\n",
       "      <td>15</td>\n",
       "    </tr>\n",
       "    <tr>\n",
       "      <th>256</th>\n",
       "      <td>2018-1-8-3</td>\n",
       "      <td>867a6e407ffffff</td>\n",
       "      <td>8</td>\n",
       "    </tr>\n",
       "    <tr>\n",
       "      <th>282</th>\n",
       "      <td>2018-10-10-4</td>\n",
       "      <td>867a6e42fffffff</td>\n",
       "      <td>6</td>\n",
       "    </tr>\n",
       "    <tr>\n",
       "      <th>378</th>\n",
       "      <td>2018-10-23-2</td>\n",
       "      <td>867a6e557ffffff</td>\n",
       "      <td>12</td>\n",
       "    </tr>\n",
       "    <tr>\n",
       "      <th>432</th>\n",
       "      <td>2018-10-3-2</td>\n",
       "      <td>867a6e40fffffff</td>\n",
       "      <td>8</td>\n",
       "    </tr>\n",
       "    <tr>\n",
       "      <th>501</th>\n",
       "      <td>2018-11-1-6</td>\n",
       "      <td>867a6e417ffffff</td>\n",
       "      <td>7</td>\n",
       "    </tr>\n",
       "    <tr>\n",
       "      <th>577</th>\n",
       "      <td>2018-11-2-2</td>\n",
       "      <td>867a6e407ffffff</td>\n",
       "      <td>11</td>\n",
       "    </tr>\n",
       "    <tr>\n",
       "      <th>719</th>\n",
       "      <td>2018-12-10-3</td>\n",
       "      <td>867a6e407ffffff</td>\n",
       "      <td>7</td>\n",
       "    </tr>\n",
       "    <tr>\n",
       "      <th>735</th>\n",
       "      <td>2018-12-12-2</td>\n",
       "      <td>867a6e477ffffff</td>\n",
       "      <td>12</td>\n",
       "    </tr>\n",
       "    <tr>\n",
       "      <th>879</th>\n",
       "      <td>2018-12-4-3</td>\n",
       "      <td>867a6e477ffffff</td>\n",
       "      <td>9</td>\n",
       "    </tr>\n",
       "    <tr>\n",
       "      <th>1011</th>\n",
       "      <td>2018-2-20-0</td>\n",
       "      <td>867a6e417ffffff</td>\n",
       "      <td>8</td>\n",
       "    </tr>\n",
       "  </tbody>\n",
       "</table>\n",
       "</div>"
      ],
      "text/plain": [
       "     time_window_key         hex_bins  RTA\n",
       "88        2018-1-2-2  867a6e477ffffff    8\n",
       "116      2018-1-22-0  867a6e42fffffff    6\n",
       "145      2018-1-25-0  867a6e417ffffff   15\n",
       "172      2018-1-28-2  867a6e4a7ffffff    6\n",
       "176      2018-1-29-0  867a6e557ffffff   14\n",
       "184       2018-1-3-0  867a6e42fffffff    6\n",
       "186       2018-1-3-1  867a6e42fffffff    7\n",
       "188       2018-1-3-1  867a6e50fffffff    6\n",
       "229       2018-1-5-2  867a6e407ffffff    6\n",
       "246       2018-1-7-3  867a6e477ffffff   15\n",
       "256       2018-1-8-3  867a6e407ffffff    8\n",
       "282     2018-10-10-4  867a6e42fffffff    6\n",
       "378     2018-10-23-2  867a6e557ffffff   12\n",
       "432      2018-10-3-2  867a6e40fffffff    8\n",
       "501      2018-11-1-6  867a6e417ffffff    7\n",
       "577      2018-11-2-2  867a6e407ffffff   11\n",
       "719     2018-12-10-3  867a6e407ffffff    7\n",
       "735     2018-12-12-2  867a6e477ffffff   12\n",
       "879      2018-12-4-3  867a6e477ffffff    9\n",
       "1011     2018-2-20-0  867a6e417ffffff    8"
      ]
     },
     "execution_count": 127,
     "metadata": {},
     "output_type": "execute_result"
    }
   ],
   "source": [
    "df_tw_high.sort_values(by=\"time_window_key\", ascending=True).head(20)"
   ]
  },
  {
   "cell_type": "markdown",
   "metadata": {},
   "source": [
    "**Next -> (outer) join df_tw onto df_raw_pred**"
   ]
  },
  {
   "cell_type": "markdown",
   "metadata": {},
   "source": [
    "This creates the sparse event matrix for all time windows and hex bins."
   ]
  },
  {
   "cell_type": "code",
   "execution_count": 128,
   "metadata": {},
   "outputs": [
    {
     "data": {
      "text/plain": [
       "(4272, 3)"
      ]
     },
     "execution_count": 128,
     "metadata": {},
     "output_type": "execute_result"
    }
   ],
   "source": [
    "df_tw.shape"
   ]
  },
  {
   "cell_type": "code",
   "execution_count": 129,
   "metadata": {},
   "outputs": [
    {
     "data": {
      "text/html": [
       "<div>\n",
       "<style scoped>\n",
       "    .dataframe tbody tr th:only-of-type {\n",
       "        vertical-align: middle;\n",
       "    }\n",
       "\n",
       "    .dataframe tbody tr th {\n",
       "        vertical-align: top;\n",
       "    }\n",
       "\n",
       "    .dataframe thead th {\n",
       "        text-align: right;\n",
       "    }\n",
       "</style>\n",
       "<table border=\"1\" class=\"dataframe\">\n",
       "  <thead>\n",
       "    <tr style=\"text-align: right;\">\n",
       "      <th></th>\n",
       "      <th>time_window_key</th>\n",
       "      <th>hex_bins</th>\n",
       "      <th>RTA</th>\n",
       "    </tr>\n",
       "  </thead>\n",
       "  <tbody>\n",
       "    <tr>\n",
       "      <th>0</th>\n",
       "      <td>2018-1-1-0</td>\n",
       "      <td>867a45107ffffff</td>\n",
       "      <td>2</td>\n",
       "    </tr>\n",
       "    <tr>\n",
       "      <th>1</th>\n",
       "      <td>2018-1-1-0</td>\n",
       "      <td>867a6e417ffffff</td>\n",
       "      <td>1</td>\n",
       "    </tr>\n",
       "    <tr>\n",
       "      <th>2</th>\n",
       "      <td>2018-1-1-1</td>\n",
       "      <td>867a45107ffffff</td>\n",
       "      <td>1</td>\n",
       "    </tr>\n",
       "    <tr>\n",
       "      <th>3</th>\n",
       "      <td>2018-1-1-1</td>\n",
       "      <td>867a6e417ffffff</td>\n",
       "      <td>1</td>\n",
       "    </tr>\n",
       "    <tr>\n",
       "      <th>4</th>\n",
       "      <td>2018-1-1-1</td>\n",
       "      <td>867a6e42fffffff</td>\n",
       "      <td>1</td>\n",
       "    </tr>\n",
       "    <tr>\n",
       "      <th>5</th>\n",
       "      <td>2018-1-1-1</td>\n",
       "      <td>867a6e4a7ffffff</td>\n",
       "      <td>1</td>\n",
       "    </tr>\n",
       "    <tr>\n",
       "      <th>6</th>\n",
       "      <td>2018-1-1-2</td>\n",
       "      <td>867a6e557ffffff</td>\n",
       "      <td>1</td>\n",
       "    </tr>\n",
       "    <tr>\n",
       "      <th>7</th>\n",
       "      <td>2018-1-1-3</td>\n",
       "      <td>867a6e42fffffff</td>\n",
       "      <td>2</td>\n",
       "    </tr>\n",
       "    <tr>\n",
       "      <th>8</th>\n",
       "      <td>2018-1-1-3</td>\n",
       "      <td>867a6e4b7ffffff</td>\n",
       "      <td>1</td>\n",
       "    </tr>\n",
       "    <tr>\n",
       "      <th>9</th>\n",
       "      <td>2018-1-1-3</td>\n",
       "      <td>867a6e4f7ffffff</td>\n",
       "      <td>1</td>\n",
       "    </tr>\n",
       "  </tbody>\n",
       "</table>\n",
       "</div>"
      ],
      "text/plain": [
       "  time_window_key         hex_bins  RTA\n",
       "0      2018-1-1-0  867a45107ffffff    2\n",
       "1      2018-1-1-0  867a6e417ffffff    1\n",
       "2      2018-1-1-1  867a45107ffffff    1\n",
       "3      2018-1-1-1  867a6e417ffffff    1\n",
       "4      2018-1-1-1  867a6e42fffffff    1\n",
       "5      2018-1-1-1  867a6e4a7ffffff    1\n",
       "6      2018-1-1-2  867a6e557ffffff    1\n",
       "7      2018-1-1-3  867a6e42fffffff    2\n",
       "8      2018-1-1-3  867a6e4b7ffffff    1\n",
       "9      2018-1-1-3  867a6e4f7ffffff    1"
      ]
     },
     "execution_count": 129,
     "metadata": {},
     "output_type": "execute_result"
    }
   ],
   "source": [
    "df_tw.head(10)"
   ]
  },
  {
   "cell_type": "code",
   "execution_count": 130,
   "metadata": {},
   "outputs": [
    {
     "data": {
      "text/plain": [
       "(511173, 3)"
      ]
     },
     "execution_count": 130,
     "metadata": {},
     "output_type": "execute_result"
    }
   ],
   "source": [
    "df_raw_pred.shape"
   ]
  },
  {
   "cell_type": "code",
   "execution_count": 131,
   "metadata": {},
   "outputs": [],
   "source": [
    "#df_raw_pred.drop(\"time_windows\", axis=1, inplace=True)"
   ]
  },
  {
   "cell_type": "code",
   "execution_count": 132,
   "metadata": {},
   "outputs": [
    {
     "data": {
      "text/html": [
       "<div>\n",
       "<style scoped>\n",
       "    .dataframe tbody tr th:only-of-type {\n",
       "        vertical-align: middle;\n",
       "    }\n",
       "\n",
       "    .dataframe tbody tr th {\n",
       "        vertical-align: top;\n",
       "    }\n",
       "\n",
       "    .dataframe thead th {\n",
       "        text-align: right;\n",
       "    }\n",
       "</style>\n",
       "<table border=\"1\" class=\"dataframe\">\n",
       "  <thead>\n",
       "    <tr style=\"text-align: right;\">\n",
       "      <th></th>\n",
       "      <th>time_windows</th>\n",
       "      <th>hex_bins</th>\n",
       "      <th>time_window_key</th>\n",
       "    </tr>\n",
       "  </thead>\n",
       "  <tbody>\n",
       "    <tr>\n",
       "      <th>0</th>\n",
       "      <td>2018-01-01 00:00:00</td>\n",
       "      <td>867a44a6fffffff</td>\n",
       "      <td>2018-1-1-0</td>\n",
       "    </tr>\n",
       "    <tr>\n",
       "      <th>1</th>\n",
       "      <td>2018-01-01 03:00:00</td>\n",
       "      <td>867a44a6fffffff</td>\n",
       "      <td>2018-1-1-1</td>\n",
       "    </tr>\n",
       "    <tr>\n",
       "      <th>2</th>\n",
       "      <td>2018-01-01 06:00:00</td>\n",
       "      <td>867a44a6fffffff</td>\n",
       "      <td>2018-1-1-2</td>\n",
       "    </tr>\n",
       "    <tr>\n",
       "      <th>3</th>\n",
       "      <td>2018-01-01 09:00:00</td>\n",
       "      <td>867a44a6fffffff</td>\n",
       "      <td>2018-1-1-3</td>\n",
       "    </tr>\n",
       "    <tr>\n",
       "      <th>4</th>\n",
       "      <td>2018-01-01 12:00:00</td>\n",
       "      <td>867a44a6fffffff</td>\n",
       "      <td>2018-1-1-4</td>\n",
       "    </tr>\n",
       "    <tr>\n",
       "      <th>5</th>\n",
       "      <td>2018-01-01 15:00:00</td>\n",
       "      <td>867a44a6fffffff</td>\n",
       "      <td>2018-1-1-5</td>\n",
       "    </tr>\n",
       "    <tr>\n",
       "      <th>6</th>\n",
       "      <td>2018-01-01 18:00:00</td>\n",
       "      <td>867a44a6fffffff</td>\n",
       "      <td>2018-1-1-6</td>\n",
       "    </tr>\n",
       "    <tr>\n",
       "      <th>7</th>\n",
       "      <td>2018-01-01 21:00:00</td>\n",
       "      <td>867a44a6fffffff</td>\n",
       "      <td>2018-1-1-7</td>\n",
       "    </tr>\n",
       "    <tr>\n",
       "      <th>8</th>\n",
       "      <td>2018-01-02 00:00:00</td>\n",
       "      <td>867a44a6fffffff</td>\n",
       "      <td>2018-1-2-0</td>\n",
       "    </tr>\n",
       "    <tr>\n",
       "      <th>9</th>\n",
       "      <td>2018-01-02 03:00:00</td>\n",
       "      <td>867a44a6fffffff</td>\n",
       "      <td>2018-1-2-1</td>\n",
       "    </tr>\n",
       "  </tbody>\n",
       "</table>\n",
       "</div>"
      ],
      "text/plain": [
       "         time_windows         hex_bins time_window_key\n",
       "0 2018-01-01 00:00:00  867a44a6fffffff      2018-1-1-0\n",
       "1 2018-01-01 03:00:00  867a44a6fffffff      2018-1-1-1\n",
       "2 2018-01-01 06:00:00  867a44a6fffffff      2018-1-1-2\n",
       "3 2018-01-01 09:00:00  867a44a6fffffff      2018-1-1-3\n",
       "4 2018-01-01 12:00:00  867a44a6fffffff      2018-1-1-4\n",
       "5 2018-01-01 15:00:00  867a44a6fffffff      2018-1-1-5\n",
       "6 2018-01-01 18:00:00  867a44a6fffffff      2018-1-1-6\n",
       "7 2018-01-01 21:00:00  867a44a6fffffff      2018-1-1-7\n",
       "8 2018-01-02 00:00:00  867a44a6fffffff      2018-1-2-0\n",
       "9 2018-01-02 03:00:00  867a44a6fffffff      2018-1-2-1"
      ]
     },
     "execution_count": 132,
     "metadata": {},
     "output_type": "execute_result"
    }
   ],
   "source": [
    "df_raw_pred.head(10)"
   ]
  },
  {
   "cell_type": "code",
   "execution_count": 133,
   "metadata": {},
   "outputs": [],
   "source": [
    "def fill_overall_df(df_raw_pred, df_rta_per_tw):\n",
    "    '''Join road traffic accidents onto empty data frame that consists of time windows (8 per day) for all days (1.5 years) for all hex bins. \n",
    "    For combinations with no accidents, NaNs will be converted into 0.'''\n",
    "    df_merged = pd.merge(df_raw_pred, df_rta_per_tw, on=[\"time_window_key\", \"hex_bins\"], how=\"outer\")\n",
    "    df_merged = df_merged.fillna(0)\n",
    "    return df_merged"
   ]
  },
  {
   "cell_type": "code",
   "execution_count": 134,
   "metadata": {},
   "outputs": [],
   "source": [
    "df_raw_filled = fill_overall_df(df_raw_pred, df_tw)"
   ]
  },
  {
   "cell_type": "code",
   "execution_count": 135,
   "metadata": {},
   "outputs": [
    {
     "data": {
      "text/html": [
       "<div>\n",
       "<style scoped>\n",
       "    .dataframe tbody tr th:only-of-type {\n",
       "        vertical-align: middle;\n",
       "    }\n",
       "\n",
       "    .dataframe tbody tr th {\n",
       "        vertical-align: top;\n",
       "    }\n",
       "\n",
       "    .dataframe thead th {\n",
       "        text-align: right;\n",
       "    }\n",
       "</style>\n",
       "<table border=\"1\" class=\"dataframe\">\n",
       "  <thead>\n",
       "    <tr style=\"text-align: right;\">\n",
       "      <th></th>\n",
       "      <th>time_windows</th>\n",
       "      <th>hex_bins</th>\n",
       "      <th>time_window_key</th>\n",
       "      <th>RTA</th>\n",
       "    </tr>\n",
       "  </thead>\n",
       "  <tbody>\n",
       "    <tr>\n",
       "      <th>0</th>\n",
       "      <td>2018-01-01 00:00:00</td>\n",
       "      <td>867a44a6fffffff</td>\n",
       "      <td>2018-1-1-0</td>\n",
       "      <td>0.0</td>\n",
       "    </tr>\n",
       "    <tr>\n",
       "      <th>1</th>\n",
       "      <td>2018-01-01 03:00:00</td>\n",
       "      <td>867a44a6fffffff</td>\n",
       "      <td>2018-1-1-1</td>\n",
       "      <td>0.0</td>\n",
       "    </tr>\n",
       "    <tr>\n",
       "      <th>2</th>\n",
       "      <td>2018-01-01 06:00:00</td>\n",
       "      <td>867a44a6fffffff</td>\n",
       "      <td>2018-1-1-2</td>\n",
       "      <td>0.0</td>\n",
       "    </tr>\n",
       "    <tr>\n",
       "      <th>3</th>\n",
       "      <td>2018-01-01 09:00:00</td>\n",
       "      <td>867a44a6fffffff</td>\n",
       "      <td>2018-1-1-3</td>\n",
       "      <td>0.0</td>\n",
       "    </tr>\n",
       "    <tr>\n",
       "      <th>4</th>\n",
       "      <td>2018-01-01 12:00:00</td>\n",
       "      <td>867a44a6fffffff</td>\n",
       "      <td>2018-1-1-4</td>\n",
       "      <td>0.0</td>\n",
       "    </tr>\n",
       "  </tbody>\n",
       "</table>\n",
       "</div>"
      ],
      "text/plain": [
       "         time_windows         hex_bins time_window_key  RTA\n",
       "0 2018-01-01 00:00:00  867a44a6fffffff      2018-1-1-0  0.0\n",
       "1 2018-01-01 03:00:00  867a44a6fffffff      2018-1-1-1  0.0\n",
       "2 2018-01-01 06:00:00  867a44a6fffffff      2018-1-1-2  0.0\n",
       "3 2018-01-01 09:00:00  867a44a6fffffff      2018-1-1-3  0.0\n",
       "4 2018-01-01 12:00:00  867a44a6fffffff      2018-1-1-4  0.0"
      ]
     },
     "execution_count": 135,
     "metadata": {},
     "output_type": "execute_result"
    }
   ],
   "source": [
    "df_raw_filled.head()"
   ]
  },
  {
   "cell_type": "code",
   "execution_count": 136,
   "metadata": {},
   "outputs": [
    {
     "data": {
      "text/plain": [
       "(511173, 4)"
      ]
     },
     "execution_count": 136,
     "metadata": {},
     "output_type": "execute_result"
    }
   ],
   "source": [
    "df_raw_filled.shape"
   ]
  },
  {
   "cell_type": "code",
   "execution_count": 137,
   "metadata": {},
   "outputs": [
    {
     "data": {
      "text/plain": [
       "(4272, 4)"
      ]
     },
     "execution_count": 137,
     "metadata": {},
     "output_type": "execute_result"
    }
   ],
   "source": [
    "df_raw_filled[df_raw_filled.RTA > 0].shape"
   ]
  },
  {
   "cell_type": "code",
   "execution_count": 138,
   "metadata": {},
   "outputs": [
    {
     "data": {
      "text/plain": [
       "hex_bins\n",
       "867a6e42fffffff    1104.0\n",
       "867a6e407ffffff     694.0\n",
       "867a6e557ffffff     652.0\n",
       "867a6e50fffffff     535.0\n",
       "867a6e417ffffff     432.0\n",
       "867a6e477ffffff     399.0\n",
       "867a6e427ffffff     360.0\n",
       "867a6e55fffffff     302.0\n",
       "867a6e467ffffff     224.0\n",
       "867a6e507ffffff     142.0\n",
       "Name: RTA, dtype: float64"
      ]
     },
     "execution_count": 138,
     "metadata": {},
     "output_type": "execute_result"
    }
   ],
   "source": [
    "df_raw_filled.groupby(\"hex_bins\").RTA.sum().sort_values(ascending=False).head(10)"
   ]
  },
  {
   "cell_type": "code",
   "execution_count": 139,
   "metadata": {},
   "outputs": [
    {
     "data": {
      "text/plain": [
       "Index(['datetime', 'hex_bins', 'time_window_key', 'RTA'], dtype='object')"
      ]
     },
     "execution_count": 139,
     "metadata": {},
     "output_type": "execute_result"
    }
   ],
   "source": [
    "list_of_c = list(df_raw_filled.columns)\n",
    "list_of_c[0] = \"datetime\"\n",
    "df_raw_filled.columns = list_of_c\n",
    "df_raw_filled.columns"
   ]
  },
  {
   "cell_type": "code",
   "execution_count": 140,
   "metadata": {},
   "outputs": [],
   "source": [
    "df_raw_filled = create_temporal_features(df_raw_filled)"
   ]
  },
  {
   "cell_type": "code",
   "execution_count": 141,
   "metadata": {},
   "outputs": [
    {
     "data": {
      "text/html": [
       "<div>\n",
       "<style scoped>\n",
       "    .dataframe tbody tr th:only-of-type {\n",
       "        vertical-align: middle;\n",
       "    }\n",
       "\n",
       "    .dataframe tbody tr th {\n",
       "        vertical-align: top;\n",
       "    }\n",
       "\n",
       "    .dataframe thead th {\n",
       "        text-align: right;\n",
       "    }\n",
       "</style>\n",
       "<table border=\"1\" class=\"dataframe\">\n",
       "  <thead>\n",
       "    <tr style=\"text-align: right;\">\n",
       "      <th></th>\n",
       "      <th>datetime</th>\n",
       "      <th>hex_bins</th>\n",
       "      <th>time_window_key</th>\n",
       "      <th>RTA</th>\n",
       "      <th>time_window</th>\n",
       "      <th>time_window_str</th>\n",
       "      <th>day</th>\n",
       "      <th>month</th>\n",
       "      <th>year</th>\n",
       "      <th>weekday</th>\n",
       "    </tr>\n",
       "  </thead>\n",
       "  <tbody>\n",
       "    <tr>\n",
       "      <th>0</th>\n",
       "      <td>2018-01-01 00:00:00</td>\n",
       "      <td>867a44a6fffffff</td>\n",
       "      <td>2018-1-1-0</td>\n",
       "      <td>0.0</td>\n",
       "      <td>1</td>\n",
       "      <td>00-03</td>\n",
       "      <td>1</td>\n",
       "      <td>Jan</td>\n",
       "      <td>2018</td>\n",
       "      <td>0</td>\n",
       "    </tr>\n",
       "    <tr>\n",
       "      <th>1</th>\n",
       "      <td>2018-01-01 03:00:00</td>\n",
       "      <td>867a44a6fffffff</td>\n",
       "      <td>2018-1-1-1</td>\n",
       "      <td>0.0</td>\n",
       "      <td>2</td>\n",
       "      <td>03-06</td>\n",
       "      <td>1</td>\n",
       "      <td>Jan</td>\n",
       "      <td>2018</td>\n",
       "      <td>0</td>\n",
       "    </tr>\n",
       "    <tr>\n",
       "      <th>2</th>\n",
       "      <td>2018-01-01 06:00:00</td>\n",
       "      <td>867a44a6fffffff</td>\n",
       "      <td>2018-1-1-2</td>\n",
       "      <td>0.0</td>\n",
       "      <td>3</td>\n",
       "      <td>06-09</td>\n",
       "      <td>1</td>\n",
       "      <td>Jan</td>\n",
       "      <td>2018</td>\n",
       "      <td>0</td>\n",
       "    </tr>\n",
       "    <tr>\n",
       "      <th>3</th>\n",
       "      <td>2018-01-01 09:00:00</td>\n",
       "      <td>867a44a6fffffff</td>\n",
       "      <td>2018-1-1-3</td>\n",
       "      <td>0.0</td>\n",
       "      <td>4</td>\n",
       "      <td>09-12</td>\n",
       "      <td>1</td>\n",
       "      <td>Jan</td>\n",
       "      <td>2018</td>\n",
       "      <td>0</td>\n",
       "    </tr>\n",
       "    <tr>\n",
       "      <th>4</th>\n",
       "      <td>2018-01-01 12:00:00</td>\n",
       "      <td>867a44a6fffffff</td>\n",
       "      <td>2018-1-1-4</td>\n",
       "      <td>0.0</td>\n",
       "      <td>5</td>\n",
       "      <td>12-15</td>\n",
       "      <td>1</td>\n",
       "      <td>Jan</td>\n",
       "      <td>2018</td>\n",
       "      <td>0</td>\n",
       "    </tr>\n",
       "  </tbody>\n",
       "</table>\n",
       "</div>"
      ],
      "text/plain": [
       "             datetime         hex_bins time_window_key  RTA  time_window  \\\n",
       "0 2018-01-01 00:00:00  867a44a6fffffff      2018-1-1-0  0.0            1   \n",
       "1 2018-01-01 03:00:00  867a44a6fffffff      2018-1-1-1  0.0            2   \n",
       "2 2018-01-01 06:00:00  867a44a6fffffff      2018-1-1-2  0.0            3   \n",
       "3 2018-01-01 09:00:00  867a44a6fffffff      2018-1-1-3  0.0            4   \n",
       "4 2018-01-01 12:00:00  867a44a6fffffff      2018-1-1-4  0.0            5   \n",
       "\n",
       "  time_window_str  day month  year  weekday  \n",
       "0           00-03    1   Jan  2018        0  \n",
       "1           03-06    1   Jan  2018        0  \n",
       "2           06-09    1   Jan  2018        0  \n",
       "3           09-12    1   Jan  2018        0  \n",
       "4           12-15    1   Jan  2018        0  "
      ]
     },
     "execution_count": 141,
     "metadata": {},
     "output_type": "execute_result"
    }
   ],
   "source": [
    "df_raw_filled.head()"
   ]
  },
  {
   "cell_type": "code",
   "execution_count": 142,
   "metadata": {},
   "outputs": [
    {
     "name": "stdout",
     "output_type": "stream",
     "text": [
      "3 clusters created\n"
     ]
    }
   ],
   "source": [
    "df_final = create_cluster_feature(df_raw_filled, strategy='mean_shift_modified', verbose=0)"
   ]
  },
  {
   "cell_type": "code",
   "execution_count": 143,
   "metadata": {},
   "outputs": [
    {
     "data": {
      "text/html": [
       "<div>\n",
       "<style scoped>\n",
       "    .dataframe tbody tr th:only-of-type {\n",
       "        vertical-align: middle;\n",
       "    }\n",
       "\n",
       "    .dataframe tbody tr th {\n",
       "        vertical-align: top;\n",
       "    }\n",
       "\n",
       "    .dataframe thead th {\n",
       "        text-align: right;\n",
       "    }\n",
       "</style>\n",
       "<table border=\"1\" class=\"dataframe\">\n",
       "  <thead>\n",
       "    <tr style=\"text-align: right;\">\n",
       "      <th></th>\n",
       "      <th>datetime</th>\n",
       "      <th>hex_bins</th>\n",
       "      <th>time_window_key</th>\n",
       "      <th>RTA</th>\n",
       "      <th>time_window</th>\n",
       "      <th>time_window_str</th>\n",
       "      <th>day</th>\n",
       "      <th>month</th>\n",
       "      <th>year</th>\n",
       "      <th>weekday</th>\n",
       "      <th>cluster</th>\n",
       "    </tr>\n",
       "  </thead>\n",
       "  <tbody>\n",
       "    <tr>\n",
       "      <th>0</th>\n",
       "      <td>2018-01-01 00:00:00</td>\n",
       "      <td>867a44a6fffffff</td>\n",
       "      <td>2018-1-1-0</td>\n",
       "      <td>0.0</td>\n",
       "      <td>1</td>\n",
       "      <td>00-03</td>\n",
       "      <td>1</td>\n",
       "      <td>Jan</td>\n",
       "      <td>2018</td>\n",
       "      <td>0</td>\n",
       "      <td>off_peak</td>\n",
       "    </tr>\n",
       "    <tr>\n",
       "      <th>1</th>\n",
       "      <td>2018-01-01 03:00:00</td>\n",
       "      <td>867a44a6fffffff</td>\n",
       "      <td>2018-1-1-1</td>\n",
       "      <td>0.0</td>\n",
       "      <td>2</td>\n",
       "      <td>03-06</td>\n",
       "      <td>1</td>\n",
       "      <td>Jan</td>\n",
       "      <td>2018</td>\n",
       "      <td>0</td>\n",
       "      <td>off_peak</td>\n",
       "    </tr>\n",
       "    <tr>\n",
       "      <th>2</th>\n",
       "      <td>2018-01-01 06:00:00</td>\n",
       "      <td>867a44a6fffffff</td>\n",
       "      <td>2018-1-1-2</td>\n",
       "      <td>0.0</td>\n",
       "      <td>3</td>\n",
       "      <td>06-09</td>\n",
       "      <td>1</td>\n",
       "      <td>Jan</td>\n",
       "      <td>2018</td>\n",
       "      <td>0</td>\n",
       "      <td>peak</td>\n",
       "    </tr>\n",
       "    <tr>\n",
       "      <th>3</th>\n",
       "      <td>2018-01-01 09:00:00</td>\n",
       "      <td>867a44a6fffffff</td>\n",
       "      <td>2018-1-1-3</td>\n",
       "      <td>0.0</td>\n",
       "      <td>4</td>\n",
       "      <td>09-12</td>\n",
       "      <td>1</td>\n",
       "      <td>Jan</td>\n",
       "      <td>2018</td>\n",
       "      <td>0</td>\n",
       "      <td>middle</td>\n",
       "    </tr>\n",
       "    <tr>\n",
       "      <th>4</th>\n",
       "      <td>2018-01-01 12:00:00</td>\n",
       "      <td>867a44a6fffffff</td>\n",
       "      <td>2018-1-1-4</td>\n",
       "      <td>0.0</td>\n",
       "      <td>5</td>\n",
       "      <td>12-15</td>\n",
       "      <td>1</td>\n",
       "      <td>Jan</td>\n",
       "      <td>2018</td>\n",
       "      <td>0</td>\n",
       "      <td>middle</td>\n",
       "    </tr>\n",
       "  </tbody>\n",
       "</table>\n",
       "</div>"
      ],
      "text/plain": [
       "             datetime         hex_bins time_window_key  RTA  time_window  \\\n",
       "0 2018-01-01 00:00:00  867a44a6fffffff      2018-1-1-0  0.0            1   \n",
       "1 2018-01-01 03:00:00  867a44a6fffffff      2018-1-1-1  0.0            2   \n",
       "2 2018-01-01 06:00:00  867a44a6fffffff      2018-1-1-2  0.0            3   \n",
       "3 2018-01-01 09:00:00  867a44a6fffffff      2018-1-1-3  0.0            4   \n",
       "4 2018-01-01 12:00:00  867a44a6fffffff      2018-1-1-4  0.0            5   \n",
       "\n",
       "  time_window_str  day month  year  weekday   cluster  \n",
       "0           00-03    1   Jan  2018        0  off_peak  \n",
       "1           03-06    1   Jan  2018        0  off_peak  \n",
       "2           06-09    1   Jan  2018        0      peak  \n",
       "3           09-12    1   Jan  2018        0    middle  \n",
       "4           12-15    1   Jan  2018        0    middle  "
      ]
     },
     "execution_count": 143,
     "metadata": {},
     "output_type": "execute_result"
    }
   ],
   "source": [
    "df_final.head()"
   ]
  },
  {
   "cell_type": "code",
   "execution_count": 144,
   "metadata": {},
   "outputs": [
    {
     "data": {
      "text/plain": [
       "6318.0"
      ]
     },
     "execution_count": 144,
     "metadata": {},
     "output_type": "execute_result"
    }
   ],
   "source": [
    "df_final[\"RTA\"].sum()"
   ]
  },
  {
   "cell_type": "code",
   "execution_count": 145,
   "metadata": {},
   "outputs": [
    {
     "data": {
      "text/plain": [
       "(511173, 11)"
      ]
     },
     "execution_count": 145,
     "metadata": {},
     "output_type": "execute_result"
    }
   ],
   "source": [
    "df_final.shape"
   ]
  },
  {
   "cell_type": "code",
   "execution_count": 146,
   "metadata": {},
   "outputs": [
    {
     "data": {
      "text/plain": [
       "hex_bins\n",
       "867a6e42fffffff    0.252689\n",
       "867a6e407ffffff    0.158846\n",
       "867a6e557ffffff    0.149233\n",
       "867a6e50fffffff    0.122454\n",
       "867a6e417ffffff    0.098878\n",
       "                     ...   \n",
       "867a45b77ffffff    0.000229\n",
       "867a6e517ffffff    0.000229\n",
       "867a45b67ffffff    0.000229\n",
       "867a6e59fffffff    0.000229\n",
       "867a6eda7ffffff    0.000229\n",
       "Name: RTA, Length: 117, dtype: float64"
      ]
     },
     "execution_count": 146,
     "metadata": {},
     "output_type": "execute_result"
    }
   ],
   "source": [
    "df_final.groupby(\"hex_bins\").RTA.mean().sort_values(ascending=False)"
   ]
  },
  {
   "cell_type": "code",
   "execution_count": 147,
   "metadata": {},
   "outputs": [],
   "source": [
    "a = [df_final.groupby(\"hex_bins\").RTA.max() > 1]"
   ]
  },
  {
   "cell_type": "code",
   "execution_count": 148,
   "metadata": {},
   "outputs": [
    {
     "data": {
      "text/plain": [
       "False"
      ]
     },
     "execution_count": 148,
     "metadata": {},
     "output_type": "execute_result"
    }
   ],
   "source": [
    "a[0][1]"
   ]
  },
  {
   "cell_type": "code",
   "execution_count": 149,
   "metadata": {},
   "outputs": [],
   "source": [
    "df_classes = df_final.groupby(\"hex_bins\")"
   ]
  },
  {
   "cell_type": "code",
   "execution_count": 150,
   "metadata": {},
   "outputs": [],
   "source": [
    "df_classes = df_classes.agg({'RTA': [np.mean, np.std, np.sum, np.count_nonzero]})"
   ]
  },
  {
   "cell_type": "code",
   "execution_count": 151,
   "metadata": {},
   "outputs": [],
   "source": [
    "df_classes = df_classes.reset_index()"
   ]
  },
  {
   "cell_type": "code",
   "execution_count": 152,
   "metadata": {},
   "outputs": [
    {
     "data": {
      "text/html": [
       "<div>\n",
       "<style scoped>\n",
       "    .dataframe tbody tr th:only-of-type {\n",
       "        vertical-align: middle;\n",
       "    }\n",
       "\n",
       "    .dataframe tbody tr th {\n",
       "        vertical-align: top;\n",
       "    }\n",
       "\n",
       "    .dataframe thead tr th {\n",
       "        text-align: left;\n",
       "    }\n",
       "</style>\n",
       "<table border=\"1\" class=\"dataframe\">\n",
       "  <thead>\n",
       "    <tr>\n",
       "      <th></th>\n",
       "      <th>hex_bins</th>\n",
       "      <th colspan=\"4\" halign=\"left\">RTA</th>\n",
       "    </tr>\n",
       "    <tr>\n",
       "      <th></th>\n",
       "      <th></th>\n",
       "      <th>mean</th>\n",
       "      <th>std</th>\n",
       "      <th>sum</th>\n",
       "      <th>count_nonzero</th>\n",
       "    </tr>\n",
       "  </thead>\n",
       "  <tbody>\n",
       "    <tr>\n",
       "      <th>0</th>\n",
       "      <td>867a44a6fffffff</td>\n",
       "      <td>0.000458</td>\n",
       "      <td>0.021393</td>\n",
       "      <td>2.0</td>\n",
       "      <td>2.0</td>\n",
       "    </tr>\n",
       "    <tr>\n",
       "      <th>1</th>\n",
       "      <td>867a44b5fffffff</td>\n",
       "      <td>0.000458</td>\n",
       "      <td>0.021393</td>\n",
       "      <td>2.0</td>\n",
       "      <td>2.0</td>\n",
       "    </tr>\n",
       "    <tr>\n",
       "      <th>2</th>\n",
       "      <td>867a45067ffffff</td>\n",
       "      <td>0.000229</td>\n",
       "      <td>0.015129</td>\n",
       "      <td>1.0</td>\n",
       "      <td>1.0</td>\n",
       "    </tr>\n",
       "    <tr>\n",
       "      <th>3</th>\n",
       "      <td>867a45077ffffff</td>\n",
       "      <td>0.000229</td>\n",
       "      <td>0.015129</td>\n",
       "      <td>1.0</td>\n",
       "      <td>1.0</td>\n",
       "    </tr>\n",
       "    <tr>\n",
       "      <th>4</th>\n",
       "      <td>867a45107ffffff</td>\n",
       "      <td>0.001602</td>\n",
       "      <td>0.045364</td>\n",
       "      <td>7.0</td>\n",
       "      <td>6.0</td>\n",
       "    </tr>\n",
       "    <tr>\n",
       "      <th>...</th>\n",
       "      <td>...</td>\n",
       "      <td>...</td>\n",
       "      <td>...</td>\n",
       "      <td>...</td>\n",
       "      <td>...</td>\n",
       "    </tr>\n",
       "    <tr>\n",
       "      <th>112</th>\n",
       "      <td>867a6ec9fffffff</td>\n",
       "      <td>0.002060</td>\n",
       "      <td>0.045345</td>\n",
       "      <td>9.0</td>\n",
       "      <td>9.0</td>\n",
       "    </tr>\n",
       "    <tr>\n",
       "      <th>113</th>\n",
       "      <td>867a6ecf7ffffff</td>\n",
       "      <td>0.000229</td>\n",
       "      <td>0.015129</td>\n",
       "      <td>1.0</td>\n",
       "      <td>1.0</td>\n",
       "    </tr>\n",
       "    <tr>\n",
       "      <th>114</th>\n",
       "      <td>867a6ed47ffffff</td>\n",
       "      <td>0.000229</td>\n",
       "      <td>0.015129</td>\n",
       "      <td>1.0</td>\n",
       "      <td>1.0</td>\n",
       "    </tr>\n",
       "    <tr>\n",
       "      <th>115</th>\n",
       "      <td>867a6ed97ffffff</td>\n",
       "      <td>0.000229</td>\n",
       "      <td>0.015129</td>\n",
       "      <td>1.0</td>\n",
       "      <td>1.0</td>\n",
       "    </tr>\n",
       "    <tr>\n",
       "      <th>116</th>\n",
       "      <td>867a6eda7ffffff</td>\n",
       "      <td>0.000229</td>\n",
       "      <td>0.015129</td>\n",
       "      <td>1.0</td>\n",
       "      <td>1.0</td>\n",
       "    </tr>\n",
       "  </tbody>\n",
       "</table>\n",
       "<p>117 rows × 5 columns</p>\n",
       "</div>"
      ],
      "text/plain": [
       "            hex_bins       RTA                             \n",
       "                          mean       std  sum count_nonzero\n",
       "0    867a44a6fffffff  0.000458  0.021393  2.0           2.0\n",
       "1    867a44b5fffffff  0.000458  0.021393  2.0           2.0\n",
       "2    867a45067ffffff  0.000229  0.015129  1.0           1.0\n",
       "3    867a45077ffffff  0.000229  0.015129  1.0           1.0\n",
       "4    867a45107ffffff  0.001602  0.045364  7.0           6.0\n",
       "..               ...       ...       ...  ...           ...\n",
       "112  867a6ec9fffffff  0.002060  0.045345  9.0           9.0\n",
       "113  867a6ecf7ffffff  0.000229  0.015129  1.0           1.0\n",
       "114  867a6ed47ffffff  0.000229  0.015129  1.0           1.0\n",
       "115  867a6ed97ffffff  0.000229  0.015129  1.0           1.0\n",
       "116  867a6eda7ffffff  0.000229  0.015129  1.0           1.0\n",
       "\n",
       "[117 rows x 5 columns]"
      ]
     },
     "execution_count": 152,
     "metadata": {},
     "output_type": "execute_result"
    }
   ],
   "source": [
    "df_classes"
   ]
  },
  {
   "cell_type": "code",
   "execution_count": 153,
   "metadata": {},
   "outputs": [],
   "source": [
    "df_classes.columns = [\"hex_bins\", \"RTA_mean\", \"RTA_std\", \"RTA_sum\", \"RTA_nonzero\"]"
   ]
  },
  {
   "cell_type": "code",
   "execution_count": 154,
   "metadata": {},
   "outputs": [
    {
     "data": {
      "text/html": [
       "<div>\n",
       "<style scoped>\n",
       "    .dataframe tbody tr th:only-of-type {\n",
       "        vertical-align: middle;\n",
       "    }\n",
       "\n",
       "    .dataframe tbody tr th {\n",
       "        vertical-align: top;\n",
       "    }\n",
       "\n",
       "    .dataframe thead th {\n",
       "        text-align: right;\n",
       "    }\n",
       "</style>\n",
       "<table border=\"1\" class=\"dataframe\">\n",
       "  <thead>\n",
       "    <tr style=\"text-align: right;\">\n",
       "      <th></th>\n",
       "      <th>hex_bins</th>\n",
       "      <th>RTA_mean</th>\n",
       "      <th>RTA_std</th>\n",
       "      <th>RTA_sum</th>\n",
       "      <th>RTA_nonzero</th>\n",
       "    </tr>\n",
       "  </thead>\n",
       "  <tbody>\n",
       "    <tr>\n",
       "      <th>0</th>\n",
       "      <td>867a44a6fffffff</td>\n",
       "      <td>0.000458</td>\n",
       "      <td>0.021393</td>\n",
       "      <td>2.0</td>\n",
       "      <td>2.0</td>\n",
       "    </tr>\n",
       "    <tr>\n",
       "      <th>1</th>\n",
       "      <td>867a44b5fffffff</td>\n",
       "      <td>0.000458</td>\n",
       "      <td>0.021393</td>\n",
       "      <td>2.0</td>\n",
       "      <td>2.0</td>\n",
       "    </tr>\n",
       "    <tr>\n",
       "      <th>2</th>\n",
       "      <td>867a45067ffffff</td>\n",
       "      <td>0.000229</td>\n",
       "      <td>0.015129</td>\n",
       "      <td>1.0</td>\n",
       "      <td>1.0</td>\n",
       "    </tr>\n",
       "    <tr>\n",
       "      <th>3</th>\n",
       "      <td>867a45077ffffff</td>\n",
       "      <td>0.000229</td>\n",
       "      <td>0.015129</td>\n",
       "      <td>1.0</td>\n",
       "      <td>1.0</td>\n",
       "    </tr>\n",
       "    <tr>\n",
       "      <th>4</th>\n",
       "      <td>867a45107ffffff</td>\n",
       "      <td>0.001602</td>\n",
       "      <td>0.045364</td>\n",
       "      <td>7.0</td>\n",
       "      <td>6.0</td>\n",
       "    </tr>\n",
       "    <tr>\n",
       "      <th>5</th>\n",
       "      <td>867a4511fffffff</td>\n",
       "      <td>0.000229</td>\n",
       "      <td>0.015129</td>\n",
       "      <td>1.0</td>\n",
       "      <td>1.0</td>\n",
       "    </tr>\n",
       "    <tr>\n",
       "      <th>6</th>\n",
       "      <td>867a4512fffffff</td>\n",
       "      <td>0.000229</td>\n",
       "      <td>0.015129</td>\n",
       "      <td>1.0</td>\n",
       "      <td>1.0</td>\n",
       "    </tr>\n",
       "    <tr>\n",
       "      <th>7</th>\n",
       "      <td>867a45147ffffff</td>\n",
       "      <td>0.000229</td>\n",
       "      <td>0.015129</td>\n",
       "      <td>1.0</td>\n",
       "      <td>1.0</td>\n",
       "    </tr>\n",
       "    <tr>\n",
       "      <th>8</th>\n",
       "      <td>867a4514fffffff</td>\n",
       "      <td>0.002289</td>\n",
       "      <td>0.056568</td>\n",
       "      <td>10.0</td>\n",
       "      <td>8.0</td>\n",
       "    </tr>\n",
       "    <tr>\n",
       "      <th>9</th>\n",
       "      <td>867a4515fffffff</td>\n",
       "      <td>0.000229</td>\n",
       "      <td>0.015129</td>\n",
       "      <td>1.0</td>\n",
       "      <td>1.0</td>\n",
       "    </tr>\n",
       "  </tbody>\n",
       "</table>\n",
       "</div>"
      ],
      "text/plain": [
       "          hex_bins  RTA_mean   RTA_std  RTA_sum  RTA_nonzero\n",
       "0  867a44a6fffffff  0.000458  0.021393      2.0          2.0\n",
       "1  867a44b5fffffff  0.000458  0.021393      2.0          2.0\n",
       "2  867a45067ffffff  0.000229  0.015129      1.0          1.0\n",
       "3  867a45077ffffff  0.000229  0.015129      1.0          1.0\n",
       "4  867a45107ffffff  0.001602  0.045364      7.0          6.0\n",
       "5  867a4511fffffff  0.000229  0.015129      1.0          1.0\n",
       "6  867a4512fffffff  0.000229  0.015129      1.0          1.0\n",
       "7  867a45147ffffff  0.000229  0.015129      1.0          1.0\n",
       "8  867a4514fffffff  0.002289  0.056568     10.0          8.0\n",
       "9  867a4515fffffff  0.000229  0.015129      1.0          1.0"
      ]
     },
     "execution_count": 154,
     "metadata": {},
     "output_type": "execute_result"
    }
   ],
   "source": [
    "df_classes.head(10)"
   ]
  },
  {
   "cell_type": "code",
   "execution_count": 155,
   "metadata": {},
   "outputs": [],
   "source": [
    "df_classes[\"pred_class_freq\"] = \"\"\n",
    "df_classes[\"pred_class_total\"] = \"\""
   ]
  },
  {
   "cell_type": "code",
   "execution_count": 156,
   "metadata": {},
   "outputs": [],
   "source": [
    "df_classes.loc[df_classes[\"RTA_nonzero\"] == 1, \"pred_class_freq\"] = \"1-lowest\"\n",
    "df_classes.loc[(df_classes[\"RTA_nonzero\"] > 1) & (df_classes[\"RTA_nonzero\"] <= 10), \"pred_class_freq\"] = \"2-low\"\n",
    "df_classes.loc[(df_classes[\"RTA_nonzero\"] > 10) & (df_classes[\"RTA_nonzero\"] <= 100), \"pred_class_freq\"] = \"3-middle\"\n",
    "df_classes.loc[df_classes[\"RTA_nonzero\"] > 100, \"pred_class_freq\"] = \"4-high\""
   ]
  },
  {
   "cell_type": "code",
   "execution_count": 157,
   "metadata": {},
   "outputs": [],
   "source": [
    "df_classes.loc[df_classes[\"RTA_sum\"] == 1, \"pred_class_total\"] = \"1-lowest\"\n",
    "df_classes.loc[(df_classes[\"RTA_sum\"] > 1) & (df_classes[\"RTA_sum\"] <= 10), \"pred_class_total\"] = \"2-low\"\n",
    "df_classes.loc[(df_classes[\"RTA_sum\"] > 10) & (df_classes[\"RTA_sum\"] <= 100), \"pred_class_total\"] = \"3-middle\"\n",
    "df_classes.loc[df_classes[\"RTA_sum\"] > 100, \"pred_class_total\"] = \"4-high\""
   ]
  },
  {
   "cell_type": "code",
   "execution_count": 158,
   "metadata": {},
   "outputs": [
    {
     "data": {
      "text/html": [
       "<div>\n",
       "<style scoped>\n",
       "    .dataframe tbody tr th:only-of-type {\n",
       "        vertical-align: middle;\n",
       "    }\n",
       "\n",
       "    .dataframe tbody tr th {\n",
       "        vertical-align: top;\n",
       "    }\n",
       "\n",
       "    .dataframe thead th {\n",
       "        text-align: right;\n",
       "    }\n",
       "</style>\n",
       "<table border=\"1\" class=\"dataframe\">\n",
       "  <thead>\n",
       "    <tr style=\"text-align: right;\">\n",
       "      <th></th>\n",
       "      <th>hex_bins</th>\n",
       "      <th>RTA_mean</th>\n",
       "      <th>RTA_std</th>\n",
       "      <th>RTA_sum</th>\n",
       "      <th>RTA_nonzero</th>\n",
       "      <th>pred_class_freq</th>\n",
       "      <th>pred_class_total</th>\n",
       "    </tr>\n",
       "  </thead>\n",
       "  <tbody>\n",
       "    <tr>\n",
       "      <th>0</th>\n",
       "      <td>867a44a6fffffff</td>\n",
       "      <td>0.000458</td>\n",
       "      <td>0.021393</td>\n",
       "      <td>2.0</td>\n",
       "      <td>2.0</td>\n",
       "      <td>2-low</td>\n",
       "      <td>2-low</td>\n",
       "    </tr>\n",
       "    <tr>\n",
       "      <th>1</th>\n",
       "      <td>867a44b5fffffff</td>\n",
       "      <td>0.000458</td>\n",
       "      <td>0.021393</td>\n",
       "      <td>2.0</td>\n",
       "      <td>2.0</td>\n",
       "      <td>2-low</td>\n",
       "      <td>2-low</td>\n",
       "    </tr>\n",
       "    <tr>\n",
       "      <th>2</th>\n",
       "      <td>867a45067ffffff</td>\n",
       "      <td>0.000229</td>\n",
       "      <td>0.015129</td>\n",
       "      <td>1.0</td>\n",
       "      <td>1.0</td>\n",
       "      <td>1-lowest</td>\n",
       "      <td>1-lowest</td>\n",
       "    </tr>\n",
       "    <tr>\n",
       "      <th>3</th>\n",
       "      <td>867a45077ffffff</td>\n",
       "      <td>0.000229</td>\n",
       "      <td>0.015129</td>\n",
       "      <td>1.0</td>\n",
       "      <td>1.0</td>\n",
       "      <td>1-lowest</td>\n",
       "      <td>1-lowest</td>\n",
       "    </tr>\n",
       "    <tr>\n",
       "      <th>4</th>\n",
       "      <td>867a45107ffffff</td>\n",
       "      <td>0.001602</td>\n",
       "      <td>0.045364</td>\n",
       "      <td>7.0</td>\n",
       "      <td>6.0</td>\n",
       "      <td>2-low</td>\n",
       "      <td>2-low</td>\n",
       "    </tr>\n",
       "    <tr>\n",
       "      <th>5</th>\n",
       "      <td>867a4511fffffff</td>\n",
       "      <td>0.000229</td>\n",
       "      <td>0.015129</td>\n",
       "      <td>1.0</td>\n",
       "      <td>1.0</td>\n",
       "      <td>1-lowest</td>\n",
       "      <td>1-lowest</td>\n",
       "    </tr>\n",
       "    <tr>\n",
       "      <th>6</th>\n",
       "      <td>867a4512fffffff</td>\n",
       "      <td>0.000229</td>\n",
       "      <td>0.015129</td>\n",
       "      <td>1.0</td>\n",
       "      <td>1.0</td>\n",
       "      <td>1-lowest</td>\n",
       "      <td>1-lowest</td>\n",
       "    </tr>\n",
       "    <tr>\n",
       "      <th>7</th>\n",
       "      <td>867a45147ffffff</td>\n",
       "      <td>0.000229</td>\n",
       "      <td>0.015129</td>\n",
       "      <td>1.0</td>\n",
       "      <td>1.0</td>\n",
       "      <td>1-lowest</td>\n",
       "      <td>1-lowest</td>\n",
       "    </tr>\n",
       "    <tr>\n",
       "      <th>8</th>\n",
       "      <td>867a4514fffffff</td>\n",
       "      <td>0.002289</td>\n",
       "      <td>0.056568</td>\n",
       "      <td>10.0</td>\n",
       "      <td>8.0</td>\n",
       "      <td>2-low</td>\n",
       "      <td>2-low</td>\n",
       "    </tr>\n",
       "    <tr>\n",
       "      <th>9</th>\n",
       "      <td>867a4515fffffff</td>\n",
       "      <td>0.000229</td>\n",
       "      <td>0.015129</td>\n",
       "      <td>1.0</td>\n",
       "      <td>1.0</td>\n",
       "      <td>1-lowest</td>\n",
       "      <td>1-lowest</td>\n",
       "    </tr>\n",
       "  </tbody>\n",
       "</table>\n",
       "</div>"
      ],
      "text/plain": [
       "          hex_bins  RTA_mean   RTA_std  RTA_sum  RTA_nonzero pred_class_freq  \\\n",
       "0  867a44a6fffffff  0.000458  0.021393      2.0          2.0           2-low   \n",
       "1  867a44b5fffffff  0.000458  0.021393      2.0          2.0           2-low   \n",
       "2  867a45067ffffff  0.000229  0.015129      1.0          1.0        1-lowest   \n",
       "3  867a45077ffffff  0.000229  0.015129      1.0          1.0        1-lowest   \n",
       "4  867a45107ffffff  0.001602  0.045364      7.0          6.0           2-low   \n",
       "5  867a4511fffffff  0.000229  0.015129      1.0          1.0        1-lowest   \n",
       "6  867a4512fffffff  0.000229  0.015129      1.0          1.0        1-lowest   \n",
       "7  867a45147ffffff  0.000229  0.015129      1.0          1.0        1-lowest   \n",
       "8  867a4514fffffff  0.002289  0.056568     10.0          8.0           2-low   \n",
       "9  867a4515fffffff  0.000229  0.015129      1.0          1.0        1-lowest   \n",
       "\n",
       "  pred_class_total  \n",
       "0            2-low  \n",
       "1            2-low  \n",
       "2         1-lowest  \n",
       "3         1-lowest  \n",
       "4            2-low  \n",
       "5         1-lowest  \n",
       "6         1-lowest  \n",
       "7         1-lowest  \n",
       "8            2-low  \n",
       "9         1-lowest  "
      ]
     },
     "execution_count": 158,
     "metadata": {},
     "output_type": "execute_result"
    }
   ],
   "source": [
    "df_classes.head(10)"
   ]
  },
  {
   "cell_type": "code",
   "execution_count": 159,
   "metadata": {},
   "outputs": [
    {
     "data": {
      "text/plain": [
       "pred_class_freq  pred_class_total\n",
       "1-lowest         1-lowest            42\n",
       "                 2-low                3\n",
       "2-low            2-low               36\n",
       "                 3-middle             1\n",
       "3-middle         3-middle            22\n",
       "                 4-high               2\n",
       "4-high           4-high              11\n",
       "Name: hex_bins, dtype: int64"
      ]
     },
     "execution_count": 159,
     "metadata": {},
     "output_type": "execute_result"
    }
   ],
   "source": [
    "df_classes.groupby([\"pred_class_freq\", \"pred_class_total\"]).hex_bins.count()"
   ]
  },
  {
   "cell_type": "code",
   "execution_count": 160,
   "metadata": {},
   "outputs": [
    {
     "data": {
      "text/html": [
       "<div>\n",
       "<style scoped>\n",
       "    .dataframe tbody tr th:only-of-type {\n",
       "        vertical-align: middle;\n",
       "    }\n",
       "\n",
       "    .dataframe tbody tr th {\n",
       "        vertical-align: top;\n",
       "    }\n",
       "\n",
       "    .dataframe thead th {\n",
       "        text-align: right;\n",
       "    }\n",
       "</style>\n",
       "<table border=\"1\" class=\"dataframe\">\n",
       "  <thead>\n",
       "    <tr style=\"text-align: right;\">\n",
       "      <th>pred_class_total</th>\n",
       "      <th>1-lowest</th>\n",
       "      <th>2-low</th>\n",
       "      <th>3-middle</th>\n",
       "      <th>4-high</th>\n",
       "    </tr>\n",
       "    <tr>\n",
       "      <th>pred_class_freq</th>\n",
       "      <th></th>\n",
       "      <th></th>\n",
       "      <th></th>\n",
       "      <th></th>\n",
       "    </tr>\n",
       "  </thead>\n",
       "  <tbody>\n",
       "    <tr>\n",
       "      <th>1-lowest</th>\n",
       "      <td>42</td>\n",
       "      <td>3</td>\n",
       "      <td>0</td>\n",
       "      <td>0</td>\n",
       "    </tr>\n",
       "    <tr>\n",
       "      <th>2-low</th>\n",
       "      <td>0</td>\n",
       "      <td>36</td>\n",
       "      <td>1</td>\n",
       "      <td>0</td>\n",
       "    </tr>\n",
       "    <tr>\n",
       "      <th>3-middle</th>\n",
       "      <td>0</td>\n",
       "      <td>0</td>\n",
       "      <td>22</td>\n",
       "      <td>2</td>\n",
       "    </tr>\n",
       "    <tr>\n",
       "      <th>4-high</th>\n",
       "      <td>0</td>\n",
       "      <td>0</td>\n",
       "      <td>0</td>\n",
       "      <td>11</td>\n",
       "    </tr>\n",
       "  </tbody>\n",
       "</table>\n",
       "</div>"
      ],
      "text/plain": [
       "pred_class_total  1-lowest  2-low  3-middle  4-high\n",
       "pred_class_freq                                    \n",
       "1-lowest                42      3         0       0\n",
       "2-low                    0     36         1       0\n",
       "3-middle                 0      0        22       2\n",
       "4-high                   0      0         0      11"
      ]
     },
     "execution_count": 160,
     "metadata": {},
     "output_type": "execute_result"
    }
   ],
   "source": [
    "pd.crosstab(index=df_classes[\"pred_class_freq\"], columns=df_classes[\"pred_class_total\"])"
   ]
  },
  {
   "cell_type": "code",
   "execution_count": 161,
   "metadata": {},
   "outputs": [
    {
     "data": {
      "text/plain": [
       "(45, 7)"
      ]
     },
     "execution_count": 161,
     "metadata": {},
     "output_type": "execute_result"
    }
   ],
   "source": [
    "df_classes[df_classes.RTA_nonzero == 1].shape"
   ]
  },
  {
   "cell_type": "code",
   "execution_count": 162,
   "metadata": {},
   "outputs": [
    {
     "data": {
      "image/png": "[encoded data removed]",
      "text/plain": [
       "<Figure size 432x288 with 4 Axes>"
      ]
     },
     "metadata": {
      "needs_background": "light"
     },
     "output_type": "display_data"
    }
   ],
   "source": [
    "df_classes.loc[(df_classes.RTA_nonzero > 1) & (df_classes.RTA_nonzero <= 6)].hist();"
   ]
  },
  {
   "cell_type": "code",
   "execution_count": 163,
   "metadata": {},
   "outputs": [],
   "source": [
    "import seaborn as sns"
   ]
  },
  {
   "cell_type": "code",
   "execution_count": 164,
   "metadata": {},
   "outputs": [
    {
     "data": {
      "image/png": "[encoded data removed]",
      "text/plain": [
       "<Figure size 432x288 with 1 Axes>"
      ]
     },
     "metadata": {
      "needs_background": "light"
     },
     "output_type": "display_data"
    }
   ],
   "source": [
    "sns.scatterplot(data=df_classes, x=\"RTA_nonzero\", y=\"RTA_sum\", alpha=0.3);"
   ]
  },
  {
   "cell_type": "code",
   "execution_count": 165,
   "metadata": {},
   "outputs": [
    {
     "data": {
      "text/html": [
       "<div>\n",
       "<style scoped>\n",
       "    .dataframe tbody tr th:only-of-type {\n",
       "        vertical-align: middle;\n",
       "    }\n",
       "\n",
       "    .dataframe tbody tr th {\n",
       "        vertical-align: top;\n",
       "    }\n",
       "\n",
       "    .dataframe thead th {\n",
       "        text-align: right;\n",
       "    }\n",
       "</style>\n",
       "<table border=\"1\" class=\"dataframe\">\n",
       "  <thead>\n",
       "    <tr style=\"text-align: right;\">\n",
       "      <th></th>\n",
       "      <th>hex_bins</th>\n",
       "      <th>RTA_mean</th>\n",
       "      <th>RTA_std</th>\n",
       "      <th>RTA_sum</th>\n",
       "      <th>RTA_nonzero</th>\n",
       "      <th>pred_class_freq</th>\n",
       "      <th>pred_class_total</th>\n",
       "    </tr>\n",
       "  </thead>\n",
       "  <tbody>\n",
       "    <tr>\n",
       "      <th>68</th>\n",
       "      <td>867a6e42fffffff</td>\n",
       "      <td>0.252689</td>\n",
       "      <td>0.699789</td>\n",
       "      <td>1104.0</td>\n",
       "      <td>757.0</td>\n",
       "      <td>4-high</td>\n",
       "      <td>4-high</td>\n",
       "    </tr>\n",
       "    <tr>\n",
       "      <th>63</th>\n",
       "      <td>867a6e407ffffff</td>\n",
       "      <td>0.158846</td>\n",
       "      <td>0.782969</td>\n",
       "      <td>694.0</td>\n",
       "      <td>383.0</td>\n",
       "      <td>4-high</td>\n",
       "      <td>4-high</td>\n",
       "    </tr>\n",
       "    <tr>\n",
       "      <th>90</th>\n",
       "      <td>867a6e557ffffff</td>\n",
       "      <td>0.149233</td>\n",
       "      <td>0.671690</td>\n",
       "      <td>652.0</td>\n",
       "      <td>407.0</td>\n",
       "      <td>4-high</td>\n",
       "      <td>4-high</td>\n",
       "    </tr>\n",
       "    <tr>\n",
       "      <th>84</th>\n",
       "      <td>867a6e50fffffff</td>\n",
       "      <td>0.122454</td>\n",
       "      <td>0.733095</td>\n",
       "      <td>535.0</td>\n",
       "      <td>333.0</td>\n",
       "      <td>4-high</td>\n",
       "      <td>4-high</td>\n",
       "    </tr>\n",
       "    <tr>\n",
       "      <th>65</th>\n",
       "      <td>867a6e417ffffff</td>\n",
       "      <td>0.098878</td>\n",
       "      <td>0.587040</td>\n",
       "      <td>432.0</td>\n",
       "      <td>243.0</td>\n",
       "      <td>4-high</td>\n",
       "      <td>4-high</td>\n",
       "    </tr>\n",
       "    <tr>\n",
       "      <th>...</th>\n",
       "      <td>...</td>\n",
       "      <td>...</td>\n",
       "      <td>...</td>\n",
       "      <td>...</td>\n",
       "      <td>...</td>\n",
       "      <td>...</td>\n",
       "      <td>...</td>\n",
       "    </tr>\n",
       "    <tr>\n",
       "      <th>28</th>\n",
       "      <td>867a45b77ffffff</td>\n",
       "      <td>0.000229</td>\n",
       "      <td>0.015129</td>\n",
       "      <td>1.0</td>\n",
       "      <td>1.0</td>\n",
       "      <td>1-lowest</td>\n",
       "      <td>1-lowest</td>\n",
       "    </tr>\n",
       "    <tr>\n",
       "      <th>26</th>\n",
       "      <td>867a45b67ffffff</td>\n",
       "      <td>0.000229</td>\n",
       "      <td>0.015129</td>\n",
       "      <td>1.0</td>\n",
       "      <td>1.0</td>\n",
       "      <td>1-lowest</td>\n",
       "      <td>1-lowest</td>\n",
       "    </tr>\n",
       "    <tr>\n",
       "      <th>60</th>\n",
       "      <td>867a6e18fffffff</td>\n",
       "      <td>0.000229</td>\n",
       "      <td>0.015129</td>\n",
       "      <td>1.0</td>\n",
       "      <td>1.0</td>\n",
       "      <td>1-lowest</td>\n",
       "      <td>1-lowest</td>\n",
       "    </tr>\n",
       "    <tr>\n",
       "      <th>22</th>\n",
       "      <td>867a45a8fffffff</td>\n",
       "      <td>0.000229</td>\n",
       "      <td>0.015129</td>\n",
       "      <td>1.0</td>\n",
       "      <td>1.0</td>\n",
       "      <td>1-lowest</td>\n",
       "      <td>1-lowest</td>\n",
       "    </tr>\n",
       "    <tr>\n",
       "      <th>116</th>\n",
       "      <td>867a6eda7ffffff</td>\n",
       "      <td>0.000229</td>\n",
       "      <td>0.015129</td>\n",
       "      <td>1.0</td>\n",
       "      <td>1.0</td>\n",
       "      <td>1-lowest</td>\n",
       "      <td>1-lowest</td>\n",
       "    </tr>\n",
       "  </tbody>\n",
       "</table>\n",
       "<p>117 rows × 7 columns</p>\n",
       "</div>"
      ],
      "text/plain": [
       "            hex_bins  RTA_mean   RTA_std  RTA_sum  RTA_nonzero  \\\n",
       "68   867a6e42fffffff  0.252689  0.699789   1104.0        757.0   \n",
       "63   867a6e407ffffff  0.158846  0.782969    694.0        383.0   \n",
       "90   867a6e557ffffff  0.149233  0.671690    652.0        407.0   \n",
       "84   867a6e50fffffff  0.122454  0.733095    535.0        333.0   \n",
       "65   867a6e417ffffff  0.098878  0.587040    432.0        243.0   \n",
       "..               ...       ...       ...      ...          ...   \n",
       "28   867a45b77ffffff  0.000229  0.015129      1.0          1.0   \n",
       "26   867a45b67ffffff  0.000229  0.015129      1.0          1.0   \n",
       "60   867a6e18fffffff  0.000229  0.015129      1.0          1.0   \n",
       "22   867a45a8fffffff  0.000229  0.015129      1.0          1.0   \n",
       "116  867a6eda7ffffff  0.000229  0.015129      1.0          1.0   \n",
       "\n",
       "    pred_class_freq pred_class_total  \n",
       "68           4-high           4-high  \n",
       "63           4-high           4-high  \n",
       "90           4-high           4-high  \n",
       "84           4-high           4-high  \n",
       "65           4-high           4-high  \n",
       "..              ...              ...  \n",
       "28         1-lowest         1-lowest  \n",
       "26         1-lowest         1-lowest  \n",
       "60         1-lowest         1-lowest  \n",
       "22         1-lowest         1-lowest  \n",
       "116        1-lowest         1-lowest  \n",
       "\n",
       "[117 rows x 7 columns]"
      ]
     },
     "execution_count": 165,
     "metadata": {},
     "output_type": "execute_result"
    }
   ],
   "source": [
    "df_classes.sort_values(by=\"RTA_sum\", ascending=False)"
   ]
  },
  {
   "cell_type": "code",
   "execution_count": 166,
   "metadata": {},
   "outputs": [],
   "source": [
    "#df_final.loc[df_final[]]"
   ]
  },
  {
   "cell_type": "code",
   "execution_count": 167,
   "metadata": {},
   "outputs": [],
   "source": [
    "df_freq_outliers = df_classes.loc[df_classes[\"RTA_nonzero\"] == 1]"
   ]
  },
  {
   "cell_type": "code",
   "execution_count": 168,
   "metadata": {},
   "outputs": [
    {
     "data": {
      "text/plain": [
       "['867a45067ffffff',\n",
       " '867a45077ffffff',\n",
       " '867a4511fffffff',\n",
       " '867a4512fffffff',\n",
       " '867a45147ffffff',\n",
       " '867a4515fffffff',\n",
       " '867a45177ffffff',\n",
       " '867a45817ffffff',\n",
       " '867a4584fffffff',\n",
       " '867a4585fffffff',\n",
       " '867a458dfffffff',\n",
       " '867a458f7ffffff',\n",
       " '867a45a8fffffff',\n",
       " '867a45b0fffffff',\n",
       " '867a45b17ffffff',\n",
       " '867a45b67ffffff',\n",
       " '867a45b77ffffff',\n",
       " '867a6141fffffff',\n",
       " '867a614d7ffffff',\n",
       " '867a616b7ffffff',\n",
       " '867a6304fffffff',\n",
       " '867a632a7ffffff',\n",
       " '867a63307ffffff',\n",
       " '867a6331fffffff',\n",
       " '867a6360fffffff',\n",
       " '867a63667ffffff',\n",
       " '867a6396fffffff',\n",
       " '867a656c7ffffff',\n",
       " '867a65797ffffff',\n",
       " '867a6e18fffffff',\n",
       " '867a6e1b7ffffff',\n",
       " '867a6e4c7ffffff',\n",
       " '867a6e517ffffff',\n",
       " '867a6e59fffffff',\n",
       " '867a6e5a7ffffff',\n",
       " '867a6e5b7ffffff',\n",
       " '867a6e657ffffff',\n",
       " '867a6e737ffffff',\n",
       " '867a6e797ffffff',\n",
       " '867a6e79fffffff',\n",
       " '867a6e7b7ffffff',\n",
       " '867a6ecf7ffffff',\n",
       " '867a6ed47ffffff',\n",
       " '867a6ed97ffffff',\n",
       " '867a6eda7ffffff']"
      ]
     },
     "execution_count": 168,
     "metadata": {},
     "output_type": "execute_result"
    }
   ],
   "source": [
    "list_freq_outliers = df_freq_outliers[\"hex_bins\"].values\n",
    "list(list_freq_outliers)"
   ]
  },
  {
   "cell_type": "code",
   "execution_count": null,
   "metadata": {},
   "outputs": [],
   "source": [
    "list_segment_data = list(df_segments.h3_zone_6.unique())"
   ]
  },
  {
   "cell_type": "code",
   "execution_count": null,
   "metadata": {},
   "outputs": [],
   "source": [
    "intersection_set = set.intersection(set(list_segment_data), set(list_freq))"
   ]
  },
  {
   "cell_type": "code",
   "execution_count": null,
   "metadata": {},
   "outputs": [],
   "source": [
    "intersection_set"
   ]
  },
  {
   "cell_type": "markdown",
   "metadata": {},
   "source": [
    "**Almost all hex bins for which we have segment data for seem to have a high or medium frequency and sum of accidents.**"
   ]
  },
  {
   "cell_type": "code",
   "execution_count": null,
   "metadata": {},
   "outputs": [],
   "source": [
    "df_classes[df_classes[\"hex_bins\"].isin(list_segment_data)].sort_values(by=\"RTA_sum\", ascending=False)"
   ]
  },
  {
   "cell_type": "code",
   "execution_count": null,
   "metadata": {},
   "outputs": [],
   "source": [
    "df_classes_cluster = df_final.groupby([\"hex_bins\", \"cluster\"])"
   ]
  },
  {
   "cell_type": "code",
   "execution_count": null,
   "metadata": {},
   "outputs": [],
   "source": [
    "df_classes_cluster = df_classes_cluster.agg({'RTA': [np.mean, np.std, np.sum, np.count_nonzero]})"
   ]
  },
  {
   "cell_type": "code",
   "execution_count": null,
   "metadata": {},
   "outputs": [],
   "source": [
    "df_classes_cluster = df_classes_cluster.reset_index()"
   ]
  },
  {
   "cell_type": "code",
   "execution_count": null,
   "metadata": {},
   "outputs": [],
   "source": [
    "df_classes_cluster.columns"
   ]
  },
  {
   "cell_type": "code",
   "execution_count": null,
   "metadata": {},
   "outputs": [],
   "source": [
    "df_classes_cluster.columns = [\"hex_bins\", \"cluster\", \"RTA_mean\", \"RTA_std\", \"RTA_sum\", \"RTA_nonzero\"]"
   ]
  },
  {
   "cell_type": "code",
   "execution_count": null,
   "metadata": {},
   "outputs": [],
   "source": [
    "df_classes_cluster.head()"
   ]
  },
  {
   "cell_type": "code",
   "execution_count": null,
   "metadata": {},
   "outputs": [],
   "source": [
    "df_classes_cluster.shape"
   ]
  },
  {
   "cell_type": "code",
   "execution_count": null,
   "metadata": {},
   "outputs": [],
   "source": [
    "df_classes_cluster[\"pred_class_freq\"] = \"\""
   ]
  },
  {
   "cell_type": "code",
   "execution_count": null,
   "metadata": {},
   "outputs": [],
   "source": [
    "df_classes_cluster.loc[df_classes_cluster[\"RTA_nonzero\"] == 0, \"pred_class_freq\"] = \"0-none\"\n",
    "df_classes_cluster.loc[df_classes_cluster[\"RTA_nonzero\"] == 1, \"pred_class_freq\"] = \"1-lowest\"\n",
    "df_classes_cluster.loc[(df_classes_cluster[\"RTA_nonzero\"] > 1) & (df_classes_cluster[\"RTA_nonzero\"] <= 10), \"pred_class_freq\"] = \"2-low\"\n",
    "df_classes_cluster.loc[(df_classes_cluster[\"RTA_nonzero\"] > 10) & (df_classes_cluster[\"RTA_nonzero\"] <= 100), \"pred_class_freq\"] = \"3-middle\"\n",
    "df_classes_cluster.loc[df_classes_cluster[\"RTA_nonzero\"] > 100, \"pred_class_freq\"] = \"4-high\""
   ]
  },
  {
   "cell_type": "code",
   "execution_count": null,
   "metadata": {},
   "outputs": [],
   "source": [
    "df_classes_cluster.head()"
   ]
  },
  {
   "cell_type": "code",
   "execution_count": null,
   "metadata": {},
   "outputs": [],
   "source": [
    "pd.crosstab(index=df_classes_cluster[\"cluster\"], columns=df_classes_cluster[\"pred_class_freq\"])"
   ]
  },
  {
   "cell_type": "code",
   "execution_count": null,
   "metadata": {},
   "outputs": [],
   "source": [
    "df_classes_cluster.loc[df_classes_cluster[\"pred_class_freq\"] == \"4-high\"]"
   ]
  },
  {
   "cell_type": "markdown",
   "metadata": {},
   "source": [
    "### Only take those hex bins into the next data frame which do not have only 1 accident occurrence"
   ]
  },
  {
   "cell_type": "code",
   "execution_count": null,
   "metadata": {},
   "outputs": [],
   "source": [
    "df_classes_no_outliers = df_classes_cluster.loc[~df_classes_cluster[\"hex_bins\"].isin(list_freq)]"
   ]
  },
  {
   "cell_type": "code",
   "execution_count": null,
   "metadata": {},
   "outputs": [],
   "source": [
    "df_classes_no_outliers.hex_bins.nunique()"
   ]
  },
  {
   "cell_type": "code",
   "execution_count": null,
   "metadata": {},
   "outputs": [],
   "source": [
    "df_classes_no_outliers.head()"
   ]
  },
  {
   "cell_type": "code",
   "execution_count": null,
   "metadata": {},
   "outputs": [],
   "source": [
    "filtered = [df_classes_no_outliers.groupby(\"hex_bins\").RTA_sum.min() > 0]"
   ]
  },
  {
   "cell_type": "code",
   "execution_count": null,
   "metadata": {},
   "outputs": [],
   "source": [
    "filtered"
   ]
  },
  {
   "cell_type": "code",
   "execution_count": null,
   "metadata": {},
   "outputs": [],
   "source": [
    "for key, value in filtered:\n",
    "    print(key, value)"
   ]
  },
  {
   "cell_type": "code",
   "execution_count": null,
   "metadata": {},
   "outputs": [],
   "source": []
  },
  {
   "cell_type": "code",
   "execution_count": null,
   "metadata": {},
   "outputs": [],
   "source": [
    "df_classes_cluster.groupby([\"cluster\", \"pred_class_freq\"]).RTA_sum.mean()"
   ]
  },
  {
   "cell_type": "markdown",
   "metadata": {},
   "source": [
    "**Need to create a crosstab that has time_window as rows, hex_bin as columns and RTA as values.**"
   ]
  },
  {
   "cell_type": "markdown",
   "metadata": {},
   "source": [
    "This can then be used to analyze the hex bins (and time window or time cluster combionations?) and sort them into groups for which the prediction can be done with different models."
   ]
  },
  {
   "cell_type": "code",
   "execution_count": null,
   "metadata": {},
   "outputs": [],
   "source": [
    "#Code"
   ]
  },
  {
   "cell_type": "markdown",
   "metadata": {},
   "source": [
    "* Step 1: Divide hex bins into those that are \"dangerous\" and those that are \"less dangerous\" - these will be different models. Could be done accodring to frequencey and/or sum of accidents.\n",
    "* Step 2: Normalize the RTA_sum and RTA_nonzero before that using the amounts of time windows in each time cluster (26-25-5 or such)"
   ]
  },
  {
   "cell_type": "markdown",
   "metadata": {},
   "source": [
    "* Can we do this as a classification problem? - Outcome needs to be RTA (yes/no?) per hex bin then"
   ]
  },
  {
   "cell_type": "markdown",
   "metadata": {},
   "source": [
    "Could we use all observations per time cluster (for example for all 26 time windows) to train the model and then predict inividually per time window since we have the (weather) data for that? We would then have 2 (or more) models for the different categories of hex-bins, where we suspect the location matters - and still a shitload (hopefully) of data if we also specify a model for each time cluster. This would bring us to currently 6 models. Although we have 500.000 obersvations, it has to be seen how these are allocated across the 6 different models for learning - especially since we are deleting all hex bins and the related observation where only one accident occurred."
   ]
  },
  {
   "cell_type": "markdown",
   "metadata": {},
   "source": [
    "### Predictions to try out for tomorrow"
   ]
  },
  {
   "cell_type": "markdown",
   "metadata": {},
   "source": [
    "1. Use some sort of (upscaled) frequency as predictions - for each hex-bin/time-window combination there should be **ONE** value. This can then be used to cluster the time windows into larger groups (-or not?). Should try out letting the model generate 56 different placements as well perhaps?\n",
    "\n",
    "2. ???"
   ]
  },
  {
   "cell_type": "code",
   "execution_count": null,
   "metadata": {},
   "outputs": [],
   "source": []
  }
 ],
 "metadata": {
  "kernelspec": {
   "display_name": "Python [conda env:nairobi_ambulance] *",
   "language": "python",
   "name": "conda-env-nairobi_ambulance-py"
  },
  "language_info": {
   "codemirror_mode": {
    "name": "ipython",
    "version": 3
   },
   "file_extension": ".py",
   "mimetype": "text/x-python",
   "name": "python",
   "nbconvert_exporter": "python",
   "pygments_lexer": "ipython3",
   "version": "3.8.5"
  }
 },
 "nbformat": 4,
 "nbformat_minor": 4
}

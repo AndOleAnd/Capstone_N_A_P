{
 "cells": [
  {
   "cell_type": "code",
   "execution_count": 1,
   "metadata": {},
   "outputs": [],
   "source": [
    "import pandas as pd\n",
    "import numpy as np\n",
    "import re\n",
    "import datetime"
   ]
  },
  {
   "cell_type": "code",
   "execution_count": 2,
   "metadata": {},
   "outputs": [],
   "source": [
    "def create_submission_df(crash_data_df, date_start='2019-07-01', date_end='2020-01-01'):\n",
    "    '''Takes crash data and creates a data frame in the format needed for submission'''\n",
    "    \n",
    "    #calculate centroid for ambulance placement\n",
    "    lat_centroid = list(crash_data_df.latitude.quantile(q=[1/7,2/7,3/7,4/7,5/7,6/7]))\n",
    "    lon_centroid = list(crash_data_df.longitude.quantile(q=[1/7,2/7,3/7,4/7,5/7,6/7]))\n",
    "    \n",
    "    # Create Date range covering submission period set\n",
    "    dates = pd.date_range(date_start, date_end, freq='3h')\n",
    "        \n",
    "    # Create submission dataframe\n",
    "    submission_df = pd.DataFrame({\n",
    "        'date':dates\n",
    "    })\n",
    "    for ambulance in range(6):\n",
    "        # Place an ambulance in the center of the city:\n",
    "        submission_df['A'+str(ambulance)+'_Latitude'] = lat_centroid[ambulance]\n",
    "        submission_df['A'+str(ambulance)+'_Longitude'] = lon_centroid[ambulance]\n",
    "    return submission_df"
   ]
  },
  {
   "cell_type": "code",
   "execution_count": 3,
   "metadata": {},
   "outputs": [],
   "source": [
    "def create_submission_csv(submission_df, model_name='baseline', path='../Outputs/'):\n",
    "    '''Takes dataframe in submission format and outputs a csv file with matching name'''\n",
    "    current_time = datetime.datetime.now()\n",
    "    filename = f'{current_time.year}{current_time.month}{current_time.day}_{model_name}.csv'\n",
    "    submission_df.to_csv(path+filename,index=False)"
   ]
  },
  {
   "cell_type": "code",
   "execution_count": 4,
   "metadata": {},
   "outputs": [],
   "source": [
    "# Load raw crash data from csv\n",
    "crash_data_df = pd.read_csv('../Inputs/Train.csv', parse_dates=['datetime'])"
   ]
  },
  {
   "cell_type": "code",
   "execution_count": 5,
   "metadata": {},
   "outputs": [
    {
     "data": {
      "text/plain": [
       "0.142857    36.763869\n",
       "0.285714    36.808880\n",
       "0.428571    36.833825\n",
       "0.571429    36.859843\n",
       "0.714286    36.888859\n",
       "0.857143    36.931377\n",
       "Name: longitude, dtype: float64"
      ]
     },
     "execution_count": 5,
     "metadata": {},
     "output_type": "execute_result"
    }
   ],
   "source": [
    "lon_centroid = crash_data_df.longitude.quantile(q=[1/7,2/7,3/7,4/7,5/7,6/7])\n",
    "lon_centroid"
   ]
  },
  {
   "cell_type": "code",
   "execution_count": 10,
   "metadata": {},
   "outputs": [],
   "source": [
    "# call function to create submission df and csv output\n",
    "submission_df = create_submission_df(crash_data_df)\n",
    "create_submission_csv(submission_df,'quantiles')"
   ]
  },
  {
   "cell_type": "code",
   "execution_count": 7,
   "metadata": {},
   "outputs": [
    {
     "data": {
      "text/html": [
       "<div>\n",
       "<style scoped>\n",
       "    .dataframe tbody tr th:only-of-type {\n",
       "        vertical-align: middle;\n",
       "    }\n",
       "\n",
       "    .dataframe tbody tr th {\n",
       "        vertical-align: top;\n",
       "    }\n",
       "\n",
       "    .dataframe thead th {\n",
       "        text-align: right;\n",
       "    }\n",
       "</style>\n",
       "<table border=\"1\" class=\"dataframe\">\n",
       "  <thead>\n",
       "    <tr style=\"text-align: right;\">\n",
       "      <th></th>\n",
       "      <th>date</th>\n",
       "      <th>A0_Latitude</th>\n",
       "      <th>A0_Longitude</th>\n",
       "      <th>A1_Latitude</th>\n",
       "      <th>A1_Longitude</th>\n",
       "      <th>A2_Latitude</th>\n",
       "      <th>A2_Longitude</th>\n",
       "      <th>A3_Latitude</th>\n",
       "      <th>A3_Longitude</th>\n",
       "      <th>A4_Latitude</th>\n",
       "      <th>A4_Longitude</th>\n",
       "      <th>A5_Latitude</th>\n",
       "      <th>A5_Longitude</th>\n",
       "    </tr>\n",
       "  </thead>\n",
       "  <tbody>\n",
       "    <tr>\n",
       "      <th>0</th>\n",
       "      <td>2019-07-01 00:00:00</td>\n",
       "      <td>-1.329937</td>\n",
       "      <td>36.763869</td>\n",
       "      <td>-1.305619</td>\n",
       "      <td>36.80888</td>\n",
       "      <td>-1.285169</td>\n",
       "      <td>36.833825</td>\n",
       "      <td>-1.263771</td>\n",
       "      <td>36.859843</td>\n",
       "      <td>-1.245356</td>\n",
       "      <td>36.888859</td>\n",
       "      <td>-1.203744</td>\n",
       "      <td>36.931377</td>\n",
       "    </tr>\n",
       "    <tr>\n",
       "      <th>1</th>\n",
       "      <td>2019-07-01 03:00:00</td>\n",
       "      <td>-1.329937</td>\n",
       "      <td>36.763869</td>\n",
       "      <td>-1.305619</td>\n",
       "      <td>36.80888</td>\n",
       "      <td>-1.285169</td>\n",
       "      <td>36.833825</td>\n",
       "      <td>-1.263771</td>\n",
       "      <td>36.859843</td>\n",
       "      <td>-1.245356</td>\n",
       "      <td>36.888859</td>\n",
       "      <td>-1.203744</td>\n",
       "      <td>36.931377</td>\n",
       "    </tr>\n",
       "    <tr>\n",
       "      <th>2</th>\n",
       "      <td>2019-07-01 06:00:00</td>\n",
       "      <td>-1.329937</td>\n",
       "      <td>36.763869</td>\n",
       "      <td>-1.305619</td>\n",
       "      <td>36.80888</td>\n",
       "      <td>-1.285169</td>\n",
       "      <td>36.833825</td>\n",
       "      <td>-1.263771</td>\n",
       "      <td>36.859843</td>\n",
       "      <td>-1.245356</td>\n",
       "      <td>36.888859</td>\n",
       "      <td>-1.203744</td>\n",
       "      <td>36.931377</td>\n",
       "    </tr>\n",
       "    <tr>\n",
       "      <th>3</th>\n",
       "      <td>2019-07-01 09:00:00</td>\n",
       "      <td>-1.329937</td>\n",
       "      <td>36.763869</td>\n",
       "      <td>-1.305619</td>\n",
       "      <td>36.80888</td>\n",
       "      <td>-1.285169</td>\n",
       "      <td>36.833825</td>\n",
       "      <td>-1.263771</td>\n",
       "      <td>36.859843</td>\n",
       "      <td>-1.245356</td>\n",
       "      <td>36.888859</td>\n",
       "      <td>-1.203744</td>\n",
       "      <td>36.931377</td>\n",
       "    </tr>\n",
       "    <tr>\n",
       "      <th>4</th>\n",
       "      <td>2019-07-01 12:00:00</td>\n",
       "      <td>-1.329937</td>\n",
       "      <td>36.763869</td>\n",
       "      <td>-1.305619</td>\n",
       "      <td>36.80888</td>\n",
       "      <td>-1.285169</td>\n",
       "      <td>36.833825</td>\n",
       "      <td>-1.263771</td>\n",
       "      <td>36.859843</td>\n",
       "      <td>-1.245356</td>\n",
       "      <td>36.888859</td>\n",
       "      <td>-1.203744</td>\n",
       "      <td>36.931377</td>\n",
       "    </tr>\n",
       "  </tbody>\n",
       "</table>\n",
       "</div>"
      ],
      "text/plain": [
       "                 date  A0_Latitude  A0_Longitude  A1_Latitude  A1_Longitude  \\\n",
       "0 2019-07-01 00:00:00    -1.329937     36.763869    -1.305619      36.80888   \n",
       "1 2019-07-01 03:00:00    -1.329937     36.763869    -1.305619      36.80888   \n",
       "2 2019-07-01 06:00:00    -1.329937     36.763869    -1.305619      36.80888   \n",
       "3 2019-07-01 09:00:00    -1.329937     36.763869    -1.305619      36.80888   \n",
       "4 2019-07-01 12:00:00    -1.329937     36.763869    -1.305619      36.80888   \n",
       "\n",
       "   A2_Latitude  A2_Longitude  A3_Latitude  A3_Longitude  A4_Latitude  \\\n",
       "0    -1.285169     36.833825    -1.263771     36.859843    -1.245356   \n",
       "1    -1.285169     36.833825    -1.263771     36.859843    -1.245356   \n",
       "2    -1.285169     36.833825    -1.263771     36.859843    -1.245356   \n",
       "3    -1.285169     36.833825    -1.263771     36.859843    -1.245356   \n",
       "4    -1.285169     36.833825    -1.263771     36.859843    -1.245356   \n",
       "\n",
       "   A4_Longitude  A5_Latitude  A5_Longitude  \n",
       "0     36.888859    -1.203744     36.931377  \n",
       "1     36.888859    -1.203744     36.931377  \n",
       "2     36.888859    -1.203744     36.931377  \n",
       "3     36.888859    -1.203744     36.931377  \n",
       "4     36.888859    -1.203744     36.931377  "
      ]
     },
     "execution_count": 7,
     "metadata": {},
     "output_type": "execute_result"
    }
   ],
   "source": [
    "# View contents of submission\n",
    "submission_df.head()"
   ]
  },
  {
   "cell_type": "code",
   "execution_count": 9,
   "metadata": {},
   "outputs": [],
   "source": [
    "# functions for saving post submission details to a dataframe\n",
    "def get_submission_details(copypaste):\n",
    "    split_input = re.split(\"\\s\", copypaste)\n",
    "    id_str = split_input[0]\n",
    "    score_float = split_input[-1]\n",
    "    file_name = filename = re.findall('\\w*.csv\\w*', copypaste)[-1]\n",
    "    comment_str = ''\n",
    "    submitted_datetime = ''\n",
    "    submission_row = [id_str, file_name, score_float, submitted_datetime, comment_str]\n",
    "    return submission_row\n",
    "def submission_dataframe(rows,columns=['ID', 'FILE', 'SCORE', 'SUBMITTED', 'COMMENT']):\n",
    "    return pd.DataFrame(data=[rows], columns = columns)\n",
    "\n",
    "def create_dataframe(copypaste):\n",
    "    return submission_dataframe(get_submission_details(copypaste))\n",
    "\n",
    "# the below needs work\n",
    "def add_to_submission_dataframe(df, rows, columns=['ID', 'FILE', 'SCORE', 'SUBMITTED', 'COMMENT']):\n",
    "    return df.append(zip([columns,rows]), ignore_index=True)\n",
    "\n",
    "def update_dataframe(df, copypaste):\n",
    "    rows = get_submission_details(copypaste)\n",
    "    return add_to_submission_dataframe(df, rows)"
   ]
  },
  {
   "cell_type": "code",
   "execution_count": null,
   "metadata": {},
   "outputs": [],
   "source": []
  }
 ],
 "metadata": {
  "kernelspec": {
   "display_name": "Python [conda env:nairobi_ambulance] *",
   "language": "python",
   "name": "conda-env-nairobi_ambulance-py"
  },
  "language_info": {
   "codemirror_mode": {
    "name": "ipython",
    "version": 3
   },
   "file_extension": ".py",
   "mimetype": "text/x-python",
   "name": "python",
   "nbconvert_exporter": "python",
   "pygments_lexer": "ipython3",
   "version": "3.8.5"
  }
 },
 "nbformat": 4,
 "nbformat_minor": 4
}

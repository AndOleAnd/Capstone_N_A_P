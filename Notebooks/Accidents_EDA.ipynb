{
 "cells": [
  {
   "cell_type": "markdown",
   "metadata": {},
   "source": [
    "# Exploring the Accidents Data Set of the Nairobi Ambulance Challenge\n",
    "\n",
    "In this notebook we will look further into the Train.csv data set. It contains all accidents with time and location over 18 months between 01/2018 and 07/2019. Check out documentation at https://github.com/caiomiyashiro/geospatial_data_analysis/blob/master/AMLD-2020/Presentation_AMLD_2020.ipynb\n",
    "\n",
    "## Table of Contents\n",
    "\n",
    "[Imports and setup](#Imports_setup)<br>\n",
    "[Extract, transform and load the data](#ETL)<br>\n",
    "[Data analysis](#Data_analysis)<br>\n",
    "[Road segment info](#Road_segments)<br>\n",
    "[Weather data](#Weather)<br>\n",
    "\n",
    "</br>\n",
    "</br>\n",
    "</br>\n",
    "\n",
    "## Imports and setup <a name=\"Imports_setup\"></a>\n",
    "\n",
    "### Importing packages"
   ]
  },
  {
   "cell_type": "code",
   "execution_count": 1,
   "metadata": {},
   "outputs": [],
   "source": [
    "import pandas as pd\n",
    "import datetime as dt\n",
    "import math\n",
    "import seaborn as sns"
   ]
  },
  {
   "cell_type": "markdown",
   "metadata": {},
   "source": [
    "### Setup"
   ]
  },
  {
   "cell_type": "code",
   "execution_count": null,
   "metadata": {},
   "outputs": [],
   "source": []
  },
  {
   "cell_type": "markdown",
   "metadata": {},
   "source": [
    "</br>\n",
    "</br>\n",
    "</br>\n",
    "\n",
    "## Extract, transform and load the data <a name=\"ETL\"></a>\n",
    "\n",
    "### Reading data"
   ]
  },
  {
   "cell_type": "code",
   "execution_count": 2,
   "metadata": {},
   "outputs": [
    {
     "name": "stdout",
     "output_type": "stream",
     "text": [
      "(6318, 4)\n"
     ]
    },
    {
     "data": {
      "text/html": [
       "<div>\n",
       "<style scoped>\n",
       "    .dataframe tbody tr th:only-of-type {\n",
       "        vertical-align: middle;\n",
       "    }\n",
       "\n",
       "    .dataframe tbody tr th {\n",
       "        vertical-align: top;\n",
       "    }\n",
       "\n",
       "    .dataframe thead th {\n",
       "        text-align: right;\n",
       "    }\n",
       "</style>\n",
       "<table border=\"1\" class=\"dataframe\">\n",
       "  <thead>\n",
       "    <tr style=\"text-align: right;\">\n",
       "      <th></th>\n",
       "      <th>uid</th>\n",
       "      <th>datetime</th>\n",
       "      <th>latitude</th>\n",
       "      <th>longitude</th>\n",
       "    </tr>\n",
       "  </thead>\n",
       "  <tbody>\n",
       "    <tr>\n",
       "      <th>0</th>\n",
       "      <td>1</td>\n",
       "      <td>2018-01-01 00:25:46</td>\n",
       "      <td>-1.188850</td>\n",
       "      <td>36.931382</td>\n",
       "    </tr>\n",
       "    <tr>\n",
       "      <th>1</th>\n",
       "      <td>2</td>\n",
       "      <td>2018-01-01 02:02:39</td>\n",
       "      <td>-0.662939</td>\n",
       "      <td>37.208730</td>\n",
       "    </tr>\n",
       "    <tr>\n",
       "      <th>2</th>\n",
       "      <td>3</td>\n",
       "      <td>2018-01-01 02:31:49</td>\n",
       "      <td>-0.662939</td>\n",
       "      <td>37.208730</td>\n",
       "    </tr>\n",
       "    <tr>\n",
       "      <th>3</th>\n",
       "      <td>4</td>\n",
       "      <td>2018-01-01 03:04:01</td>\n",
       "      <td>-1.288087</td>\n",
       "      <td>36.826583</td>\n",
       "    </tr>\n",
       "    <tr>\n",
       "      <th>4</th>\n",
       "      <td>5</td>\n",
       "      <td>2018-01-01 03:58:49</td>\n",
       "      <td>-1.188850</td>\n",
       "      <td>36.931382</td>\n",
       "    </tr>\n",
       "  </tbody>\n",
       "</table>\n",
       "</div>"
      ],
      "text/plain": [
       "   uid            datetime  latitude  longitude\n",
       "0    1 2018-01-01 00:25:46 -1.188850  36.931382\n",
       "1    2 2018-01-01 02:02:39 -0.662939  37.208730\n",
       "2    3 2018-01-01 02:31:49 -0.662939  37.208730\n",
       "3    4 2018-01-01 03:04:01 -1.288087  36.826583\n",
       "4    5 2018-01-01 03:58:49 -1.188850  36.931382"
      ]
     },
     "execution_count": 2,
     "metadata": {},
     "output_type": "execute_result"
    }
   ],
   "source": [
    "df_train = pd.read_csv('../Inputs/Train.csv', parse_dates=['datetime'])\n",
    "print(df_train.shape)\n",
    "df_train.head()"
   ]
  },
  {
   "cell_type": "markdown",
   "metadata": {},
   "source": [
    "### Extracting date informations and creating time windows\n",
    "\n",
    "Extracting date, time, day, weekday, month and year out of the datetime."
   ]
  },
  {
   "cell_type": "code",
   "execution_count": 3,
   "metadata": {},
   "outputs": [
    {
     "data": {
      "text/html": [
       "<div>\n",
       "<style scoped>\n",
       "    .dataframe tbody tr th:only-of-type {\n",
       "        vertical-align: middle;\n",
       "    }\n",
       "\n",
       "    .dataframe tbody tr th {\n",
       "        vertical-align: top;\n",
       "    }\n",
       "\n",
       "    .dataframe thead th {\n",
       "        text-align: right;\n",
       "    }\n",
       "</style>\n",
       "<table border=\"1\" class=\"dataframe\">\n",
       "  <thead>\n",
       "    <tr style=\"text-align: right;\">\n",
       "      <th></th>\n",
       "      <th>uid</th>\n",
       "      <th>datetime</th>\n",
       "      <th>latitude</th>\n",
       "      <th>longitude</th>\n",
       "      <th>date</th>\n",
       "      <th>time</th>\n",
       "      <th>day</th>\n",
       "      <th>weekday</th>\n",
       "      <th>month</th>\n",
       "      <th>year</th>\n",
       "    </tr>\n",
       "  </thead>\n",
       "  <tbody>\n",
       "    <tr>\n",
       "      <th>0</th>\n",
       "      <td>1</td>\n",
       "      <td>2018-01-01 00:25:46</td>\n",
       "      <td>-1.188850</td>\n",
       "      <td>36.931382</td>\n",
       "      <td>2018-01-01</td>\n",
       "      <td>00:25:46</td>\n",
       "      <td>1</td>\n",
       "      <td>0</td>\n",
       "      <td>Jan</td>\n",
       "      <td>2018</td>\n",
       "    </tr>\n",
       "    <tr>\n",
       "      <th>1</th>\n",
       "      <td>2</td>\n",
       "      <td>2018-01-01 02:02:39</td>\n",
       "      <td>-0.662939</td>\n",
       "      <td>37.208730</td>\n",
       "      <td>2018-01-01</td>\n",
       "      <td>02:02:39</td>\n",
       "      <td>1</td>\n",
       "      <td>0</td>\n",
       "      <td>Jan</td>\n",
       "      <td>2018</td>\n",
       "    </tr>\n",
       "    <tr>\n",
       "      <th>2</th>\n",
       "      <td>3</td>\n",
       "      <td>2018-01-01 02:31:49</td>\n",
       "      <td>-0.662939</td>\n",
       "      <td>37.208730</td>\n",
       "      <td>2018-01-01</td>\n",
       "      <td>02:31:49</td>\n",
       "      <td>1</td>\n",
       "      <td>0</td>\n",
       "      <td>Jan</td>\n",
       "      <td>2018</td>\n",
       "    </tr>\n",
       "    <tr>\n",
       "      <th>3</th>\n",
       "      <td>4</td>\n",
       "      <td>2018-01-01 03:04:01</td>\n",
       "      <td>-1.288087</td>\n",
       "      <td>36.826583</td>\n",
       "      <td>2018-01-01</td>\n",
       "      <td>03:04:01</td>\n",
       "      <td>1</td>\n",
       "      <td>0</td>\n",
       "      <td>Jan</td>\n",
       "      <td>2018</td>\n",
       "    </tr>\n",
       "    <tr>\n",
       "      <th>4</th>\n",
       "      <td>5</td>\n",
       "      <td>2018-01-01 03:58:49</td>\n",
       "      <td>-1.188850</td>\n",
       "      <td>36.931382</td>\n",
       "      <td>2018-01-01</td>\n",
       "      <td>03:58:49</td>\n",
       "      <td>1</td>\n",
       "      <td>0</td>\n",
       "      <td>Jan</td>\n",
       "      <td>2018</td>\n",
       "    </tr>\n",
       "  </tbody>\n",
       "</table>\n",
       "</div>"
      ],
      "text/plain": [
       "   uid            datetime  latitude  longitude        date      time  day  \\\n",
       "0    1 2018-01-01 00:25:46 -1.188850  36.931382  2018-01-01  00:25:46    1   \n",
       "1    2 2018-01-01 02:02:39 -0.662939  37.208730  2018-01-01  02:02:39    1   \n",
       "2    3 2018-01-01 02:31:49 -0.662939  37.208730  2018-01-01  02:31:49    1   \n",
       "3    4 2018-01-01 03:04:01 -1.288087  36.826583  2018-01-01  03:04:01    1   \n",
       "4    5 2018-01-01 03:58:49 -1.188850  36.931382  2018-01-01  03:58:49    1   \n",
       "\n",
       "   weekday month  year  \n",
       "0        0   Jan  2018  \n",
       "1        0   Jan  2018  \n",
       "2        0   Jan  2018  \n",
       "3        0   Jan  2018  \n",
       "4        0   Jan  2018  "
      ]
     },
     "execution_count": 3,
     "metadata": {},
     "output_type": "execute_result"
    }
   ],
   "source": [
    "df_train[\"date\"] = df_train[\"datetime\"].apply(lambda x: x.date())\n",
    "df_train[\"time\"] = df_train[\"datetime\"].apply(lambda x: x.time())\n",
    "df_train[\"day\"] = df_train[\"datetime\"].apply(lambda x: x.day)\n",
    "df_train[\"weekday\"] = df_train[\"datetime\"].apply(lambda x: x.weekday())\n",
    "\n",
    "dict_months = {1: \"Jan\", 2: \"Feb\", 3: \"Mar\", 4: \"Apr\", 5: \"May\", 6: \"Jun\",\n",
    "               7: \"Jul\", 8: \"Aug\", 9: \"Sep\", 10: \"Oct\", 11: \"Nov\", 12: \"Dec\"}\n",
    "df_train[\"month\"] = df_train[\"datetime\"].apply(lambda x: dict_months.get(x.month))\n",
    "\n",
    "df_train[\"year\"] = df_train[\"datetime\"].apply(lambda x: x.year)\n",
    "\n",
    "df_train.head()"
   ]
  },
  {
   "cell_type": "markdown",
   "metadata": {},
   "source": [
    "Creating time windows as demand containers / time window. This helps to interpret demand over time and will fit the submission format."
   ]
  },
  {
   "cell_type": "code",
   "execution_count": 4,
   "metadata": {},
   "outputs": [
    {
     "data": {
      "text/html": [
       "<div>\n",
       "<style scoped>\n",
       "    .dataframe tbody tr th:only-of-type {\n",
       "        vertical-align: middle;\n",
       "    }\n",
       "\n",
       "    .dataframe tbody tr th {\n",
       "        vertical-align: top;\n",
       "    }\n",
       "\n",
       "    .dataframe thead th {\n",
       "        text-align: right;\n",
       "    }\n",
       "</style>\n",
       "<table border=\"1\" class=\"dataframe\">\n",
       "  <thead>\n",
       "    <tr style=\"text-align: right;\">\n",
       "      <th></th>\n",
       "      <th>uid</th>\n",
       "      <th>datetime</th>\n",
       "      <th>latitude</th>\n",
       "      <th>longitude</th>\n",
       "      <th>date</th>\n",
       "      <th>time</th>\n",
       "      <th>day</th>\n",
       "      <th>weekday</th>\n",
       "      <th>month</th>\n",
       "      <th>year</th>\n",
       "      <th>time_window</th>\n",
       "      <th>datetime_window</th>\n",
       "    </tr>\n",
       "  </thead>\n",
       "  <tbody>\n",
       "    <tr>\n",
       "      <th>0</th>\n",
       "      <td>1</td>\n",
       "      <td>2018-01-01 00:25:46</td>\n",
       "      <td>-1.188850</td>\n",
       "      <td>36.931382</td>\n",
       "      <td>2018-01-01</td>\n",
       "      <td>00:25:46</td>\n",
       "      <td>1</td>\n",
       "      <td>0</td>\n",
       "      <td>Jan</td>\n",
       "      <td>2018</td>\n",
       "      <td>00-03</td>\n",
       "      <td>2018-01-01_00-03</td>\n",
       "    </tr>\n",
       "    <tr>\n",
       "      <th>1</th>\n",
       "      <td>2</td>\n",
       "      <td>2018-01-01 02:02:39</td>\n",
       "      <td>-0.662939</td>\n",
       "      <td>37.208730</td>\n",
       "      <td>2018-01-01</td>\n",
       "      <td>02:02:39</td>\n",
       "      <td>1</td>\n",
       "      <td>0</td>\n",
       "      <td>Jan</td>\n",
       "      <td>2018</td>\n",
       "      <td>00-03</td>\n",
       "      <td>2018-01-01_00-03</td>\n",
       "    </tr>\n",
       "    <tr>\n",
       "      <th>2</th>\n",
       "      <td>3</td>\n",
       "      <td>2018-01-01 02:31:49</td>\n",
       "      <td>-0.662939</td>\n",
       "      <td>37.208730</td>\n",
       "      <td>2018-01-01</td>\n",
       "      <td>02:31:49</td>\n",
       "      <td>1</td>\n",
       "      <td>0</td>\n",
       "      <td>Jan</td>\n",
       "      <td>2018</td>\n",
       "      <td>00-03</td>\n",
       "      <td>2018-01-01_00-03</td>\n",
       "    </tr>\n",
       "    <tr>\n",
       "      <th>3</th>\n",
       "      <td>4</td>\n",
       "      <td>2018-01-01 03:04:01</td>\n",
       "      <td>-1.288087</td>\n",
       "      <td>36.826583</td>\n",
       "      <td>2018-01-01</td>\n",
       "      <td>03:04:01</td>\n",
       "      <td>1</td>\n",
       "      <td>0</td>\n",
       "      <td>Jan</td>\n",
       "      <td>2018</td>\n",
       "      <td>03-06</td>\n",
       "      <td>2018-01-01_03-06</td>\n",
       "    </tr>\n",
       "    <tr>\n",
       "      <th>4</th>\n",
       "      <td>5</td>\n",
       "      <td>2018-01-01 03:58:49</td>\n",
       "      <td>-1.188850</td>\n",
       "      <td>36.931382</td>\n",
       "      <td>2018-01-01</td>\n",
       "      <td>03:58:49</td>\n",
       "      <td>1</td>\n",
       "      <td>0</td>\n",
       "      <td>Jan</td>\n",
       "      <td>2018</td>\n",
       "      <td>03-06</td>\n",
       "      <td>2018-01-01_03-06</td>\n",
       "    </tr>\n",
       "  </tbody>\n",
       "</table>\n",
       "</div>"
      ],
      "text/plain": [
       "   uid            datetime  latitude  longitude        date      time  day  \\\n",
       "0    1 2018-01-01 00:25:46 -1.188850  36.931382  2018-01-01  00:25:46    1   \n",
       "1    2 2018-01-01 02:02:39 -0.662939  37.208730  2018-01-01  02:02:39    1   \n",
       "2    3 2018-01-01 02:31:49 -0.662939  37.208730  2018-01-01  02:31:49    1   \n",
       "3    4 2018-01-01 03:04:01 -1.288087  36.826583  2018-01-01  03:04:01    1   \n",
       "4    5 2018-01-01 03:58:49 -1.188850  36.931382  2018-01-01  03:58:49    1   \n",
       "\n",
       "   weekday month  year time_window   datetime_window  \n",
       "0        0   Jan  2018       00-03  2018-01-01_00-03  \n",
       "1        0   Jan  2018       00-03  2018-01-01_00-03  \n",
       "2        0   Jan  2018       00-03  2018-01-01_00-03  \n",
       "3        0   Jan  2018       03-06  2018-01-01_03-06  \n",
       "4        0   Jan  2018       03-06  2018-01-01_03-06  "
      ]
     },
     "execution_count": 4,
     "metadata": {},
     "output_type": "execute_result"
    }
   ],
   "source": [
    "dict_windows = {1: \"00-03\", 2: \"03-06\", 3: \"06-09\", 4: \"09-12\", 5: \"12-15\", 6: \"15-18\", 7: \"18-21\", 8: \"21-24\"}\n",
    "df_train[\"time_window\"] = df_train[\"datetime\"].apply(lambda x: math.floor(x.hour / 3) + 1)\n",
    "df_train[\"time_window\"] = df_train[\"time_window\"].apply(lambda x: dict_windows.get(x))\n",
    "df_train[\"datetime_window\"] = df_train[[\"date\", \"time_window\"]].apply(lambda x : f\"{x[0]}_{x[1]}\", axis=1)\n",
    "df_train.head()"
   ]
  },
  {
   "cell_type": "markdown",
   "metadata": {},
   "source": [
    "### Creating time windows without accidents"
   ]
  },
  {
   "cell_type": "code",
   "execution_count": 5,
   "metadata": {},
   "outputs": [
    {
     "name": "stdout",
     "output_type": "stream",
     "text": [
      "2018-01-01 00:25:46\n",
      "2019-06-30 20:06:14\n",
      "545 days 19:40:28\n"
     ]
    }
   ],
   "source": [
    "print(df_train[\"datetime\"].min())\n",
    "print(df_train[\"datetime\"].max())\n",
    "print(df_train[\"datetime\"].max() - df_train[\"datetime\"].min())"
   ]
  },
  {
   "cell_type": "code",
   "execution_count": 6,
   "metadata": {},
   "outputs": [],
   "source": [
    "date_list = pd.date_range(df_train[\"date\"].min(), periods=546).tolist()\n",
    "window_list = [\"00-03\", \"03-06\", \"06-09\", \"09-12\", \"12-15\", \"15-18\", \"18-21\", \"21-24\"]\n",
    "datetime_window_list = []\n",
    "for day in date_list:\n",
    "    for time_window in window_list:\n",
    "        datetime_window_list.append(str(day.date()) + \"_\" + time_window)"
   ]
  },
  {
   "cell_type": "code",
   "execution_count": 23,
   "metadata": {},
   "outputs": [
    {
     "data": {
      "text/html": [
       "<div>\n",
       "<style scoped>\n",
       "    .dataframe tbody tr th:only-of-type {\n",
       "        vertical-align: middle;\n",
       "    }\n",
       "\n",
       "    .dataframe tbody tr th {\n",
       "        vertical-align: top;\n",
       "    }\n",
       "\n",
       "    .dataframe thead th {\n",
       "        text-align: right;\n",
       "    }\n",
       "</style>\n",
       "<table border=\"1\" class=\"dataframe\">\n",
       "  <thead>\n",
       "    <tr style=\"text-align: right;\">\n",
       "      <th></th>\n",
       "      <th>datetime_window</th>\n",
       "      <th>accidents</th>\n",
       "      <th>date</th>\n",
       "      <th>time_window</th>\n",
       "    </tr>\n",
       "  </thead>\n",
       "  <tbody>\n",
       "    <tr>\n",
       "      <th>0</th>\n",
       "      <td>2018-01-01_00-03</td>\n",
       "      <td>3</td>\n",
       "      <td>2018-01-01</td>\n",
       "      <td>00-03</td>\n",
       "    </tr>\n",
       "    <tr>\n",
       "      <th>1</th>\n",
       "      <td>2018-01-01_03-06</td>\n",
       "      <td>4</td>\n",
       "      <td>2018-01-01</td>\n",
       "      <td>03-06</td>\n",
       "    </tr>\n",
       "    <tr>\n",
       "      <th>2</th>\n",
       "      <td>2018-01-01_06-09</td>\n",
       "      <td>1</td>\n",
       "      <td>2018-01-01</td>\n",
       "      <td>06-09</td>\n",
       "    </tr>\n",
       "    <tr>\n",
       "      <th>3</th>\n",
       "      <td>2018-01-01_09-12</td>\n",
       "      <td>4</td>\n",
       "      <td>2018-01-01</td>\n",
       "      <td>09-12</td>\n",
       "    </tr>\n",
       "    <tr>\n",
       "      <th>4</th>\n",
       "      <td>2018-01-01_12-15</td>\n",
       "      <td>1</td>\n",
       "      <td>2018-01-01</td>\n",
       "      <td>12-15</td>\n",
       "    </tr>\n",
       "    <tr>\n",
       "      <th>5</th>\n",
       "      <td>2018-01-01_15-18</td>\n",
       "      <td>0</td>\n",
       "      <td>2018-01-01</td>\n",
       "      <td>15-18</td>\n",
       "    </tr>\n",
       "    <tr>\n",
       "      <th>6</th>\n",
       "      <td>2018-01-01_18-21</td>\n",
       "      <td>0</td>\n",
       "      <td>2018-01-01</td>\n",
       "      <td>18-21</td>\n",
       "    </tr>\n",
       "    <tr>\n",
       "      <th>7</th>\n",
       "      <td>2018-01-01_21-24</td>\n",
       "      <td>0</td>\n",
       "      <td>2018-01-01</td>\n",
       "      <td>21-24</td>\n",
       "    </tr>\n",
       "    <tr>\n",
       "      <th>8</th>\n",
       "      <td>2018-01-02_00-03</td>\n",
       "      <td>0</td>\n",
       "      <td>2018-01-02</td>\n",
       "      <td>00-03</td>\n",
       "    </tr>\n",
       "    <tr>\n",
       "      <th>9</th>\n",
       "      <td>2018-01-02_03-06</td>\n",
       "      <td>2</td>\n",
       "      <td>2018-01-02</td>\n",
       "      <td>03-06</td>\n",
       "    </tr>\n",
       "    <tr>\n",
       "      <th>10</th>\n",
       "      <td>2018-01-02_06-09</td>\n",
       "      <td>9</td>\n",
       "      <td>2018-01-02</td>\n",
       "      <td>06-09</td>\n",
       "    </tr>\n",
       "    <tr>\n",
       "      <th>11</th>\n",
       "      <td>2018-01-02_09-12</td>\n",
       "      <td>4</td>\n",
       "      <td>2018-01-02</td>\n",
       "      <td>09-12</td>\n",
       "    </tr>\n",
       "    <tr>\n",
       "      <th>12</th>\n",
       "      <td>2018-01-02_12-15</td>\n",
       "      <td>8</td>\n",
       "      <td>2018-01-02</td>\n",
       "      <td>12-15</td>\n",
       "    </tr>\n",
       "    <tr>\n",
       "      <th>13</th>\n",
       "      <td>2018-01-02_15-18</td>\n",
       "      <td>4</td>\n",
       "      <td>2018-01-02</td>\n",
       "      <td>15-18</td>\n",
       "    </tr>\n",
       "    <tr>\n",
       "      <th>14</th>\n",
       "      <td>2018-01-02_18-21</td>\n",
       "      <td>0</td>\n",
       "      <td>2018-01-02</td>\n",
       "      <td>18-21</td>\n",
       "    </tr>\n",
       "    <tr>\n",
       "      <th>15</th>\n",
       "      <td>2018-01-02_21-24</td>\n",
       "      <td>0</td>\n",
       "      <td>2018-01-02</td>\n",
       "      <td>21-24</td>\n",
       "    </tr>\n",
       "    <tr>\n",
       "      <th>16</th>\n",
       "      <td>2018-01-03_00-03</td>\n",
       "      <td>7</td>\n",
       "      <td>2018-01-03</td>\n",
       "      <td>00-03</td>\n",
       "    </tr>\n",
       "    <tr>\n",
       "      <th>17</th>\n",
       "      <td>2018-01-03_03-06</td>\n",
       "      <td>20</td>\n",
       "      <td>2018-01-03</td>\n",
       "      <td>03-06</td>\n",
       "    </tr>\n",
       "    <tr>\n",
       "      <th>18</th>\n",
       "      <td>2018-01-03_06-09</td>\n",
       "      <td>7</td>\n",
       "      <td>2018-01-03</td>\n",
       "      <td>06-09</td>\n",
       "    </tr>\n",
       "    <tr>\n",
       "      <th>19</th>\n",
       "      <td>2018-01-03_09-12</td>\n",
       "      <td>4</td>\n",
       "      <td>2018-01-03</td>\n",
       "      <td>09-12</td>\n",
       "    </tr>\n",
       "  </tbody>\n",
       "</table>\n",
       "</div>"
      ],
      "text/plain": [
       "     datetime_window  accidents        date time_window\n",
       "0   2018-01-01_00-03          3  2018-01-01       00-03\n",
       "1   2018-01-01_03-06          4  2018-01-01       03-06\n",
       "2   2018-01-01_06-09          1  2018-01-01       06-09\n",
       "3   2018-01-01_09-12          4  2018-01-01       09-12\n",
       "4   2018-01-01_12-15          1  2018-01-01       12-15\n",
       "5   2018-01-01_15-18          0  2018-01-01       15-18\n",
       "6   2018-01-01_18-21          0  2018-01-01       18-21\n",
       "7   2018-01-01_21-24          0  2018-01-01       21-24\n",
       "8   2018-01-02_00-03          0  2018-01-02       00-03\n",
       "9   2018-01-02_03-06          2  2018-01-02       03-06\n",
       "10  2018-01-02_06-09          9  2018-01-02       06-09\n",
       "11  2018-01-02_09-12          4  2018-01-02       09-12\n",
       "12  2018-01-02_12-15          8  2018-01-02       12-15\n",
       "13  2018-01-02_15-18          4  2018-01-02       15-18\n",
       "14  2018-01-02_18-21          0  2018-01-02       18-21\n",
       "15  2018-01-02_21-24          0  2018-01-02       21-24\n",
       "16  2018-01-03_00-03          7  2018-01-03       00-03\n",
       "17  2018-01-03_03-06         20  2018-01-03       03-06\n",
       "18  2018-01-03_06-09          7  2018-01-03       06-09\n",
       "19  2018-01-03_09-12          4  2018-01-03       09-12"
      ]
     },
     "execution_count": 23,
     "metadata": {},
     "output_type": "execute_result"
    }
   ],
   "source": [
    "df_complete = pd.DataFrame(datetime_window_list, columns=[\"datetime_window\"])\n",
    "df_acc_count = df_train.groupby(\"datetime_window\").count()[\"uid\"].reset_index()\n",
    "df_complete = df_complete.merge(df_acc_count[[\"datetime_window\", \"uid\"]], on=\"datetime_window\", how='left')\n",
    "\n",
    "df_complete.rename(columns={\"uid\":\"accidents\"}, inplace=True)\n",
    "df_complete.fillna(value=0, inplace=True)\n",
    "df_complete[\"accidents\"] = df_complete[\"accidents\"].astype(\"int\")\n",
    "\n",
    "# New data frame with split value columns \n",
    "new = df_complete[\"datetime_window\"].str.split(\"_\", n=1, expand=True) \n",
    "# Making separate first name column from new data frame \n",
    "df_complete[\"date\"]= new[0] \n",
    "# Making separate last name column from new data frame\n",
    "df_complete[\"time_window\"]= new[1]\n",
    "\n",
    "df_complete.head(20)"
   ]
  },
  {
   "cell_type": "code",
   "execution_count": 24,
   "metadata": {},
   "outputs": [
    {
     "data": {
      "text/html": [
       "<div>\n",
       "<style scoped>\n",
       "    .dataframe tbody tr th:only-of-type {\n",
       "        vertical-align: middle;\n",
       "    }\n",
       "\n",
       "    .dataframe tbody tr th {\n",
       "        vertical-align: top;\n",
       "    }\n",
       "\n",
       "    .dataframe thead th {\n",
       "        text-align: right;\n",
       "    }\n",
       "</style>\n",
       "<table border=\"1\" class=\"dataframe\">\n",
       "  <thead>\n",
       "    <tr style=\"text-align: right;\">\n",
       "      <th></th>\n",
       "      <th>accidents</th>\n",
       "    </tr>\n",
       "    <tr>\n",
       "      <th>time_window</th>\n",
       "      <th></th>\n",
       "    </tr>\n",
       "  </thead>\n",
       "  <tbody>\n",
       "    <tr>\n",
       "      <th>00-03</th>\n",
       "      <td>296</td>\n",
       "    </tr>\n",
       "    <tr>\n",
       "      <th>03-06</th>\n",
       "      <td>340</td>\n",
       "    </tr>\n",
       "    <tr>\n",
       "      <th>06-09</th>\n",
       "      <td>1724</td>\n",
       "    </tr>\n",
       "    <tr>\n",
       "      <th>09-12</th>\n",
       "      <td>976</td>\n",
       "    </tr>\n",
       "    <tr>\n",
       "      <th>12-15</th>\n",
       "      <td>834</td>\n",
       "    </tr>\n",
       "    <tr>\n",
       "      <th>15-18</th>\n",
       "      <td>853</td>\n",
       "    </tr>\n",
       "    <tr>\n",
       "      <th>18-21</th>\n",
       "      <td>888</td>\n",
       "    </tr>\n",
       "    <tr>\n",
       "      <th>21-24</th>\n",
       "      <td>407</td>\n",
       "    </tr>\n",
       "  </tbody>\n",
       "</table>\n",
       "</div>"
      ],
      "text/plain": [
       "             accidents\n",
       "time_window           \n",
       "00-03              296\n",
       "03-06              340\n",
       "06-09             1724\n",
       "09-12              976\n",
       "12-15              834\n",
       "15-18              853\n",
       "18-21              888\n",
       "21-24              407"
      ]
     },
     "execution_count": 24,
     "metadata": {},
     "output_type": "execute_result"
    }
   ],
   "source": [
    "df_complete.groupby(\"time_window\").sum(\"accidents\")"
   ]
  },
  {
   "cell_type": "markdown",
   "metadata": {},
   "source": [
    "</br>\n",
    "</br>\n",
    "</br>\n",
    "\n",
    "## Data analysis <a name=\"Data_analysis\"></a>"
   ]
  },
  {
   "cell_type": "code",
   "execution_count": null,
   "metadata": {},
   "outputs": [],
   "source": [
    "df_train.groupby(\"time_window\").datetime.count()"
   ]
  },
  {
   "cell_type": "markdown",
   "metadata": {},
   "source": [
    "### Overall accidents per time window for 2018 and 2019"
   ]
  },
  {
   "cell_type": "code",
   "execution_count": null,
   "metadata": {},
   "outputs": [],
   "source": [
    "fig01 = sns.countplot(data=df_train, x=\"time_window\", palette=\"Greens\")\n",
    "fig01.set_title(\"Overall accidents per time window\");"
   ]
  },
  {
   "cell_type": "markdown",
   "metadata": {},
   "source": [
    "### Mean and median accidents per time window for 2018 and 2019"
   ]
  },
  {
   "cell_type": "code",
   "execution_count": null,
   "metadata": {},
   "outputs": [],
   "source": [
    "max_acc = pd.crosstab(df_train[\"time_window\"], df_train[\"day\"]).max(axis=1)\n",
    "min_acc = pd.crosstab(df_train[\"time_window\"], df_train[\"day\"]).min(axis=1)\n",
    "mean_acc = pd.crosstab(df_train[\"time_window\"], df_train[\"day\"]).mean(axis=1)\n",
    "median_acc = pd.crosstab(df_train[\"time_window\"], df_train[\"day\"]).median(axis=1)"
   ]
  },
  {
   "cell_type": "code",
   "execution_count": null,
   "metadata": {},
   "outputs": [],
   "source": [
    "df_stats = pd.DataFrame([max_acc, min_acc, mean_acc, median_acc]).T\n",
    "df_stats.columns = [\"max\", \"min\", \"mean\", \"median\"]\n",
    "df_stats.reset_index(inplace=True)\n",
    "df_stats.head()"
   ]
  },
  {
   "cell_type": "code",
   "execution_count": null,
   "metadata": {},
   "outputs": [],
   "source": [
    "fig = sns.barplot(data=df_stats, x=\"time_window\", y=\"max\", palette=\"Reds\")\n",
    "fig.set_title(\"Maximum amount of accidents per time window\");"
   ]
  },
  {
   "cell_type": "markdown",
   "metadata": {},
   "source": [
    "Note: Minimum cannot be 0 because then we also do not have a column ... need to fix that somehow"
   ]
  },
  {
   "cell_type": "code",
   "execution_count": null,
   "metadata": {},
   "outputs": [],
   "source": [
    "fig = sns.barplot(data=df_stats, x=\"time_window\", y=\"min\", palette=\"Reds\")\n",
    "fig.set_title(\"Minimum amount of accidents per time window\");"
   ]
  },
  {
   "cell_type": "code",
   "execution_count": null,
   "metadata": {},
   "outputs": [],
   "source": [
    "fig = sns.barplot(data=df_stats, x=\"time_window\", y=\"mean\", palette=\"Reds\")\n",
    "fig.set_title(\"Mean of accidents per time window\");"
   ]
  },
  {
   "cell_type": "code",
   "execution_count": null,
   "metadata": {},
   "outputs": [],
   "source": [
    "fig = sns.barplot(data=df_stats, x=\"time_window\", y=\"median\", palette=\"Reds\")\n",
    "fig.set_title(\"Median amount of accidents per time window\");"
   ]
  },
  {
   "cell_type": "markdown",
   "metadata": {},
   "source": [
    "### Overall accidents per month for 2018"
   ]
  },
  {
   "cell_type": "markdown",
   "metadata": {},
   "source": [
    "Note: Avoid counting both first halfs (2018 & 2019)"
   ]
  },
  {
   "cell_type": "code",
   "execution_count": null,
   "metadata": {},
   "outputs": [],
   "source": [
    "fig02 = sns.countplot(data=df_train[df_train.year == 2018], x=\"month\", palette=\"Blues\")\n",
    "fig02.set_title(\"Overall accidents per month\");"
   ]
  },
  {
   "cell_type": "markdown",
   "metadata": {},
   "source": [
    "### Accidents per weekday"
   ]
  },
  {
   "cell_type": "code",
   "execution_count": null,
   "metadata": {},
   "outputs": [],
   "source": [
    "fig03 = sns.countplot(data=df_train[df_train.year == 2018], x=\"weekday\", palette=\"Greens\")\n",
    "fig03.set_title(\"Overall accidents per weekday\");"
   ]
  },
  {
   "cell_type": "markdown",
   "metadata": {},
   "source": [
    "### Time window per day"
   ]
  },
  {
   "cell_type": "code",
   "execution_count": null,
   "metadata": {},
   "outputs": [],
   "source": [
    "sns.catplot(x=\"time_window\", col=\"weekday\",data=df_train[df_train.year == 2018], kind=\"count\", col_wrap=3, palette=\"Greens\");"
   ]
  },
  {
   "cell_type": "markdown",
   "metadata": {},
   "source": [
    "### Overall accidents per month and time window for 2018"
   ]
  },
  {
   "cell_type": "code",
   "execution_count": null,
   "metadata": {},
   "outputs": [],
   "source": [
    "sns.catplot(x=\"time_window\", col=\"month\",data=df_train[df_train.year == 2018], kind=\"count\", col_wrap=3, palette=\"Greens\");"
   ]
  },
  {
   "cell_type": "markdown",
   "metadata": {},
   "source": [
    "### Overall accidents per month and day for 2018"
   ]
  },
  {
   "cell_type": "code",
   "execution_count": null,
   "metadata": {},
   "outputs": [],
   "source": [
    "sns.catplot(x=\"day\", col=\"month\",data=df_train[df_train.year == 2018], kind=\"count\", col_wrap=3, palette=\"Blues\");"
   ]
  },
  {
   "cell_type": "markdown",
   "metadata": {},
   "source": [
    "Note: **It seems that we have missing data for some days.**"
   ]
  },
  {
   "cell_type": "code",
   "execution_count": null,
   "metadata": {},
   "outputs": [],
   "source": [
    "df_check = df_train[(df_train.month == \"Sep\") & (df_train.day > 20) & (df_train.day < 26)]\n",
    "df_check"
   ]
  },
  {
   "cell_type": "code",
   "execution_count": null,
   "metadata": {},
   "outputs": [],
   "source": [
    "df_check.shape"
   ]
  },
  {
   "cell_type": "markdown",
   "metadata": {},
   "source": [
    "</br>\n",
    "</br>\n",
    "</br>\n",
    "\n",
    "## Road segment info <a name=\"Road_segments\"></a>"
   ]
  },
  {
   "cell_type": "code",
   "execution_count": null,
   "metadata": {},
   "outputs": [],
   "source": [
    "df_seg_info = pd.read_csv('../Inputs/Segment_info.csv')\n",
    "print(df_seg_info.shape)\n",
    "df_seg_info.head()"
   ]
  },
  {
   "cell_type": "markdown",
   "metadata": {},
   "source": [
    "</br>\n",
    "</br>\n",
    "</br>\n",
    "\n",
    "## Weather data <a name=\"Weather\"></a>"
   ]
  },
  {
   "cell_type": "code",
   "execution_count": null,
   "metadata": {},
   "outputs": [],
   "source": [
    "df_weather = pd.read_csv('../Inputs/Weather_Nairobi_Daily_GFS.csv', parse_dates=['Date'])\n",
    "print(df_weather.shape)\n",
    "df_weather.head()"
   ]
  },
  {
   "cell_type": "code",
   "execution_count": null,
   "metadata": {},
   "outputs": [],
   "source": []
  }
 ],
 "metadata": {
  "kernelspec": {
   "display_name": "Python 3",
   "language": "python",
   "name": "python3"
  },
  "language_info": {
   "codemirror_mode": {
    "name": "ipython",
    "version": 3
   },
   "file_extension": ".py",
   "mimetype": "text/x-python",
   "name": "python",
   "nbconvert_exporter": "python",
   "pygments_lexer": "ipython3",
   "version": "3.8.5"
  }
 },
 "nbformat": 4,
 "nbformat_minor": 4
}

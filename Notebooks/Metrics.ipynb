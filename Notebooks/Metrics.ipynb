{
 "cells": [
  {
   "cell_type": "markdown",
   "metadata": {},
   "source": [
    "# FUNCTIONS FOR DIFFERENT METRICS <a name=\"Top\"></a>\n",
    "\n",
    "Levels of metrics:\n",
    "1. Difference between latitude and longitude values (Zindi challenge)\n",
    "2. Air distance in kilometers\n",
    "3. Road distance in kilometers\n",
    "4. Driving distance in minutes\n",
    "5. Evaluation of driving distance with threshold (\"Golden Hour\")\n",
    "\n",
    "In this notebook we will use the Uber movement data to find distances between hexbins. To map the Uber movement data, Open Street Map data is used. For more on the Uber data read:\n",
    "https://medium.com/uber-movement/working-with-uber-movement-speeds-data-cc01d35937b3\n",
    "More on Open Street Map:\n",
    "https://wiki.openstreetmap.org/wiki/Downloading_data\n",
    "\n",
    "\n",
    "## Table of contents\n",
    "***\n",
    "[Imports and setup](#Imports_setup)<br>\n",
    "[Extract, transform and load the data](#ETL)<br>\n",
    "[Data cleaning](#Data_cleaning)<br>\n",
    "[Data analysis](#Data_analysis)<br>\n",
    "\n",
    "</br>\n",
    "</br>\n",
    "</br>\n",
    "\n",
    "## Imports and setup <a name=\"Imports_setup\"></a>\n",
    "***\n",
    "### Importing packages"
   ]
  },
  {
   "cell_type": "code",
   "execution_count": 21,
   "metadata": {},
   "outputs": [],
   "source": [
    "import pandas as pd\n",
    "import h3\n",
    "from geopy.distance import geodesic\n",
    "\n",
    "import sys  \n",
    "sys.path.insert(0, '../Scripts')\n",
    "import capstone_functions as cf"
   ]
  },
  {
   "cell_type": "markdown",
   "metadata": {},
   "source": [
    "### Setup"
   ]
  },
  {
   "cell_type": "code",
   "execution_count": 31,
   "metadata": {},
   "outputs": [],
   "source": [
    "pd.set_option('display.max_columns', None)\n",
    "#pd.set_option('display.max_rows', None)\n",
    "pd.options.display.float_format = '{:,.3f}'.format"
   ]
  },
  {
   "cell_type": "markdown",
   "metadata": {},
   "source": [
    "### Functions"
   ]
  },
  {
   "cell_type": "code",
   "execution_count": 27,
   "metadata": {},
   "outputs": [],
   "source": [
    "def get_distance(lat_a, long_a, lat_b, long_b):\n",
    "    '''\n",
    "    Returns the distance between two pairs of coordinates in km.\n",
    "    '''\n",
    "    \n",
    "    return geodesic((lat_a, long_a), (lat_b, long_b)).km"
   ]
  },
  {
   "cell_type": "markdown",
   "metadata": {},
   "source": [
    "[Back to top](#Top)<br>\n",
    "\n",
    "</br>\n",
    "</br>\n",
    "</br>\n",
    "\n",
    "## Extract, transform and load the data <a name=\"ETL\"></a>\n",
    "***"
   ]
  },
  {
   "cell_type": "code",
   "execution_count": 3,
   "metadata": {},
   "outputs": [
    {
     "name": "stdout",
     "output_type": "stream",
     "text": [
      "(6318, 4)\n"
     ]
    },
    {
     "data": {
      "text/html": [
       "<div>\n",
       "<style scoped>\n",
       "    .dataframe tbody tr th:only-of-type {\n",
       "        vertical-align: middle;\n",
       "    }\n",
       "\n",
       "    .dataframe tbody tr th {\n",
       "        vertical-align: top;\n",
       "    }\n",
       "\n",
       "    .dataframe thead th {\n",
       "        text-align: right;\n",
       "    }\n",
       "</style>\n",
       "<table border=\"1\" class=\"dataframe\">\n",
       "  <thead>\n",
       "    <tr style=\"text-align: right;\">\n",
       "      <th></th>\n",
       "      <th>uid</th>\n",
       "      <th>datetime</th>\n",
       "      <th>latitude</th>\n",
       "      <th>longitude</th>\n",
       "    </tr>\n",
       "  </thead>\n",
       "  <tbody>\n",
       "    <tr>\n",
       "      <th>0</th>\n",
       "      <td>1</td>\n",
       "      <td>2018-01-01 00:25:46</td>\n",
       "      <td>-1.189</td>\n",
       "      <td>36.931</td>\n",
       "    </tr>\n",
       "    <tr>\n",
       "      <th>1</th>\n",
       "      <td>2</td>\n",
       "      <td>2018-01-01 02:02:39</td>\n",
       "      <td>-0.663</td>\n",
       "      <td>37.209</td>\n",
       "    </tr>\n",
       "    <tr>\n",
       "      <th>2</th>\n",
       "      <td>3</td>\n",
       "      <td>2018-01-01 02:31:49</td>\n",
       "      <td>-0.663</td>\n",
       "      <td>37.209</td>\n",
       "    </tr>\n",
       "    <tr>\n",
       "      <th>3</th>\n",
       "      <td>4</td>\n",
       "      <td>2018-01-01 03:04:01</td>\n",
       "      <td>-1.288</td>\n",
       "      <td>36.827</td>\n",
       "    </tr>\n",
       "    <tr>\n",
       "      <th>4</th>\n",
       "      <td>5</td>\n",
       "      <td>2018-01-01 03:58:49</td>\n",
       "      <td>-1.189</td>\n",
       "      <td>36.931</td>\n",
       "    </tr>\n",
       "  </tbody>\n",
       "</table>\n",
       "</div>"
      ],
      "text/plain": [
       "   uid            datetime  latitude  longitude\n",
       "0    1 2018-01-01 00:25:46    -1.189     36.931\n",
       "1    2 2018-01-01 02:02:39    -0.663     37.209\n",
       "2    3 2018-01-01 02:31:49    -0.663     37.209\n",
       "3    4 2018-01-01 03:04:01    -1.288     36.827\n",
       "4    5 2018-01-01 03:58:49    -1.189     36.931"
      ]
     },
     "execution_count": 3,
     "metadata": {},
     "output_type": "execute_result"
    }
   ],
   "source": [
    "df_accidents = pd.read_csv('../Inputs/Train.csv', parse_dates=['datetime'])\n",
    "print(df_accidents.shape)\n",
    "df_accidents.head()"
   ]
  },
  {
   "cell_type": "code",
   "execution_count": 14,
   "metadata": {},
   "outputs": [],
   "source": [
    "osm = [line[:-1] for line in open('../Inputs/map')]"
   ]
  },
  {
   "cell_type": "markdown",
   "metadata": {},
   "source": [
    "[Back to top](#Top)<br>\n",
    "\n",
    "</br>\n",
    "</br>\n",
    "</br>\n",
    "\n",
    "## Data cleaning <a name=\"Data_cleaning\"></a>\n",
    "***"
   ]
  },
  {
   "cell_type": "markdown",
   "metadata": {},
   "source": [
    "[Back to top](#Top)<br>\n",
    "\n",
    "</br>\n",
    "</br>\n",
    "</br>\n",
    "\n",
    "## Data analysis <a name=\"Data_analysis\"></a>\n",
    "***"
   ]
  },
  {
   "cell_type": "code",
   "execution_count": 34,
   "metadata": {},
   "outputs": [
    {
     "data": {
      "text/html": [
       "<div>\n",
       "<style scoped>\n",
       "    .dataframe tbody tr th:only-of-type {\n",
       "        vertical-align: middle;\n",
       "    }\n",
       "\n",
       "    .dataframe tbody tr th {\n",
       "        vertical-align: top;\n",
       "    }\n",
       "\n",
       "    .dataframe thead th {\n",
       "        text-align: right;\n",
       "    }\n",
       "</style>\n",
       "<table border=\"1\" class=\"dataframe\">\n",
       "  <thead>\n",
       "    <tr style=\"text-align: right;\">\n",
       "      <th></th>\n",
       "      <th>uid</th>\n",
       "      <th>datetime</th>\n",
       "      <th>latitude</th>\n",
       "      <th>longitude</th>\n",
       "      <th>h3_zone_5</th>\n",
       "      <th>h3_zone_6</th>\n",
       "      <th>h3_zone_7</th>\n",
       "    </tr>\n",
       "  </thead>\n",
       "  <tbody>\n",
       "    <tr>\n",
       "      <th>0</th>\n",
       "      <td>1</td>\n",
       "      <td>2018-01-01 00:25:46</td>\n",
       "      <td>-1.189</td>\n",
       "      <td>36.931</td>\n",
       "      <td>857a6e43fffffff</td>\n",
       "      <td>867a6e417ffffff</td>\n",
       "      <td>877a6e416ffffff</td>\n",
       "    </tr>\n",
       "    <tr>\n",
       "      <th>1</th>\n",
       "      <td>2</td>\n",
       "      <td>2018-01-01 02:02:39</td>\n",
       "      <td>-0.663</td>\n",
       "      <td>37.209</td>\n",
       "      <td>857a4513fffffff</td>\n",
       "      <td>867a45107ffffff</td>\n",
       "      <td>877a45102ffffff</td>\n",
       "    </tr>\n",
       "    <tr>\n",
       "      <th>2</th>\n",
       "      <td>3</td>\n",
       "      <td>2018-01-01 02:31:49</td>\n",
       "      <td>-0.663</td>\n",
       "      <td>37.209</td>\n",
       "      <td>857a4513fffffff</td>\n",
       "      <td>867a45107ffffff</td>\n",
       "      <td>877a45102ffffff</td>\n",
       "    </tr>\n",
       "    <tr>\n",
       "      <th>3</th>\n",
       "      <td>4</td>\n",
       "      <td>2018-01-01 03:04:01</td>\n",
       "      <td>-1.288</td>\n",
       "      <td>36.827</td>\n",
       "      <td>857a6e43fffffff</td>\n",
       "      <td>867a6e42fffffff</td>\n",
       "      <td>877a6e42cffffff</td>\n",
       "    </tr>\n",
       "    <tr>\n",
       "      <th>4</th>\n",
       "      <td>5</td>\n",
       "      <td>2018-01-01 03:58:49</td>\n",
       "      <td>-1.189</td>\n",
       "      <td>36.931</td>\n",
       "      <td>857a6e43fffffff</td>\n",
       "      <td>867a6e417ffffff</td>\n",
       "      <td>877a6e416ffffff</td>\n",
       "    </tr>\n",
       "  </tbody>\n",
       "</table>\n",
       "</div>"
      ],
      "text/plain": [
       "   uid            datetime  latitude  longitude        h3_zone_5  \\\n",
       "0    1 2018-01-01 00:25:46    -1.189     36.931  857a6e43fffffff   \n",
       "1    2 2018-01-01 02:02:39    -0.663     37.209  857a4513fffffff   \n",
       "2    3 2018-01-01 02:31:49    -0.663     37.209  857a4513fffffff   \n",
       "3    4 2018-01-01 03:04:01    -1.288     36.827  857a6e43fffffff   \n",
       "4    5 2018-01-01 03:58:49    -1.189     36.931  857a6e43fffffff   \n",
       "\n",
       "         h3_zone_6        h3_zone_7  \n",
       "0  867a6e417ffffff  877a6e416ffffff  \n",
       "1  867a45107ffffff  877a45102ffffff  \n",
       "2  867a45107ffffff  877a45102ffffff  \n",
       "3  867a6e42fffffff  877a6e42cffffff  \n",
       "4  867a6e417ffffff  877a6e416ffffff  "
      ]
     },
     "execution_count": 34,
     "metadata": {},
     "output_type": "execute_result"
    }
   ],
   "source": [
    "df_accidents = cf.assign_hex_bin(df_accidents, 'latitude', 'longitude')\n",
    "df_accidents.head()"
   ]
  },
  {
   "cell_type": "code",
   "execution_count": 33,
   "metadata": {},
   "outputs": [
    {
     "data": {
      "text/plain": [
       "65.88091474890801"
      ]
     },
     "execution_count": 33,
     "metadata": {},
     "output_type": "execute_result"
    }
   ],
   "source": [
    "coords_1 = (-1.189, 36.931)\n",
    "coords_2 = (-0.663, 37.209)\n",
    "\n",
    "get_distance(-1.189, 36.931, -0.663, 37.209)"
   ]
  },
  {
   "cell_type": "markdown",
   "metadata": {},
   "source": [
    "[Back to top](#Top)<br>"
   ]
  }
 ],
 "metadata": {
  "kernelspec": {
   "display_name": "Python 3",
   "language": "python",
   "name": "python3"
  },
  "language_info": {
   "codemirror_mode": {
    "name": "ipython",
    "version": 3
   },
   "file_extension": ".py",
   "mimetype": "text/x-python",
   "name": "python",
   "nbconvert_exporter": "python",
   "pygments_lexer": "ipython3",
   "version": "3.8.5"
  }
 },
 "nbformat": 4,
 "nbformat_minor": 4
}
